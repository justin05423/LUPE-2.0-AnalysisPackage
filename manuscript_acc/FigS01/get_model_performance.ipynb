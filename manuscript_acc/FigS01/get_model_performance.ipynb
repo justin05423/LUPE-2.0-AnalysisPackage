{
 "cells": [
  {
   "cell_type": "code",
   "execution_count": null,
   "id": "initial_id",
   "metadata": {
    "collapsed": true,
    "is_executing": true
   },
   "outputs": [],
   "source": [
    "import pickle\n",
    "import matplotlib.pyplot as plt\n",
    "import pandas \n",
    "import numpy as np\n",
    "from utils.classification import load_all_train, load_iter0, load_iterX \n",
    "from utils.visuals import show_classifier_results\n",
    "from utils.meta import *\n",
    "import configparser as cfg\n",
    "from pathlib import Path\n",
    "import seaborn as sns"
   ]
  },
  {
   "cell_type": "code",
   "outputs": [
    {
     "data": {
      "text/plain": "['../model/config.ini']"
     },
     "execution_count": 2,
     "metadata": {},
     "output_type": "execute_result"
    }
   ],
   "source": [
    "config = cfg.ConfigParser()\n",
    "config.read('../model/config.ini')\n"
   ],
   "metadata": {
    "collapsed": false,
    "ExecuteTime": {
     "end_time": "2024-04-09T14:39:07.923819Z",
     "start_time": "2024-04-09T14:39:07.914548Z"
    }
   },
   "id": "ff2baf65879b166",
   "execution_count": 2
  },
  {
   "cell_type": "code",
   "outputs": [
    {
     "data": {
      "text/plain": "['still',\n 'walking',\n 'rearing',\n 'grooming',\n 'licking hindpaw L',\n 'licking hindpaw_R',\n 'other']"
     },
     "execution_count": 3,
     "metadata": {},
     "output_type": "execute_result"
    }
   ],
   "source": [
    "config['Project']['CLASSES'].split(', ')"
   ],
   "metadata": {
    "collapsed": false,
    "ExecuteTime": {
     "end_time": "2024-04-09T14:39:08.780532Z",
     "start_time": "2024-04-09T14:39:08.778866Z"
    }
   },
   "id": "cc5b07b6e31955aa",
   "execution_count": 3
  },
  {
   "cell_type": "code",
   "outputs": [
    {
     "ename": "FileNotFoundError",
     "evalue": "[Errno 2] No such file or directory: '../model/iteration-27/all_train.sav'",
     "output_type": "error",
     "traceback": [
      "\u001B[0;31m---------------------------------------------------------------------------\u001B[0m",
      "\u001B[0;31mFileNotFoundError\u001B[0m                         Traceback (most recent call last)",
      "Cell \u001B[0;32mIn[5], line 3\u001B[0m\n\u001B[1;32m      1\u001B[0m project_dir \u001B[38;5;241m=\u001B[39m \u001B[38;5;124m'\u001B[39m\u001B[38;5;124m../model\u001B[39m\u001B[38;5;124m'\u001B[39m\n\u001B[1;32m      2\u001B[0m iter_folder \u001B[38;5;241m=\u001B[39m \u001B[38;5;124m'\u001B[39m\u001B[38;5;124miteration-27\u001B[39m\u001B[38;5;124m'\u001B[39m\n\u001B[0;32m----> 3\u001B[0m [all_f1_scores] \u001B[38;5;241m=\u001B[39m load_all_train(project_dir, iter_folder)\n\u001B[1;32m      4\u001B[0m [iter0_Y_train, iter0_f1_scores] \u001B[38;5;241m=\u001B[39m load_iter0(project_dir, iter_folder)\n\u001B[1;32m      5\u001B[0m [_, iterX_Y_train_list, iterX_f1_scores] \u001B[38;5;241m=\u001B[39m load_iterX(project_dir, iter_folder)\n",
      "File \u001B[0;32m~/GitHub/acc-lupe-analysis/utils/classification.py:81\u001B[0m, in \u001B[0;36mload_all_train\u001B[0;34m(path, name)\u001B[0m\n\u001B[1;32m     79\u001B[0m \u001B[38;5;28;01mdef\u001B[39;00m \u001B[38;5;21mload_all_train\u001B[39m(path, name):\n\u001B[1;32m     80\u001B[0m     \u001B[38;5;66;03m# working dir is already the prefix (if user directly put in the project folder as working dir)\u001B[39;00m\n\u001B[0;32m---> 81\u001B[0m     data \u001B[38;5;241m=\u001B[39m _load_sav(path, name, \u001B[38;5;124m'\u001B[39m\u001B[38;5;124mall_train.sav\u001B[39m\u001B[38;5;124m'\u001B[39m)\n\u001B[1;32m     82\u001B[0m     \u001B[38;5;28;01mreturn\u001B[39;00m [i \u001B[38;5;28;01mfor\u001B[39;00m i \u001B[38;5;129;01min\u001B[39;00m data]\n",
      "File \u001B[0;32m~/GitHub/acc-lupe-analysis/utils/classification.py:74\u001B[0m, in \u001B[0;36m_load_sav\u001B[0;34m(path, name, filename)\u001B[0m\n\u001B[1;32m     72\u001B[0m \u001B[38;5;28;01mdef\u001B[39;00m \u001B[38;5;21m_load_sav\u001B[39m(path, name, filename):\n\u001B[1;32m     73\u001B[0m \u001B[38;5;250m    \u001B[39m\u001B[38;5;124;03m\"\"\"just a simplification for all those load functions\"\"\"\u001B[39;00m\n\u001B[0;32m---> 74\u001B[0m     \u001B[38;5;28;01mwith\u001B[39;00m \u001B[38;5;28mopen\u001B[39m(os\u001B[38;5;241m.\u001B[39mpath\u001B[38;5;241m.\u001B[39mjoin(path, name, filename), \u001B[38;5;124m'\u001B[39m\u001B[38;5;124mrb\u001B[39m\u001B[38;5;124m'\u001B[39m) \u001B[38;5;28;01mas\u001B[39;00m fr:\n\u001B[1;32m     75\u001B[0m         data \u001B[38;5;241m=\u001B[39m joblib\u001B[38;5;241m.\u001B[39mload(fr)\n\u001B[1;32m     76\u001B[0m     \u001B[38;5;28;01mreturn\u001B[39;00m data\n",
      "\u001B[0;31mFileNotFoundError\u001B[0m: [Errno 2] No such file or directory: '../model/iteration-27/all_train.sav'"
     ]
    }
   ],
   "source": [
    "project_dir = '../model'\n",
    "iter_folder = 'iteration-27'\n",
    "[all_f1_scores] = load_all_train(project_dir, iter_folder)\n",
    "[iter0_Y_train, iter0_f1_scores] = load_iter0(project_dir, iter_folder)\n",
    "[_, iterX_Y_train_list, iterX_f1_scores] = load_iterX(project_dir, iter_folder)"
   ],
   "metadata": {
    "collapsed": false,
    "ExecuteTime": {
     "end_time": "2024-04-09T14:39:15.751735Z",
     "start_time": "2024-04-09T14:39:15.731406Z"
    }
   },
   "id": "9385576a0c352c5c",
   "execution_count": 5
  },
  {
   "cell_type": "code",
   "outputs": [
    {
     "name": "stderr",
     "output_type": "stream",
     "text": [
      "/var/folders/gp/nsk60k_n2cz7kk79_pv33d8r0000gn/T/ipykernel_18212/2706713494.py:2: FutureWarning: \n",
      "\n",
      "Passing `palette` without assigning `hue` is deprecated and will be removed in v0.14.0. Assign the `y` variable to `hue` and set `legend=False` for the same effect.\n",
      "\n",
      "  sns.barplot(iterX_f1_scores[-1], palette=behavior_colors, ax=ax, orient=\"y\")\n",
      "/var/folders/gp/nsk60k_n2cz7kk79_pv33d8r0000gn/T/ipykernel_18212/2706713494.py:3: UserWarning: set_ticklabels() should only be used with a fixed number of ticks, i.e. after set_ticks() or using a FixedLocator.\n",
      "  ax.set_yticklabels(config['Project']['CLASSES'].split(', ')[:-1])\n"
     ]
    },
    {
     "data": {
      "text/plain": "<Figure size 400x300 with 1 Axes>",
      "image/png": "[encoded data removed]"
     },
     "metadata": {},
     "output_type": "display_data"
    }
   ],
   "source": [
    "fig, ax = plt.subplots(1, 1, figsize=(4, 3))\n",
    "sns.barplot(iterX_f1_scores[-1], palette=behavior_colors, ax=ax, orient=\"y\")\n",
    "ax.set_yticklabels(config['Project']['CLASSES'].split(', ')[:-1])\n",
    "ax.set_xlabel('Performance')\n",
    "plt.show()\n",
    "fig.savefig('../figures/model_performance.svg', bbox_inches='tight', dpi=600)"
   ],
   "metadata": {
    "collapsed": false,
    "ExecuteTime": {
     "end_time": "2024-03-18T20:56:41.856086Z",
     "start_time": "2024-03-18T20:56:41.691292Z"
    }
   },
   "id": "5af805f63f8f177",
   "execution_count": 29
  }
 ],
 "metadata": {
  "kernelspec": {
   "display_name": "Python 3",
   "language": "python",
   "name": "python3"
  },
  "language_info": {
   "codemirror_mode": {
    "name": "ipython",
    "version": 2
   },
   "file_extension": ".py",
   "mimetype": "text/x-python",
   "name": "python",
   "nbconvert_exporter": "python",
   "pygments_lexer": "ipython2",
   "version": "2.7.6"
  }
 },
 "nbformat": 4,
 "nbformat_minor": 5
}
