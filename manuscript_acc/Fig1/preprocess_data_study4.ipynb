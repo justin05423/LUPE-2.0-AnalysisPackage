{
 "cells": [
  {
   "cell_type": "code",
   "execution_count": 1,
   "id": "initial_id",
   "metadata": {
    "collapsed": true,
    "jupyter": {
     "outputs_hidden": true
    },
    "ExecuteTime": {
     "end_time": "2024-02-18T19:54:48.445222Z",
     "start_time": "2024-02-18T19:54:48.056035Z"
    }
   },
   "outputs": [],
   "source": [
    "import glob\n",
    "import pickle\n",
    "import os\n",
    "import sys\n",
    "\n",
    "if not os.path.join(os.path.abspath(''), '../') in sys.path:\n",
    "    sys.path.append(os.path.join(os.path.abspath(''), '../'))\n",
    "    \n",
    "import numpy as np\n",
    "import pandas as pd\n",
    "from tqdm import notebook\n",
    "\n",
    "from utils.feature_utils import filter_pose_noise"
   ]
  },
  {
   "cell_type": "markdown",
   "id": "d17b457d04d8a615",
   "metadata": {
    "collapsed": false
   },
   "source": [
    "### specific to where I stored the csvs. you can change the data_root_dir"
   ]
  },
  {
   "cell_type": "code",
   "execution_count": 2,
   "id": "3df1e808aabc2617",
   "metadata": {
    "collapsed": false,
    "ExecuteTime": {
     "end_time": "2024-02-18T19:58:40.044731Z",
     "start_time": "2024-02-18T19:58:40.040573Z"
    }
   },
   "outputs": [],
   "source": [
    "data_root_dir = '/Users/alexanderhsu/Documents/ACC_Study4_Fig4'\n",
    "# sexes = ['Male', 'Female']\n",
    "groups = ['Male', 'Female', 'Combined']\n",
    "\n",
    "# groups = [f'Group{i}' for i in range(1, 8)]\n",
    "\n",
    "conditions = ['Control', 'Experimental']\n",
    "\n",
    "# conditions_extra = ['Condition3A', 'Condition3B']"
   ]
  },
  {
   "cell_type": "markdown",
   "id": "8eb506351adbbce2",
   "metadata": {
    "collapsed": false
   },
   "source": [
    "### store all data in dictionary"
   ]
  },
  {
   "cell_type": "code",
   "execution_count": 3,
   "id": "b14a6fb460c88ae9",
   "metadata": {
    "collapsed": false,
    "ExecuteTime": {
     "end_time": "2024-02-18T20:03:27.563036Z",
     "start_time": "2024-02-18T19:58:44.271901Z"
    }
   },
   "outputs": [
    {
     "data": {
      "text/plain": "  0%|          | 0/3 [00:00<?, ?it/s]",
      "application/vnd.jupyter.widget-view+json": {
       "version_major": 2,
       "version_minor": 0,
       "model_id": "873376143c0e4a58828d3563f981f27b"
      }
     },
     "metadata": {},
     "output_type": "display_data"
    },
    {
     "data": {
      "text/plain": "  0%|          | 0/2 [00:00<?, ?it/s]",
      "application/vnd.jupyter.widget-view+json": {
       "version_major": 2,
       "version_minor": 0,
       "model_id": "bfe5e3d6cce04b95bb5e28a4f335bd52"
      }
     },
     "metadata": {},
     "output_type": "display_data"
    },
    {
     "data": {
      "text/plain": "  0%|          | 0/4 [00:00<?, ?it/s]",
      "application/vnd.jupyter.widget-view+json": {
       "version_major": 2,
       "version_minor": 0,
       "model_id": "bfc4b494128d4f5ab926d4526265fca0"
      }
     },
     "metadata": {},
     "output_type": "display_data"
    },
    {
     "data": {
      "text/plain": "  0%|          | 0/4 [00:00<?, ?it/s]",
      "application/vnd.jupyter.widget-view+json": {
       "version_major": 2,
       "version_minor": 0,
       "model_id": "172f22332c0e4dbfaea70f7ceb284d0f"
      }
     },
     "metadata": {},
     "output_type": "display_data"
    },
    {
     "data": {
      "text/plain": "  0%|          | 0/2 [00:00<?, ?it/s]",
      "application/vnd.jupyter.widget-view+json": {
       "version_major": 2,
       "version_minor": 0,
       "model_id": "39a512a9ed0343b3b8a927dafa92bbfe"
      }
     },
     "metadata": {},
     "output_type": "display_data"
    },
    {
     "data": {
      "text/plain": "  0%|          | 0/2 [00:00<?, ?it/s]",
      "application/vnd.jupyter.widget-view+json": {
       "version_major": 2,
       "version_minor": 0,
       "model_id": "cbf44321e6ae492ebe8c4ed187d3e981"
      }
     },
     "metadata": {},
     "output_type": "display_data"
    },
    {
     "data": {
      "text/plain": "  0%|          | 0/5 [00:00<?, ?it/s]",
      "application/vnd.jupyter.widget-view+json": {
       "version_major": 2,
       "version_minor": 0,
       "model_id": "4a26d78aaa8444b7acfb5fb206b599a9"
      }
     },
     "metadata": {},
     "output_type": "display_data"
    },
    {
     "data": {
      "text/plain": "  0%|          | 0/2 [00:00<?, ?it/s]",
      "application/vnd.jupyter.widget-view+json": {
       "version_major": 2,
       "version_minor": 0,
       "model_id": "b18ca934a7cc4f4bbeab2c19d1fd9b5b"
      }
     },
     "metadata": {},
     "output_type": "display_data"
    },
    {
     "data": {
      "text/plain": "  0%|          | 0/6 [00:00<?, ?it/s]",
      "application/vnd.jupyter.widget-view+json": {
       "version_major": 2,
       "version_minor": 0,
       "model_id": "6a1b4db38a024d8a840923b052cc1c8c"
      }
     },
     "metadata": {},
     "output_type": "display_data"
    },
    {
     "data": {
      "text/plain": "  0%|          | 0/9 [00:00<?, ?it/s]",
      "application/vnd.jupyter.widget-view+json": {
       "version_major": 2,
       "version_minor": 0,
       "model_id": "38dce9d871294f3199372c88015f9255"
      }
     },
     "metadata": {},
     "output_type": "display_data"
    }
   ],
   "source": [
    "\n",
    "filenames = {key: [] for key in groups}\n",
    "data = {key: [] for key in groups}\n",
    "for group in notebook.tqdm(groups):\n",
    "    filenames[group] = {key: [] for key in conditions}\n",
    "    data[group] = {key: [] for key in conditions}\n",
    "    for condition in notebook.tqdm(conditions):\n",
    "        \n",
    "        filenames[group][condition] = glob.glob(str.join('/', \n",
    "                                                              (data_root_dir,\n",
    "                                                               f'{group}', \n",
    "                                                               f'{condition}', \n",
    "                                                               '*.csv')))\n",
    "        data[group][condition] = {key: [] for key in [f'file{i}' \n",
    "                                                           for i in range(len(filenames[group][condition]))]}\n",
    "        for i, csv in enumerate(notebook.tqdm(filenames[group][condition])):\n",
    "            temp_df = pd.read_csv(csv, header=[0, 1, 2, 3], sep=\",\", index_col=0)\n",
    "            selected_pose_idx = np.arange(temp_df.shape[1])\n",
    "            idx_llh = selected_pose_idx[2::3]\n",
    "            # the loaded sleap file has them too, so exclude for both\n",
    "            idx_selected = [i for i in selected_pose_idx if i not in idx_llh]\n",
    "            currdf_filt, _ = filter_pose_noise(temp_df, idx_selected=idx_selected, idx_llh=idx_llh, \n",
    "                                               llh_value=0.1)\n",
    "            data[group][condition][f'file{i}'] = currdf_filt"
   ]
  },
  {
   "cell_type": "code",
   "execution_count": 4,
   "id": "29555bd594bb3b17",
   "metadata": {
    "collapsed": false,
    "ExecuteTime": {
     "end_time": "2024-02-18T20:03:27.570907Z",
     "start_time": "2024-02-18T20:03:27.569461Z"
    }
   },
   "outputs": [
    {
     "data": {
      "text/plain": "'/Users/alexanderhsu/Documents/ACC_Study4_Fig4/Combined/Control/flfl-GFP_M3122_acA2040-120um__23670846__20221207_120605923DLC_resnet50_LUPE_MALEDec5shuffle1_350000.csv'"
     },
     "execution_count": 4,
     "metadata": {},
     "output_type": "execute_result"
    }
   ],
   "source": [
    "file_chosen = 0\n",
    "filenames['Combined']['Control'][file_chosen]"
   ]
  },
  {
   "cell_type": "code",
   "execution_count": 5,
   "id": "6048f08d86980d1c",
   "metadata": {
    "collapsed": false,
    "ExecuteTime": {
     "end_time": "2024-02-18T20:03:27.576874Z",
     "start_time": "2024-02-18T20:03:27.573285Z"
    }
   },
   "outputs": [
    {
     "data": {
      "text/plain": "array([[641.48352158, 576.65801442, 642.56678367, ..., 406.21736968,\n        599.1721015 , 368.149786  ],\n       [648.4513616 , 570.46967983, 648.49591875, ..., 407.29971933,\n        598.77419424, 366.08717871],\n       [654.09782684, 560.24912113, 652.32407546, ..., 403.68559408,\n        600.15012978, 361.54467559],\n       ...,\n       [649.81683826, 487.0004437 , 644.58509529, ..., 632.67028934,\n        531.63663864, 650.3540678 ],\n       [650.93240857, 483.62821817, 643.13291645, ..., 631.19939256,\n        530.22387457, 648.32118094],\n       [649.50445223, 487.503016  , 640.96755075, ..., 631.59388328,\n        529.74590015, 652.39307439]])"
     },
     "execution_count": 5,
     "metadata": {},
     "output_type": "execute_result"
    }
   ],
   "source": [
    "data['Male']['Experimental'][f'file{file_chosen}']"
   ]
  },
  {
   "cell_type": "code",
   "execution_count": 6,
   "id": "95d2673da5545baf",
   "metadata": {
    "collapsed": false,
    "ExecuteTime": {
     "end_time": "2024-02-18T20:03:29.042842Z",
     "start_time": "2024-02-18T20:03:27.576905Z"
    }
   },
   "outputs": [],
   "source": [
    "with open('../processed_dataset/raw_data_study4.pkl', 'wb') as f:\n",
    "    pickle.dump(data, f)"
   ]
  }
 ],
 "metadata": {
  "kernelspec": {
   "display_name": "Python 3 (ipykernel)",
   "language": "python",
   "name": "python3"
  },
  "language_info": {
   "codemirror_mode": {
    "name": "ipython",
    "version": 3
   },
   "file_extension": ".py",
   "mimetype": "text/x-python",
   "name": "python",
   "nbconvert_exporter": "python",
   "pygments_lexer": "ipython3",
   "version": "3.11.0"
  }
 },
 "nbformat": 4,
 "nbformat_minor": 5
}
