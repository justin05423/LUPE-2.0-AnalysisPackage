{
 "cells": [
  {
   "cell_type": "code",
   "execution_count": 1,
   "id": "initial_id",
   "metadata": {
    "collapsed": false,
    "ExecuteTime": {
     "end_time": "2024-03-11T17:54:40.190318Z",
     "start_time": "2024-03-11T17:54:39.832943Z"
    }
   },
   "outputs": [],
   "source": [
    "import matplotlib.pyplot as plt\n",
    "import numpy as np\n",
    "import seaborn as sns\n",
    "from matplotlib.colors import ListedColormap\n",
    "import os\n",
    "import sys\n",
    "\n",
    "if not os.path.join(os.path.abspath(''), '../') in sys.path:\n",
    "    sys.path.append(os.path.join(os.path.abspath(''), '../'))\n",
    "    \n",
    "from utils.classification import load_model, load_features, load_data, weighted_smoothing\n",
    "from utils.classification import load_behaviors\n",
    "from utils.meta import *\n",
    "from tqdm import notebook\n",
    "from tqdm import tqdm\n",
    "import pickle\n",
    "import os\n",
    "import pandas as pd"
   ]
  },
  {
   "cell_type": "markdown",
   "source": [
    "## Individual CSV  "
   ],
   "metadata": {
    "collapsed": false
   },
   "id": "3dffe21c9c8591a9"
  },
  {
   "cell_type": "code",
   "outputs": [],
   "source": [
    "behaviors = load_behaviors('../processed_dataset/behaviors.pkl')\n",
    "\n",
    "figure_num = 'fig1'\n",
    "selected_sex = 'Male'\n",
    "selected_group = 'Group6'\n",
    "selected_condition = 'Condition3A'\n",
    "selected_file = 'file1'\n",
    "\n",
    "df_sni = pd.DataFrame(behaviors[selected_sex][selected_group][selected_condition][selected_file])\n",
    "df_sni.to_csv(f'../csvs/{figure_num}/{selected_group}-{selected_condition}-{selected_file}.csv', index=True)"
   ],
   "metadata": {
    "collapsed": false,
    "ExecuteTime": {
     "end_time": "2024-03-11T17:56:48.356527Z",
     "start_time": "2024-03-11T17:56:48.247698Z"
    }
   },
   "id": "376393133c6f6ad7",
   "execution_count": 6
  },
  {
   "cell_type": "markdown",
   "source": [
    "## Frame Frequency Time Bins (Individual)"
   ],
   "metadata": {
    "collapsed": false
   },
   "id": "edacef137a164af1"
  },
  {
   "cell_type": "code",
   "outputs": [],
   "source": [
    "## FRAME FREQUENCY TIME BINS\n",
    "\n",
    "import pandas as pd\n",
    "\n",
    "# Assuming behaviors is a dictionary containing the behavioral data\n",
    "\n",
    "# Load behaviors from the pickle file\n",
    "behaviors = load_behaviors('../processed_dataset/behaviors.pkl')\n",
    "\n",
    "# Extract relevant data\n",
    "figure_num = 'fig1'\n",
    "selected_sex = 'Male'\n",
    "selected_group = 'Group6'\n",
    "selected_condition = 'Condition3A'\n",
    "selected_file = 'file0'\n",
    "\n",
    "# Define time bin parameters\n",
    "num_min = 1\n",
    "time_bin_size = 60 * 60 * num_min\n",
    "\n",
    "# Convert behavioral data to DataFrame\n",
    "df_behavior = pd.DataFrame(behaviors[selected_sex][selected_group][selected_condition][selected_file])\n",
    "\n",
    "# Reshape the DataFrame to have one column per behavior\n",
    "df_behavior = df_behavior.stack().reset_index(level=1, drop=True).reset_index(name='behavior')\n",
    "\n",
    "# Calculate time bins\n",
    "time_bins = df_behavior.index // time_bin_size\n",
    "\n",
    "# Group by time bins and behavior, and calculate the frequency\n",
    "frequency_df = df_behavior.groupby([time_bins, 'behavior']).size().unstack(fill_value=0)\n",
    "\n",
    "# Save to CSV\n",
    "frequency_df.to_csv(f'../csvs/{selected_group}-{selected_condition}-{selected_file}-frequency.csv', index=True)\n"
   ],
   "metadata": {
    "collapsed": false,
    "ExecuteTime": {
     "end_time": "2024-03-11T17:55:25.649336Z",
     "start_time": "2024-03-11T17:55:25.576470Z"
    }
   },
   "id": "279645210dd370bf",
   "execution_count": 4
  },
  {
   "cell_type": "markdown",
   "source": [
    "## Frame Frequency Time Bins (ALL FILES)"
   ],
   "metadata": {
    "collapsed": false
   },
   "id": "5ede572ac1c0bfbd"
  },
  {
   "cell_type": "code",
   "outputs": [
    {
     "ename": "KeyError",
     "evalue": "'file10'",
     "output_type": "error",
     "traceback": [
      "\u001B[0;31m---------------------------------------------------------------------------\u001B[0m",
      "\u001B[0;31mKeyError\u001B[0m                                  Traceback (most recent call last)",
      "Cell \u001B[0;32mIn[7], line 35\u001B[0m\n\u001B[1;32m     32\u001B[0m selected_file \u001B[38;5;241m=\u001B[39m \u001B[38;5;124mf\u001B[39m\u001B[38;5;124m'\u001B[39m\u001B[38;5;124mfile\u001B[39m\u001B[38;5;132;01m{\u001B[39;00mi\u001B[38;5;132;01m}\u001B[39;00m\u001B[38;5;124m'\u001B[39m  \u001B[38;5;66;03m# Format file number with leading zeros if necessary\u001B[39;00m\n\u001B[1;32m     34\u001B[0m \u001B[38;5;66;03m# Convert behavioral data to DataFrame\u001B[39;00m\n\u001B[0;32m---> 35\u001B[0m df_behavior \u001B[38;5;241m=\u001B[39m pd\u001B[38;5;241m.\u001B[39mDataFrame(\u001B[43mbehaviors\u001B[49m\u001B[43m[\u001B[49m\u001B[43mselected_sex\u001B[49m\u001B[43m]\u001B[49m\u001B[43m[\u001B[49m\u001B[43mselected_group\u001B[49m\u001B[43m]\u001B[49m\u001B[43m[\u001B[49m\u001B[43mselected_condition\u001B[49m\u001B[43m]\u001B[49m\u001B[43m[\u001B[49m\u001B[43mselected_file\u001B[49m\u001B[43m]\u001B[49m)\n\u001B[1;32m     37\u001B[0m \u001B[38;5;66;03m# Reshape the DataFrame to have one column per behavior\u001B[39;00m\n\u001B[1;32m     38\u001B[0m df_behavior \u001B[38;5;241m=\u001B[39m df_behavior\u001B[38;5;241m.\u001B[39mstack()\u001B[38;5;241m.\u001B[39mreset_index(level\u001B[38;5;241m=\u001B[39m\u001B[38;5;241m1\u001B[39m, drop\u001B[38;5;241m=\u001B[39m\u001B[38;5;28;01mTrue\u001B[39;00m)\u001B[38;5;241m.\u001B[39mreset_index(name\u001B[38;5;241m=\u001B[39m\u001B[38;5;124m'\u001B[39m\u001B[38;5;124mbehavior\u001B[39m\u001B[38;5;124m'\u001B[39m)\n",
      "\u001B[0;31mKeyError\u001B[0m: 'file10'"
     ]
    }
   ],
   "source": [
    "## FRAME FREQUENCY TIME BINS LOOP ALL FILES\n",
    "\n",
    "import pandas as pd\n",
    "import os\n",
    "\n",
    "# Assuming behaviors is a dictionary containing the behavioral data\n",
    "\n",
    "# Load behaviors from the pickle file\n",
    "behaviors = load_behaviors('../processed_dataset/behaviors.pkl')\n",
    "\n",
    "# Extract relevant data\n",
    "figure_num = 'fig1'\n",
    "\n",
    "selected_sex = 'Male'\n",
    "\n",
    "selected_group = 'Group1'\n",
    "#selected_group = 'Group2'\n",
    "#selected_group = 'Group3'\n",
    "#selected_group = 'Group4'\n",
    "#selected_group = 'Group5'\n",
    "\n",
    "selected_condition = 'Condition1'\n",
    "#selected_condition = 'Condition2'\n",
    "#selected_condition = 'Condition3'\n",
    "\n",
    "# Define time bin parameters\n",
    "num_min = 1\n",
    "time_bin_size = 60 * 60 * num_min\n",
    "\n",
    "# Iterate over files 1-15\n",
    "for i in range(0, 40):\n",
    "    selected_file = f'file{i}'  # Format file number with leading zeros if necessary\n",
    "    \n",
    "    # Convert behavioral data to DataFrame\n",
    "    df_behavior = pd.DataFrame(behaviors[selected_sex][selected_group][selected_condition][selected_file])\n",
    "\n",
    "    # Reshape the DataFrame to have one column per behavior\n",
    "    df_behavior = df_behavior.stack().reset_index(level=1, drop=True).reset_index(name='behavior')\n",
    "\n",
    "    # Calculate time bins\n",
    "    time_bins = df_behavior.index // time_bin_size\n",
    "\n",
    "    # Group by time bins and behavior, and calculate the frequency\n",
    "    frequency_df = df_behavior.groupby([time_bins, 'behavior']).size().unstack(fill_value=0)\n",
    "\n",
    "    # Save to CSV\n",
    "    output_path = f'../csvs/{figure_num}/{selected_sex}-{selected_group}-{selected_condition}-{selected_file}_binnedfrequency.csv'\n",
    "    os.makedirs(os.path.dirname(output_path), exist_ok=True)\n",
    "    frequency_df.to_csv(output_path, index=True)\n"
   ],
   "metadata": {
    "collapsed": false,
    "ExecuteTime": {
     "end_time": "2024-03-03T21:14:12.031278Z",
     "start_time": "2024-03-03T21:14:11.917214Z"
    }
   },
   "id": "bb3045f6bced15a",
   "execution_count": 7
  },
  {
   "cell_type": "markdown",
   "source": [
    "## Behavior Duration Time Bins (Individual)"
   ],
   "metadata": {
    "collapsed": false
   },
   "id": "b215a4e9e7fd96dd"
  },
  {
   "cell_type": "code",
   "outputs": [],
   "source": [
    "## SECONDS TIME BINS\n",
    "\n",
    "import pandas as pd\n",
    "\n",
    "# Assuming behaviors is a dictionary containing the behavioral data\n",
    "\n",
    "# Load behaviors from the pickle file\n",
    "behaviors = load_behaviors('../processed_dataset/behaviors.pkl')\n",
    "\n",
    "# Extract relevant data\n",
    "figure_num = 'fig1'\n",
    "\n",
    "selected_sex = 'Male'\n",
    "\n",
    "selected_group = 'Group1'\n",
    "#selected_group = 'Group2'\n",
    "#selected_group = 'Group3'\n",
    "#selected_group = 'Group4'\n",
    "#selected_group = 'Group5'\n",
    "\n",
    "selected_condition = 'Condition1'\n",
    "#selected_condition = 'Condition2'\n",
    "#selected_condition = 'Condition3'\n",
    "\n",
    "selected_file = 'file0'\n",
    "\n",
    "# Convert behavioral data to DataFrame\n",
    "df_behavior = pd.DataFrame(behaviors[selected_sex][selected_group][selected_condition][selected_file])\n",
    "\n",
    "# Calculate frequency of each behavior for every 3600 frames\n",
    "frequency_df = df_behavior.groupby(df_behavior.index // 3600).apply(lambda x: x.value_counts(normalize=True)).unstack(fill_value=0)\n",
    "\n",
    "# Save to CSV\n",
    "frequency_df.to_csv(f'../csvs/{figure_num}/{selected_sex}-{selected_group}-{selected_condition}-{selected_file}_binnedduration.csv', index=True)\n"
   ],
   "metadata": {
    "collapsed": false,
    "ExecuteTime": {
     "end_time": "2024-03-03T21:15:34.672047Z",
     "start_time": "2024-03-03T21:15:34.601616Z"
    }
   },
   "id": "c118336007d2203c",
   "execution_count": 9
  },
  {
   "cell_type": "markdown",
   "source": [
    "## Behavior Duration Time Bins (ALL FILES)"
   ],
   "metadata": {
    "collapsed": false
   },
   "id": "620c98e150269aa8"
  },
  {
   "cell_type": "code",
   "outputs": [
    {
     "ename": "KeyError",
     "evalue": "'file5'",
     "output_type": "error",
     "traceback": [
      "\u001B[0;31m---------------------------------------------------------------------------\u001B[0m",
      "\u001B[0;31mKeyError\u001B[0m                                  Traceback (most recent call last)",
      "Cell \u001B[0;32mIn[9], line 27\u001B[0m\n\u001B[1;32m     24\u001B[0m selected_file \u001B[38;5;241m=\u001B[39m \u001B[38;5;124mf\u001B[39m\u001B[38;5;124m'\u001B[39m\u001B[38;5;124mfile\u001B[39m\u001B[38;5;132;01m{\u001B[39;00mi\u001B[38;5;132;01m}\u001B[39;00m\u001B[38;5;124m'\u001B[39m  \u001B[38;5;66;03m# Format file number with leading zeros if necessary\u001B[39;00m\n\u001B[1;32m     26\u001B[0m \u001B[38;5;66;03m# Convert behavioral data to DataFrame\u001B[39;00m\n\u001B[0;32m---> 27\u001B[0m df_behavior \u001B[38;5;241m=\u001B[39m pd\u001B[38;5;241m.\u001B[39mDataFrame(behaviors[selected_sex][selected_group][selected_condition][selected_file])\n\u001B[1;32m     29\u001B[0m \u001B[38;5;66;03m# Reshape the DataFrame to have one column per behavior\u001B[39;00m\n\u001B[1;32m     30\u001B[0m df_behavior \u001B[38;5;241m=\u001B[39m df_behavior\u001B[38;5;241m.\u001B[39mstack()\u001B[38;5;241m.\u001B[39mreset_index(level\u001B[38;5;241m=\u001B[39m\u001B[38;5;241m1\u001B[39m, drop\u001B[38;5;241m=\u001B[39m\u001B[38;5;28;01mTrue\u001B[39;00m)\u001B[38;5;241m.\u001B[39mreset_index(name\u001B[38;5;241m=\u001B[39m\u001B[38;5;124m'\u001B[39m\u001B[38;5;124mbehavior\u001B[39m\u001B[38;5;124m'\u001B[39m)\n",
      "\u001B[0;31mKeyError\u001B[0m: 'file5'"
     ]
    }
   ],
   "source": [
    "import pandas as pd\n",
    "import os\n",
    "\n",
    "# Assuming behaviors is a dictionary containing the behavioral data\n",
    "\n",
    "# Load behaviors from the pickle file\n",
    "behaviors = load_behaviors('../processed_dataset/behaviors.pkl')\n",
    "\n",
    "# Extract relevant data\n",
    "figure_num = 'fig1'\n",
    "\n",
    "selected_sex = 'Male'\n",
    "selected_group = 'Group7'\n",
    "selected_condition = 'Condition3B'\n",
    "\n",
    "\n",
    "# Define time bin parameters\n",
    "num_min = 1\n",
    "time_bin_size = 60 * 60 * num_min\n",
    "frame_rate_per_min = 60  # Frames per minute\n",
    "\n",
    "# Iterate over files 1-15\n",
    "for i in range(0, 40):\n",
    "    selected_file = f'file{i}'  # Format file number with leading zeros if necessary\n",
    "    \n",
    "    # Convert behavioral data to DataFrame\n",
    "    df_behavior = pd.DataFrame(behaviors[selected_sex][selected_group][selected_condition][selected_file])\n",
    "\n",
    "    # Reshape the DataFrame to have one column per behavior\n",
    "    df_behavior = df_behavior.stack().reset_index(level=1, drop=True).reset_index(name='behavior')\n",
    "\n",
    "    # Calculate time bins\n",
    "    time_bins = df_behavior.index // time_bin_size\n",
    "\n",
    "    # Group by time bins and behavior, and calculate the frequency\n",
    "    frequency_df = df_behavior.groupby([time_bins, 'behavior']).size().unstack(fill_value=0)\n",
    "\n",
    "    # Convert frequency from frames to seconds\n",
    "    frequency_df_seconds = frequency_df.divide(frame_rate_per_min)\n",
    "\n",
    "    # Save to CSV\n",
    "    output_path = f'../csvs/{figure_num}/{selected_sex}-{selected_group}-{selected_condition}-{selected_file}_binnedduration.csv'\n",
    "    os.makedirs(os.path.dirname(output_path), exist_ok=True)\n",
    "    frequency_df_seconds.to_csv(output_path, index=True)\n"
   ],
   "metadata": {
    "collapsed": false,
    "ExecuteTime": {
     "end_time": "2024-03-11T17:57:54.958060Z",
     "start_time": "2024-03-11T17:57:54.868256Z"
    }
   },
   "id": "36bd0e4fab2cf168",
   "execution_count": 9
  },
  {
   "cell_type": "code",
   "outputs": [],
   "source": [],
   "metadata": {
    "collapsed": false
   },
   "id": "170936ee99c79273"
  }
 ],
 "metadata": {
  "kernelspec": {
   "display_name": "Python 3 (ipykernel)",
   "language": "python",
   "name": "python3"
  },
  "language_info": {
   "codemirror_mode": {
    "name": "ipython",
    "version": 3
   },
   "file_extension": ".py",
   "mimetype": "text/x-python",
   "name": "python",
   "nbconvert_exporter": "python",
   "pygments_lexer": "ipython3",
   "version": "3.11.0"
  }
 },
 "nbformat": 4,
 "nbformat_minor": 5
}
