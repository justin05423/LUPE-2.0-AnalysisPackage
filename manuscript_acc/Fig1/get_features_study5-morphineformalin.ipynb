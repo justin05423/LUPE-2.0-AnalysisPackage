{
 "cells": [
  {
   "cell_type": "code",
   "execution_count": 4,
   "id": "initial_id",
   "metadata": {
    "collapsed": true,
    "jupyter": {
     "outputs_hidden": true
    },
    "ExecuteTime": {
     "end_time": "2024-03-02T02:17:32.730803Z",
     "start_time": "2024-03-02T02:17:32.727551Z"
    }
   },
   "outputs": [
    {
     "name": "stdout",
     "output_type": "stream",
     "text": [
      "['Male', 'Female', 'Combined']\n",
      "['Control', 'Experimental']\n"
     ]
    }
   ],
   "source": [
    "import pickle\n",
    "\n",
    "from tqdm import notebook\n",
    "import os\n",
    "import sys\n",
    "\n",
    "if not os.path.join(os.path.abspath(''), '../') in sys.path:\n",
    "    sys.path.append(os.path.join(os.path.abspath(''), '../'))\n",
    "    \n",
    "from utils.classification import load_data, load_features\n",
    "from utils.feature_utils import feature_extraction\n",
    "from utils.meta import *\n",
    "# from utils.meta import groups_study6, conditions_study6\n",
    "print(groups_study6)\n",
    "print(conditions_study6)\n",
    "import os"
   ]
  },
  {
   "cell_type": "code",
   "execution_count": 5,
   "id": "4abd661b6f06424e",
   "metadata": {
    "collapsed": false,
    "ExecuteTime": {
     "end_time": "2024-03-02T02:17:34.937838Z",
     "start_time": "2024-03-02T02:17:34.083008Z"
    }
   },
   "outputs": [],
   "source": [
    "data_path = '../processed_dataset/raw_data_study5-morphineformalin.pkl'\n",
    "data = load_data(data_path)"
   ]
  },
  {
   "cell_type": "markdown",
   "id": "a0e875c56bfb37b1",
   "metadata": {
    "collapsed": false
   },
   "source": [
    "### get features from pose"
   ]
  },
  {
   "cell_type": "code",
   "execution_count": 6,
   "id": "9f3c48d2e8b0cb5b",
   "metadata": {
    "collapsed": false,
    "ExecuteTime": {
     "end_time": "2024-03-02T02:37:17.822342Z",
     "start_time": "2024-03-02T02:18:07.614684Z"
    }
   },
   "outputs": [
    {
     "data": {
      "text/plain": "  0%|          | 0/3 [00:00<?, ?it/s]",
      "application/vnd.jupyter.widget-view+json": {
       "version_major": 2,
       "version_minor": 0,
       "model_id": "22016268af5b4df5967321f3a33bd24d"
      }
     },
     "metadata": {},
     "output_type": "display_data"
    },
    {
     "data": {
      "text/plain": "  0%|          | 0/2 [00:00<?, ?it/s]",
      "application/vnd.jupyter.widget-view+json": {
       "version_major": 2,
       "version_minor": 0,
       "model_id": "a90fd60a038f4362a7f1c014f656eadc"
      }
     },
     "metadata": {},
     "output_type": "display_data"
    },
    {
     "name": "stderr",
     "output_type": "stream",
     "text": [
      "\n",
      "\n",
      "  0%|          | 0/1 [00:00<?, ?it/s]\u001B[A\u001B[A\n",
      "\n",
      "100%|██████████| 1/1 [00:24<00:00, 24.18s/it]\u001B[A\u001B[A\n",
      "\n",
      "\n",
      "  0%|          | 0/1 [00:00<?, ?it/s]\u001B[A\u001B[A\n",
      "\n",
      "100%|██████████| 1/1 [00:23<00:00, 23.90s/it]\u001B[A\u001B[A\n",
      "\n",
      "\n",
      "  0%|          | 0/1 [00:00<?, ?it/s]\u001B[A\u001B[A\n",
      "\n",
      "100%|██████████| 1/1 [00:23<00:00, 23.95s/it]\u001B[A\u001B[A\n",
      "\n",
      "\n",
      "  0%|          | 0/1 [00:00<?, ?it/s]\u001B[A\u001B[A\n",
      "\n",
      "100%|██████████| 1/1 [00:23<00:00, 23.33s/it]\u001B[A\u001B[A\n",
      "\n",
      "\n",
      "  0%|          | 0/1 [00:00<?, ?it/s]\u001B[A\u001B[A\n",
      "\n",
      "100%|██████████| 1/1 [00:23<00:00, 23.93s/it]\u001B[A\u001B[A\n",
      "\n",
      "\n",
      "  0%|          | 0/1 [00:00<?, ?it/s]\u001B[A\u001B[A\n",
      "\n",
      "100%|██████████| 1/1 [00:23<00:00, 23.40s/it]\u001B[A\u001B[A\n",
      "\n",
      "\n",
      "  0%|          | 0/1 [00:00<?, ?it/s]\u001B[A\u001B[A\n",
      "\n",
      "100%|██████████| 1/1 [00:22<00:00, 22.39s/it]\u001B[A\u001B[A\n",
      "\n",
      "\n",
      "  0%|          | 0/1 [00:00<?, ?it/s]\u001B[A\u001B[A\n",
      "\n",
      "100%|██████████| 1/1 [00:23<00:00, 23.31s/it]\u001B[A\u001B[A\n",
      "\n",
      "\n",
      "  0%|          | 0/1 [00:00<?, ?it/s]\u001B[A\u001B[A\n",
      "\n",
      "100%|██████████| 1/1 [00:22<00:00, 22.02s/it]\u001B[A\u001B[A\n",
      "\n",
      "\n",
      "  0%|          | 0/1 [00:00<?, ?it/s]\u001B[A\u001B[A\n",
      "\n",
      "100%|██████████| 1/1 [00:21<00:00, 21.77s/it]\u001B[A\u001B[A\n",
      "\n",
      "\n",
      "  0%|          | 0/1 [00:00<?, ?it/s]\u001B[A\u001B[A\n",
      "\n",
      "100%|██████████| 1/1 [00:21<00:00, 21.65s/it]\u001B[A\u001B[A\n",
      "\n",
      "\n",
      "  0%|          | 0/1 [00:00<?, ?it/s]\u001B[A\u001B[A\n",
      "\n",
      "100%|██████████| 1/1 [00:21<00:00, 21.71s/it]\u001B[A\u001B[A\n",
      "\n",
      "\n",
      "  0%|          | 0/1 [00:00<?, ?it/s]\u001B[A\u001B[A\n",
      "\n",
      "100%|██████████| 1/1 [00:21<00:00, 21.53s/it]\u001B[A\u001B[A\n",
      "\n",
      "\n",
      "  0%|          | 0/1 [00:00<?, ?it/s]\u001B[A\u001B[A\n",
      "\n",
      "100%|██████████| 1/1 [00:21<00:00, 21.70s/it]\u001B[A\u001B[A\n",
      "\n",
      "\n",
      "  0%|          | 0/1 [00:00<?, ?it/s]\u001B[A\u001B[A\n",
      "\n",
      "100%|██████████| 1/1 [00:21<00:00, 21.78s/it]\u001B[A\u001B[A\n",
      "\n",
      "\n",
      "  0%|          | 0/1 [00:00<?, ?it/s]\u001B[A\u001B[A\n",
      "\n",
      "100%|██████████| 1/1 [00:21<00:00, 21.66s/it]\u001B[A\u001B[A\n"
     ]
    },
    {
     "data": {
      "text/plain": "  0%|          | 0/2 [00:00<?, ?it/s]",
      "application/vnd.jupyter.widget-view+json": {
       "version_major": 2,
       "version_minor": 0,
       "model_id": "87d4f87d4c7749ab8a51513ff90fb15f"
      }
     },
     "metadata": {},
     "output_type": "display_data"
    },
    {
     "name": "stderr",
     "output_type": "stream",
     "text": [
      "\n",
      "\n",
      "  0%|          | 0/1 [00:00<?, ?it/s]\u001B[A\u001B[A\n",
      "\n",
      "100%|██████████| 1/1 [00:21<00:00, 21.61s/it]\u001B[A\u001B[A\n",
      "\n",
      "\n",
      "  0%|          | 0/1 [00:00<?, ?it/s]\u001B[A\u001B[A\n",
      "\n",
      "100%|██████████| 1/1 [00:21<00:00, 21.72s/it]\u001B[A\u001B[A\n",
      "\n",
      "\n",
      "  0%|          | 0/1 [00:00<?, ?it/s]\u001B[A\u001B[A\n",
      "\n",
      "100%|██████████| 1/1 [00:21<00:00, 21.67s/it]\u001B[A\u001B[A\n",
      "\n",
      "\n",
      "  0%|          | 0/1 [00:00<?, ?it/s]\u001B[A\u001B[A\n",
      "\n",
      "100%|██████████| 1/1 [00:21<00:00, 21.65s/it]\u001B[A\u001B[A\n",
      "\n",
      "\n",
      "  0%|          | 0/1 [00:00<?, ?it/s]\u001B[A\u001B[A\n",
      "\n",
      "100%|██████████| 1/1 [00:21<00:00, 21.74s/it]\u001B[A\u001B[A\n",
      "\n",
      "\n",
      "  0%|          | 0/1 [00:00<?, ?it/s]\u001B[A\u001B[A\n",
      "\n",
      "100%|██████████| 1/1 [00:23<00:00, 23.46s/it]\u001B[A\u001B[A\n",
      "\n",
      "\n",
      "  0%|          | 0/1 [00:00<?, ?it/s]\u001B[A\u001B[A\n",
      "\n",
      "100%|██████████| 1/1 [00:21<00:00, 21.43s/it]\u001B[A\u001B[A\n",
      "\n",
      "\n",
      "  0%|          | 0/1 [00:00<?, ?it/s]\u001B[A\u001B[A\n",
      "\n",
      "100%|██████████| 1/1 [00:21<00:00, 21.33s/it]\u001B[A\u001B[A\n",
      "\n",
      "\n",
      "  0%|          | 0/1 [00:00<?, ?it/s]\u001B[A\u001B[A\n",
      "\n",
      "100%|██████████| 1/1 [00:21<00:00, 21.34s/it]\u001B[A\u001B[A\n"
     ]
    },
    {
     "data": {
      "text/plain": "  0%|          | 0/2 [00:00<?, ?it/s]",
      "application/vnd.jupyter.widget-view+json": {
       "version_major": 2,
       "version_minor": 0,
       "model_id": "73c2b53e201445ac8fcba0bab6a31bd6"
      }
     },
     "metadata": {},
     "output_type": "display_data"
    },
    {
     "name": "stderr",
     "output_type": "stream",
     "text": [
      "\n",
      "\n",
      "  0%|          | 0/1 [00:00<?, ?it/s]\u001B[A\u001B[A\n",
      "\n",
      "100%|██████████| 1/1 [00:21<00:00, 21.36s/it]\u001B[A\u001B[A\n",
      "\n",
      "\n",
      "  0%|          | 0/1 [00:00<?, ?it/s]\u001B[A\u001B[A\n",
      "\n",
      "100%|██████████| 1/1 [00:21<00:00, 21.22s/it]\u001B[A\u001B[A\n",
      "\n",
      "\n",
      "  0%|          | 0/1 [00:00<?, ?it/s]\u001B[A\u001B[A\n",
      "\n",
      "100%|██████████| 1/1 [00:21<00:00, 21.28s/it]\u001B[A\u001B[A\n",
      "\n",
      "\n",
      "  0%|          | 0/1 [00:00<?, ?it/s]\u001B[A\u001B[A\n",
      "\n",
      "100%|██████████| 1/1 [00:22<00:00, 22.47s/it]\u001B[A\u001B[A\n",
      "\n",
      "\n",
      "  0%|          | 0/1 [00:00<?, ?it/s]\u001B[A\u001B[A\n",
      "\n",
      "100%|██████████| 1/1 [00:23<00:00, 23.69s/it]\u001B[A\u001B[A\n",
      "\n",
      "\n",
      "  0%|          | 0/1 [00:00<?, ?it/s]\u001B[A\u001B[A\n",
      "\n",
      "100%|██████████| 1/1 [00:23<00:00, 23.36s/it]\u001B[A\u001B[A\n",
      "\n",
      "\n",
      "  0%|          | 0/1 [00:00<?, ?it/s]\u001B[A\u001B[A\n",
      "\n",
      "100%|██████████| 1/1 [00:22<00:00, 22.79s/it]\u001B[A\u001B[A\n",
      "\n",
      "\n",
      "  0%|          | 0/1 [00:00<?, ?it/s]\u001B[A\u001B[A\n",
      "\n",
      "100%|██████████| 1/1 [00:22<00:00, 22.64s/it]\u001B[A\u001B[A\n",
      "\n",
      "\n",
      "  0%|          | 0/1 [00:00<?, ?it/s]\u001B[A\u001B[A\n",
      "\n",
      "100%|██████████| 1/1 [00:23<00:00, 23.65s/it]\u001B[A\u001B[A\n",
      "\n",
      "\n",
      "  0%|          | 0/1 [00:00<?, ?it/s]\u001B[A\u001B[A\n",
      "\n",
      "100%|██████████| 1/1 [00:24<00:00, 24.23s/it]\u001B[A\u001B[A\n",
      "\n",
      "\n",
      "  0%|          | 0/1 [00:00<?, ?it/s]\u001B[A\u001B[A\n",
      "\n",
      "100%|██████████| 1/1 [00:24<00:00, 24.47s/it]\u001B[A\u001B[A\n",
      "\n",
      "\n",
      "  0%|          | 0/1 [00:00<?, ?it/s]\u001B[A\u001B[A\n",
      "\n",
      "100%|██████████| 1/1 [00:24<00:00, 24.71s/it]\u001B[A\u001B[A\n",
      "\n",
      "\n",
      "  0%|          | 0/1 [00:00<?, ?it/s]\u001B[A\u001B[A\n",
      "\n",
      "100%|██████████| 1/1 [00:24<00:00, 24.12s/it]\u001B[A\u001B[A\n",
      "\n",
      "\n",
      "  0%|          | 0/1 [00:00<?, ?it/s]\u001B[A\u001B[A\n",
      "\n",
      "100%|██████████| 1/1 [00:24<00:00, 24.21s/it]\u001B[A\u001B[A\n",
      "\n",
      "\n",
      "  0%|          | 0/1 [00:00<?, ?it/s]\u001B[A\u001B[A\n",
      "\n",
      "100%|██████████| 1/1 [00:24<00:00, 24.73s/it]\u001B[A\u001B[A\n",
      "\n",
      "\n",
      "  0%|          | 0/1 [00:00<?, ?it/s]\u001B[A\u001B[A\n",
      "\n",
      "100%|██████████| 1/1 [00:24<00:00, 24.51s/it]\u001B[A\u001B[A\n",
      "\n",
      "\n",
      "  0%|          | 0/1 [00:00<?, ?it/s]\u001B[A\u001B[A\n",
      "\n",
      "100%|██████████| 1/1 [00:24<00:00, 24.11s/it]\u001B[A\u001B[A\n",
      "\n",
      "\n",
      "  0%|          | 0/1 [00:00<?, ?it/s]\u001B[A\u001B[A\n",
      "\n",
      "100%|██████████| 1/1 [00:24<00:00, 24.68s/it]\u001B[A\u001B[A\n",
      "\n",
      "\n",
      "  0%|          | 0/1 [00:00<?, ?it/s]\u001B[A\u001B[A\n",
      "\n",
      "100%|██████████| 1/1 [00:23<00:00, 23.97s/it]\u001B[A\u001B[A\n",
      "\n",
      "\n",
      "  0%|          | 0/1 [00:00<?, ?it/s]\u001B[A\u001B[A\n",
      "\n",
      "100%|██████████| 1/1 [00:23<00:00, 23.88s/it]\u001B[A\u001B[A\n",
      "\n",
      "\n",
      "  0%|          | 0/1 [00:00<?, ?it/s]\u001B[A\u001B[A\n",
      "\n",
      "100%|██████████| 1/1 [00:24<00:00, 24.29s/it]\u001B[A\u001B[A\n",
      "\n",
      "\n",
      "  0%|          | 0/1 [00:00<?, ?it/s]\u001B[A\u001B[A\n",
      "\n",
      "100%|██████████| 1/1 [00:24<00:00, 24.36s/it]\u001B[A\u001B[A\n",
      "\n",
      "\n",
      "  0%|          | 0/1 [00:00<?, ?it/s]\u001B[A\u001B[A\n",
      "\n",
      "100%|██████████| 1/1 [00:24<00:00, 24.45s/it]\u001B[A\u001B[A\n",
      "\n",
      "\n",
      "  0%|          | 0/1 [00:00<?, ?it/s]\u001B[A\u001B[A\n",
      "\n",
      "100%|██████████| 1/1 [00:24<00:00, 24.38s/it]\u001B[A\u001B[A\n",
      "\n",
      "\n",
      "  0%|          | 0/1 [00:00<?, ?it/s]\u001B[A\u001B[A\n",
      "\n",
      "100%|██████████| 1/1 [00:24<00:00, 24.21s/it]\u001B[A\u001B[A\n"
     ]
    }
   ],
   "source": [
    "if 'binned_features_study5-morphineformalin.pkl' not in os.listdir('../processed_dataset/'):\n",
    "    features = {key: [] for key in groups_study6}\n",
    "    for group in notebook.tqdm(groups_study6):\n",
    "        features[group] = {key: [] for key in conditions_study6}\n",
    "        for condition in notebook.tqdm(conditions_study6):\n",
    "            features[group][condition] = {key: [] for key in [f'file{i}' \n",
    "                                               for i in range(len(data[group][condition]))]}\n",
    "\n",
    "            for i in range(len(data[group][condition])):\n",
    "                features[group][condition][f'file{i}'] = (\n",
    "                    feature_extraction([data[group][condition][f'file{i}']], 1, framerate=60))\n",
    "else:\n",
    "    features = load_features('../processed_dataset/binned_features_study5-morphineformalin.pkl')"
   ]
  },
  {
   "cell_type": "code",
   "execution_count": 7,
   "id": "28740015145c9f91",
   "metadata": {
    "collapsed": false,
    "ExecuteTime": {
     "end_time": "2024-03-02T02:39:20.382761Z",
     "start_time": "2024-03-02T02:39:17.830091Z"
    }
   },
   "outputs": [],
   "source": [
    "if 'binned_features_study5-morphineformalin.pkl' not in os.listdir('../processed_dataset/'):\n",
    "    with open('../processed_dataset/binned_features_study5-morphineformalin.pkl', 'wb') as f:\n",
    "        pickle.dump(features, f)\n",
    "else:\n",
    "    print('Binned features exists!')"
   ]
  },
  {
   "cell_type": "code",
   "outputs": [],
   "source": [
    "features = load_features('../processed_dataset/binned_features_study5-morphineformalin.pkl')"
   ],
   "metadata": {
    "collapsed": false,
    "ExecuteTime": {
     "end_time": "2024-03-02T02:39:25.347488Z",
     "start_time": "2024-03-02T02:39:23.990275Z"
    }
   },
   "id": "37421eb194224ce3",
   "execution_count": 8
  },
  {
   "cell_type": "code",
   "outputs": [
    {
     "data": {
      "text/plain": "array([[14.41767374, 39.40930425,  9.42155693, ...,  6.57926535,\n        13.94485122, 12.34877797],\n       [11.646537  , 47.93602322, 63.91458191, ...,  9.91774582,\n        11.44491824, 11.43945347],\n       [ 9.67032454, 49.22709341, 75.00559326, ..., 10.38533311,\n        11.4418528 ,  9.01039207],\n       ...,\n       [ 6.58752868, 35.42833007, 28.21834482, ..., 17.52606538,\n        18.81714818, 14.446739  ],\n       [ 5.42775729, 49.94215955, 44.89687871, ..., 71.65390627,\n        20.19274168, 25.80179222],\n       [ 0.        ,  0.        ,  0.        , ...,  0.        ,\n         0.        ,  0.        ]])"
     },
     "execution_count": 9,
     "metadata": {},
     "output_type": "execute_result"
    }
   ],
   "source": [
    "features['Combined']['Control']['file0'][0]"
   ],
   "metadata": {
    "collapsed": false,
    "ExecuteTime": {
     "end_time": "2024-03-02T02:39:26.318577Z",
     "start_time": "2024-03-02T02:39:26.314287Z"
    }
   },
   "id": "1fb65dfa37e7fdaf",
   "execution_count": 9
  },
  {
   "cell_type": "code",
   "outputs": [],
   "source": [],
   "metadata": {
    "collapsed": false
   },
   "id": "37f989bbaa82d993"
  }
 ],
 "metadata": {
  "kernelspec": {
   "display_name": "Python 3 (ipykernel)",
   "language": "python",
   "name": "python3"
  },
  "language_info": {
   "codemirror_mode": {
    "name": "ipython",
    "version": 3
   },
   "file_extension": ".py",
   "mimetype": "text/x-python",
   "name": "python",
   "nbconvert_exporter": "python",
   "pygments_lexer": "ipython3",
   "version": "3.11.0"
  }
 },
 "nbformat": 4,
 "nbformat_minor": 5
}
