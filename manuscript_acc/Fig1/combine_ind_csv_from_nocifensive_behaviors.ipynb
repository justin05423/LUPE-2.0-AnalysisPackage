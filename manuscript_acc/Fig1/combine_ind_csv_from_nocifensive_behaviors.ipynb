{
 "cells": [
  {
   "cell_type": "code",
   "execution_count": 1,
   "id": "initial_id",
   "metadata": {
    "collapsed": false,
    "ExecuteTime": {
     "end_time": "2024-03-02T20:39:06.478517Z",
     "start_time": "2024-03-02T20:39:05.904150Z"
    }
   },
   "outputs": [],
   "source": [
    "import matplotlib.pyplot as plt\n",
    "import numpy as np\n",
    "import pandas as pd\n",
    "import os\n",
    "import sys\n",
    "\n",
    "if not os.path.join(os.path.abspath(''), '../') in sys.path:\n",
    "    sys.path.append(os.path.join(os.path.abspath(''), '../'))\n",
    "\n",
    "from utils.classification import load_behaviors\n",
    "from utils.meta import *\n",
    "from tqdm import tqdm"
   ]
  },
  {
   "cell_type": "markdown",
   "id": "a44009166e865e08",
   "metadata": {
    "collapsed": false
   },
   "source": [
    "### load predicted behaviors from csv"
   ]
  },
  {
   "cell_type": "code",
   "outputs": [],
   "source": [
    "df1 = pd.read_csv('../csvs/fig1/Male_Group1_Condition1_allfiles_compiled.csv', index_col=0)\n",
    "df2 = pd.read_csv('../csvs/fig1/Male_Group1_Condition2_allfiles_compiled.csv', index_col=0)"
   ],
   "metadata": {
    "collapsed": false,
    "ExecuteTime": {
     "end_time": "2024-02-28T23:17:39.684954Z",
     "start_time": "2024-02-28T23:17:39.615224Z"
    }
   },
   "id": "703c12d6e43c050c",
   "execution_count": 21
  },
  {
   "cell_type": "code",
   "execution_count": 22,
   "id": "e8b81a268d7b22ef",
   "metadata": {
    "collapsed": false,
    "ExecuteTime": {
     "end_time": "2024-02-28T23:17:40.576645Z",
     "start_time": "2024-02-28T23:17:40.571143Z"
    }
   },
   "outputs": [
    {
     "data": {
      "text/plain": "   0  1  2  3  4  5  6  7  8  9\n0  2  1  2  0  1  1  1  1  1  1\n1  2  1  2  0  1  1  1  1  1  1\n2  2  1  2  0  1  1  1  1  1  1\n3  2  1  2  0  1  1  1  1  1  1\n4  2  1  2  0  1  1  1  1  1  1",
      "text/html": "<div>\n<style scoped>\n    .dataframe tbody tr th:only-of-type {\n        vertical-align: middle;\n    }\n\n    .dataframe tbody tr th {\n        vertical-align: top;\n    }\n\n    .dataframe thead th {\n        text-align: right;\n    }\n</style>\n<table border=\"1\" class=\"dataframe\">\n  <thead>\n    <tr style=\"text-align: right;\">\n      <th></th>\n      <th>0</th>\n      <th>1</th>\n      <th>2</th>\n      <th>3</th>\n      <th>4</th>\n      <th>5</th>\n      <th>6</th>\n      <th>7</th>\n      <th>8</th>\n      <th>9</th>\n    </tr>\n  </thead>\n  <tbody>\n    <tr>\n      <th>0</th>\n      <td>2</td>\n      <td>1</td>\n      <td>2</td>\n      <td>0</td>\n      <td>1</td>\n      <td>1</td>\n      <td>1</td>\n      <td>1</td>\n      <td>1</td>\n      <td>1</td>\n    </tr>\n    <tr>\n      <th>1</th>\n      <td>2</td>\n      <td>1</td>\n      <td>2</td>\n      <td>0</td>\n      <td>1</td>\n      <td>1</td>\n      <td>1</td>\n      <td>1</td>\n      <td>1</td>\n      <td>1</td>\n    </tr>\n    <tr>\n      <th>2</th>\n      <td>2</td>\n      <td>1</td>\n      <td>2</td>\n      <td>0</td>\n      <td>1</td>\n      <td>1</td>\n      <td>1</td>\n      <td>1</td>\n      <td>1</td>\n      <td>1</td>\n    </tr>\n    <tr>\n      <th>3</th>\n      <td>2</td>\n      <td>1</td>\n      <td>2</td>\n      <td>0</td>\n      <td>1</td>\n      <td>1</td>\n      <td>1</td>\n      <td>1</td>\n      <td>1</td>\n      <td>1</td>\n    </tr>\n    <tr>\n      <th>4</th>\n      <td>2</td>\n      <td>1</td>\n      <td>2</td>\n      <td>0</td>\n      <td>1</td>\n      <td>1</td>\n      <td>1</td>\n      <td>1</td>\n      <td>1</td>\n      <td>1</td>\n    </tr>\n  </tbody>\n</table>\n</div>"
     },
     "execution_count": 22,
     "metadata": {},
     "output_type": "execute_result"
    }
   ],
   "source": [
    "df1.head()"
   ]
  },
  {
   "cell_type": "code",
   "outputs": [
    {
     "data": {
      "text/plain": "   0  1  2  3  4  5  6  7  8  9\n0  0  2  1  1  5  5  1  5  5  5\n1  0  2  1  1  5  5  1  5  5  5\n2  0  2  1  1  5  5  1  5  5  5\n3  0  2  1  1  5  5  1  5  5  5\n4  0  2  1  1  5  5  1  5  5  5",
      "text/html": "<div>\n<style scoped>\n    .dataframe tbody tr th:only-of-type {\n        vertical-align: middle;\n    }\n\n    .dataframe tbody tr th {\n        vertical-align: top;\n    }\n\n    .dataframe thead th {\n        text-align: right;\n    }\n</style>\n<table border=\"1\" class=\"dataframe\">\n  <thead>\n    <tr style=\"text-align: right;\">\n      <th></th>\n      <th>0</th>\n      <th>1</th>\n      <th>2</th>\n      <th>3</th>\n      <th>4</th>\n      <th>5</th>\n      <th>6</th>\n      <th>7</th>\n      <th>8</th>\n      <th>9</th>\n    </tr>\n  </thead>\n  <tbody>\n    <tr>\n      <th>0</th>\n      <td>0</td>\n      <td>2</td>\n      <td>1</td>\n      <td>1</td>\n      <td>5</td>\n      <td>5</td>\n      <td>1</td>\n      <td>5</td>\n      <td>5</td>\n      <td>5</td>\n    </tr>\n    <tr>\n      <th>1</th>\n      <td>0</td>\n      <td>2</td>\n      <td>1</td>\n      <td>1</td>\n      <td>5</td>\n      <td>5</td>\n      <td>1</td>\n      <td>5</td>\n      <td>5</td>\n      <td>5</td>\n    </tr>\n    <tr>\n      <th>2</th>\n      <td>0</td>\n      <td>2</td>\n      <td>1</td>\n      <td>1</td>\n      <td>5</td>\n      <td>5</td>\n      <td>1</td>\n      <td>5</td>\n      <td>5</td>\n      <td>5</td>\n    </tr>\n    <tr>\n      <th>3</th>\n      <td>0</td>\n      <td>2</td>\n      <td>1</td>\n      <td>1</td>\n      <td>5</td>\n      <td>5</td>\n      <td>1</td>\n      <td>5</td>\n      <td>5</td>\n      <td>5</td>\n    </tr>\n    <tr>\n      <th>4</th>\n      <td>0</td>\n      <td>2</td>\n      <td>1</td>\n      <td>1</td>\n      <td>5</td>\n      <td>5</td>\n      <td>1</td>\n      <td>5</td>\n      <td>5</td>\n      <td>5</td>\n    </tr>\n  </tbody>\n</table>\n</div>"
     },
     "execution_count": 23,
     "metadata": {},
     "output_type": "execute_result"
    }
   ],
   "source": [
    "df2.head()"
   ],
   "metadata": {
    "collapsed": false,
    "ExecuteTime": {
     "end_time": "2024-02-28T23:17:41.184304Z",
     "start_time": "2024-02-28T23:17:41.179261Z"
    }
   },
   "id": "8605d79bb7a0a0bd",
   "execution_count": 23
  },
  {
   "cell_type": "code",
   "outputs": [],
   "source": [
    "from scipy.stats import ranksums"
   ],
   "metadata": {
    "collapsed": false,
    "ExecuteTime": {
     "end_time": "2024-02-28T23:17:46.190672Z",
     "start_time": "2024-02-28T23:17:46.188683Z"
    }
   },
   "id": "84ade85c7b15977b",
   "execution_count": 24
  },
  {
   "cell_type": "code",
   "outputs": [
    {
     "data": {
      "text/plain": "RanksumsResult(statistic=array([ 57.26799743,  12.01188899, -11.55412628,  30.02411106,\n       102.41037273, -41.75735503,  61.34826815,  17.74977819,\n        56.97548323,   6.53679812]), pvalue=array([0.00000000e+000, 3.07734338e-033, 7.03594104e-031, 4.75562183e-198,\n       0.00000000e+000, 0.00000000e+000, 0.00000000e+000, 1.73036085e-070,\n       0.00000000e+000, 6.28497938e-011]))"
     },
     "execution_count": 31,
     "metadata": {},
     "output_type": "execute_result"
    }
   ],
   "source": [
    "ranksums(df1, df2)"
   ],
   "metadata": {
    "collapsed": false,
    "ExecuteTime": {
     "end_time": "2024-02-28T23:19:21.020313Z",
     "start_time": "2024-02-28T23:19:20.973163Z"
    }
   },
   "id": "e01eb6bc0864f4ea",
   "execution_count": 31
  },
  {
   "cell_type": "code",
   "outputs": [
    {
     "data": {
      "text/plain": "((1124990,), (1124990,))"
     },
     "execution_count": 27,
     "metadata": {},
     "output_type": "execute_result"
    }
   ],
   "source": [
    "data1 = np.reshape(df1, (-1, ))\n",
    "data2 = np.reshape(df2, (-1, ))\n",
    "data1.shape, data2.shape"
   ],
   "metadata": {
    "collapsed": false,
    "ExecuteTime": {
     "end_time": "2024-02-28T23:17:56.388932Z",
     "start_time": "2024-02-28T23:17:56.384098Z"
    }
   },
   "id": "da8ef03c69ee74b0",
   "execution_count": 27
  },
  {
   "cell_type": "code",
   "outputs": [
    {
     "data": {
      "text/plain": "RanksumsResult(statistic=85.77638854293394, pvalue=0.0)"
     },
     "execution_count": 29,
     "metadata": {},
     "output_type": "execute_result"
    }
   ],
   "source": [
    "ranksums(data1, data2)"
   ],
   "metadata": {
    "collapsed": false,
    "ExecuteTime": {
     "end_time": "2024-02-28T23:18:31.313299Z",
     "start_time": "2024-02-28T23:18:31.227107Z"
    }
   },
   "id": "3641181ccf2322c9",
   "execution_count": 29
  },
  {
   "cell_type": "code",
   "outputs": [
    {
     "data": {
      "text/plain": "(array([282923, 382844, 337881, 117460,   2934,    948]),\n array([406882, 316039, 197985, 180234,   4542,  19308]))"
     },
     "execution_count": 30,
     "metadata": {},
     "output_type": "execute_result"
    }
   ],
   "source": [
    "data_counts1 = np.unique(data1, return_counts=True)[1]\n",
    "data_counts2 = np.unique(data2, return_counts=True)[1]\n",
    "data_counts1, data_counts2"
   ],
   "metadata": {
    "collapsed": false,
    "ExecuteTime": {
     "end_time": "2024-02-28T23:18:35.685251Z",
     "start_time": "2024-02-28T23:18:35.639039Z"
    }
   },
   "id": "cc41fbca271bde57",
   "execution_count": 30
  },
  {
   "cell_type": "code",
   "outputs": [
    {
     "data": {
      "text/plain": "array([[2],\n       [1],\n       [2],\n       ...,\n       [3],\n       [1],\n       [1]])"
     },
     "execution_count": 17,
     "metadata": {},
     "output_type": "execute_result"
    }
   ],
   "source": [
    "data1"
   ],
   "metadata": {
    "collapsed": false,
    "ExecuteTime": {
     "end_time": "2024-02-28T23:14:48.670728Z",
     "start_time": "2024-02-28T23:14:48.667303Z"
    }
   },
   "id": "6bc69e52ee3549b3",
   "execution_count": 17
  },
  {
   "cell_type": "code",
   "outputs": [
    {
     "data": {
      "text/plain": "(array([0, 1, 2, 3, 5]), array([28380, 35826, 33126, 14802,   366]))"
     },
     "execution_count": 5,
     "metadata": {},
     "output_type": "execute_result"
    }
   ],
   "source": [
    "np.unique(behaviors['Male']['Group1']['Condition1']['file1'], return_counts=True)"
   ],
   "metadata": {
    "collapsed": false,
    "ExecuteTime": {
     "end_time": "2024-02-28T22:09:22.482261Z",
     "start_time": "2024-02-28T22:09:22.476726Z"
    }
   },
   "id": "ade3759dbb670721",
   "execution_count": 5
  },
  {
   "cell_type": "markdown",
   "source": [
    "## STATS"
   ],
   "metadata": {
    "collapsed": false
   },
   "id": "88bc7d1dca878e42"
  },
  {
   "cell_type": "markdown",
   "source": [
    "#### counts"
   ],
   "metadata": {
    "collapsed": false
   },
   "id": "cd506041116c710e"
  },
  {
   "cell_type": "code",
   "outputs": [],
   "source": [],
   "metadata": {
    "collapsed": false
   },
   "id": "28c517a44f081b4e"
  },
  {
   "cell_type": "code",
   "outputs": [
    {
     "data": {
      "text/plain": "(['Male', 'Female'],\n ['Group1', 'Group2', 'Group3', 'Group4', 'Group5', 'Group6', 'Group7'],\n ['Condition1', 'Condition2', 'Condition3'],\n 'Condition3A')"
     },
     "execution_count": 33,
     "metadata": {},
     "output_type": "execute_result"
    }
   ],
   "source": [
    "sexes, groups, conditions, conditions_extra[0]"
   ],
   "metadata": {
    "collapsed": false,
    "ExecuteTime": {
     "end_time": "2024-02-28T22:41:15.281908Z",
     "start_time": "2024-02-28T22:41:15.278377Z"
    }
   },
   "id": "e60658bd6fb71f8",
   "execution_count": 33
  },
  {
   "cell_type": "code",
   "outputs": [
    {
     "name": "stderr",
     "output_type": "stream",
     "text": [
      "  0%|          | 0/7 [00:00<?, ?it/s]\n"
     ]
    },
    {
     "ename": "NameError",
     "evalue": "name 'behaviors' is not defined",
     "output_type": "error",
     "traceback": [
      "\u001B[0;31m---------------------------------------------------------------------------\u001B[0m",
      "\u001B[0;31mNameError\u001B[0m                                 Traceback (most recent call last)",
      "Cell \u001B[0;32mIn[2], line 26\u001B[0m\n\u001B[1;32m     22\u001B[0m \u001B[38;5;28;01melse\u001B[39;00m:\n\u001B[1;32m     23\u001B[0m     \u001B[38;5;28;01mfor\u001B[39;00m condition \u001B[38;5;129;01min\u001B[39;00m conditions:\n\u001B[1;32m     24\u001B[0m         \u001B[38;5;66;03m# frame discrepancy so find minimum\u001B[39;00m\n\u001B[1;32m     25\u001B[0m         min_frames \u001B[38;5;241m=\u001B[39m np\u001B[38;5;241m.\u001B[39mmin([\u001B[38;5;28mlen\u001B[39m(behaviors[sex][group][condition][\u001B[38;5;124mf\u001B[39m\u001B[38;5;124m'\u001B[39m\u001B[38;5;124mfile\u001B[39m\u001B[38;5;132;01m{\u001B[39;00mi\u001B[38;5;132;01m}\u001B[39;00m\u001B[38;5;124m'\u001B[39m]) \n\u001B[0;32m---> 26\u001B[0m                              \u001B[38;5;28;01mfor\u001B[39;00m i \u001B[38;5;129;01min\u001B[39;00m \u001B[38;5;28mrange\u001B[39m(\u001B[38;5;28mlen\u001B[39m(\u001B[43mbehaviors\u001B[49m[sex][group][condition]))])\n\u001B[1;32m     27\u001B[0m         df_example \u001B[38;5;241m=\u001B[39m pd\u001B[38;5;241m.\u001B[39mDataFrame([behaviors[\u001B[38;5;124m'\u001B[39m\u001B[38;5;124mMale\u001B[39m\u001B[38;5;124m'\u001B[39m][\u001B[38;5;124m'\u001B[39m\u001B[38;5;124mGroup1\u001B[39m\u001B[38;5;124m'\u001B[39m][\u001B[38;5;124m'\u001B[39m\u001B[38;5;124mCondition1\u001B[39m\u001B[38;5;124m'\u001B[39m][\u001B[38;5;124mf\u001B[39m\u001B[38;5;124m'\u001B[39m\u001B[38;5;124mfile\u001B[39m\u001B[38;5;132;01m{\u001B[39;00mi\u001B[38;5;132;01m}\u001B[39;00m\u001B[38;5;124m'\u001B[39m][:min_frames] \n\u001B[1;32m     28\u001B[0m                                    \u001B[38;5;28;01mfor\u001B[39;00m i \u001B[38;5;129;01min\u001B[39;00m \u001B[38;5;28mrange\u001B[39m(\u001B[38;5;28mlen\u001B[39m(behaviors[\u001B[38;5;124m'\u001B[39m\u001B[38;5;124mMale\u001B[39m\u001B[38;5;124m'\u001B[39m][\u001B[38;5;124m'\u001B[39m\u001B[38;5;124mGroup1\u001B[39m\u001B[38;5;124m'\u001B[39m][\u001B[38;5;124m'\u001B[39m\u001B[38;5;124mCondition1\u001B[39m\u001B[38;5;124m'\u001B[39m]))])\u001B[38;5;241m.\u001B[39mT\n\u001B[1;32m     29\u001B[0m         os\u001B[38;5;241m.\u001B[39mmakedirs(\u001B[38;5;124mf\u001B[39m\u001B[38;5;124m'\u001B[39m\u001B[38;5;124m../csvs/\u001B[39m\u001B[38;5;132;01m{\u001B[39;00mfigure_num\u001B[38;5;132;01m}\u001B[39;00m\u001B[38;5;124m'\u001B[39m, exist_ok\u001B[38;5;241m=\u001B[39m\u001B[38;5;28;01mTrue\u001B[39;00m)\n",
      "\u001B[0;31mNameError\u001B[0m: name 'behaviors' is not defined"
     ]
    }
   ],
   "source": [
    "figure_num = 'fig1'\n",
    "for sex in sexes:\n",
    "    for group in tqdm(groups):\n",
    "        if group == 'Group6':\n",
    "            for condition in [conditions_extra[0]]:\n",
    "                # frame discrepancy so find minimum\n",
    "                min_frames = np.min([len(behaviors[sex][group][condition][f'file{i}']) \n",
    "                                     for i in range(len(behaviors[sex][group][condition]))])\n",
    "                df_example = pd.DataFrame([behaviors['Male']['Group1']['Condition1'][f'file{i}'][:min_frames] \n",
    "                                           for i in range(len(behaviors['Male']['Group1']['Condition1']))]).T\n",
    "                os.makedirs(f'../csvs/{figure_num}', exist_ok=True)\n",
    "                df_example.to_csv(f'../csvs/{figure_num}/{sex}_{group}_{condition}_allfiles_compiled.csv')\n",
    "        elif group == 'Group7':\n",
    "            for condition in [conditions_extra[1]]:\n",
    "                # frame discrepancy so find minimum\n",
    "                min_frames = np.min([len(behaviors[sex][group][condition][f'file{i}']) \n",
    "                                     for i in range(len(behaviors[sex][group][condition]))])\n",
    "                df_example = pd.DataFrame([behaviors['Male']['Group1']['Condition1'][f'file{i}'][:min_frames] \n",
    "                                           for i in range(len(behaviors['Male']['Group1']['Condition1']))]).T\n",
    "                os.makedirs(f'../csvs/{figure_num}', exist_ok=True)\n",
    "                df_example.to_csv(f'../csvs/{figure_num}/{sex}_{group}_{condition}_allfiles_compiled.csv')\n",
    "        else:\n",
    "            for condition in conditions:\n",
    "                # frame discrepancy so find minimum\n",
    "                min_frames = np.min([len(behaviors[sex][group][condition][f'file{i}']) \n",
    "                                     for i in range(len(behaviors[sex][group][condition]))])\n",
    "                df_example = pd.DataFrame([behaviors['Male']['Group1']['Condition1'][f'file{i}'][:min_frames] \n",
    "                                           for i in range(len(behaviors['Male']['Group1']['Condition1']))]).T\n",
    "                os.makedirs(f'../csvs/{figure_num}', exist_ok=True)\n",
    "                df_example.to_csv(f'../csvs/{figure_num}/{sex}_{group}_{condition}_allfiles_compiled.csv')\n",
    "            "
   ],
   "metadata": {
    "collapsed": false,
    "ExecuteTime": {
     "end_time": "2024-03-02T21:12:17.996834Z",
     "start_time": "2024-03-02T21:12:17.835505Z"
    }
   },
   "id": "4a818d8ceba7c63d",
   "execution_count": 2
  },
  {
   "cell_type": "code",
   "outputs": [],
   "source": [],
   "metadata": {
    "collapsed": false
   },
   "id": "8f47b7e59b9f145"
  }
 ],
 "metadata": {
  "kernelspec": {
   "display_name": "Python 3 (ipykernel)",
   "language": "python",
   "name": "python3"
  },
  "language_info": {
   "codemirror_mode": {
    "name": "ipython",
    "version": 3
   },
   "file_extension": ".py",
   "mimetype": "text/x-python",
   "name": "python",
   "nbconvert_exporter": "python",
   "pygments_lexer": "ipython3",
   "version": "3.11.0"
  }
 },
 "nbformat": 4,
 "nbformat_minor": 5
}
