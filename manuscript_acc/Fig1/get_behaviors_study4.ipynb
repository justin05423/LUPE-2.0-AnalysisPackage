{
 "cells": [
  {
   "cell_type": "code",
   "execution_count": 3,
   "id": "initial_id",
   "metadata": {
    "collapsed": false,
    "ExecuteTime": {
     "end_time": "2024-02-29T18:45:59.496718Z",
     "start_time": "2024-02-29T18:45:59.372689Z"
    }
   },
   "outputs": [],
   "source": [
    "import matplotlib.pyplot as plt\n",
    "import numpy as np\n",
    "import seaborn as sns\n",
    "from matplotlib.colors import ListedColormap\n",
    "import os\n",
    "import sys\n",
    "\n",
    "if not os.path.join(os.path.abspath(''), '../') in sys.path:\n",
    "    sys.path.append(os.path.join(os.path.abspath(''), '../'))\n",
    "    \n",
    "from utils.classification import load_model, load_features, load_data, weighted_smoothing, load_behaviors\n",
    "from utils.meta import *\n",
    "from tqdm import notebook\n",
    "import pickle\n",
    "import os\n",
    "import pandas as pd"
   ]
  },
  {
   "cell_type": "markdown",
   "id": "a44009166e865e08",
   "metadata": {
    "collapsed": false
   },
   "source": [
    "### load model, preprocessed pose (filter out low likelihood), and binned features (smoothed distances, speed, angle etc)"
   ]
  },
  {
   "cell_type": "code",
   "execution_count": 4,
   "id": "c1ca9fb2a33975a1",
   "metadata": {
    "collapsed": false,
    "ExecuteTime": {
     "end_time": "2024-02-29T18:46:01.986754Z",
     "start_time": "2024-02-29T18:46:00.538084Z"
    }
   },
   "outputs": [],
   "source": [
    "model_path = '../model/model.pkl'\n",
    "model = load_model(model_path)\n",
    "data_path = '../processed_dataset/raw_data_study4.pkl'\n",
    "poses = load_data(data_path)\n",
    "features_path = '../processed_dataset/binned_features_study4.pkl'\n",
    "features = load_features(features_path)"
   ]
  },
  {
   "cell_type": "code",
   "outputs": [
    {
     "ename": "NameError",
     "evalue": "name 'g' is not defined",
     "output_type": "error",
     "traceback": [
      "\u001B[0;31m---------------------------------------------------------------------------\u001B[0m",
      "\u001B[0;31mNameError\u001B[0m                                 Traceback (most recent call last)",
      "Cell \u001B[0;32mIn[5], line 1\u001B[0m\n\u001B[0;32m----> 1\u001B[0m poses[\u001B[43mg\u001B[49m]\n",
      "\u001B[0;31mNameError\u001B[0m: name 'g' is not defined"
     ]
    }
   ],
   "source": [
    "poses[g]"
   ],
   "metadata": {
    "collapsed": false,
    "ExecuteTime": {
     "end_time": "2024-02-29T18:46:03.185233Z",
     "start_time": "2024-02-29T18:46:03.153831Z"
    }
   },
   "id": "23cdcd631d19bbde",
   "execution_count": 5
  },
  {
   "cell_type": "markdown",
   "id": "e618599488c49c2b",
   "metadata": {
    "collapsed": false
   },
   "source": [
    "### predict behaviors based on features"
   ]
  },
  {
   "cell_type": "code",
   "execution_count": 3,
   "id": "e8b81a268d7b22ef",
   "metadata": {
    "collapsed": false,
    "ExecuteTime": {
     "end_time": "2024-02-18T21:15:36.731797Z",
     "start_time": "2024-02-18T21:15:33.678835Z"
    }
   },
   "outputs": [
    {
     "data": {
      "text/plain": "  0%|          | 0/3 [00:00<?, ?it/s]",
      "application/vnd.jupyter.widget-view+json": {
       "version_major": 2,
       "version_minor": 0,
       "model_id": "ab44d0b65caf45f786949659e9882404"
      }
     },
     "metadata": {},
     "output_type": "display_data"
    },
    {
     "data": {
      "text/plain": "  0%|          | 0/2 [00:00<?, ?it/s]",
      "application/vnd.jupyter.widget-view+json": {
       "version_major": 2,
       "version_minor": 0,
       "model_id": "8b8ec05dde9d4cfd88f14044aa468af6"
      }
     },
     "metadata": {},
     "output_type": "display_data"
    },
    {
     "data": {
      "text/plain": "  0%|          | 0/2 [00:00<?, ?it/s]",
      "application/vnd.jupyter.widget-view+json": {
       "version_major": 2,
       "version_minor": 0,
       "model_id": "46f09c2683e5441b87f0a5f19ba8c557"
      }
     },
     "metadata": {},
     "output_type": "display_data"
    },
    {
     "data": {
      "text/plain": "  0%|          | 0/2 [00:00<?, ?it/s]",
      "application/vnd.jupyter.widget-view+json": {
       "version_major": 2,
       "version_minor": 0,
       "model_id": "b457e441fd2d4119a19dd99a50481cf0"
      }
     },
     "metadata": {},
     "output_type": "display_data"
    }
   ],
   "source": [
    "repeat_n = 6\n",
    "if 'behaviors_study4.pkl' not in os.listdir('../processed_dataset/'):\n",
    "    behaviors = {key: [] for key in groups_study4}\n",
    "    for group in notebook.tqdm(groups_study4):\n",
    "        behaviors[group] = {key: [] for key in conditions_study4}\n",
    "        for condition in notebook.tqdm(conditions_study4):\n",
    "            behaviors[group][condition] = {key: [] for key in [f'file{i}' \n",
    "                                               for i in range(len(poses[group][condition]))]}\n",
    "    \n",
    "            for i in range(len(poses[group][condition])):\n",
    "                total_n_frames = poses[group][condition][f'file{i}'].shape[0]\n",
    "                # predict downsampled features\n",
    "                predict_ds = model.predict(features[group][condition][f'file{i}'][0])\n",
    "                # upsample by duplicating\n",
    "                predictions = np.pad(predict_ds.repeat(repeat_n), (repeat_n, 0), 'edge')[:total_n_frames]\n",
    "                # smooth with minimum 12 frames (200ms)\n",
    "                behaviors[group][condition][f'file{i}'] = weighted_smoothing(predictions, size=12)\n",
    "else:\n",
    "    behaviors = load_behaviors('../processed_dataset/behaviors_study4.pkl')"
   ]
  },
  {
   "cell_type": "code",
   "execution_count": 4,
   "id": "d29398ed449e8fd3",
   "metadata": {
    "collapsed": false,
    "ExecuteTime": {
     "end_time": "2024-02-18T21:15:45.270131Z",
     "start_time": "2024-02-18T21:15:45.243742Z"
    }
   },
   "outputs": [],
   "source": [
    "if 'behaviors_study4.pkl' not in os.listdir('../processed_dataset/'):\n",
    "    with open('../processed_dataset/behaviors_study4.pkl', 'wb') as f:\n",
    "        pickle.dump(behaviors, f)\n",
    "else:\n",
    "    print('Predicted behaviors exists!')"
   ]
  },
  {
   "cell_type": "code",
   "execution_count": 6,
   "id": "3801ef481f8f9a44",
   "metadata": {
    "collapsed": false,
    "ExecuteTime": {
     "end_time": "2024-02-18T21:15:56.782682Z",
     "start_time": "2024-02-18T21:15:56.775955Z"
    }
   },
   "outputs": [
    {
     "data": {
      "text/plain": "array([1, 1, 1, ..., 1, 1, 1])"
     },
     "execution_count": 6,
     "metadata": {},
     "output_type": "execute_result"
    }
   ],
   "source": [
    "behaviors['Female']['Control']['file0'][:3600] # 3600frames = 1 minute (60*60)"
   ]
  },
  {
   "cell_type": "markdown",
   "id": "54736495c6c17aa",
   "metadata": {
    "collapsed": false
   },
   "source": [
    "### quick view of example behavior distribution"
   ]
  },
  {
   "cell_type": "code",
   "execution_count": 10,
   "id": "fa49a35cbc41a1e0",
   "metadata": {
    "collapsed": false,
    "ExecuteTime": {
     "end_time": "2024-02-18T21:16:48.046391Z",
     "start_time": "2024-02-18T21:16:47.905247Z"
    }
   },
   "outputs": [
    {
     "data": {
      "text/plain": "   values             labels         colors\n0  683995            walking       darkcyan\n1   12012  licking hindpaw L  rebeccapurple\n2   42366           grooming      royalblue\n3  256541              still        crimson\n4   16722            rearing      goldenrod\n5     858  licking hindpaw_R   mediumorchid",
      "text/html": "<div>\n<style scoped>\n    .dataframe tbody tr th:only-of-type {\n        vertical-align: middle;\n    }\n\n    .dataframe tbody tr th {\n        vertical-align: top;\n    }\n\n    .dataframe thead th {\n        text-align: right;\n    }\n</style>\n<table border=\"1\" class=\"dataframe\">\n  <thead>\n    <tr style=\"text-align: right;\">\n      <th></th>\n      <th>values</th>\n      <th>labels</th>\n      <th>colors</th>\n    </tr>\n  </thead>\n  <tbody>\n    <tr>\n      <th>0</th>\n      <td>683995</td>\n      <td>walking</td>\n      <td>darkcyan</td>\n    </tr>\n    <tr>\n      <th>1</th>\n      <td>12012</td>\n      <td>licking hindpaw L</td>\n      <td>rebeccapurple</td>\n    </tr>\n    <tr>\n      <th>2</th>\n      <td>42366</td>\n      <td>grooming</td>\n      <td>royalblue</td>\n    </tr>\n    <tr>\n      <th>3</th>\n      <td>256541</td>\n      <td>still</td>\n      <td>crimson</td>\n    </tr>\n    <tr>\n      <th>4</th>\n      <td>16722</td>\n      <td>rearing</td>\n      <td>goldenrod</td>\n    </tr>\n    <tr>\n      <th>5</th>\n      <td>858</td>\n      <td>licking hindpaw_R</td>\n      <td>mediumorchid</td>\n    </tr>\n  </tbody>\n</table>\n</div>"
     },
     "execution_count": 10,
     "metadata": {},
     "output_type": "execute_result"
    }
   ],
   "source": [
    "\n",
    "selected_group = groups_study4[2]\n",
    "selected_condition = 'Experimental'\n",
    "\n",
    "predict_dict = {'condition': np.repeat(selected_condition, \n",
    "                                       len(np.hstack([behaviors[selected_group][selected_condition][f'file{i}'] \n",
    "                                                      for i in range(len(behaviors[selected_group][selected_condition]))]))),\n",
    "                'behavior': np.hstack([behaviors[selected_group][selected_condition][f'file{i}'] \n",
    "                                       for i in range(len(behaviors[selected_group][selected_condition]))])}\n",
    "df_raw = pd.DataFrame(data=predict_dict)\n",
    "labels = df_raw['behavior'].value_counts(sort=False).index\n",
    "values = df_raw['behavior'].value_counts(sort=False).values\n",
    "# summary dataframe\n",
    "df = pd.DataFrame()\n",
    "behavior_labels = []\n",
    "for l in labels:\n",
    "    behavior_labels.append(behavior_names[int(l)])\n",
    "df[\"values\"] = values\n",
    "df['labels'] = behavior_labels\n",
    "df[\"colors\"] = df[\"labels\"].apply(lambda x:\n",
    "                                  behavior_colors[behavior_names.index(x)])  # to connect Column value to Color in Dict\n",
    "df"
   ]
  },
  {
   "cell_type": "code",
   "execution_count": 11,
   "id": "38ab6d096e4379b2",
   "metadata": {
    "collapsed": false,
    "ExecuteTime": {
     "end_time": "2024-02-18T21:16:50.821471Z",
     "start_time": "2024-02-18T21:16:50.773613Z"
    }
   },
   "outputs": [
    {
     "data": {
      "text/plain": "<Figure size 400x300 with 1 Axes>",
      "image/png": "[encoded data removed]"
     },
     "metadata": {},
     "output_type": "display_data"
    }
   ],
   "source": [
    "fig, ax = plt.subplots(1, 1, figsize=(4, 3))\n",
    "# Pie Chart\n",
    "ax.pie(df['values'], \n",
    "       colors=df['colors'], \n",
    "       labels=df['labels'],\n",
    "       autopct='%1.1f%%', pctdistance=0.85)\n",
    "# draw circle\n",
    "centre_circle = plt.Circle((0, 0), 0.50, fc='white')\n",
    "# Adding Circle in Pie chart\n",
    "fig.gca().add_artist(centre_circle)\n",
    "ax.set_title('Behavior distribution')\n",
    "# Displaying Chart\n",
    "plt.show()"
   ]
  },
  {
   "cell_type": "markdown",
   "id": "50d251c99413a880",
   "metadata": {
    "collapsed": false
   },
   "source": [
    "### file save, change the extension to change the file format"
   ]
  },
  {
   "cell_type": "code",
   "execution_count": 12,
   "id": "94ff64e33cc2523",
   "metadata": {
    "collapsed": false,
    "ExecuteTime": {
     "end_time": "2024-02-18T21:16:53.959812Z",
     "start_time": "2024-02-18T21:16:53.914012Z"
    }
   },
   "outputs": [],
   "source": [
    "fig.savefig(f'../figures/study4_example_distribution_'\n",
    "            f'{selected_group}_{selected_condition}.svg', \n",
    "            dpi=600, bbox_inches='tight')"
   ]
  }
 ],
 "metadata": {
  "kernelspec": {
   "display_name": "Python 3 (ipykernel)",
   "language": "python",
   "name": "python3"
  },
  "language_info": {
   "codemirror_mode": {
    "name": "ipython",
    "version": 3
   },
   "file_extension": ".py",
   "mimetype": "text/x-python",
   "name": "python",
   "nbconvert_exporter": "python",
   "pygments_lexer": "ipython3",
   "version": "3.11.0"
  }
 },
 "nbformat": 4,
 "nbformat_minor": 5
}
