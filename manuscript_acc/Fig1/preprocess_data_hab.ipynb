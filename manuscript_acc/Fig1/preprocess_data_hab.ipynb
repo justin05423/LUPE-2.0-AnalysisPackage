{
 "cells": [
  {
   "cell_type": "code",
   "execution_count": 2,
   "id": "initial_id",
   "metadata": {
    "collapsed": true,
    "jupyter": {
     "outputs_hidden": true
    },
    "ExecuteTime": {
     "end_time": "2024-01-28T16:01:44.873174Z",
     "start_time": "2024-01-28T16:01:44.867630Z"
    }
   },
   "outputs": [],
   "source": [
    "import glob\n",
    "import pickle\n",
    "import os\n",
    "import sys\n",
    "\n",
    "if not os.path.join(os.path.abspath(''), '../') in sys.path:\n",
    "    sys.path.append(os.path.join(os.path.abspath(''), '../'))\n",
    "    \n",
    "import numpy as np\n",
    "import pandas as pd\n",
    "from tqdm import notebook\n",
    "\n",
    "from utils.feature_utils import filter_pose_noise\n",
    "from utils.meta import *"
   ]
  },
  {
   "cell_type": "markdown",
   "id": "d17b457d04d8a615",
   "metadata": {
    "collapsed": false
   },
   "source": [
    "### specific to where I stored the csvs. you can change the data_root_dir"
   ]
  },
  {
   "cell_type": "code",
   "execution_count": 3,
   "id": "3df1e808aabc2617",
   "metadata": {
    "collapsed": false,
    "ExecuteTime": {
     "end_time": "2024-01-28T16:01:50.367371Z",
     "start_time": "2024-01-28T16:01:50.360508Z"
    }
   },
   "outputs": [],
   "source": [
    "data_root_dir = '/Users/alexanderhsu/Documents/ACC_Study3_Habituation'\n",
    "# sexes = ['Male', 'Female']\n",
    "# groups = ['A_Baseline_NoSNI', 'B_Baseline_SNI', 'C_3WSNI_DCZ', 'D_4WSNI_DCZ']\n",
    "\n",
    "# groups = [f'Group{i}' for i in range(1, 8)]\n",
    "\n",
    "# conditions = [f'Condition{i}' for i in range(1, 4)]\n",
    "\n",
    "# conditions_extra = ['Condition3A', 'Condition3B']"
   ]
  },
  {
   "cell_type": "markdown",
   "id": "8eb506351adbbce2",
   "metadata": {
    "collapsed": false
   },
   "source": [
    "### store all data in dictionary"
   ]
  },
  {
   "cell_type": "code",
   "execution_count": 4,
   "id": "b14a6fb460c88ae9",
   "metadata": {
    "collapsed": false,
    "ExecuteTime": {
     "end_time": "2024-01-28T16:07:43.508207Z",
     "start_time": "2024-01-28T16:02:31.468825Z"
    }
   },
   "outputs": [
    {
     "data": {
      "text/plain": "  0%|          | 0/4 [00:00<?, ?it/s]",
      "application/vnd.jupyter.widget-view+json": {
       "version_major": 2,
       "version_minor": 0,
       "model_id": "d4d36f0f410f4eb18823616d7a1bc680"
      }
     },
     "metadata": {},
     "output_type": "display_data"
    },
    {
     "data": {
      "text/plain": "  0%|          | 0/10 [00:00<?, ?it/s]",
      "application/vnd.jupyter.widget-view+json": {
       "version_major": 2,
       "version_minor": 0,
       "model_id": "7f1c1e07cef64842bb6f94eecc5941be"
      }
     },
     "metadata": {},
     "output_type": "display_data"
    },
    {
     "data": {
      "text/plain": "  0%|          | 0/10 [00:00<?, ?it/s]",
      "application/vnd.jupyter.widget-view+json": {
       "version_major": 2,
       "version_minor": 0,
       "model_id": "1b9b2a861a4943498145d3a3969d65ce"
      }
     },
     "metadata": {},
     "output_type": "display_data"
    },
    {
     "data": {
      "text/plain": "  0%|          | 0/10 [00:00<?, ?it/s]",
      "application/vnd.jupyter.widget-view+json": {
       "version_major": 2,
       "version_minor": 0,
       "model_id": "7b1ffe0a41224b3bbac6e34efe01a149"
      }
     },
     "metadata": {},
     "output_type": "display_data"
    },
    {
     "data": {
      "text/plain": "  0%|          | 0/10 [00:00<?, ?it/s]",
      "application/vnd.jupyter.widget-view+json": {
       "version_major": 2,
       "version_minor": 0,
       "model_id": "108b672be2d6417f93c82f35389d3363"
      }
     },
     "metadata": {},
     "output_type": "display_data"
    }
   ],
   "source": [
    "\n",
    "filenames = {key: [] for key in conditions_hab}\n",
    "data = {key: [] for key in conditions_hab}\n",
    "for condition in notebook.tqdm(conditions_hab):\n",
    "    \n",
    "    filenames[condition] = glob.glob(str.join('/', \n",
    "                                                          (data_root_dir,\n",
    "                                                           f'{condition}', \n",
    "                                                           '*.csv')))\n",
    "    data[condition] = {key: [] for key in [f'file{i}' \n",
    "                                                       for i in range(len(filenames[condition]))]}\n",
    "    for i, csv in enumerate(notebook.tqdm(filenames[condition])):\n",
    "        temp_df = pd.read_csv(csv, header=[0, 1, 2, 3], sep=\",\", index_col=0)\n",
    "        selected_pose_idx = np.arange(temp_df.shape[1])\n",
    "        idx_llh = selected_pose_idx[2::3]\n",
    "        # the loaded sleap file has them too, so exclude for both\n",
    "        idx_selected = [i for i in selected_pose_idx if i not in idx_llh]\n",
    "        currdf_filt, _ = filter_pose_noise(temp_df, idx_selected=idx_selected, idx_llh=idx_llh, \n",
    "                                           llh_value=0.1)\n",
    "        data[condition][f'file{i}'] = currdf_filt"
   ]
  },
  {
   "cell_type": "code",
   "execution_count": 5,
   "id": "29555bd594bb3b17",
   "metadata": {
    "collapsed": false,
    "ExecuteTime": {
     "end_time": "2024-01-28T16:07:43.527Z",
     "start_time": "2024-01-28T16:07:43.511717Z"
    }
   },
   "outputs": [
    {
     "data": {
      "text/plain": "'/Users/alexanderhsu/Documents/ACC_Study3_Habituation/HAB_D1_Male/D1_2088.3_M_L1DLC_resnet50_LUPE_MALEDec5shuffle1_350000.csv'"
     },
     "execution_count": 5,
     "metadata": {},
     "output_type": "execute_result"
    }
   ],
   "source": [
    "file_chosen = 0\n",
    "filenames['HAB_D1_Male'][file_chosen]"
   ]
  },
  {
   "cell_type": "code",
   "execution_count": 6,
   "id": "6048f08d86980d1c",
   "metadata": {
    "collapsed": false,
    "ExecuteTime": {
     "end_time": "2024-01-28T16:07:43.528215Z",
     "start_time": "2024-01-28T16:07:43.515678Z"
    }
   },
   "outputs": [
    {
     "data": {
      "text/plain": "array([[107.01745998, 224.94100642, 113.44081473, ..., 408.48378611,\n        253.00772476, 439.37444925],\n       [118.38655806, 222.60738635, 123.6037128 , ..., 405.87756538,\n        251.37290943, 438.80448771],\n       [133.61788559, 221.2691431 , 137.89443928, ..., 410.68648028,\n        252.63523054, 443.25323629],\n       ...,\n       [569.40780368, 241.35123622, 572.95037866, ..., 345.85917008,\n        596.60557652, 399.7288177 ],\n       [572.77201176, 241.89855313, 578.82263803, ..., 345.1069113 ,\n        596.89023113, 400.09208465],\n       [576.61872187, 243.81083488, 579.26020575, ..., 343.33890033,\n        597.14249849, 394.79957464]])"
     },
     "execution_count": 6,
     "metadata": {},
     "output_type": "execute_result"
    }
   ],
   "source": [
    "data['HAB_D1_Male'][f'file{file_chosen}']"
   ]
  },
  {
   "cell_type": "code",
   "execution_count": 7,
   "id": "95d2673da5545baf",
   "metadata": {
    "collapsed": false,
    "ExecuteTime": {
     "end_time": "2024-01-28T16:07:44.204925Z",
     "start_time": "2024-01-28T16:07:43.518699Z"
    }
   },
   "outputs": [],
   "source": [
    "with open('../processed_dataset/raw_data_hab.pkl', 'wb') as f:\n",
    "    pickle.dump(data, f)"
   ]
  }
 ],
 "metadata": {
  "kernelspec": {
   "display_name": "Python 3 (ipykernel)",
   "language": "python",
   "name": "python3"
  },
  "language_info": {
   "codemirror_mode": {
    "name": "ipython",
    "version": 3
   },
   "file_extension": ".py",
   "mimetype": "text/x-python",
   "name": "python",
   "nbconvert_exporter": "python",
   "pygments_lexer": "ipython3",
   "version": "3.11.0"
  }
 },
 "nbformat": 4,
 "nbformat_minor": 5
}
