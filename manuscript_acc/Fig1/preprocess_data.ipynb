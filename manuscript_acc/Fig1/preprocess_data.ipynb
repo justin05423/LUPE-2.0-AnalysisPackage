{
 "cells": [
  {
   "cell_type": "code",
   "execution_count": 1,
   "id": "initial_id",
   "metadata": {
    "collapsed": true,
    "jupyter": {
     "outputs_hidden": true
    },
    "ExecuteTime": {
     "end_time": "2024-03-10T22:57:12.831444Z",
     "start_time": "2024-03-10T22:57:12.543036Z"
    }
   },
   "outputs": [],
   "source": [
    "import glob\n",
    "import pickle\n",
    "import os\n",
    "import sys\n",
    "\n",
    "if not os.path.join(os.path.abspath(''), '../') in sys.path:\n",
    "    sys.path.append(os.path.join(os.path.abspath(''), '../'))\n",
    "    \n",
    "import numpy as np\n",
    "import pandas as pd\n",
    "from tqdm import notebook\n",
    "\n",
    "from utils.feature_utils import filter_pose_noise"
   ]
  },
  {
   "cell_type": "markdown",
   "id": "d17b457d04d8a615",
   "metadata": {
    "collapsed": false
   },
   "source": [
    "### specific to where I stored the csvs. you can change the data_root_dir"
   ]
  },
  {
   "cell_type": "code",
   "execution_count": 2,
   "id": "3df1e808aabc2617",
   "metadata": {
    "collapsed": false,
    "ExecuteTime": {
     "end_time": "2024-03-10T22:57:13.686595Z",
     "start_time": "2024-03-10T22:57:13.682472Z"
    }
   },
   "outputs": [],
   "source": [
    "data_root_dir = '/Volumes/data/lupe'\n",
    "sexes = ['Male', 'Female']\n",
    "groups = [f'Group{i}' for i in range(1, 8)]\n",
    "conditions = [f'Condition{i}' for i in range(1, 4)]\n",
    "conditions_extra = ['Condition3A', 'Condition3B']"
   ]
  },
  {
   "cell_type": "code",
   "outputs": [],
   "source": [],
   "metadata": {
    "collapsed": false
   },
   "id": "e5bd0241b4973111"
  },
  {
   "cell_type": "markdown",
   "id": "8eb506351adbbce2",
   "metadata": {
    "collapsed": false
   },
   "source": [
    "### store all data in dictionary"
   ]
  },
  {
   "cell_type": "code",
   "execution_count": 10,
   "id": "b14a6fb460c88ae9",
   "metadata": {
    "ExecuteTime": {
     "end_time": "2023-11-29T01:41:46.139948Z",
     "start_time": "2023-11-29T00:44:34.130443Z"
    },
    "collapsed": false
   },
   "outputs": [
    {
     "data": {
      "application/vnd.jupyter.widget-view+json": {
       "model_id": "f8821d4c0c6d4417887a166e386f1172",
       "version_major": 2,
       "version_minor": 0
      },
      "text/plain": [
       "  0%|          | 0/2 [00:00<?, ?it/s]"
      ]
     },
     "metadata": {},
     "output_type": "display_data"
    },
    {
     "data": {
      "application/vnd.jupyter.widget-view+json": {
       "model_id": "e13af584d9bc405aa6969dcfa427ed67",
       "version_major": 2,
       "version_minor": 0
      },
      "text/plain": [
       "  0%|          | 0/7 [00:00<?, ?it/s]"
      ]
     },
     "metadata": {},
     "output_type": "display_data"
    },
    {
     "data": {
      "application/vnd.jupyter.widget-view+json": {
       "model_id": "518bcda9c7914b5391e578c333c61333",
       "version_major": 2,
       "version_minor": 0
      },
      "text/plain": [
       "  0%|          | 0/3 [00:00<?, ?it/s]"
      ]
     },
     "metadata": {},
     "output_type": "display_data"
    },
    {
     "data": {
      "application/vnd.jupyter.widget-view+json": {
       "model_id": "efa5ea858dcb4b15bac80f198f4f9989",
       "version_major": 2,
       "version_minor": 0
      },
      "text/plain": [
       "  0%|          | 0/10 [00:00<?, ?it/s]"
      ]
     },
     "metadata": {},
     "output_type": "display_data"
    },
    {
     "data": {
      "application/vnd.jupyter.widget-view+json": {
       "model_id": "05d9655154304e8ba582ab754996e1c2",
       "version_major": 2,
       "version_minor": 0
      },
      "text/plain": [
       "  0%|          | 0/10 [00:00<?, ?it/s]"
      ]
     },
     "metadata": {},
     "output_type": "display_data"
    },
    {
     "data": {
      "application/vnd.jupyter.widget-view+json": {
       "model_id": "e6ba10d2d2b74a129c4b7b8c5fa06c02",
       "version_major": 2,
       "version_minor": 0
      },
      "text/plain": [
       "  0%|          | 0/10 [00:00<?, ?it/s]"
      ]
     },
     "metadata": {},
     "output_type": "display_data"
    },
    {
     "data": {
      "application/vnd.jupyter.widget-view+json": {
       "model_id": "c38b787843734c0288f1a1558ac5ad5f",
       "version_major": 2,
       "version_minor": 0
      },
      "text/plain": [
       "  0%|          | 0/3 [00:00<?, ?it/s]"
      ]
     },
     "metadata": {},
     "output_type": "display_data"
    },
    {
     "data": {
      "application/vnd.jupyter.widget-view+json": {
       "model_id": "3eea4f1c56c4409c9eb2218bdf2021ef",
       "version_major": 2,
       "version_minor": 0
      },
      "text/plain": [
       "  0%|          | 0/10 [00:00<?, ?it/s]"
      ]
     },
     "metadata": {},
     "output_type": "display_data"
    },
    {
     "data": {
      "application/vnd.jupyter.widget-view+json": {
       "model_id": "818e11015b4540d9a0c1cf58ee9e3606",
       "version_major": 2,
       "version_minor": 0
      },
      "text/plain": [
       "  0%|          | 0/9 [00:00<?, ?it/s]"
      ]
     },
     "metadata": {},
     "output_type": "display_data"
    },
    {
     "data": {
      "application/vnd.jupyter.widget-view+json": {
       "model_id": "0000e624f2d44ccf993020d5da077ef3",
       "version_major": 2,
       "version_minor": 0
      },
      "text/plain": [
       "  0%|          | 0/9 [00:00<?, ?it/s]"
      ]
     },
     "metadata": {},
     "output_type": "display_data"
    },
    {
     "data": {
      "application/vnd.jupyter.widget-view+json": {
       "model_id": "b8f99088c2ab420a8681d35d9a296910",
       "version_major": 2,
       "version_minor": 0
      },
      "text/plain": [
       "  0%|          | 0/3 [00:00<?, ?it/s]"
      ]
     },
     "metadata": {},
     "output_type": "display_data"
    },
    {
     "data": {
      "application/vnd.jupyter.widget-view+json": {
       "model_id": "8ed9763b066e44719a7dc6f7b11a2af5",
       "version_major": 2,
       "version_minor": 0
      },
      "text/plain": [
       "  0%|          | 0/10 [00:00<?, ?it/s]"
      ]
     },
     "metadata": {},
     "output_type": "display_data"
    },
    {
     "data": {
      "application/vnd.jupyter.widget-view+json": {
       "model_id": "0ad7c60950994b09917e63f9bac58fd8",
       "version_major": 2,
       "version_minor": 0
      },
      "text/plain": [
       "  0%|          | 0/10 [00:00<?, ?it/s]"
      ]
     },
     "metadata": {},
     "output_type": "display_data"
    },
    {
     "data": {
      "application/vnd.jupyter.widget-view+json": {
       "model_id": "32b4ae5dd0584c00918a0b0cadd1a362",
       "version_major": 2,
       "version_minor": 0
      },
      "text/plain": [
       "  0%|          | 0/10 [00:00<?, ?it/s]"
      ]
     },
     "metadata": {},
     "output_type": "display_data"
    },
    {
     "data": {
      "application/vnd.jupyter.widget-view+json": {
       "model_id": "d5c1c261c897482f9b2931a6da9b0dca",
       "version_major": 2,
       "version_minor": 0
      },
      "text/plain": [
       "  0%|          | 0/3 [00:00<?, ?it/s]"
      ]
     },
     "metadata": {},
     "output_type": "display_data"
    },
    {
     "data": {
      "application/vnd.jupyter.widget-view+json": {
       "model_id": "79fa68ffc0c94291aa8981d1489c9bf7",
       "version_major": 2,
       "version_minor": 0
      },
      "text/plain": [
       "  0%|          | 0/10 [00:00<?, ?it/s]"
      ]
     },
     "metadata": {},
     "output_type": "display_data"
    },
    {
     "data": {
      "application/vnd.jupyter.widget-view+json": {
       "model_id": "8ce592f7a7774b039aadf6dfda613272",
       "version_major": 2,
       "version_minor": 0
      },
      "text/plain": [
       "  0%|          | 0/10 [00:00<?, ?it/s]"
      ]
     },
     "metadata": {},
     "output_type": "display_data"
    },
    {
     "data": {
      "application/vnd.jupyter.widget-view+json": {
       "model_id": "373581bea4724c54b84369aec93eca59",
       "version_major": 2,
       "version_minor": 0
      },
      "text/plain": [
       "  0%|          | 0/10 [00:00<?, ?it/s]"
      ]
     },
     "metadata": {},
     "output_type": "display_data"
    },
    {
     "data": {
      "application/vnd.jupyter.widget-view+json": {
       "model_id": "ff4c53f43ba0440989b99acdedc4d347",
       "version_major": 2,
       "version_minor": 0
      },
      "text/plain": [
       "  0%|          | 0/3 [00:00<?, ?it/s]"
      ]
     },
     "metadata": {},
     "output_type": "display_data"
    },
    {
     "data": {
      "application/vnd.jupyter.widget-view+json": {
       "model_id": "e26186898a32441d87f83e8d1fee5c2c",
       "version_major": 2,
       "version_minor": 0
      },
      "text/plain": [
       "  0%|          | 0/10 [00:00<?, ?it/s]"
      ]
     },
     "metadata": {},
     "output_type": "display_data"
    },
    {
     "data": {
      "application/vnd.jupyter.widget-view+json": {
       "model_id": "fc37d6c45c684cf6bd4120167287dc27",
       "version_major": 2,
       "version_minor": 0
      },
      "text/plain": [
       "  0%|          | 0/10 [00:00<?, ?it/s]"
      ]
     },
     "metadata": {},
     "output_type": "display_data"
    },
    {
     "data": {
      "application/vnd.jupyter.widget-view+json": {
       "model_id": "0bf120c654414b9fbed8121e5f282252",
       "version_major": 2,
       "version_minor": 0
      },
      "text/plain": [
       "  0%|          | 0/10 [00:00<?, ?it/s]"
      ]
     },
     "metadata": {},
     "output_type": "display_data"
    },
    {
     "data": {
      "application/vnd.jupyter.widget-view+json": {
       "model_id": "33848ff66465453bb34f04eb300b9630",
       "version_major": 2,
       "version_minor": 0
      },
      "text/plain": [
       "  0%|          | 0/7 [00:00<?, ?it/s]"
      ]
     },
     "metadata": {},
     "output_type": "display_data"
    },
    {
     "data": {
      "application/vnd.jupyter.widget-view+json": {
       "model_id": "05d80fed2af64da2b9704817fde1eb10",
       "version_major": 2,
       "version_minor": 0
      },
      "text/plain": [
       "  0%|          | 0/3 [00:00<?, ?it/s]"
      ]
     },
     "metadata": {},
     "output_type": "display_data"
    },
    {
     "data": {
      "application/vnd.jupyter.widget-view+json": {
       "model_id": "57e1cb3d956e40fa943263da4631e37e",
       "version_major": 2,
       "version_minor": 0
      },
      "text/plain": [
       "  0%|          | 0/10 [00:00<?, ?it/s]"
      ]
     },
     "metadata": {},
     "output_type": "display_data"
    },
    {
     "data": {
      "application/vnd.jupyter.widget-view+json": {
       "model_id": "6138c674ff924138a68b8995a51bdec8",
       "version_major": 2,
       "version_minor": 0
      },
      "text/plain": [
       "  0%|          | 0/10 [00:00<?, ?it/s]"
      ]
     },
     "metadata": {},
     "output_type": "display_data"
    },
    {
     "data": {
      "application/vnd.jupyter.widget-view+json": {
       "model_id": "6deca791eb0240b9b32c1a0fb364a110",
       "version_major": 2,
       "version_minor": 0
      },
      "text/plain": [
       "  0%|          | 0/9 [00:00<?, ?it/s]"
      ]
     },
     "metadata": {},
     "output_type": "display_data"
    },
    {
     "data": {
      "application/vnd.jupyter.widget-view+json": {
       "model_id": "368dd3bdf2f046f5a7970a193373d408",
       "version_major": 2,
       "version_minor": 0
      },
      "text/plain": [
       "  0%|          | 0/3 [00:00<?, ?it/s]"
      ]
     },
     "metadata": {},
     "output_type": "display_data"
    },
    {
     "data": {
      "application/vnd.jupyter.widget-view+json": {
       "model_id": "82f7e63044784b9fa98c41a87408066f",
       "version_major": 2,
       "version_minor": 0
      },
      "text/plain": [
       "  0%|          | 0/10 [00:00<?, ?it/s]"
      ]
     },
     "metadata": {},
     "output_type": "display_data"
    },
    {
     "data": {
      "application/vnd.jupyter.widget-view+json": {
       "model_id": "12e3aa7bbdac410b94d6e10976f5e165",
       "version_major": 2,
       "version_minor": 0
      },
      "text/plain": [
       "  0%|          | 0/10 [00:00<?, ?it/s]"
      ]
     },
     "metadata": {},
     "output_type": "display_data"
    },
    {
     "data": {
      "application/vnd.jupyter.widget-view+json": {
       "model_id": "b2acf95e7e8049a2b695717614301fdd",
       "version_major": 2,
       "version_minor": 0
      },
      "text/plain": [
       "  0%|          | 0/10 [00:00<?, ?it/s]"
      ]
     },
     "metadata": {},
     "output_type": "display_data"
    },
    {
     "data": {
      "application/vnd.jupyter.widget-view+json": {
       "model_id": "2727ea2107f844cba347b9a27bb6fa7b",
       "version_major": 2,
       "version_minor": 0
      },
      "text/plain": [
       "  0%|          | 0/3 [00:00<?, ?it/s]"
      ]
     },
     "metadata": {},
     "output_type": "display_data"
    },
    {
     "data": {
      "application/vnd.jupyter.widget-view+json": {
       "model_id": "d409374d0aec4fd398cd0f65ebf02aaf",
       "version_major": 2,
       "version_minor": 0
      },
      "text/plain": [
       "  0%|          | 0/10 [00:00<?, ?it/s]"
      ]
     },
     "metadata": {},
     "output_type": "display_data"
    },
    {
     "data": {
      "application/vnd.jupyter.widget-view+json": {
       "model_id": "85f70f41c58b44f5bcbd7ddee115af81",
       "version_major": 2,
       "version_minor": 0
      },
      "text/plain": [
       "  0%|          | 0/10 [00:00<?, ?it/s]"
      ]
     },
     "metadata": {},
     "output_type": "display_data"
    },
    {
     "data": {
      "application/vnd.jupyter.widget-view+json": {
       "model_id": "6170fe568593421c9cb187ca84de191d",
       "version_major": 2,
       "version_minor": 0
      },
      "text/plain": [
       "  0%|          | 0/10 [00:00<?, ?it/s]"
      ]
     },
     "metadata": {},
     "output_type": "display_data"
    },
    {
     "data": {
      "application/vnd.jupyter.widget-view+json": {
       "model_id": "08499e8ee37b413b8fa42fa0daa2a6b4",
       "version_major": 2,
       "version_minor": 0
      },
      "text/plain": [
       "  0%|          | 0/3 [00:00<?, ?it/s]"
      ]
     },
     "metadata": {},
     "output_type": "display_data"
    },
    {
     "data": {
      "application/vnd.jupyter.widget-view+json": {
       "model_id": "a156a3fda43a4e08b864d77af6915d9f",
       "version_major": 2,
       "version_minor": 0
      },
      "text/plain": [
       "  0%|          | 0/10 [00:00<?, ?it/s]"
      ]
     },
     "metadata": {},
     "output_type": "display_data"
    },
    {
     "data": {
      "application/vnd.jupyter.widget-view+json": {
       "model_id": "b42e1bfb669647be993ccb50d3f73e5d",
       "version_major": 2,
       "version_minor": 0
      },
      "text/plain": [
       "  0%|          | 0/10 [00:00<?, ?it/s]"
      ]
     },
     "metadata": {},
     "output_type": "display_data"
    },
    {
     "data": {
      "application/vnd.jupyter.widget-view+json": {
       "model_id": "7918b4507dc84d0f8a2093541231f3c4",
       "version_major": 2,
       "version_minor": 0
      },
      "text/plain": [
       "  0%|          | 0/10 [00:00<?, ?it/s]"
      ]
     },
     "metadata": {},
     "output_type": "display_data"
    },
    {
     "data": {
      "application/vnd.jupyter.widget-view+json": {
       "model_id": "c0e2251f0bd941f08faeb3febdd511e6",
       "version_major": 2,
       "version_minor": 0
      },
      "text/plain": [
       "  0%|          | 0/3 [00:00<?, ?it/s]"
      ]
     },
     "metadata": {},
     "output_type": "display_data"
    },
    {
     "data": {
      "application/vnd.jupyter.widget-view+json": {
       "model_id": "2f7006f19200402cb8135b582ebaf474",
       "version_major": 2,
       "version_minor": 0
      },
      "text/plain": [
       "  0%|          | 0/10 [00:00<?, ?it/s]"
      ]
     },
     "metadata": {},
     "output_type": "display_data"
    },
    {
     "data": {
      "application/vnd.jupyter.widget-view+json": {
       "model_id": "3324e5a6149e482081866c5f3ace047c",
       "version_major": 2,
       "version_minor": 0
      },
      "text/plain": [
       "  0%|          | 0/10 [00:00<?, ?it/s]"
      ]
     },
     "metadata": {},
     "output_type": "display_data"
    },
    {
     "data": {
      "application/vnd.jupyter.widget-view+json": {
       "model_id": "259def24665143dbabf512c18d8196d2",
       "version_major": 2,
       "version_minor": 0
      },
      "text/plain": [
       "  0%|          | 0/10 [00:00<?, ?it/s]"
      ]
     },
     "metadata": {},
     "output_type": "display_data"
    }
   ],
   "source": [
    "filenames = {key: [] for key in sexes}\n",
    "data = {key: [] for key in sexes}\n",
    "for sex in notebook.tqdm(sexes):\n",
    "    filenames[sex] = {key: [] for key in groups}\n",
    "    data[sex] = {key: [] for key in groups}\n",
    "    for group in notebook.tqdm(groups):\n",
    "        if group == 'Group6':\n",
    "            filenames[sex][group] = {key: [] for key in [conditions_extra[0]]}\n",
    "            data[sex][group] = {key: [] for key in [conditions_extra[0]]}\n",
    "            for condition in [conditions_extra[0]]:\n",
    "                \n",
    "                filenames[sex][group][condition] = glob.glob(str.join('/', \n",
    "                                                                      (data_root_dir,\n",
    "                                                                       f'{sex}',\n",
    "                                                                       f'{group}', \n",
    "                                                                       f'{condition}', \n",
    "                                                                       '*.csv')))\n",
    "                data[sex][group][condition] = {key: [] for key in [f'file{i}' \n",
    "                                                   for i in range(len(filenames[sex][group][condition]))]}\n",
    "                for i, csv in enumerate(filenames[sex][group][condition]):\n",
    "                    temp_df = pd.read_csv(csv, header=[0, 1, 2, 3], sep=\",\", index_col=0)\n",
    "                    selected_pose_idx = np.arange(temp_df.shape[1])\n",
    "                    idx_llh = selected_pose_idx[2::3]\n",
    "                    # the loaded sleap file has them too, so exclude for both\n",
    "                    idx_selected = [i for i in selected_pose_idx if i not in idx_llh]\n",
    "                    currdf_filt, _ = filter_pose_noise(temp_df, idx_selected=idx_selected, idx_llh=idx_llh, \n",
    "                                                       llh_value=0.1)\n",
    "                    data[sex][group][condition][f'file{i}'] = currdf_filt\n",
    "        elif group == 'Group7':\n",
    "            filenames[sex][group] = {key: [] for key in [conditions_extra[1]]}\n",
    "            data[sex][group] = {key: [] for key in [conditions_extra[1]]}\n",
    "            for condition in [conditions_extra[1]]:\n",
    "                \n",
    "                filenames[sex][group][condition] = glob.glob(str.join('/', \n",
    "                                                                      (data_root_dir,\n",
    "                                                                       f'{sex}',\n",
    "                                                                       f'{group}', \n",
    "                                                                       f'{condition}', \n",
    "                                                                       '*.csv')))\n",
    "                data[sex][group][condition] = {key: [] for key in [f'file{i}' \n",
    "                                                   for i in range(len(filenames[sex][group][condition]))]}\n",
    "                for i, csv in enumerate(filenames[sex][group][condition]):\n",
    "                    temp_df = pd.read_csv(csv, header=[0, 1, 2, 3], sep=\",\", index_col=0)\n",
    "                    selected_pose_idx = np.arange(temp_df.shape[1])\n",
    "                    idx_llh = selected_pose_idx[2::3]\n",
    "                    # the loaded sleap file has them too, so exclude for both\n",
    "                    idx_selected = [i for i in selected_pose_idx if i not in idx_llh]\n",
    "                    currdf_filt, _ = filter_pose_noise(temp_df, idx_selected=idx_selected, idx_llh=idx_llh, \n",
    "                                                       llh_value=0.1)\n",
    "                    data[sex][group][condition][f'file{i}'] = currdf_filt\n",
    "        else:\n",
    "            filenames[sex][group] = {key: [] for key in conditions}\n",
    "            data[sex][group] = {key: [] for key in conditions}\n",
    "            for condition in notebook.tqdm(conditions):\n",
    "                \n",
    "                filenames[sex][group][condition] = glob.glob(str.join('/', \n",
    "                                                                      (data_root_dir,\n",
    "                                                                       f'{sex}',\n",
    "                                                                       f'{group}', \n",
    "                                                                       f'{condition}', \n",
    "                                                                       '*.csv')))\n",
    "                data[sex][group][condition] = {key: [] for key in [f'file{i}' \n",
    "                                                                   for i in range(len(filenames[sex][group][condition]))]}\n",
    "                for i, csv in enumerate(notebook.tqdm(filenames[sex][group][condition])):\n",
    "                    temp_df = pd.read_csv(csv, header=[0, 1, 2, 3], sep=\",\", index_col=0)\n",
    "                    selected_pose_idx = np.arange(temp_df.shape[1])\n",
    "                    idx_llh = selected_pose_idx[2::3]\n",
    "                    # the loaded sleap file has them too, so exclude for both\n",
    "                    idx_selected = [i for i in selected_pose_idx if i not in idx_llh]\n",
    "                    currdf_filt, _ = filter_pose_noise(temp_df, idx_selected=idx_selected, idx_llh=idx_llh, \n",
    "                                                       llh_value=0.1)\n",
    "                    data[sex][group][condition][f'file{i}'] = currdf_filt"
   ]
  },
  {
   "cell_type": "code",
   "execution_count": 11,
   "id": "29555bd594bb3b17",
   "metadata": {
    "ExecuteTime": {
     "end_time": "2023-11-29T01:51:06.359503Z",
     "start_time": "2023-11-29T01:51:06.355144Z"
    },
    "collapsed": false
   },
   "outputs": [
    {
     "data": {
      "text/plain": [
       "'/Volumes/data/lupe/Female/Group3/Condition1/1_2097.0F_L3_acA2040-120um__23701299__20230712_145438099DLC_resnet50_LUPE_MALEDec5shuffle1_350000.csv'"
      ]
     },
     "execution_count": 11,
     "metadata": {},
     "output_type": "execute_result"
    }
   ],
   "source": [
    "file_chosen = 0\n",
    "filenames['Female']['Group3']['Condition1'][file_chosen]"
   ]
  },
  {
   "cell_type": "code",
   "outputs": [],
   "source": [
    "from utils.classification import load_behaviors, load_data\n",
    "data = load_data('../processed_dataset/raw_data.pkl')"
   ],
   "metadata": {
    "collapsed": false,
    "ExecuteTime": {
     "end_time": "2024-03-10T22:58:05.614413Z",
     "start_time": "2024-03-10T22:58:01.952477Z"
    }
   },
   "id": "f114ae6386661d4d",
   "execution_count": 5
  },
  {
   "cell_type": "code",
   "execution_count": 10,
   "id": "6048f08d86980d1c",
   "metadata": {
    "collapsed": false,
    "ExecuteTime": {
     "end_time": "2024-03-10T23:12:43.720277Z",
     "start_time": "2024-03-10T23:12:43.715554Z"
    }
   },
   "outputs": [
    {
     "data": {
      "text/plain": "array([[239.96052933, 143.99312997, 238.9617548 , ..., 333.84087443,\n        192.60858917, 376.1441772 ],\n       [235.46193522, 136.47153759, 234.61904538, ..., 318.61538029,\n        184.99575806, 368.37518811],\n       [238.71497333, 128.92805755, 237.28869581, ..., 310.59319019,\n        180.74474239, 360.55865979],\n       ...,\n       [ 66.95918036, 221.95061779,  80.30156243, ..., 338.97078395,\n        267.02356434, 368.61324835],\n       [ 65.03309917, 228.44789171,  78.00881672, ..., 338.48272991,\n        267.56775388, 366.88058109],\n       [ 62.81379271, 234.82869697,  75.03203353, ..., 337.60519648,\n        268.62200105, 367.94605947]])"
     },
     "execution_count": 10,
     "metadata": {},
     "output_type": "execute_result"
    }
   ],
   "source": [
    "data['Male']['Group1']['Condition3']['file6']"
   ]
  },
  {
   "cell_type": "code",
   "execution_count": 14,
   "id": "95d2673da5545baf",
   "metadata": {
    "ExecuteTime": {
     "end_time": "2023-11-29T01:53:50.989553Z",
     "start_time": "2023-11-29T01:53:38.546061Z"
    },
    "collapsed": false
   },
   "outputs": [],
   "source": [
    "with open('../processed_dataset/raw_data.pkl', 'wb') as f:\n",
    "    pickle.dump(data, f)"
   ]
  }
 ],
 "metadata": {
  "kernelspec": {
   "display_name": "Python 3 (ipykernel)",
   "language": "python",
   "name": "python3"
  },
  "language_info": {
   "codemirror_mode": {
    "name": "ipython",
    "version": 3
   },
   "file_extension": ".py",
   "mimetype": "text/x-python",
   "name": "python",
   "nbconvert_exporter": "python",
   "pygments_lexer": "ipython3",
   "version": "3.11.0"
  }
 },
 "nbformat": 4,
 "nbformat_minor": 5
}
