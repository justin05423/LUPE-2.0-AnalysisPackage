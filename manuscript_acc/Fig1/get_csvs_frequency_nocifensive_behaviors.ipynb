{
 "cells": [
  {
   "cell_type": "code",
   "execution_count": 2,
   "id": "initial_id",
   "metadata": {
    "collapsed": false,
    "ExecuteTime": {
     "end_time": "2024-03-02T20:48:01.214585Z",
     "start_time": "2024-03-02T20:48:01.093341Z"
    }
   },
   "outputs": [],
   "source": [
    "import matplotlib.pyplot as plt\n",
    "import numpy as np\n",
    "import pandas as pd\n",
    "import os\n",
    "import sys\n",
    "\n",
    "if not os.path.join(os.path.abspath(''), '../') in sys.path:\n",
    "    sys.path.append(os.path.join(os.path.abspath(''), '../'))\n",
    "\n",
    "from utils.classification import load_behaviors\n",
    "from utils.meta import *\n",
    "from tqdm import tqdm"
   ]
  },
  {
   "cell_type": "markdown",
   "id": "a44009166e865e08",
   "metadata": {
    "collapsed": false
   },
   "source": [
    "### load predicted behaviors"
   ]
  },
  {
   "cell_type": "code",
   "execution_count": 3,
   "id": "e8b81a268d7b22ef",
   "metadata": {
    "collapsed": false,
    "ExecuteTime": {
     "end_time": "2024-02-28T23:16:57.729461Z",
     "start_time": "2024-02-28T23:16:57.648343Z"
    }
   },
   "outputs": [],
   "source": [
    "behaviors = load_behaviors('../processed_dataset/behaviors.pkl')"
   ]
  },
  {
   "cell_type": "markdown",
   "source": [
    "#### get individual csvs"
   ],
   "metadata": {
    "collapsed": false
   },
   "id": "cd506041116c710e"
  },
  {
   "cell_type": "code",
   "outputs": [
    {
     "ename": "NameError",
     "evalue": "name 'sexes' is not defined",
     "output_type": "error",
     "traceback": [
      "\u001B[0;31m---------------------------------------------------------------------------\u001B[0m",
      "\u001B[0;31mNameError\u001B[0m                                 Traceback (most recent call last)",
      "Cell \u001B[0;32mIn[1], line 1\u001B[0m\n\u001B[0;32m----> 1\u001B[0m \u001B[43msexes\u001B[49m, groups, conditions, conditions_extra[\u001B[38;5;241m0\u001B[39m]\n",
      "\u001B[0;31mNameError\u001B[0m: name 'sexes' is not defined"
     ]
    }
   ],
   "source": [
    "sexes, groups, conditions, conditions_extra[0]"
   ],
   "metadata": {
    "collapsed": false,
    "ExecuteTime": {
     "end_time": "2024-03-02T20:47:58.072847Z",
     "start_time": "2024-03-02T20:47:57.934648Z"
    }
   },
   "id": "e60658bd6fb71f8",
   "execution_count": 1
  },
  {
   "cell_type": "code",
   "outputs": [
    {
     "name": "stderr",
     "output_type": "stream",
     "text": [
      "100%|██████████| 7/7 [00:34<00:00,  4.98s/it]\n",
      "100%|██████████| 7/7 [00:34<00:00,  4.94s/it]\n"
     ]
    }
   ],
   "source": [
    "figure_num = 'fig1'\n",
    "for sex in sexes:\n",
    "    for group in tqdm(groups):\n",
    "        if group == 'Group6':\n",
    "            for condition in [conditions_extra[0]]:\n",
    "                # frame discrepancy so find minimum\n",
    "                min_frames = np.min([len(behaviors[sex][group][condition][f'file{i}']) \n",
    "                                     for i in range(len(behaviors[sex][group][condition]))])\n",
    "                df_example = pd.DataFrame([behaviors[sex][group][condition][f'file{i}'][:min_frames] \n",
    "                                           for i in range(len(behaviors[sex][group][condition]))]).T\n",
    "                os.makedirs(f'../csvs/{figure_num}', exist_ok=True)\n",
    "                df_example.to_csv(f'../csvs/{figure_num}/{sex}_{group}_{condition}_allfiles_compiled.csv')\n",
    "        elif group == 'Group7':\n",
    "            for condition in [conditions_extra[1]]:\n",
    "                # frame discrepancy so find minimum\n",
    "                min_frames = np.min([len(behaviors[sex][group][condition][f'file{i}']) \n",
    "                                     for i in range(len(behaviors[sex][group][condition]))])\n",
    "                df_example = pd.DataFrame([behaviors[sex][group][condition][f'file{i}'][:min_frames] \n",
    "                                           for i in range(len(behaviors[sex][group][condition]))]).T\n",
    "                os.makedirs(f'../csvs/{figure_num}', exist_ok=True)\n",
    "                df_example.to_csv(f'../csvs/{figure_num}/{sex}_{group}_{condition}_allfiles_compiled.csv')\n",
    "        else:\n",
    "            for condition in conditions:\n",
    "                # frame discrepancy so find minimum\n",
    "                min_frames = np.min([len(behaviors[sex][group][condition][f'file{i}']) \n",
    "                                     for i in range(len(behaviors[sex][group][condition]))])\n",
    "                df_example = pd.DataFrame([behaviors[sex][group][condition][f'file{i}'][:min_frames] \n",
    "                                           for i in range(len(behaviors[sex][group][condition]))]).T\n",
    "                os.makedirs(f'../csvs/{figure_num}', exist_ok=True)\n",
    "                df_example.to_csv(f'../csvs/{figure_num}/{sex}_{group}_{condition}_allfiles_compiled.csv')\n",
    "            "
   ],
   "metadata": {
    "collapsed": false,
    "ExecuteTime": {
     "end_time": "2024-02-28T23:18:22.565256Z",
     "start_time": "2024-02-28T23:17:13.084020Z"
    }
   },
   "id": "4a818d8ceba7c63d",
   "execution_count": 5
  },
  {
   "cell_type": "code",
   "outputs": [],
   "source": [],
   "metadata": {
    "collapsed": false
   },
   "id": "4be1f37ccc45efc4"
  }
 ],
 "metadata": {
  "kernelspec": {
   "display_name": "Python 3 (ipykernel)",
   "language": "python",
   "name": "python3"
  },
  "language_info": {
   "codemirror_mode": {
    "name": "ipython",
    "version": 3
   },
   "file_extension": ".py",
   "mimetype": "text/x-python",
   "name": "python",
   "nbconvert_exporter": "python",
   "pygments_lexer": "ipython3",
   "version": "3.11.0"
  }
 },
 "nbformat": 4,
 "nbformat_minor": 5
}
