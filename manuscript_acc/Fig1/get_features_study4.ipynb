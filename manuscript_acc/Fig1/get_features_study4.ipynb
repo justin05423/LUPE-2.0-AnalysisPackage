{
 "cells": [
  {
   "cell_type": "code",
   "execution_count": 3,
   "id": "initial_id",
   "metadata": {
    "collapsed": true,
    "jupyter": {
     "outputs_hidden": true
    },
    "ExecuteTime": {
     "end_time": "2024-02-18T20:05:47.812571Z",
     "start_time": "2024-02-18T20:05:47.810328Z"
    }
   },
   "outputs": [],
   "source": [
    "import pickle\n",
    "\n",
    "from tqdm import notebook\n",
    "import os\n",
    "import sys\n",
    "\n",
    "if not os.path.join(os.path.abspath(''), '../') in sys.path:\n",
    "    sys.path.append(os.path.join(os.path.abspath(''), '../'))\n",
    "    \n",
    "from utils.classification import load_data, load_features\n",
    "from utils.feature_utils import feature_extraction\n",
    "from utils.meta import *\n",
    "import os"
   ]
  },
  {
   "cell_type": "code",
   "execution_count": 4,
   "id": "4abd661b6f06424e",
   "metadata": {
    "collapsed": false,
    "ExecuteTime": {
     "end_time": "2024-02-18T20:05:48.436048Z",
     "start_time": "2024-02-18T20:05:48.068305Z"
    }
   },
   "outputs": [],
   "source": [
    "data_path = '../processed_dataset/raw_data_study4.pkl'\n",
    "data = load_data(data_path)"
   ]
  },
  {
   "cell_type": "code",
   "execution_count": 5,
   "id": "46783f13100a40e4",
   "metadata": {
    "collapsed": false,
    "ExecuteTime": {
     "end_time": "2024-02-18T20:05:48.967095Z",
     "start_time": "2024-02-18T20:05:48.962790Z"
    }
   },
   "outputs": [
    {
     "data": {
      "text/plain": "array([[547.52803898, 640.28622055, 537.96062726, ..., 654.06800258,\n        312.01852393, 632.81049204],\n       [553.76775098, 639.23454428, 545.00431871, ..., 658.7223444 ,\n        317.75155902, 635.66242528],\n       [554.35488248, 637.67212331, 547.76113701, ..., 654.78991112,\n        319.20453838, 639.168093  ],\n       ...,\n       [656.00583577, 574.22287722, 644.58968854, ..., 673.96863937,\n        504.50864756, 691.07389259],\n       [651.17834187, 569.99575293, 640.06807506, ..., 674.08396429,\n        506.71227074, 690.07189262],\n       [645.09256887, 560.68707657, 635.92753696, ..., 672.49348307,\n        504.23940027, 690.57875013]])"
     },
     "execution_count": 5,
     "metadata": {},
     "output_type": "execute_result"
    }
   ],
   "source": [
    "data['Female']['Control']['file0']"
   ]
  },
  {
   "cell_type": "markdown",
   "id": "a0e875c56bfb37b1",
   "metadata": {
    "collapsed": false
   },
   "source": [
    "### get features from pose"
   ]
  },
  {
   "cell_type": "code",
   "execution_count": 6,
   "id": "9f3c48d2e8b0cb5b",
   "metadata": {
    "collapsed": false,
    "ExecuteTime": {
     "end_time": "2024-02-18T20:39:31.543055Z",
     "start_time": "2024-02-18T20:05:52.346045Z"
    }
   },
   "outputs": [
    {
     "data": {
      "text/plain": "  0%|          | 0/3 [00:00<?, ?it/s]",
      "application/vnd.jupyter.widget-view+json": {
       "version_major": 2,
       "version_minor": 0,
       "model_id": "357b31e5d36740bdbf67da41edfc3a6f"
      }
     },
     "metadata": {},
     "output_type": "display_data"
    },
    {
     "data": {
      "text/plain": "  0%|          | 0/2 [00:00<?, ?it/s]",
      "application/vnd.jupyter.widget-view+json": {
       "version_major": 2,
       "version_minor": 0,
       "model_id": "45f296836e1544df9439fad05a3c0119"
      }
     },
     "metadata": {},
     "output_type": "display_data"
    },
    {
     "name": "stderr",
     "output_type": "stream",
     "text": [
      "\n",
      "\n",
      "  0%|          | 0/1 [00:00<?, ?it/s]\u001B[A\u001B[A\n",
      "\n",
      "100%|██████████| 1/1 [01:12<00:00, 72.86s/it]\u001B[A\u001B[A\n",
      "\n",
      "\n",
      "  0%|          | 0/1 [00:00<?, ?it/s]\u001B[A\u001B[A\n",
      "\n",
      "100%|██████████| 1/1 [01:07<00:00, 67.13s/it]\u001B[A\u001B[A\n",
      "\n",
      "\n",
      "  0%|          | 0/1 [00:00<?, ?it/s]\u001B[A\u001B[A\n",
      "\n",
      "100%|██████████| 1/1 [01:07<00:00, 67.24s/it]\u001B[A\u001B[A\n",
      "\n",
      "\n",
      "  0%|          | 0/1 [00:00<?, ?it/s]\u001B[A\u001B[A\n",
      "\n",
      "100%|██████████| 1/1 [01:07<00:00, 67.40s/it]\u001B[A\u001B[A\n",
      "\n",
      "\n",
      "  0%|          | 0/1 [00:00<?, ?it/s]\u001B[A\u001B[A\n",
      "\n",
      "100%|██████████| 1/1 [01:07<00:00, 67.33s/it]\u001B[A\u001B[A\n",
      "\n",
      "\n",
      "  0%|          | 0/1 [00:00<?, ?it/s]\u001B[A\u001B[A\n",
      "\n",
      "100%|██████████| 1/1 [01:06<00:00, 66.98s/it]\u001B[A\u001B[A\n",
      "\n",
      "\n",
      "  0%|          | 0/1 [00:00<?, ?it/s]\u001B[A\u001B[A\n",
      "\n",
      "100%|██████████| 1/1 [01:06<00:00, 67.00s/it]\u001B[A\u001B[A\n",
      "\n",
      "\n",
      "  0%|          | 0/1 [00:00<?, ?it/s]\u001B[A\u001B[A\n",
      "\n",
      "100%|██████████| 1/1 [01:07<00:00, 67.05s/it]\u001B[A\u001B[A\n"
     ]
    },
    {
     "data": {
      "text/plain": "  0%|          | 0/2 [00:00<?, ?it/s]",
      "application/vnd.jupyter.widget-view+json": {
       "version_major": 2,
       "version_minor": 0,
       "model_id": "39225d69c3df4c4b9bed9f720592e31c"
      }
     },
     "metadata": {},
     "output_type": "display_data"
    },
    {
     "name": "stderr",
     "output_type": "stream",
     "text": [
      "\n",
      "\n",
      "  0%|          | 0/1 [00:00<?, ?it/s]\u001B[A\u001B[A\n",
      "\n",
      "100%|██████████| 1/1 [01:07<00:00, 67.13s/it]\u001B[A\u001B[A\n",
      "\n",
      "\n",
      "  0%|          | 0/1 [00:00<?, ?it/s]\u001B[A\u001B[A\n",
      "\n",
      "100%|██████████| 1/1 [01:06<00:00, 66.96s/it]\u001B[A\u001B[A\n",
      "\n",
      "\n",
      "  0%|          | 0/1 [00:00<?, ?it/s]\u001B[A\u001B[A\n",
      "\n",
      "100%|██████████| 1/1 [01:06<00:00, 66.41s/it]\u001B[A\u001B[A\n",
      "\n",
      "\n",
      "  0%|          | 0/1 [00:00<?, ?it/s]\u001B[A\u001B[A\n",
      "\n",
      "100%|██████████| 1/1 [01:07<00:00, 67.15s/it]\u001B[A\u001B[A\n",
      "\n",
      "\n",
      "  0%|          | 0/1 [00:00<?, ?it/s]\u001B[A\u001B[A\n",
      "\n",
      "100%|██████████| 1/1 [01:06<00:00, 66.99s/it]\u001B[A\u001B[A\n",
      "\n",
      "\n",
      "  0%|          | 0/1 [00:00<?, ?it/s]\u001B[A\u001B[A\n",
      "\n",
      "100%|██████████| 1/1 [01:06<00:00, 66.96s/it]\u001B[A\u001B[A\n",
      "\n",
      "\n",
      "  0%|          | 0/1 [00:00<?, ?it/s]\u001B[A\u001B[A\n",
      "\n",
      "100%|██████████| 1/1 [01:06<00:00, 66.87s/it]\u001B[A\u001B[A\n"
     ]
    },
    {
     "data": {
      "text/plain": "  0%|          | 0/2 [00:00<?, ?it/s]",
      "application/vnd.jupyter.widget-view+json": {
       "version_major": 2,
       "version_minor": 0,
       "model_id": "0e80b34a46eb47a085197f9412816812"
      }
     },
     "metadata": {},
     "output_type": "display_data"
    },
    {
     "name": "stderr",
     "output_type": "stream",
     "text": [
      "\n",
      "\n",
      "  0%|          | 0/1 [00:00<?, ?it/s]\u001B[A\u001B[A\n",
      "\n",
      "100%|██████████| 1/1 [01:06<00:00, 66.54s/it]\u001B[A\u001B[A\n",
      "\n",
      "\n",
      "  0%|          | 0/1 [00:00<?, ?it/s]\u001B[A\u001B[A\n",
      "\n",
      "100%|██████████| 1/1 [01:06<00:00, 66.94s/it]\u001B[A\u001B[A\n",
      "\n",
      "\n",
      "  0%|          | 0/1 [00:00<?, ?it/s]\u001B[A\u001B[A\n",
      "\n",
      "100%|██████████| 1/1 [01:07<00:00, 67.51s/it]\u001B[A\u001B[A\n",
      "\n",
      "\n",
      "  0%|          | 0/1 [00:00<?, ?it/s]\u001B[A\u001B[A\n",
      "\n",
      "100%|██████████| 1/1 [01:06<00:00, 66.88s/it]\u001B[A\u001B[A\n",
      "\n",
      "\n",
      "  0%|          | 0/1 [00:00<?, ?it/s]\u001B[A\u001B[A\n",
      "\n",
      "100%|██████████| 1/1 [01:06<00:00, 66.86s/it]\u001B[A\u001B[A\n",
      "\n",
      "\n",
      "  0%|          | 0/1 [00:00<?, ?it/s]\u001B[A\u001B[A\n",
      "\n",
      "100%|██████████| 1/1 [01:07<00:00, 67.02s/it]\u001B[A\u001B[A\n",
      "\n",
      "\n",
      "  0%|          | 0/1 [00:00<?, ?it/s]\u001B[A\u001B[A\n",
      "\n",
      "100%|██████████| 1/1 [01:06<00:00, 66.90s/it]\u001B[A\u001B[A\n",
      "\n",
      "\n",
      "  0%|          | 0/1 [00:00<?, ?it/s]\u001B[A\u001B[A\n",
      "\n",
      "100%|██████████| 1/1 [01:06<00:00, 66.93s/it]\u001B[A\u001B[A\n",
      "\n",
      "\n",
      "  0%|          | 0/1 [00:00<?, ?it/s]\u001B[A\u001B[A\n",
      "\n",
      "100%|██████████| 1/1 [01:07<00:00, 67.16s/it]\u001B[A\u001B[A\n",
      "\n",
      "\n",
      "  0%|          | 0/1 [00:00<?, ?it/s]\u001B[A\u001B[A\n",
      "\n",
      "100%|██████████| 1/1 [01:07<00:00, 67.09s/it]\u001B[A\u001B[A\n",
      "\n",
      "\n",
      "  0%|          | 0/1 [00:00<?, ?it/s]\u001B[A\u001B[A\n",
      "\n",
      "100%|██████████| 1/1 [01:07<00:00, 67.69s/it]\u001B[A\u001B[A\n",
      "\n",
      "\n",
      "  0%|          | 0/1 [00:00<?, ?it/s]\u001B[A\u001B[A\n",
      "\n",
      "100%|██████████| 1/1 [01:07<00:00, 67.69s/it]\u001B[A\u001B[A\n",
      "\n",
      "\n",
      "  0%|          | 0/1 [00:00<?, ?it/s]\u001B[A\u001B[A\n",
      "\n",
      "100%|██████████| 1/1 [01:07<00:00, 67.79s/it]\u001B[A\u001B[A\n",
      "\n",
      "\n",
      "  0%|          | 0/1 [00:00<?, ?it/s]\u001B[A\u001B[A\n",
      "\n",
      "100%|██████████| 1/1 [01:07<00:00, 67.28s/it]\u001B[A\u001B[A\n",
      "\n",
      "\n",
      "  0%|          | 0/1 [00:00<?, ?it/s]\u001B[A\u001B[A\n",
      "\n",
      "100%|██████████| 1/1 [01:07<00:00, 67.34s/it]\u001B[A\u001B[A\n"
     ]
    }
   ],
   "source": [
    "if 'binned_features_study4.pkl' not in os.listdir('../processed_dataset/'):\n",
    "    features = {key: [] for key in groups_study4}\n",
    "    for group in notebook.tqdm(groups_study4):\n",
    "        features[group] = {key: [] for key in conditions_study4}\n",
    "        for condition in notebook.tqdm(conditions_study4):\n",
    "            features[group][condition] = {key: [] for key in [f'file{i}' \n",
    "                                               for i in range(len(data[group][condition]))]}\n",
    "\n",
    "            for i in range(len(data[group][condition])):\n",
    "                features[group][condition][f'file{i}'] = (\n",
    "                    feature_extraction([data[group][condition][f'file{i}']], 1, framerate=60))\n",
    "else:\n",
    "    features = load_features('../processed_dataset/binned_features_study4.pkl')"
   ]
  },
  {
   "cell_type": "code",
   "execution_count": 7,
   "id": "1fb65dfa37e7fdaf",
   "metadata": {
    "collapsed": false,
    "ExecuteTime": {
     "end_time": "2024-02-18T20:39:31.547198Z",
     "start_time": "2024-02-18T20:39:31.542290Z"
    }
   },
   "outputs": [
    {
     "data": {
      "text/plain": "array([[ 11.13715373,  75.48514543,  66.34038066, ...,  11.71652296,\n         34.44628166,  40.01417526],\n       [ 15.49819869, 101.89658191,  94.50737594, ...,   9.45418947,\n         42.66125461,  42.93138771],\n       [  3.92507878,  81.25787536,  78.25122289, ...,  67.02554331,\n         39.074187  ,  40.42083548],\n       ...,\n       [ 13.18265813,  52.1496998 ,  38.25464485, ...,  14.44608699,\n         22.65784157,  16.56365809],\n       [  9.82895849,  62.33493568,  48.95818144, ...,   8.64305472,\n         18.0955134 ,  17.58513558],\n       [  0.        ,   0.        ,   0.        , ...,   0.        ,\n          0.        ,   0.        ]])"
     },
     "execution_count": 7,
     "metadata": {},
     "output_type": "execute_result"
    }
   ],
   "source": [
    "features['Combined']['Experimental']['file0'][0]"
   ]
  },
  {
   "cell_type": "code",
   "execution_count": 8,
   "id": "28740015145c9f91",
   "metadata": {
    "collapsed": false,
    "ExecuteTime": {
     "end_time": "2024-02-18T20:39:33.890244Z",
     "start_time": "2024-02-18T20:39:31.546314Z"
    }
   },
   "outputs": [],
   "source": [
    "if 'binned_features_study4.pkl' not in os.listdir('../processed_dataset/'):\n",
    "    with open('../processed_dataset/binned_features_study4.pkl', 'wb') as f:\n",
    "        pickle.dump(features, f)\n",
    "else:\n",
    "    print('Binned features exists!')"
   ]
  }
 ],
 "metadata": {
  "kernelspec": {
   "display_name": "Python 3 (ipykernel)",
   "language": "python",
   "name": "python3"
  },
  "language_info": {
   "codemirror_mode": {
    "name": "ipython",
    "version": 3
   },
   "file_extension": ".py",
   "mimetype": "text/x-python",
   "name": "python",
   "nbconvert_exporter": "python",
   "pygments_lexer": "ipython3",
   "version": "3.11.0"
  }
 },
 "nbformat": 4,
 "nbformat_minor": 5
}
