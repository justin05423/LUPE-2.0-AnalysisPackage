{
 "cells": [
  {
   "cell_type": "code",
   "outputs": [],
   "source": [
    "import matplotlib.pyplot as plt\n",
    "import numpy as np\n",
    "import pandas as pd\n",
    "import os\n",
    "import sys\n",
    "\n",
    "if not os.path.join(os.path.abspath(''), '../') in sys.path:\n",
    "    sys.path.append(os.path.join(os.path.abspath(''), '../'))\n",
    "    \n",
    "from utils.classification import load_features, load_data\n",
    "from utils.meta import *\n",
    "import matplotlib\n",
    "import warnings\n",
    "import seaborn as sns\n",
    "from matplotlib.patches import Circle\n",
    "from matplotlib.colors import LinearSegmentedColormap\n",
    "import matplotlib.patches as mpatches"
   ],
   "metadata": {
    "collapsed": false,
    "ExecuteTime": {
     "end_time": "2024-03-29T03:42:53.306443Z",
     "start_time": "2024-03-29T03:42:53.130002Z"
    }
   },
   "id": "ffe852fac50ff7f7",
   "execution_count": 1
  },
  {
   "cell_type": "code",
   "execution_count": 2,
   "id": "initial_id",
   "metadata": {
    "collapsed": true,
    "ExecuteTime": {
     "end_time": "2024-03-29T03:43:07.441955Z",
     "start_time": "2024-03-29T03:42:54.050651Z"
    }
   },
   "outputs": [],
   "source": [
    "poses = load_data('../processed_dataset/raw_data.pkl')\n",
    "features = load_features('../processed_dataset/binned_features.pkl')"
   ]
  },
  {
   "cell_type": "code",
   "outputs": [
    {
     "name": "stdout",
     "output_type": "stream",
     "text": [
      "CSV file saved successfully.\n"
     ]
    }
   ],
   "source": [
    "import csv\n",
    "\n",
    "selected_sex = 'Male'\n",
    "selected_group = 'Group1'\n",
    "selected_condition = 'Condition1'\n",
    "selected_file = 'file0'\n",
    "\n",
    "selected_data = features[selected_sex][selected_group][selected_condition][selected_file]\n",
    "\n",
    "csv_file_path = ('../processed_dataset/selected_data.csv')\n",
    "\n",
    "# Write selected_data to CSV file\n",
    "with open(csv_file_path, 'w', newline='') as csvfile:\n",
    "    csv_writer = csv.writer(csvfile)\n",
    "    \n",
    "    # Write each row to the CSV file\n",
    "    for row in selected_data:\n",
    "        csv_writer.writerow(row)\n",
    "\n",
    "print(\"CSV file saved successfully.\")"
   ],
   "metadata": {
    "collapsed": false,
    "ExecuteTime": {
     "end_time": "2024-03-29T03:43:59.719931Z",
     "start_time": "2024-03-29T03:43:45.234406Z"
    }
   },
   "id": "f39767765ac74c78",
   "execution_count": 4
  },
  {
   "cell_type": "code",
   "outputs": [
    {
     "ename": "NameError",
     "evalue": "name 'df' is not defined",
     "output_type": "error",
     "traceback": [
      "\u001B[0;31m---------------------------------------------------------------------------\u001B[0m",
      "\u001B[0;31mNameError\u001B[0m                                 Traceback (most recent call last)",
      "Cell \u001B[0;32mIn[12], line 1\u001B[0m\n\u001B[0;32m----> 1\u001B[0m df\n",
      "\u001B[0;31mNameError\u001B[0m: name 'df' is not defined"
     ]
    }
   ],
   "source": [],
   "metadata": {
    "collapsed": false,
    "ExecuteTime": {
     "end_time": "2024-03-18T18:50:17.962792Z",
     "start_time": "2024-03-18T18:50:17.952716Z"
    }
   },
   "id": "658a14b231d87c16",
   "execution_count": 12
  },
  {
   "cell_type": "code",
   "outputs": [],
   "source": [
    "import pandas as pd\n",
    "import matplotlib.pyplot as plt\n",
    "from utils.classification import load_features  # Importing the function to load features\n",
    "\n",
    "# Step 1: Load Data from Pickle File\n",
    "features = load_features('../processed_dataset/binned_features.pkl')\n",
    "\n",
    "# Step 2: Select Specific Data\n",
    "selected_sex = 'Male'\n",
    "selected_group = 'Group1'\n",
    "selected_condition = 'Condition1'\n",
    "selected_file = 'file1'\n",
    "\n",
    "selected_data = features[selected_sex][selected_group][selected_condition][selected_file]\n",
    "\n",
    "# Step 3: Data Preprocessing (if necessary)\n",
    "# Depending on the structure of selected_data, you may need to perform additional preprocessing.\n",
    "\n",
    "# Step 4: Kinematic Analysis (if necessary)\n",
    "# Perform your kinematic analysis here on the selected data.\n",
    "\n",
    "# Step 5: Visualization\n",
    "# Visualize the kinematic data using Matplotlib or other libraries\n",
    "\n",
    "plt.figure(figsize=(10, 6))\n",
    "for bp in range(0, 20): \n",
    "    plt.plot(selected_data[f'x{bp}'], selected_data[f'y{bp}'], label=f'Body Part {bp}')\n",
    "plt.xlabel('X Coordinate')\n",
    "plt.ylabel('Y Coordinate')\n",
    "plt.title('Trajectories of Body Parts (Selected Data)')\n",
    "plt.legend()\n",
    "plt.grid(True)\n",
    "plt.show()\n"
   ],
   "metadata": {
    "collapsed": false,
    "ExecuteTime": {
     "end_time": "2024-03-29T03:44:09.182738Z",
     "start_time": "2024-03-29T03:44:09.140660Z"
    }
   },
   "id": "e775f54061f74971",
   "execution_count": null
  },
  {
   "cell_type": "code",
   "outputs": [
    {
     "ename": "AttributeError",
     "evalue": "'list' object has no attribute 'iloc'",
     "output_type": "error",
     "traceback": [
      "\u001B[0;31m---------------------------------------------------------------------------\u001B[0m",
      "\u001B[0;31mAttributeError\u001B[0m                            Traceback (most recent call last)",
      "Cell \u001B[0;32mIn[6], line 25\u001B[0m\n\u001B[1;32m     22\u001B[0m x_displacement_column_index \u001B[38;5;241m=\u001B[39m \u001B[38;5;241m1\u001B[39m  \u001B[38;5;66;03m# Assuming x-displacement data is in column 1\u001B[39;00m\n\u001B[1;32m     23\u001B[0m y_displacement_column_index \u001B[38;5;241m=\u001B[39m \u001B[38;5;241m2\u001B[39m  \u001B[38;5;66;03m# Assuming y-displacement data is in column 2\u001B[39;00m\n\u001B[0;32m---> 25\u001B[0m body_part_data \u001B[38;5;241m=\u001B[39m selected_data\u001B[38;5;241m.\u001B[39miloc[:, [x_displacement_column_index, y_displacement_column_index]]\n\u001B[1;32m     27\u001B[0m \u001B[38;5;66;03m# Step 5: Visualization\u001B[39;00m\n\u001B[1;32m     28\u001B[0m \u001B[38;5;66;03m# Visualize the kinematic data using Matplotlib or other libraries\u001B[39;00m\n\u001B[1;32m     30\u001B[0m plt\u001B[38;5;241m.\u001B[39mfigure(figsize\u001B[38;5;241m=\u001B[39m(\u001B[38;5;241m8\u001B[39m, \u001B[38;5;241m6\u001B[39m))\n",
      "\u001B[0;31mAttributeError\u001B[0m: 'list' object has no attribute 'iloc'"
     ]
    }
   ],
   "source": [
    "import pandas as pd\n",
    "import matplotlib.pyplot as plt\n",
    "from utils.classification import load_features  # Importing the function to load features\n",
    "\n",
    "# Step 1: Load Data from Pickle File\n",
    "features = load_features('../processed_dataset/binned_features.pkl')\n",
    "\n",
    "# Step 2: Select Specific Data\n",
    "selected_sex = 'Male'\n",
    "selected_group = 'Group1'\n",
    "selected_condition = 'Condition1'\n",
    "selected_file = 'file1'\n",
    "\n",
    "# Assuming features is a dictionary\n",
    "selected_data = features[selected_sex][selected_group][selected_condition][selected_file]\n",
    "\n",
    "# Step 3: Data Preprocessing (if necessary)\n",
    "# Depending on the structure of selected_data, you may need to perform additional preprocessing.\n",
    "\n",
    "# Step 4: Access Specific Body Part Data\n",
    "body_part_index = 0  # Assuming body parts are indexed from 0\n",
    "x_displacement_column_index = 1  # Assuming x-displacement data is in column 1\n",
    "y_displacement_column_index = 2  # Assuming y-displacement data is in column 2\n",
    "\n",
    "body_part_data = selected_data.iloc[:, [x_displacement_column_index, y_displacement_column_index]]\n",
    "\n",
    "# Step 5: Visualization\n",
    "# Visualize the kinematic data using Matplotlib or other libraries\n",
    "\n",
    "plt.figure(figsize=(8, 6))\n",
    "plt.plot(body_part_data.iloc[:, 0], body_part_data.iloc[:, 1], label='Body Part 0')\n",
    "plt.xlabel('X Displacement')\n",
    "plt.ylabel('Y Displacement')\n",
    "plt.title('Displacement of Body Part 0')\n",
    "plt.legend()\n",
    "plt.grid(True)\n",
    "plt.show()\n"
   ],
   "metadata": {
    "collapsed": false,
    "ExecuteTime": {
     "end_time": "2024-03-29T03:44:36.829915Z",
     "start_time": "2024-03-29T03:44:29.074036Z"
    }
   },
   "id": "b03621463d053ba6",
   "execution_count": 6
  },
  {
   "cell_type": "markdown",
   "source": [
    "df_file0"
   ],
   "metadata": {
    "collapsed": false
   },
   "id": "24aa6e92a39058a2"
  },
  {
   "cell_type": "markdown",
   "source": [],
   "metadata": {
    "collapsed": false
   },
   "id": "7c67ddf36d2fccee"
  },
  {
   "cell_type": "code",
   "outputs": [
    {
     "ename": "UFuncTypeError",
     "evalue": "ufunc 'add' did not contain a loop with signature matching types (dtype('<U1'), dtype('<U1')) -> None",
     "output_type": "error",
     "traceback": [
      "\u001B[0;31m---------------------------------------------------------------------------\u001B[0m",
      "\u001B[0;31mUFuncTypeError\u001B[0m                            Traceback (most recent call last)",
      "Cell \u001B[0;32mIn[9], line 5\u001B[0m\n\u001B[1;32m      2\u001B[0m feature_index \u001B[38;5;241m=\u001B[39m \u001B[38;5;241m0\u001B[39m\n\u001B[1;32m      4\u001B[0m feature_values \u001B[38;5;241m=\u001B[39m [data[feature_index] \u001B[38;5;28;01mfor\u001B[39;00m data \u001B[38;5;129;01min\u001B[39;00m group_data]\n\u001B[0;32m----> 5\u001B[0m average_feature_value \u001B[38;5;241m=\u001B[39m np\u001B[38;5;241m.\u001B[39mmean(feature_values)\n",
      "File \u001B[0;32m<__array_function__ internals>:200\u001B[0m, in \u001B[0;36mmean\u001B[0;34m(*args, **kwargs)\u001B[0m\n",
      "File \u001B[0;32m~/anaconda3/lib/python3.11/site-packages/numpy/core/fromnumeric.py:3464\u001B[0m, in \u001B[0;36mmean\u001B[0;34m(a, axis, dtype, out, keepdims, where)\u001B[0m\n\u001B[1;32m   3461\u001B[0m     \u001B[38;5;28;01melse\u001B[39;00m:\n\u001B[1;32m   3462\u001B[0m         \u001B[38;5;28;01mreturn\u001B[39;00m mean(axis\u001B[38;5;241m=\u001B[39maxis, dtype\u001B[38;5;241m=\u001B[39mdtype, out\u001B[38;5;241m=\u001B[39mout, \u001B[38;5;241m*\u001B[39m\u001B[38;5;241m*\u001B[39mkwargs)\n\u001B[0;32m-> 3464\u001B[0m \u001B[38;5;28;01mreturn\u001B[39;00m _methods\u001B[38;5;241m.\u001B[39m_mean(a, axis\u001B[38;5;241m=\u001B[39maxis, dtype\u001B[38;5;241m=\u001B[39mdtype,\n\u001B[1;32m   3465\u001B[0m                       out\u001B[38;5;241m=\u001B[39mout, \u001B[38;5;241m*\u001B[39m\u001B[38;5;241m*\u001B[39mkwargs)\n",
      "File \u001B[0;32m~/anaconda3/lib/python3.11/site-packages/numpy/core/_methods.py:181\u001B[0m, in \u001B[0;36m_mean\u001B[0;34m(a, axis, dtype, out, keepdims, where)\u001B[0m\n\u001B[1;32m    178\u001B[0m         dtype \u001B[38;5;241m=\u001B[39m mu\u001B[38;5;241m.\u001B[39mdtype(\u001B[38;5;124m'\u001B[39m\u001B[38;5;124mf4\u001B[39m\u001B[38;5;124m'\u001B[39m)\n\u001B[1;32m    179\u001B[0m         is_float16_result \u001B[38;5;241m=\u001B[39m \u001B[38;5;28;01mTrue\u001B[39;00m\n\u001B[0;32m--> 181\u001B[0m ret \u001B[38;5;241m=\u001B[39m umr_sum(arr, axis, dtype, out, keepdims, where\u001B[38;5;241m=\u001B[39mwhere)\n\u001B[1;32m    182\u001B[0m \u001B[38;5;28;01mif\u001B[39;00m \u001B[38;5;28misinstance\u001B[39m(ret, mu\u001B[38;5;241m.\u001B[39mndarray):\n\u001B[1;32m    183\u001B[0m     \u001B[38;5;28;01mwith\u001B[39;00m _no_nep50_warning():\n",
      "\u001B[0;31mUFuncTypeError\u001B[0m: ufunc 'add' did not contain a loop with signature matching types (dtype('<U1'), dtype('<U1')) -> None"
     ]
    }
   ],
   "source": [
    "# Assuming 'feature_index' is the index of the feature you want to analyze\n",
    "feature_index = 0\n",
    "\n",
    "feature_values = [data[feature_index] for data in group_data]\n",
    "average_feature_value = np.mean(feature_values)"
   ],
   "metadata": {
    "collapsed": false,
    "ExecuteTime": {
     "end_time": "2024-03-08T00:01:00.393291Z",
     "start_time": "2024-03-08T00:01:00.323083Z"
    }
   },
   "id": "67241808c4f0d309",
   "execution_count": 9
  },
  {
   "cell_type": "code",
   "outputs": [],
   "source": [
    "# Assuming st.session_state['annotated_behaviors'] is a list of behaviors\n",
    "st.session_state['annotated_behaviors'] = ['behavior1', 'behavior2', 'behavior3']\n",
    "\n",
    "# Assuming bodypart is the index of the body part you're interested in\n",
    "bodypart_index = 0\n",
    "\n",
    "# Assuming framerate is 10\n",
    "framerate = 10\n",
    "\n",
    "# Call the get_avg_kinematics function\n",
    "behavior, behavioral_start_time, behavior_duration, bout_disp_all, bout_duration_all, bout_avg_speed_all = get_avg_kinematics(\n",
    "    features_data['predict'],\n",
    "    pose_data['pose'],\n",
    "    bodypart_index,\n",
    "    framerate\n",
    ")\n",
    "\n",
    "# Use the results for further analysis or visualization"
   ],
   "metadata": {
    "collapsed": false
   },
   "id": "1d5dbb1f32d5c234"
  },
  {
   "cell_type": "code",
   "outputs": [],
   "source": [
    "def get_avg_kinematics(predict, pose, bodypart, framerate=10):\n",
    "    pose_estimate = pose[:, bodypart * 2:bodypart * 2 + 2]\n",
    "    group_start = [0]\n",
    "    group_start = np.hstack((group_start, np.where(np.diff(predict) != 0)[0] + 1))\n",
    "    group_end = [len(predict) - 1]\n",
    "    group_end = np.hstack((np.where(np.diff(predict) != 0)[0], group_end))\n",
    "\n",
    "    bout_i_index = [np.arange(group_start[i], group_end[i]+1) for i in range(len(group_start))]\n",
    "    # limiting to just the behavior bodypart x,y (10Hz) from start to end\n",
    "    bout_pose_bodypart_i = [pose_estimate[bout_i_index[i], :] for i in range(len(bout_i_index))]\n",
    "\n",
    "    behavior = predict[group_start]\n",
    "    behavior_duration = np.hstack((np.diff(group_start), len(predict) - group_start[-1] + 1)) / framerate\n",
    "    behavioral_start_time = group_start / framerate\n",
    "    # kinematics portion\n",
    "    bout_disp_all = {key: [] for key in st.session_state['annotated_behaviors']}\n",
    "    bout_duration_all = {key: [] for key in st.session_state['annotated_behaviors']}\n",
    "    bout_avg_speed_all = {key: [] for key in st.session_state['annotated_behaviors']}\n",
    "    for b, behav in enumerate(st.session_state['annotated_behaviors']):\n",
    "        behavior_j_bodypart_i_pose = []\n",
    "        behavior_j_bout_duration = []\n",
    "        behavior_index = np.where(behavior == b)[0]\n",
    "        for instance in range(len(behavior_index)):\n",
    "            # if behavior_duration[behavior_index][instance] > .1:\n",
    "            behavior_j_bodypart_i_pose.append(bout_pose_bodypart_i[behavior_index[instance]])\n",
    "            behavior_j_bout_duration.append(behavior_duration[behavior_index][instance])\n",
    "        bout_avg_speed = []\n",
    "        bout_duration = []\n",
    "        bout_disp = []\n",
    "        for n in range(len(behavior_j_bodypart_i_pose)):\n",
    "            data_n_len = len(behavior_j_bodypart_i_pose[n])\n",
    "            disp_list = []\n",
    "            # going through the duration of each bout that's over 0.1s\n",
    "            for r in range(data_n_len):\n",
    "                if r < data_n_len - 1:\n",
    "                    disp = []\n",
    "                    # going through x and y\n",
    "                    for c in range(0, behavior_j_bodypart_i_pose[n].shape[1], 2):\n",
    "                        disp.append(\n",
    "                            np.linalg.norm(behavior_j_bodypart_i_pose[n][r + 1, c:c + 2] -\n",
    "                                           behavior_j_bodypart_i_pose[n][r, c:c + 2]))\n",
    "                    disp_list.append(disp)\n",
    "            disp_r = np.array(disp_list)\n",
    "            disp_feat = np.array(disp_r)\n",
    "            bout_disp.append(np.mean(disp_feat))\n",
    "            bout_duration.append(behavior_j_bout_duration[n])\n",
    "            bout_avg_speed.append(np.sum(disp_feat) / behavior_j_bout_duration[n])\n",
    "        bout_disp_all[behav] = bout_disp\n",
    "        bout_duration_all[behav] = bout_duration\n",
    "        bout_avg_speed_all[behav] = bout_avg_speed\n",
    "\n",
    "    return behavior, behavioral_start_time, behavior_duration, bout_disp_all, bout_duration_all, bout_avg_speed_all"
   ],
   "metadata": {
    "collapsed": false,
    "ExecuteTime": {
     "end_time": "2024-03-29T03:44:41.725902Z",
     "start_time": "2024-03-29T03:44:41.723015Z"
    }
   },
   "id": "feac29c7fba1d002",
   "execution_count": 7
  },
  {
   "cell_type": "code",
   "outputs": [],
   "source": [],
   "metadata": {
    "collapsed": false
   },
   "id": "4694d46da268c9ac"
  }
 ],
 "metadata": {
  "kernelspec": {
   "display_name": "Python 3",
   "language": "python",
   "name": "python3"
  },
  "language_info": {
   "codemirror_mode": {
    "name": "ipython",
    "version": 2
   },
   "file_extension": ".py",
   "mimetype": "text/x-python",
   "name": "python",
   "nbconvert_exporter": "python",
   "pygments_lexer": "ipython2",
   "version": "2.7.6"
  }
 },
 "nbformat": 4,
 "nbformat_minor": 5
}
