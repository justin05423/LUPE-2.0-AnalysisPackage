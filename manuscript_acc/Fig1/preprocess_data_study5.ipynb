{
 "cells": [
  {
   "cell_type": "code",
   "execution_count": 1,
   "id": "initial_id",
   "metadata": {
    "collapsed": true,
    "jupyter": {
     "outputs_hidden": true
    },
    "ExecuteTime": {
     "end_time": "2024-03-01T15:37:54.415249Z",
     "start_time": "2024-03-01T15:37:54.233179Z"
    }
   },
   "outputs": [],
   "source": [
    "import glob\n",
    "import pickle\n",
    "import os\n",
    "import sys\n",
    "\n",
    "if not os.path.join(os.path.abspath(''), '../') in sys.path:\n",
    "    sys.path.append(os.path.join(os.path.abspath(''), '../'))\n",
    "    \n",
    "import numpy as np\n",
    "import pandas as pd\n",
    "from tqdm import notebook\n",
    "\n",
    "from utils.feature_utils import filter_pose_noise"
   ]
  },
  {
   "cell_type": "markdown",
   "id": "d17b457d04d8a615",
   "metadata": {
    "collapsed": false
   },
   "source": [
    "### specific to where I stored the csvs. you can change the data_root_dir"
   ]
  },
  {
   "cell_type": "code",
   "execution_count": 2,
   "id": "3df1e808aabc2617",
   "metadata": {
    "collapsed": false,
    "ExecuteTime": {
     "end_time": "2024-02-18T21:45:15.034631Z",
     "start_time": "2024-02-18T21:45:15.027936Z"
    }
   },
   "outputs": [],
   "source": [
    "data_root_dir = '/Users/alexanderhsu/Documents/ACC_Study5_Fig4'\n",
    "drugs = ['Morphine', 'Morphine_Formalin']\n",
    "groups = ['Male', 'Female', 'Combined']\n",
    "conditions = ['Control', 'Experimental']"
   ]
  },
  {
   "cell_type": "markdown",
   "id": "8eb506351adbbce2",
   "metadata": {
    "collapsed": false
   },
   "source": [
    "### store all data in dictionary"
   ]
  },
  {
   "cell_type": "code",
   "execution_count": 3,
   "id": "b14a6fb460c88ae9",
   "metadata": {
    "collapsed": false,
    "ExecuteTime": {
     "end_time": "2024-02-18T21:45:25.205919Z",
     "start_time": "2024-02-18T21:45:15.034201Z"
    }
   },
   "outputs": [
    {
     "data": {
      "text/plain": "  0%|          | 0/2 [00:00<?, ?it/s]",
      "application/vnd.jupyter.widget-view+json": {
       "version_major": 2,
       "version_minor": 0,
       "model_id": "433a8d628dc24ea2b2dd5b2759fe5249"
      }
     },
     "metadata": {},
     "output_type": "display_data"
    },
    {
     "data": {
      "text/plain": "  0%|          | 0/3 [00:00<?, ?it/s]",
      "application/vnd.jupyter.widget-view+json": {
       "version_major": 2,
       "version_minor": 0,
       "model_id": "f893e47e90ce4c3cae7ead66cda8457a"
      }
     },
     "metadata": {},
     "output_type": "display_data"
    },
    {
     "data": {
      "text/plain": "  0%|          | 0/2 [00:00<?, ?it/s]",
      "application/vnd.jupyter.widget-view+json": {
       "version_major": 2,
       "version_minor": 0,
       "model_id": "86fecdd9b5f94d22b014d76add13b59a"
      }
     },
     "metadata": {},
     "output_type": "display_data"
    },
    {
     "data": {
      "text/plain": "  0%|          | 0/5 [00:00<?, ?it/s]",
      "application/vnd.jupyter.widget-view+json": {
       "version_major": 2,
       "version_minor": 0,
       "model_id": "fa5e8ff12a81491893febb8d6baac490"
      }
     },
     "metadata": {},
     "output_type": "display_data"
    },
    {
     "ename": "KeyboardInterrupt",
     "evalue": "",
     "output_type": "error",
     "traceback": [
      "\u001B[0;31m---------------------------------------------------------------------------\u001B[0m",
      "\u001B[0;31mKeyboardInterrupt\u001B[0m                         Traceback (most recent call last)",
      "Cell \u001B[0;32mIn[3], line 25\u001B[0m\n\u001B[1;32m     23\u001B[0m \u001B[38;5;66;03m# the loaded sleap file has them too, so exclude for both\u001B[39;00m\n\u001B[1;32m     24\u001B[0m idx_selected \u001B[38;5;241m=\u001B[39m [i \u001B[38;5;28;01mfor\u001B[39;00m i \u001B[38;5;129;01min\u001B[39;00m selected_pose_idx \u001B[38;5;28;01mif\u001B[39;00m i \u001B[38;5;129;01mnot\u001B[39;00m \u001B[38;5;129;01min\u001B[39;00m idx_llh]\n\u001B[0;32m---> 25\u001B[0m currdf_filt, _ \u001B[38;5;241m=\u001B[39m \u001B[43mfilter_pose_noise\u001B[49m\u001B[43m(\u001B[49m\u001B[43mtemp_df\u001B[49m\u001B[43m,\u001B[49m\u001B[43m \u001B[49m\u001B[43midx_selected\u001B[49m\u001B[38;5;241;43m=\u001B[39;49m\u001B[43midx_selected\u001B[49m\u001B[43m,\u001B[49m\u001B[43m \u001B[49m\u001B[43midx_llh\u001B[49m\u001B[38;5;241;43m=\u001B[39;49m\u001B[43midx_llh\u001B[49m\u001B[43m,\u001B[49m\u001B[43m \u001B[49m\n\u001B[1;32m     26\u001B[0m \u001B[43m                                   \u001B[49m\u001B[43mllh_value\u001B[49m\u001B[38;5;241;43m=\u001B[39;49m\u001B[38;5;241;43m0.1\u001B[39;49m\u001B[43m)\u001B[49m\n\u001B[1;32m     27\u001B[0m data[drug][group][condition][\u001B[38;5;124mf\u001B[39m\u001B[38;5;124m'\u001B[39m\u001B[38;5;124mfile\u001B[39m\u001B[38;5;132;01m{\u001B[39;00mi\u001B[38;5;132;01m}\u001B[39;00m\u001B[38;5;124m'\u001B[39m] \u001B[38;5;241m=\u001B[39m currdf_filt\n",
      "File \u001B[0;32m~/Documents/GitHub/acc-lupe-analysis/utils/feature_utils.py:26\u001B[0m, in \u001B[0;36mfilter_pose_noise\u001B[0;34m(pose, idx_selected, idx_llh, llh_value)\u001B[0m\n\u001B[1;32m     24\u001B[0m             currdf_filt[i, (\u001B[38;5;241m2\u001B[39m \u001B[38;5;241m*\u001B[39m x):(\u001B[38;5;241m2\u001B[39m \u001B[38;5;241m*\u001B[39m x \u001B[38;5;241m+\u001B[39m \u001B[38;5;241m2\u001B[39m)] \u001B[38;5;241m=\u001B[39m currdf_filt[i \u001B[38;5;241m-\u001B[39m \u001B[38;5;241m1\u001B[39m, (\u001B[38;5;241m2\u001B[39m \u001B[38;5;241m*\u001B[39m x):(\u001B[38;5;241m2\u001B[39m \u001B[38;5;241m*\u001B[39m x \u001B[38;5;241m+\u001B[39m \u001B[38;5;241m2\u001B[39m)]\n\u001B[1;32m     25\u001B[0m         \u001B[38;5;28;01melse\u001B[39;00m:\n\u001B[0;32m---> 26\u001B[0m             currdf_filt[i, (\u001B[38;5;241m2\u001B[39m \u001B[38;5;241m*\u001B[39m x):(\u001B[38;5;241m2\u001B[39m \u001B[38;5;241m*\u001B[39m x \u001B[38;5;241m+\u001B[39m \u001B[38;5;241m2\u001B[39m)] \u001B[38;5;241m=\u001B[39m \u001B[43mnp\u001B[49m\u001B[38;5;241;43m.\u001B[39;49m\u001B[43mhstack\u001B[49m\u001B[43m(\u001B[49m\u001B[43m[\u001B[49m\u001B[43mdatax\u001B[49m\u001B[43m[\u001B[49m\u001B[43mi\u001B[49m\u001B[43m,\u001B[49m\u001B[43m \u001B[49m\u001B[43mx\u001B[49m\u001B[43m]\u001B[49m\u001B[43m,\u001B[49m\u001B[43m \u001B[49m\u001B[43mdatay\u001B[49m\u001B[43m[\u001B[49m\u001B[43mi\u001B[49m\u001B[43m,\u001B[49m\u001B[43m \u001B[49m\u001B[43mx\u001B[49m\u001B[43m]\u001B[49m\u001B[43m]\u001B[49m\u001B[43m)\u001B[49m\n\u001B[1;32m     27\u001B[0m currdf_filt \u001B[38;5;241m=\u001B[39m np\u001B[38;5;241m.\u001B[39marray(currdf_filt)\n\u001B[1;32m     28\u001B[0m currdf_filt \u001B[38;5;241m=\u001B[39m currdf_filt\u001B[38;5;241m.\u001B[39mastype(\u001B[38;5;28mfloat\u001B[39m)\n",
      "File \u001B[0;32m/opt/anaconda3/envs/acc-lupe-analysis/lib/python3.11/site-packages/numpy/core/shape_base.py:215\u001B[0m, in \u001B[0;36m_vhstack_dispatcher\u001B[0;34m(tup, dtype, casting)\u001B[0m\n\u001B[1;32m    209\u001B[0m         \u001B[38;5;28;01mraise\u001B[39;00m \u001B[38;5;167;01mTypeError\u001B[39;00m(\u001B[38;5;124m'\u001B[39m\u001B[38;5;124marrays to stack must be passed as a \u001B[39m\u001B[38;5;124m\"\u001B[39m\u001B[38;5;124msequence\u001B[39m\u001B[38;5;124m\"\u001B[39m\u001B[38;5;124m type \u001B[39m\u001B[38;5;124m'\u001B[39m\n\u001B[1;32m    210\u001B[0m                         \u001B[38;5;124m'\u001B[39m\u001B[38;5;124msuch as list or tuple.\u001B[39m\u001B[38;5;124m'\u001B[39m)\n\u001B[1;32m    212\u001B[0m     \u001B[38;5;28;01mreturn\u001B[39;00m \u001B[38;5;28mtuple\u001B[39m(arrays)\n\u001B[0;32m--> 215\u001B[0m \u001B[38;5;28;01mdef\u001B[39;00m \u001B[38;5;21m_vhstack_dispatcher\u001B[39m(tup, \u001B[38;5;241m*\u001B[39m, dtype\u001B[38;5;241m=\u001B[39m\u001B[38;5;28;01mNone\u001B[39;00m, casting\u001B[38;5;241m=\u001B[39m\u001B[38;5;28;01mNone\u001B[39;00m):\n\u001B[1;32m    216\u001B[0m     \u001B[38;5;28;01mreturn\u001B[39;00m _arrays_for_stack_dispatcher(tup)\n\u001B[1;32m    219\u001B[0m \u001B[38;5;129m@array_function_dispatch\u001B[39m(_vhstack_dispatcher)\n\u001B[1;32m    220\u001B[0m \u001B[38;5;28;01mdef\u001B[39;00m \u001B[38;5;21mvstack\u001B[39m(tup, \u001B[38;5;241m*\u001B[39m, dtype\u001B[38;5;241m=\u001B[39m\u001B[38;5;28;01mNone\u001B[39;00m, casting\u001B[38;5;241m=\u001B[39m\u001B[38;5;124m\"\u001B[39m\u001B[38;5;124msame_kind\u001B[39m\u001B[38;5;124m\"\u001B[39m):\n",
      "\u001B[0;31mKeyboardInterrupt\u001B[0m: "
     ]
    }
   ],
   "source": [
    "filenames = {key: [] for key in drugs}\n",
    "data = {key: [] for key in drugs}\n",
    "for drug in notebook.tqdm(drugs):\n",
    "    filenames[drug] = {key: [] for key in groups}\n",
    "    data[drug] = {key: [] for key in groups}\n",
    "    for group in notebook.tqdm(groups):\n",
    "        filenames[drug][group] = {key: [] for key in conditions}\n",
    "        data[drug][group] = {key: [] for key in conditions}\n",
    "        for condition in notebook.tqdm(conditions):\n",
    "            \n",
    "            filenames[drug][group][condition] = glob.glob(str.join('/', \n",
    "                                                                  (data_root_dir,\n",
    "                                                                   f'{drug}',\n",
    "                                                                   f'{group}', \n",
    "                                                                   f'{condition}', \n",
    "                                                                   '*.csv')))\n",
    "            data[drug][group][condition] = {key: [] for key in [f'file{i}' \n",
    "                                                               for i in range(len(filenames[drug][group][condition]))]}\n",
    "            for i, csv in enumerate(notebook.tqdm(filenames[drug][group][condition])):\n",
    "                temp_df = pd.read_csv(csv, header=[0, 1, 2, 3], sep=\",\", index_col=0)\n",
    "                selected_pose_idx = np.arange(temp_df.shape[1])\n",
    "                idx_llh = selected_pose_idx[2::3]\n",
    "                # the loaded sleap file has them too, so exclude for both\n",
    "                idx_selected = [i for i in selected_pose_idx if i not in idx_llh]\n",
    "                currdf_filt, _ = filter_pose_noise(temp_df, idx_selected=idx_selected, idx_llh=idx_llh, \n",
    "                                                   llh_value=0.1)\n",
    "                data[drug][group][condition][f'file{i}'] = currdf_filt"
   ]
  },
  {
   "cell_type": "code",
   "execution_count": null,
   "id": "29555bd594bb3b17",
   "metadata": {
    "collapsed": false,
    "ExecuteTime": {
     "start_time": "2024-02-18T21:45:25.207618Z"
    }
   },
   "outputs": [],
   "source": [
    "file_chosen = 0\n",
    "filenames['Morphine']['Combined']['Control'][file_chosen]"
   ]
  },
  {
   "cell_type": "code",
   "execution_count": 2,
   "id": "6048f08d86980d1c",
   "metadata": {
    "collapsed": false,
    "ExecuteTime": {
     "end_time": "2024-03-01T15:38:59.023571Z",
     "start_time": "2024-03-01T15:38:58.912201Z"
    }
   },
   "outputs": [
    {
     "ename": "NameError",
     "evalue": "name 'data' is not defined",
     "output_type": "error",
     "traceback": [
      "\u001B[0;31m---------------------------------------------------------------------------\u001B[0m",
      "\u001B[0;31mNameError\u001B[0m                                 Traceback (most recent call last)",
      "Cell \u001B[0;32mIn[2], line 1\u001B[0m\n\u001B[0;32m----> 1\u001B[0m \u001B[43mdata\u001B[49m[\u001B[38;5;124m'\u001B[39m\u001B[38;5;124mMorphine_Formalin\u001B[39m\u001B[38;5;124m'\u001B[39m][\u001B[38;5;124m'\u001B[39m\u001B[38;5;124mFemale\u001B[39m\u001B[38;5;124m'\u001B[39m][\u001B[38;5;124m'\u001B[39m\u001B[38;5;124mExperimental\u001B[39m\u001B[38;5;124m'\u001B[39m][\u001B[38;5;124mf\u001B[39m\u001B[38;5;124m'\u001B[39m\u001B[38;5;124mfile\u001B[39m\u001B[38;5;132;01m{\u001B[39;00mfile_chosen\u001B[38;5;132;01m}\u001B[39;00m\u001B[38;5;124m'\u001B[39m]\n",
      "\u001B[0;31mNameError\u001B[0m: name 'data' is not defined"
     ]
    }
   ],
   "source": [
    "data['Morphine_Formalin']['Female']['Experimental'][f'file{file_chosen}']"
   ]
  },
  {
   "cell_type": "code",
   "execution_count": 7,
   "id": "95d2673da5545baf",
   "metadata": {
    "collapsed": false,
    "ExecuteTime": {
     "end_time": "2024-02-18T21:41:38.147779Z",
     "start_time": "2024-02-18T21:41:31.960176Z"
    }
   },
   "outputs": [],
   "source": [
    "with open('../processed_dataset/raw_data_study5.pkl', 'wb') as f:\n",
    "    pickle.dump(data, f)"
   ]
  }
 ],
 "metadata": {
  "kernelspec": {
   "display_name": "Python 3 (ipykernel)",
   "language": "python",
   "name": "python3"
  },
  "language_info": {
   "codemirror_mode": {
    "name": "ipython",
    "version": 3
   },
   "file_extension": ".py",
   "mimetype": "text/x-python",
   "name": "python",
   "nbconvert_exporter": "python",
   "pygments_lexer": "ipython3",
   "version": "3.11.0"
  }
 },
 "nbformat": 4,
 "nbformat_minor": 5
}
