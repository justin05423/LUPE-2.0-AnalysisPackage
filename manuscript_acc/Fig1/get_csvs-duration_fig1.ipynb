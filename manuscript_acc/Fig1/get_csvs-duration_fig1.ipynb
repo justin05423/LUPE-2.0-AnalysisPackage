{
 "cells": [
  {
   "cell_type": "code",
   "execution_count": 1,
   "id": "initial_id",
   "metadata": {
    "collapsed": false,
    "ExecuteTime": {
     "end_time": "2024-03-03T05:37:01.086531Z",
     "start_time": "2024-03-03T05:37:00.954202Z"
    }
   },
   "outputs": [],
   "source": [
    "import matplotlib.pyplot as plt\n",
    "import numpy as np\n",
    "import pandas as pd\n",
    "import os\n",
    "import sys\n",
    "\n",
    "if not os.path.join(os.path.abspath(''), '../') in sys.path:\n",
    "    sys.path.append(os.path.join(os.path.abspath(''), '../'))\n",
    "\n",
    "from utils.classification import load_behaviors\n",
    "from utils.meta import *\n",
    "import matplotlib\n",
    "import warnings\n",
    "import seaborn as sns"
   ]
  },
  {
   "cell_type": "code",
   "outputs": [],
   "source": [
    "behaviors = load_behaviors('../processed_dataset/behaviors.pkl')"
   ],
   "metadata": {
    "collapsed": false,
    "ExecuteTime": {
     "end_time": "2024-03-03T05:37:02.930424Z",
     "start_time": "2024-03-03T05:37:02.877929Z"
    }
   },
   "id": "4dd15f31ec6671ba",
   "execution_count": 2
  },
  {
   "cell_type": "code",
   "outputs": [
    {
     "data": {
      "text/plain": "{'file0': array([2, 2, 2, ..., 2, 2, 2]),\n 'file1': array([1, 1, 1, ..., 2, 2, 2]),\n 'file2': array([2, 2, 2, ..., 1, 1, 1]),\n 'file3': array([0, 0, 0, ..., 1, 1, 1]),\n 'file4': array([1, 1, 1, ..., 3, 3, 3]),\n 'file5': array([1, 1, 1, ..., 0, 0, 0]),\n 'file6': array([1, 1, 1, ..., 2, 2, 2]),\n 'file7': array([1, 1, 1, ..., 3, 3, 3]),\n 'file8': array([1, 1, 1, ..., 1, 1, 1]),\n 'file9': array([1, 1, 1, ..., 1, 1, 1])}"
     },
     "execution_count": 10,
     "metadata": {},
     "output_type": "execute_result"
    }
   ],
   "source": [
    "behaviors['Male']['Group1']['Condition1']"
   ],
   "metadata": {
    "collapsed": false,
    "ExecuteTime": {
     "end_time": "2024-03-03T05:35:54.221249Z",
     "start_time": "2024-03-03T05:35:54.219288Z"
    }
   },
   "id": "3d95832301f94879",
   "execution_count": 10
  },
  {
   "cell_type": "markdown",
   "source": [
    "## GET INDIVIDUAL CSV w/ duration + count"
   ],
   "metadata": {
    "collapsed": false
   },
   "id": "41fb7c22c87871e6"
  },
  {
   "cell_type": "code",
   "outputs": [],
   "source": [
    "import csv\n",
    "import numpy as np\n",
    "import os\n",
    "\n",
    "# CHANGE parameters as needed\n",
    "selected_sex = 'Female'\n",
    "selected_group = 'Group5'\n",
    "selected_condition = 'Condition3'\n",
    "\n",
    "selected_sex_dict = behaviors[selected_sex]\n",
    "selected_group_dict = selected_sex_dict[selected_group]\n",
    "selected_condition_dict = selected_group_dict[selected_condition]\n",
    "\n",
    "# Iterate over 10 files (file0, file1, file2, ..., file9)\n",
    "for file_index in range(10):\n",
    "    selected_file_key = f'file{file_index}'\n",
    "\n",
    "    # Check if the selected file key exists\n",
    "    if selected_file_key in selected_condition_dict:\n",
    "        file_data = selected_condition_dict[selected_file_key]\n",
    "\n",
    "        # Filter out values greater than 5\n",
    "        file_data = [x for x in file_data if x <= 5]\n",
    "\n",
    "        # Count the occurrences of each number from 0 to 5\n",
    "        counts = np.bincount(file_data)\n",
    "\n",
    "        # Calculate duration of each behavior in seconds and number of occurrences\n",
    "        behavior_durations = []\n",
    "        for num in range(6):\n",
    "            behavior_count = counts[num] if num < len(counts) else 0\n",
    "            behavior_duration_seconds = behavior_count / 3600\n",
    "            behavior_durations.append((num, behavior_duration_seconds, behavior_count))\n",
    "\n",
    "        # Construct filename with specified location\n",
    "        output_directory = \"../csvs/fig1_behavior_instance_durations/\"\n",
    "        if not os.path.exists(output_directory):\n",
    "            os.makedirs(output_directory)\n",
    "\n",
    "        filename = os.path.join(output_directory, f\"behavior_durations_{selected_sex}_{selected_group}_{selected_condition}_{selected_file_key}.csv\")\n",
    "\n",
    "        # Save behavior durations to CSV file\n",
    "        with open(filename, 'w', newline='') as csvfile:\n",
    "            writer = csv.writer(csvfile)\n",
    "            writer.writerow(['Behavior', 'Duration(minutes)', 'Count'])\n",
    "            for behavior_data in behavior_durations:\n",
    "                writer.writerow(behavior_data)\n",
    "    else:\n",
    "        print(f\"File key {selected_file_key} not found in the selected condition.\")\n"
   ],
   "metadata": {
    "collapsed": false,
    "ExecuteTime": {
     "end_time": "2024-03-03T06:04:15.041584Z",
     "start_time": "2024-03-03T06:04:14.985745Z"
    }
   },
   "id": "17974e3e780e349c",
   "execution_count": 52
  },
  {
   "cell_type": "markdown",
   "source": [
    "## CHECK INDIVIDUAL FILES"
   ],
   "metadata": {
    "collapsed": false
   },
   "id": "c8a3dcd980850486"
  },
  {
   "cell_type": "code",
   "outputs": [
    {
     "name": "stdout",
     "output_type": "stream",
     "text": [
      "File file9: [1 1 1 ... 0 0 0]\n",
      "Duration of behavior 0 in minutes: 2.569722222222222\n",
      "Duration of behavior 1 in minutes: 20.683333333333334\n",
      "Duration of behavior 2 in minutes: 2.28\n",
      "Duration of behavior 3 in minutes: 3.745\n",
      "Duration of behavior 4 in minutes: 0.625\n",
      "Duration of behavior 5 in minutes: 1.3466666666666667\n"
     ]
    }
   ],
   "source": [
    "import numpy as np\n",
    "\n",
    "# CHANGE parameters as needed\n",
    "selected_sex = 'Male'\n",
    "selected_group = 'Group4'\n",
    "selected_condition = 'Condition2'\n",
    "selected_file_key = 'file9'  # Specify the file key you are interested in\n",
    "\n",
    "selected_sex_dict = behaviors[selected_sex]\n",
    "selected_group_dict = selected_sex_dict[selected_group]\n",
    "selected_condition_dict = selected_group_dict[selected_condition]\n",
    "\n",
    "# Check if the selected file key exists\n",
    "if selected_file_key in selected_condition_dict:\n",
    "    file_data = selected_condition_dict[selected_file_key]\n",
    "    # Display the data for the selected file\n",
    "    print(f\"File {selected_file_key}: {file_data}\")\n",
    "\n",
    "    counts = np.bincount(file_data)\n",
    "\n",
    "    # Calculate duration of each behavior in seconds\n",
    "    for num in range(6):\n",
    "        behavior_count = counts[num] if num < len(counts) else 0\n",
    "        behavior_duration_seconds = behavior_count / 3600\n",
    "        behavior_durations.append((num, behavior_duration_seconds, behavior_count))\n",
    "        print(f\"Duration of behavior {num} in minutes: {behavior_duration_seconds}\")\n",
    "else:\n",
    "    print(\"File key not found in the selected condition.\")\n"
   ],
   "metadata": {
    "collapsed": false,
    "ExecuteTime": {
     "end_time": "2024-03-03T06:04:08.299911Z",
     "start_time": "2024-03-03T06:04:08.298060Z"
    }
   },
   "id": "dbbada28c1bca20d",
   "execution_count": 51
  },
  {
   "cell_type": "code",
   "outputs": [],
   "source": [],
   "metadata": {
    "collapsed": false
   },
   "id": "4646b3747791b757"
  }
 ],
 "metadata": {
  "kernelspec": {
   "display_name": "Python 3 (ipykernel)",
   "language": "python",
   "name": "python3"
  },
  "language_info": {
   "codemirror_mode": {
    "name": "ipython",
    "version": 3
   },
   "file_extension": ".py",
   "mimetype": "text/x-python",
   "name": "python",
   "nbconvert_exporter": "python",
   "pygments_lexer": "ipython3",
   "version": "3.11.0"
  }
 },
 "nbformat": 4,
 "nbformat_minor": 5
}
