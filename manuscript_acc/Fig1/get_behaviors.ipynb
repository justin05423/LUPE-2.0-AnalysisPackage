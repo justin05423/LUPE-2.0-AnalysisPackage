{
 "cells": [
  {
   "cell_type": "code",
   "execution_count": 7,
   "id": "initial_id",
   "metadata": {
    "collapsed": false,
    "ExecuteTime": {
     "end_time": "2024-02-28T22:25:12.268593Z",
     "start_time": "2024-02-28T22:25:12.263628Z"
    }
   },
   "outputs": [],
   "source": [
    "import matplotlib.pyplot as plt\n",
    "import numpy as np\n",
    "import seaborn as sns\n",
    "from matplotlib.colors import ListedColormap\n",
    "import os\n",
    "import sys\n",
    "\n",
    "if not os.path.join(os.path.abspath(''), '../') in sys.path:\n",
    "    sys.path.append(os.path.join(os.path.abspath(''), '../'))\n",
    "    \n",
    "from utils.classification import load_model, load_features, load_data, weighted_smoothing, load_behaviors\n",
    "from utils.meta import *\n",
    "from tqdm import notebook\n",
    "import pickle\n",
    "import os\n",
    "import pandas as pd"
   ]
  },
  {
   "cell_type": "markdown",
   "id": "a44009166e865e08",
   "metadata": {
    "collapsed": false
   },
   "source": [
    "### load model, preprocessed pose (filter out low likelihood), and binned features (smoothed distances, speed, angle etc)"
   ]
  },
  {
   "cell_type": "code",
   "execution_count": 8,
   "id": "c1ca9fb2a33975a1",
   "metadata": {
    "collapsed": false,
    "ExecuteTime": {
     "end_time": "2024-02-28T22:25:23.710065Z",
     "start_time": "2024-02-28T22:25:13.422396Z"
    }
   },
   "outputs": [],
   "source": [
    "model_path = '../model/model.pkl'\n",
    "model = load_model(model_path)\n",
    "data_path = '../processed_dataset/raw_data.pkl'\n",
    "poses = load_data(data_path)\n",
    "features_path = '../processed_dataset/binned_features.pkl'\n",
    "features = load_features(features_path)"
   ]
  },
  {
   "cell_type": "code",
   "outputs": [
    {
     "data": {
      "text/plain": "array([[  4.63054492,  40.86973781,  26.61928811, ...,   6.70898446,\n         36.38520622,  35.22702859],\n       [  3.36373213,  35.20939932,  26.78679427, ...,  56.4942333 ,\n         25.86776393,  24.8294438 ],\n       [ 40.1075854 ,  34.7793556 ,  37.61409457, ...,  13.39131696,\n         17.98808656,  26.2004224 ],\n       ...,\n       [ 32.43888699, 138.7055428 , 138.05428916, ...,  51.36845624,\n         55.71473436,  54.21091793],\n       [176.26178044,  93.13948199,  68.63581288, ...,  83.5004515 ,\n         38.16824506,  36.2898129 ],\n       [  0.        ,   0.        ,   0.        , ...,   0.        ,\n          0.        ,   0.        ]])"
     },
     "execution_count": 9,
     "metadata": {},
     "output_type": "execute_result"
    }
   ],
   "source": [
    "features['Female']['Group1']['Condition1']['file0'][0]"
   ],
   "metadata": {
    "collapsed": false,
    "ExecuteTime": {
     "end_time": "2024-02-28T22:25:23.715469Z",
     "start_time": "2024-02-28T22:25:23.711791Z"
    }
   },
   "id": "b956ad80b6dc12a6",
   "execution_count": 9
  },
  {
   "cell_type": "markdown",
   "id": "e618599488c49c2b",
   "metadata": {
    "collapsed": false
   },
   "source": [
    "### predict behaviors based on features"
   ]
  },
  {
   "cell_type": "code",
   "execution_count": 10,
   "id": "e8b81a268d7b22ef",
   "metadata": {
    "collapsed": false,
    "ExecuteTime": {
     "end_time": "2024-02-28T22:25:23.864472Z",
     "start_time": "2024-02-28T22:25:23.716912Z"
    }
   },
   "outputs": [],
   "source": [
    "repeat_n = 6\n",
    "if 'behaviors.pkl' not in os.listdir('../processed_dataset/'):\n",
    "\n",
    "    behaviors = {key: [] for key in sexes}\n",
    "    for sex in notebook.tqdm(sexes):\n",
    "        behaviors[sex] = {key: [] for key in groups}\n",
    "        for group in notebook.tqdm(groups):\n",
    "            if group == 'Group6':\n",
    "                behaviors[sex][group] = {key: [] for key in [conditions_extra[0]]}\n",
    "                for condition in [conditions_extra[0]]:\n",
    "    \n",
    "                    behaviors[sex][group][condition] = {key: [] for key in [f'file{i}' \n",
    "                                                       for i in range(len(poses[sex][group][condition]))]}\n",
    "    \n",
    "                    for i in range(len(poses[sex][group][condition])):\n",
    "                        total_n_frames = poses[sex][group][condition][f'file{i}'].shape[0]\n",
    "                        # predict downsampled features\n",
    "                        predict_ds = model.predict(features[sex][group][condition][f'file{i}'][0])\n",
    "                        # upsample by duplicating\n",
    "                        predictions = np.pad(predict_ds.repeat(repeat_n), (repeat_n, 0), 'edge')[:total_n_frames]\n",
    "                        # smooth with minimum 12 frames (200ms)\n",
    "                        behaviors[sex][group][condition][f'file{i}'] = weighted_smoothing(predictions, size=12)\n",
    "    \n",
    "            elif group == 'Group7':\n",
    "                behaviors[sex][group] = {key: [] for key in [conditions_extra[1]]}\n",
    "                for condition in [conditions_extra[1]]:\n",
    "                    behaviors[sex][group][condition] = {key: [] for key in [f'file{i}' \n",
    "                                   for i in range(len(poses[sex][group][condition]))]}\n",
    "\n",
    "                    for i in range(len(poses[sex][group][condition])):\n",
    "                        total_n_frames = poses[sex][group][condition][f'file{i}'].shape[0]\n",
    "                        # predict downsampled features\n",
    "                        predict_ds = model.predict(features[sex][group][condition][f'file{i}'][0])\n",
    "                        # upsample by duplicating\n",
    "                        predictions = np.pad(predict_ds.repeat(repeat_n), (repeat_n, 0), 'edge')[:total_n_frames]\n",
    "                        # smooth with minimum 12 frames (200ms)\n",
    "                        behaviors[sex][group][condition][f'file{i}'] = weighted_smoothing(predictions, size=12)\n",
    "            else:\n",
    "                behaviors[sex][group] = {key: [] for key in conditions}\n",
    "                for condition in notebook.tqdm(conditions):\n",
    "                    behaviors[sex][group][condition] = {key: [] for key in [f'file{i}' \n",
    "                                                       for i in range(len(poses[sex][group][condition]))]}\n",
    "    \n",
    "                    for i in range(len(poses[sex][group][condition])):\n",
    "                        total_n_frames = poses[sex][group][condition][f'file{i}'].shape[0]\n",
    "                        # predict downsampled features\n",
    "                        predict_ds = model.predict(features[sex][group][condition][f'file{i}'][0])\n",
    "                        # upsample by duplicating\n",
    "                        predictions = np.pad(predict_ds.repeat(repeat_n), (repeat_n, 0), 'edge')[:total_n_frames]\n",
    "                        # smooth with minimum 12 frames (200ms)\n",
    "                        behaviors[sex][group][condition][f'file{i}'] = weighted_smoothing(predictions, size=12)\n",
    "else:\n",
    "    behaviors = load_behaviors('../processed_dataset/behaviors.pkl')"
   ]
  },
  {
   "cell_type": "code",
   "execution_count": 11,
   "id": "d29398ed449e8fd3",
   "metadata": {
    "collapsed": false,
    "ExecuteTime": {
     "end_time": "2024-02-28T22:25:25.646178Z",
     "start_time": "2024-02-28T22:25:25.640942Z"
    }
   },
   "outputs": [
    {
     "name": "stdout",
     "output_type": "stream",
     "text": [
      "Predicted behaviors exists!\n"
     ]
    }
   ],
   "source": [
    "if 'behaviors.pkl' not in os.listdir('../processed_dataset/'):\n",
    "    with open('../processed_dataset/behaviors.pkl', 'wb') as f:\n",
    "        pickle.dump(behaviors, f)\n",
    "else:\n",
    "    print('Predicted behaviors exists!')"
   ]
  },
  {
   "cell_type": "code",
   "execution_count": 12,
   "id": "3801ef481f8f9a44",
   "metadata": {
    "collapsed": false,
    "ExecuteTime": {
     "end_time": "2024-02-28T22:25:34.471023Z",
     "start_time": "2024-02-28T22:25:34.465797Z"
    }
   },
   "outputs": [
    {
     "data": {
      "text/plain": "array([0, 0, 0, ..., 2, 2, 2])"
     },
     "execution_count": 12,
     "metadata": {},
     "output_type": "execute_result"
    }
   ],
   "source": [
    "behaviors['Male']['Group1']['Condition3']['file5'][:3600] # 3600frames = 1 minute (60*60)"
   ]
  },
  {
   "cell_type": "code",
   "execution_count": 33,
   "id": "fd030a88bb53b6a5",
   "metadata": {
    "ExecuteTime": {
     "end_time": "2024-01-11T22:02:56.009296Z",
     "start_time": "2024-01-11T22:02:56.001895Z"
    },
    "collapsed": false
   },
   "outputs": [
    {
     "data": {
      "text/plain": [
       "array([2, 2, 2, ..., 1, 1, 1])"
      ]
     },
     "execution_count": 33,
     "metadata": {},
     "output_type": "execute_result"
    }
   ],
   "source": [
    "np.hstack([behaviors['Male']['Group1']['Condition1'][f'file{i}'] for i in range(len(behaviors['Male']['Group1']['Condition1']))])"
   ]
  },
  {
   "cell_type": "markdown",
   "id": "54736495c6c17aa",
   "metadata": {
    "collapsed": false
   },
   "source": [
    "### quick view of example behavior distribution"
   ]
  },
  {
   "cell_type": "code",
   "execution_count": 59,
   "id": "fa49a35cbc41a1e0",
   "metadata": {
    "ExecuteTime": {
     "end_time": "2024-01-11T22:15:16.718953Z",
     "start_time": "2024-01-11T22:15:16.604737Z"
    },
    "collapsed": false
   },
   "outputs": [
    {
     "data": {
      "text/html": [
       "<div>\n",
       "<style scoped>\n",
       "    .dataframe tbody tr th:only-of-type {\n",
       "        vertical-align: middle;\n",
       "    }\n",
       "\n",
       "    .dataframe tbody tr th {\n",
       "        vertical-align: top;\n",
       "    }\n",
       "\n",
       "    .dataframe thead th {\n",
       "        text-align: right;\n",
       "    }\n",
       "</style>\n",
       "<table border=\"1\" class=\"dataframe\">\n",
       "  <thead>\n",
       "    <tr style=\"text-align: right;\">\n",
       "      <th></th>\n",
       "      <th>values</th>\n",
       "      <th>labels</th>\n",
       "      <th>colors</th>\n",
       "    </tr>\n",
       "  </thead>\n",
       "  <tbody>\n",
       "    <tr>\n",
       "      <th>0</th>\n",
       "      <td>428950</td>\n",
       "      <td>walking</td>\n",
       "      <td>darkcyan</td>\n",
       "    </tr>\n",
       "    <tr>\n",
       "      <th>1</th>\n",
       "      <td>154464</td>\n",
       "      <td>grooming</td>\n",
       "      <td>royalblue</td>\n",
       "    </tr>\n",
       "    <tr>\n",
       "      <th>2</th>\n",
       "      <td>39348</td>\n",
       "      <td>licking hindpaw L</td>\n",
       "      <td>rebeccapurple</td>\n",
       "    </tr>\n",
       "    <tr>\n",
       "      <th>3</th>\n",
       "      <td>378743</td>\n",
       "      <td>still</td>\n",
       "      <td>crimson</td>\n",
       "    </tr>\n",
       "    <tr>\n",
       "      <th>4</th>\n",
       "      <td>115957</td>\n",
       "      <td>rearing</td>\n",
       "      <td>goldenrod</td>\n",
       "    </tr>\n",
       "    <tr>\n",
       "      <th>5</th>\n",
       "      <td>7536</td>\n",
       "      <td>licking hindpaw_R</td>\n",
       "      <td>mediumorchid</td>\n",
       "    </tr>\n",
       "  </tbody>\n",
       "</table>\n",
       "</div>"
      ],
      "text/plain": [
       "   values             labels         colors\n",
       "0  428950            walking       darkcyan\n",
       "1  154464           grooming      royalblue\n",
       "2   39348  licking hindpaw L  rebeccapurple\n",
       "3  378743              still        crimson\n",
       "4  115957            rearing      goldenrod\n",
       "5    7536  licking hindpaw_R   mediumorchid"
      ]
     },
     "execution_count": 59,
     "metadata": {},
     "output_type": "execute_result"
    }
   ],
   "source": [
    "selected_sex = 'Male'\n",
    "selected_group = 'Group3'\n",
    "selected_condition = 'Condition3'\n",
    "\n",
    "predict_dict = {'condition': np.repeat(selected_condition, \n",
    "                                       len(np.hstack([behaviors[selected_sex][selected_group][selected_condition][f'file{i}'] \n",
    "                                                      for i in range(len(behaviors[selected_sex][selected_group][selected_condition]))]))),\n",
    "                'behavior': np.hstack([behaviors[selected_sex][selected_group][selected_condition][f'file{i}'] \n",
    "                                       for i in range(len(behaviors[selected_sex][selected_group][selected_condition]))])}\n",
    "df_raw = pd.DataFrame(data=predict_dict)\n",
    "labels = df_raw['behavior'].value_counts(sort=False).index\n",
    "values = df_raw['behavior'].value_counts(sort=False).values\n",
    "# summary dataframe\n",
    "df = pd.DataFrame()\n",
    "behavior_labels = []\n",
    "for l in labels:\n",
    "    behavior_labels.append(behavior_names[int(l)])\n",
    "df[\"values\"] = values\n",
    "df['labels'] = behavior_labels\n",
    "df[\"colors\"] = df[\"labels\"].apply(lambda x:\n",
    "                                  behavior_colors[behavior_names.index(x)])  # to connect Column value to Color in Dict\n",
    "df"
   ]
  },
  {
   "cell_type": "code",
   "execution_count": 64,
   "id": "38ab6d096e4379b2",
   "metadata": {
    "ExecuteTime": {
     "end_time": "2024-01-11T22:16:46.168407Z",
     "start_time": "2024-01-11T22:16:46.118047Z"
    },
    "collapsed": false
   },
   "outputs": [
    {
     "data": {
      "image/png": "[encoded data removed]",
      "text/plain": [
       "<Figure size 400x300 with 1 Axes>"
      ]
     },
     "metadata": {},
     "output_type": "display_data"
    }
   ],
   "source": [
    "fig, ax = plt.subplots(1, 1, figsize=(4, 3))\n",
    "# Pie Chart\n",
    "ax.pie(df['values'], \n",
    "       colors=df['colors'], \n",
    "       labels=df['labels'],\n",
    "       autopct='%1.1f%%', pctdistance=0.85)\n",
    "# draw circle\n",
    "centre_circle = plt.Circle((0, 0), 0.50, fc='white')\n",
    "# Adding Circle in Pie chart\n",
    "fig.gca().add_artist(centre_circle)\n",
    "ax.set_title('Behavior distribution')\n",
    "# Displaying Chart\n",
    "plt.show()"
   ]
  },
  {
   "cell_type": "markdown",
   "id": "50d251c99413a880",
   "metadata": {
    "collapsed": false
   },
   "source": [
    "### file save, change the extension to change the file format"
   ]
  },
  {
   "cell_type": "code",
   "execution_count": 65,
   "id": "94ff64e33cc2523",
   "metadata": {
    "ExecuteTime": {
     "end_time": "2024-01-11T22:16:50.948167Z",
     "start_time": "2024-01-11T22:16:50.903492Z"
    },
    "collapsed": false
   },
   "outputs": [],
   "source": [
    "fig.savefig(f'../figures/example_distribution_'\n",
    "            f'{selected_sex}_{selected_group}_{selected_condition}.svg', \n",
    "            dpi=600, bbox_inches='tight')"
   ]
  }
 ],
 "metadata": {
  "kernelspec": {
   "display_name": "Python 3 (ipykernel)",
   "language": "python",
   "name": "python3"
  },
  "language_info": {
   "codemirror_mode": {
    "name": "ipython",
    "version": 3
   },
   "file_extension": ".py",
   "mimetype": "text/x-python",
   "name": "python",
   "nbconvert_exporter": "python",
   "pygments_lexer": "ipython3",
   "version": "3.11.0"
  }
 },
 "nbformat": 4,
 "nbformat_minor": 5
}
