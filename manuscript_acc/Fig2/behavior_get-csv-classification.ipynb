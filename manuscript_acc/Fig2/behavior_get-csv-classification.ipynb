{
 "cells": [
  {
   "cell_type": "markdown",
   "source": [
    "# Behavior Analysis: Get CSVs with Behavior Classification Across Files"
   ],
   "metadata": {
    "collapsed": false
   },
   "id": "1e03de428c1b3db0"
  },
  {
   "cell_type": "markdown",
   "source": [
    "Press SHIFT + ENTER to run code"
   ],
   "metadata": {
    "collapsed": false
   },
   "id": "cfd6a360bf17b7d9"
  },
  {
   "cell_type": "markdown",
   "source": [
    "### USER INPUT!"
   ],
   "metadata": {
    "collapsed": false
   },
   "id": "ffb7624fdfd93586"
  },
  {
   "cell_type": "code",
   "execution_count": 1,
   "id": "c1ca9fb2a33975a1",
   "metadata": {
    "collapsed": false,
    "ExecuteTime": {
     "end_time": "2024-08-09T15:25:05.816249Z",
     "start_time": "2024-08-09T15:25:05.813037Z"
    }
   },
   "outputs": [],
   "source": [
    "## Define project\n",
    "project_name = 'project_acc_MiniscopeCap'"
   ]
  },
  {
   "cell_type": "markdown",
   "source": [
    "### Main Code: Create CSVs for Behavior Classification (per frame)"
   ],
   "metadata": {
    "collapsed": false
   },
   "id": "6ab92dbcfe823ad4"
  },
  {
   "cell_type": "code",
   "outputs": [
    {
     "name": "stdout",
     "output_type": "stream",
     "text": [
      "Saved Combined_A_baseline_file0.csv\n",
      "Saved Combined_A_baseline_file1.csv\n",
      "Saved Combined_A_baseline_file2.csv\n",
      "Saved Combined_A_baseline_file3.csv\n",
      "Saved Combined_A_baseline_file4.csv\n",
      "Saved Combined_B_exp_cap_file0.csv\n",
      "Saved Combined_B_exp_cap_file1.csv\n",
      "Saved Combined_B_exp_cap_file2.csv\n",
      "Saved Combined_B_exp_cap_file3.csv\n",
      "Saved Combined_B_exp_cap_file4.csv\n",
      "Saved Combined_C_baseline_morphine_file0.csv\n",
      "Saved Combined_C_baseline_morphine_file1.csv\n",
      "Saved Combined_C_baseline_morphine_file2.csv\n",
      "Saved Combined_C_baseline_morphine_file3.csv\n",
      "Saved Combined_C_baseline_morphine_file4.csv\n",
      "Saved Combined_D_exp_morphine-cap_file0.csv\n",
      "Saved Combined_D_exp_morphine-cap_file1.csv\n",
      "Saved Combined_D_exp_morphine-cap_file2.csv\n",
      "Saved Combined_D_exp_morphine-cap_file3.csv\n",
      "Saved Combined_D_exp_morphine-cap_file4.csv\n",
      "Saved Combined_A_baseline_file0.csv\n",
      "Saved Combined_A_baseline_file1.csv\n",
      "Saved Combined_A_baseline_file2.csv\n",
      "Saved Combined_A_baseline_file3.csv\n",
      "Saved Combined_A_baseline_file4.csv\n",
      "Saved Combined_B_exp_cap_file0.csv\n",
      "Saved Combined_B_exp_cap_file1.csv\n",
      "Saved Combined_B_exp_cap_file2.csv\n",
      "Saved Combined_B_exp_cap_file3.csv\n",
      "Saved Combined_B_exp_cap_file4.csv\n",
      "Saved Combined_C_baseline_morphine_file0.csv\n",
      "Saved Combined_C_baseline_morphine_file1.csv\n",
      "Saved Combined_C_baseline_morphine_file2.csv\n",
      "Saved Combined_C_baseline_morphine_file3.csv\n",
      "Saved Combined_C_baseline_morphine_file4.csv\n",
      "Saved Combined_D_exp_morphine-cap_file0.csv\n",
      "Saved Combined_D_exp_morphine-cap_file1.csv\n",
      "Saved Combined_D_exp_morphine-cap_file2.csv\n",
      "Saved Combined_D_exp_morphine-cap_file3.csv\n",
      "Saved Combined_D_exp_morphine-cap_file4.csv\n",
      "All files saved.\n"
     ]
    }
   ],
   "source": [
    "import os\n",
    "import pandas as pd\n",
    "from utils.classification import load_model, load_features, load_data, weighted_smoothing, load_behaviors\n",
    "\n",
    "behaviors = load_behaviors(f\"../processed_dataset/{project_name}/behaviors_{project_name}.pkl\")\n",
    "\n",
    "# Directory to save the CSV files\n",
    "output_dir = f'../processed_dataset/{project_name}/figures/behaviors_csv_raw-classification/frames'\n",
    "os.makedirs(output_dir, exist_ok=True)\n",
    "\n",
    "# Behaviors per frame\n",
    "for group, conditions in behaviors.items():\n",
    "    for condition, files in conditions.items():\n",
    "        for file_key, data in files.items():\n",
    "            # Create a DataFrame from the data\n",
    "            df = pd.DataFrame({'frame': range(1, len(data) + 1), 'behavior': data})\n",
    "            \n",
    "            # Construct the filename\n",
    "            csv_filename = f'{group}_{condition}_{file_key}.csv'\n",
    "            \n",
    "            # Save the DataFrame to a CSV file\n",
    "            df.to_csv(os.path.join(output_dir, csv_filename), index=False)\n",
    "            print(f'Saved {csv_filename}')\n",
    "\n",
    "# Directory to save the CSV files\n",
    "output_dir = f'../processed_dataset/{project_name}/figures/behaviors_csv_raw-classification/seconds'\n",
    "os.makedirs(output_dir, exist_ok=True)\n",
    "\n",
    "# Behaviors per second\n",
    "frame_rate = 60\n",
    "for group, conditions in behaviors.items():\n",
    "    for condition, files in conditions.items():\n",
    "        for file_key, data in files.items():\n",
    "            # Create a DataFrame from the data\n",
    "            df = pd.DataFrame({'time_seconds': [i / frame_rate for i in range(len(data))], 'behavior': data})\n",
    "            \n",
    "            # Construct the filename\n",
    "            csv_filename = f'{group}_{condition}_{file_key}.csv'\n",
    "            \n",
    "            # Save the DataFrame to a CSV file\n",
    "            df.to_csv(os.path.join(output_dir, csv_filename), index=False)\n",
    "            print(f'Saved {csv_filename}')\n",
    "            \n",
    "print('All files saved.')"
   ],
   "metadata": {
    "collapsed": false,
    "ExecuteTime": {
     "end_time": "2024-08-09T15:25:08.729838Z",
     "start_time": "2024-08-09T15:25:06.537311Z"
    }
   },
   "id": "c5bf492ea7a289e8",
   "execution_count": 2
  },
  {
   "cell_type": "markdown",
   "source": [
    "# COMPLETE"
   ],
   "metadata": {
    "collapsed": false
   },
   "id": "be7991e8261f981b"
  },
  {
   "cell_type": "code",
   "outputs": [],
   "source": [],
   "metadata": {
    "collapsed": false
   },
   "id": "952428c9a297bea5"
  }
 ],
 "metadata": {
  "kernelspec": {
   "display_name": "Python 3 (ipykernel)",
   "language": "python",
   "name": "python3"
  },
  "language_info": {
   "codemirror_mode": {
    "name": "ipython",
    "version": 3
   },
   "file_extension": ".py",
   "mimetype": "text/x-python",
   "name": "python",
   "nbconvert_exporter": "python",
   "pygments_lexer": "ipython3",
   "version": "3.11.0"
  }
 },
 "nbformat": 4,
 "nbformat_minor": 5
}
