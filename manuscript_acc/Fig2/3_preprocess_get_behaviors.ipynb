{
 "cells": [
  {
   "cell_type": "markdown",
   "source": [
    "# STEP 3: preprocess_get_behaviors"
   ],
   "metadata": {
    "collapsed": false
   },
   "id": "1e03de428c1b3db0"
  },
  {
   "cell_type": "markdown",
   "source": [
    "Press SHIFT + ENTER to run code"
   ],
   "metadata": {
    "collapsed": false
   },
   "id": "cfd6a360bf17b7d9"
  },
  {
   "cell_type": "markdown",
   "source": [
    "### USER INPUT!"
   ],
   "metadata": {
    "collapsed": false
   },
   "id": "ffb7624fdfd93586"
  },
  {
   "cell_type": "code",
   "execution_count": 1,
   "id": "c1ca9fb2a33975a1",
   "metadata": {
    "collapsed": false,
    "ExecuteTime": {
     "end_time": "2024-08-09T15:23:35.197545Z",
     "start_time": "2024-08-09T15:23:35.193975Z"
    }
   },
   "outputs": [],
   "source": [
    "## Define project\n",
    "project_name = 'project_acc_MiniscopeCap'"
   ]
  },
  {
   "cell_type": "markdown",
   "id": "e618599488c49c2b",
   "metadata": {
    "collapsed": false
   },
   "source": [
    "### MAIN CODE: predict behaviors based on features\n",
    "USER INPUT NEEDED BELOW!!! \n",
    "WAIT UNTIL CODE FINISHES PROCESSING DATA"
   ]
  },
  {
   "cell_type": "code",
   "outputs": [
    {
     "data": {
      "text/plain": "  0%|          | 0/1 [00:00<?, ?it/s]",
      "application/vnd.jupyter.widget-view+json": {
       "version_major": 2,
       "version_minor": 0,
       "model_id": "fabc93ad5a7841fbba79df50b4e0710a"
      }
     },
     "metadata": {},
     "output_type": "display_data"
    },
    {
     "data": {
      "text/plain": "  0%|          | 0/4 [00:00<?, ?it/s]",
      "application/vnd.jupyter.widget-view+json": {
       "version_major": 2,
       "version_minor": 0,
       "model_id": "d5a2442857f54ce38b47f5b18167e0b8"
      }
     },
     "metadata": {},
     "output_type": "display_data"
    }
   ],
   "source": [
    "###### RUN DEPENDENCIES ######\n",
    "import matplotlib.pyplot as plt\n",
    "import numpy as np\n",
    "import seaborn as sns\n",
    "from matplotlib.colors import ListedColormap\n",
    "import os\n",
    "import sys\n",
    "if not os.path.join(os.path.abspath(''), '../') in sys.path:\n",
    "    sys.path.append(os.path.join(os.path.abspath(''), '../'))\n",
    "from utils.classification import load_model, load_features, load_data, weighted_smoothing, load_behaviors\n",
    "from utils.meta import *\n",
    "from tqdm import notebook\n",
    "import pickle\n",
    "import os\n",
    "import pandas as pd\n",
    "\n",
    "\n",
    "###### LOAD: model, preprocessed pose, and binned features ######\n",
    "model_path = '../model/model.pkl'\n",
    "model = load_model(model_path)\n",
    "data_path = f\"../processed_dataset/{project_name}/raw_data_{project_name}.pkl\"\n",
    "poses = load_data(data_path)\n",
    "features_path = f\"../processed_dataset/{project_name}/binned_features_{project_name}.pkl\"\n",
    "features = load_features(features_path)\n",
    "\n",
    "repeat_n = 6\n",
    "if f\"behaviors_{project_name}.pkl\" not in os.listdir(f\"../processed_dataset/{project_name}\"):\n",
    "    behaviors = {key: [] for key in groups_project_acc_MiniscopeCap} # *** CHANGE to groups_{project_name} manually *** #\n",
    "    for group in notebook.tqdm(groups_project_acc_MiniscopeCap): # *** CHANGE to groups_{project_name} manually *** #\n",
    "        behaviors[group] = {key: [] for key in conditions_project_acc_MiniscopeCap} # *** CHANGE to conditions_{project_name} manually *** #\n",
    "        for condition in notebook.tqdm(conditions_project_acc_MiniscopeCap): # *** CHANGE to conditions_{project_name} manually *** #\n",
    "            behaviors[group][condition] = {key: [] for key in [f'file{i}' \n",
    "                                               for i in range(len(poses[group][condition]))]}\n",
    "    \n",
    "            for i in range(len(poses[group][condition])):\n",
    "                total_n_frames = poses[group][condition][f'file{i}'].shape[0]\n",
    "                # predict downsampled features\n",
    "                predict_ds = model.predict(features[group][condition][f'file{i}'][0])\n",
    "                # upsample by duplicating\n",
    "                predictions = np.pad(predict_ds.repeat(repeat_n), (repeat_n, 0), 'edge')[:total_n_frames]\n",
    "                # smooth with minimum 12 frames (200ms)\n",
    "                behaviors[group][condition][f'file{i}'] = weighted_smoothing(predictions, size=12)\n",
    "else:\n",
    "    behaviors = load_behaviors(f\"../processed_dataset/{project_name}/behaviors_{project_name}.pkl\")\n",
    "\n",
    "###### WAIT UNTIL CODE FINISHES PROCESSING DATA ######"
   ],
   "metadata": {
    "collapsed": false,
    "ExecuteTime": {
     "end_time": "2024-08-09T15:23:46.027685Z",
     "start_time": "2024-08-09T15:23:42.704305Z"
    }
   },
   "id": "3bc0d5eba349797f",
   "execution_count": 2
  },
  {
   "cell_type": "code",
   "execution_count": 3,
   "id": "d29398ed449e8fd3",
   "metadata": {
    "collapsed": false,
    "ExecuteTime": {
     "end_time": "2024-08-09T15:23:47.797416Z",
     "start_time": "2024-08-09T15:23:47.781798Z"
    }
   },
   "outputs": [],
   "source": [
    "###### STORE ALL BEHAVIORS IN DICTIONARY ######  \n",
    "if f\"behaviors_{project_name}.pkl\" not in os.listdir(f\"../processed_dataset/{project_name}\"):\n",
    "    with open(f\"../processed_dataset/{project_name}/behaviors_{project_name}.pkl\", 'wb') as f:\n",
    "        pickle.dump(behaviors, f)\n",
    "else:\n",
    "    print('Predicted behaviors exists!')"
   ]
  },
  {
   "cell_type": "markdown",
   "source": [
    "# PREPROCESS COMPLETE! Move on to behavior analysis + figure generation!"
   ],
   "metadata": {
    "collapsed": false
   },
   "id": "61f24b0cb2779fd0"
  },
  {
   "cell_type": "code",
   "outputs": [],
   "source": [],
   "metadata": {
    "collapsed": false
   },
   "id": "af09c6f645058eb6"
  }
 ],
 "metadata": {
  "kernelspec": {
   "display_name": "Python 3 (ipykernel)",
   "language": "python",
   "name": "python3"
  },
  "language_info": {
   "codemirror_mode": {
    "name": "ipython",
    "version": 3
   },
   "file_extension": ".py",
   "mimetype": "text/x-python",
   "name": "python",
   "nbconvert_exporter": "python",
   "pygments_lexer": "ipython3",
   "version": "3.11.0"
  }
 },
 "nbformat": 4,
 "nbformat_minor": 5
}
