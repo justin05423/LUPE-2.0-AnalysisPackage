{
 "cells": [
  {
   "cell_type": "markdown",
   "source": [
    "#  WORKS!!!"
   ],
   "metadata": {
    "collapsed": false
   },
   "id": "3d2a115bf1d725d0"
  },
  {
   "cell_type": "markdown",
   "source": [
    "## combined w/ filenames"
   ],
   "metadata": {
    "collapsed": false
   },
   "id": "ef3327f337619b1a"
  },
  {
   "cell_type": "code",
   "outputs": [],
   "source": [
    "import os\n",
    "import pandas as pd\n",
    "\n",
    "# Path to the folder containing CSV files\n",
    "folder_path = '../csvs/csv-behavior_sni-mMORp-DREADD_sex/A_Baseline_NoSNI'\n",
    "\n",
    "group = 'Male_Group1'\n",
    "\n",
    "# List to store all individual dataframes\n",
    "dfs = []\n",
    "\n",
    "# Iterate over each file in the folder\n",
    "for file_name in os.listdir(folder_path):\n",
    "    if file_name.endswith('.csv'):\n",
    "        file_path = os.path.join(folder_path, file_name)\n",
    "        # Read the CSV file into a dataframe\n",
    "        df = pd.read_csv(file_path)\n",
    "        # Exclude the first column\n",
    "        df = df.iloc[:, 1:]\n",
    "        # Rename the columns to avoid duplicates\n",
    "        df.columns = [f'{col}_{file_name}' for col in df.columns]\n",
    "        # Add the dataframe to the list\n",
    "        dfs.append(df)\n",
    "\n",
    "# Concatenate all dataframes in the list along the columns axis\n",
    "combined_df = pd.concat(dfs, axis=1)\n",
    "\n",
    "# Save the combined dataframe to a new CSV file\n",
    "combined_df.to_csv(f'../csvs/Condition3_FormalinDrug/{group}_filenamed.csv', index=False)\n"
   ],
   "metadata": {
    "collapsed": false,
    "ExecuteTime": {
     "end_time": "2024-03-10T22:54:01.909710Z",
     "start_time": "2024-03-10T22:54:01.902375Z"
    }
   },
   "id": "94f14ec28365a874",
   "execution_count": 3
  },
  {
   "cell_type": "markdown",
   "source": [
    "## combined w/ behaviors rearranged "
   ],
   "metadata": {
    "collapsed": false
   },
   "id": "cdbcbcaaaf4b0589"
  },
  {
   "cell_type": "code",
   "outputs": [],
   "source": [
    "import os\n",
    "import pandas as pd\n",
    "\n",
    "#### STEP 1 Combine Indiviual Files\n",
    "\n",
    "#### CHANGE ACCORDINGLY => Path to the folder containing CSV files // Group name\n",
    "group = 'Male_Experimental'\n",
    "folder_path = f'../csvs/fig4_oprm1-reexpress_morphine/{group}'\n",
    "\n",
    "dfs = []\n",
    "max_rows = 0\n",
    "\n",
    "# Iterate over each file in the folder\n",
    "for file_name in os.listdir(folder_path):\n",
    "    if file_name.endswith('.csv'):\n",
    "        file_path = os.path.join(folder_path, file_name)\n",
    "        # Read the CSV file into a dataframe\n",
    "        df = pd.read_csv(file_path, index_col=0)\n",
    "        # Update the maximum number of rows\n",
    "        max_rows = max(max_rows, df.shape[0])\n",
    "        # Add the dataframe to the list\n",
    "        dfs.append(df)\n",
    "\n",
    "# Align the rows by filling missing rows with NaN\n",
    "aligned_dfs = []\n",
    "for df in dfs:\n",
    "    rows_to_add = max_rows - df.shape[0]\n",
    "    if rows_to_add > 0:\n",
    "        extra_rows = pd.DataFrame([[float('nan')] * df.shape[1]] * rows_to_add, index=range(df.shape[0], max_rows), columns=df.columns)\n",
    "        df = pd.concat([df, extra_rows])\n",
    "    aligned_dfs.append(df)\n",
    "\n",
    "combined_df = pd.concat(aligned_dfs, axis=1)\n",
    "combined_df.to_csv(f'../csvs/fig4_oprm1-reexpress_morphine/{group}_separated.csv')\n",
    "\n",
    "#### STEP 2 Rearrange By Behavior\n",
    "\n",
    "combined_df = pd.read_csv(f'../csvs/fig4_oprm1-reexpress_morphine/{group}_separated.csv', index_col=0)\n",
    "\n",
    "# Dictionary to store columns for each header value ('0', '1', '2', '3', '4', '5')\n",
    "header_columns = {}\n",
    "\n",
    "# Iterate over the columns\n",
    "for col in combined_df.columns:\n",
    "    header = col.split('_')[0]  # Extract the header value\n",
    "    if header not in header_columns:\n",
    "        header_columns[header] = []  # Initialize an empty list for the header value\n",
    "    header_columns[header].append(col)  # Append the column to the corresponding header value\n",
    "\n",
    "# List to store rearranged columns\n",
    "rearranged_columns = []\n",
    "\n",
    "# Iterate over the header values and concatenate columns for each header value\n",
    "for header in sorted(header_columns.keys(), key=lambda x: float(x) if x.replace('.', '').isdigit() else x):\n",
    "    rearranged_columns.extend(header_columns[header])\n",
    "\n",
    "# Create a new dataframe with rearranged columns\n",
    "rearranged_df = combined_df[rearranged_columns]\n",
    "rearranged_df.to_csv(f'../csvs/fig4_oprm1-reexpress_morphine/{group}_rearranged.csv')"
   ],
   "metadata": {
    "collapsed": false,
    "ExecuteTime": {
     "end_time": "2024-03-11T21:54:11.719981Z",
     "start_time": "2024-03-11T21:54:11.709035Z"
    }
   },
   "id": "bd345abfc06e0f94",
   "execution_count": 14
  },
  {
   "cell_type": "code",
   "outputs": [],
   "source": [],
   "metadata": {
    "collapsed": false
   },
   "id": "b308f2a6b4337911"
  }
 ],
 "metadata": {
  "kernelspec": {
   "display_name": "Python 3",
   "language": "python",
   "name": "python3"
  },
  "language_info": {
   "codemirror_mode": {
    "name": "ipython",
    "version": 2
   },
   "file_extension": ".py",
   "mimetype": "text/x-python",
   "name": "python",
   "nbconvert_exporter": "python",
   "pygments_lexer": "ipython2",
   "version": "2.7.6"
  }
 },
 "nbformat": 4,
 "nbformat_minor": 5
}
