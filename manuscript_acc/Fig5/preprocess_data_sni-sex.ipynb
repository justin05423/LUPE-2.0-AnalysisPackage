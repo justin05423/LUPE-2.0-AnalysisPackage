{
 "cells": [
  {
   "cell_type": "code",
   "execution_count": 1,
   "id": "initial_id",
   "metadata": {
    "collapsed": true,
    "jupyter": {
     "outputs_hidden": true
    },
    "ExecuteTime": {
     "end_time": "2024-03-02T04:23:58.066177Z",
     "start_time": "2024-03-02T04:23:57.645732Z"
    }
   },
   "outputs": [],
   "source": [
    "import glob\n",
    "import pickle\n",
    "import os\n",
    "import sys\n",
    "\n",
    "if not os.path.join(os.path.abspath(''), '../') in sys.path:\n",
    "    sys.path.append(os.path.join(os.path.abspath(''), '../'))\n",
    "    \n",
    "import numpy as np\n",
    "import pandas as pd\n",
    "from tqdm import notebook\n",
    "\n",
    "from utils.feature_utils import filter_pose_noise"
   ]
  },
  {
   "cell_type": "markdown",
   "id": "d17b457d04d8a615",
   "metadata": {
    "collapsed": false
   },
   "source": [
    "### specific to where I stored the csvs. you can change the data_root_dir"
   ]
  },
  {
   "cell_type": "code",
   "execution_count": 2,
   "id": "3df1e808aabc2617",
   "metadata": {
    "collapsed": false,
    "ExecuteTime": {
     "end_time": "2024-03-02T04:23:59.089472Z",
     "start_time": "2024-03-02T04:23:59.084553Z"
    }
   },
   "outputs": [],
   "source": [
    "# data_root_dir = '/Users/alexanderhsu/Documents/ACC_Study5_Fig4'\n",
    "data_root_dir = '/Users/justinjames/LUPE_Corder-Lab/data_ACC_SNI_mMORp-DREADD_sex'\n",
    "groups = ['A_Baseline_NoSNI', 'B_Baseline_SNI', 'C_3WSNI_DCZ', 'D_4WSNI_DCZ']\n",
    "conditions = ['control_mMORP-eYFP_MALE', 'control_mMORP-eYFP_FEMALE', 'exp_mMORP-hm4di_MALE', 'exp_mMORP-hm4di_FEMALE']"
   ]
  },
  {
   "cell_type": "markdown",
   "id": "8eb506351adbbce2",
   "metadata": {
    "collapsed": false
   },
   "source": [
    "### store all data in dictionary"
   ]
  },
  {
   "cell_type": "code",
   "execution_count": 3,
   "id": "b14a6fb460c88ae9",
   "metadata": {
    "collapsed": false,
    "ExecuteTime": {
     "end_time": "2024-03-02T04:43:14.635863Z",
     "start_time": "2024-03-02T04:24:01.107615Z"
    }
   },
   "outputs": [
    {
     "data": {
      "text/plain": "  0%|          | 0/4 [00:00<?, ?it/s]",
      "application/vnd.jupyter.widget-view+json": {
       "version_major": 2,
       "version_minor": 0,
       "model_id": "a950691e735847b2961523ebf4299e3a"
      }
     },
     "metadata": {},
     "output_type": "display_data"
    },
    {
     "data": {
      "text/plain": "  0%|          | 0/4 [00:00<?, ?it/s]",
      "application/vnd.jupyter.widget-view+json": {
       "version_major": 2,
       "version_minor": 0,
       "model_id": "07b0c08aa2d44275bf42385bc5bde50f"
      }
     },
     "metadata": {},
     "output_type": "display_data"
    },
    {
     "data": {
      "text/plain": "  0%|          | 0/10 [00:00<?, ?it/s]",
      "application/vnd.jupyter.widget-view+json": {
       "version_major": 2,
       "version_minor": 0,
       "model_id": "68a32652610e475288f0035a9a5b44de"
      }
     },
     "metadata": {},
     "output_type": "display_data"
    },
    {
     "data": {
      "text/plain": "  0%|          | 0/9 [00:00<?, ?it/s]",
      "application/vnd.jupyter.widget-view+json": {
       "version_major": 2,
       "version_minor": 0,
       "model_id": "4c9a4ddfba7f4228aa44fabd810312c1"
      }
     },
     "metadata": {},
     "output_type": "display_data"
    },
    {
     "data": {
      "text/plain": "  0%|          | 0/15 [00:00<?, ?it/s]",
      "application/vnd.jupyter.widget-view+json": {
       "version_major": 2,
       "version_minor": 0,
       "model_id": "bd7a2f358b83449c881f3bafcf2a8cc4"
      }
     },
     "metadata": {},
     "output_type": "display_data"
    },
    {
     "data": {
      "text/plain": "  0%|          | 0/15 [00:00<?, ?it/s]",
      "application/vnd.jupyter.widget-view+json": {
       "version_major": 2,
       "version_minor": 0,
       "model_id": "47bc267eb3594eb2904c9507784cdf0f"
      }
     },
     "metadata": {},
     "output_type": "display_data"
    },
    {
     "data": {
      "text/plain": "  0%|          | 0/4 [00:00<?, ?it/s]",
      "application/vnd.jupyter.widget-view+json": {
       "version_major": 2,
       "version_minor": 0,
       "model_id": "14542364bedf4265a50daa3a8c945151"
      }
     },
     "metadata": {},
     "output_type": "display_data"
    },
    {
     "data": {
      "text/plain": "  0%|          | 0/10 [00:00<?, ?it/s]",
      "application/vnd.jupyter.widget-view+json": {
       "version_major": 2,
       "version_minor": 0,
       "model_id": "151fefcd99034ddeb8134d66626c2f78"
      }
     },
     "metadata": {},
     "output_type": "display_data"
    },
    {
     "data": {
      "text/plain": "  0%|          | 0/9 [00:00<?, ?it/s]",
      "application/vnd.jupyter.widget-view+json": {
       "version_major": 2,
       "version_minor": 0,
       "model_id": "61b859eb939e4302b78e4f6dcfcb5395"
      }
     },
     "metadata": {},
     "output_type": "display_data"
    },
    {
     "data": {
      "text/plain": "  0%|          | 0/15 [00:00<?, ?it/s]",
      "application/vnd.jupyter.widget-view+json": {
       "version_major": 2,
       "version_minor": 0,
       "model_id": "cb029a033f284055a073e63d17afa457"
      }
     },
     "metadata": {},
     "output_type": "display_data"
    },
    {
     "data": {
      "text/plain": "  0%|          | 0/15 [00:00<?, ?it/s]",
      "application/vnd.jupyter.widget-view+json": {
       "version_major": 2,
       "version_minor": 0,
       "model_id": "5aa29d7fc7244168903527928a76db25"
      }
     },
     "metadata": {},
     "output_type": "display_data"
    },
    {
     "data": {
      "text/plain": "  0%|          | 0/4 [00:00<?, ?it/s]",
      "application/vnd.jupyter.widget-view+json": {
       "version_major": 2,
       "version_minor": 0,
       "model_id": "18f8ec8f3c3e46859f41e48b8f38b7c3"
      }
     },
     "metadata": {},
     "output_type": "display_data"
    },
    {
     "data": {
      "text/plain": "  0%|          | 0/10 [00:00<?, ?it/s]",
      "application/vnd.jupyter.widget-view+json": {
       "version_major": 2,
       "version_minor": 0,
       "model_id": "1507c0843f42488e94aebc8985e244ab"
      }
     },
     "metadata": {},
     "output_type": "display_data"
    },
    {
     "data": {
      "text/plain": "  0%|          | 0/9 [00:00<?, ?it/s]",
      "application/vnd.jupyter.widget-view+json": {
       "version_major": 2,
       "version_minor": 0,
       "model_id": "38465a1ef3434488befdc42658c99408"
      }
     },
     "metadata": {},
     "output_type": "display_data"
    },
    {
     "data": {
      "text/plain": "  0%|          | 0/15 [00:00<?, ?it/s]",
      "application/vnd.jupyter.widget-view+json": {
       "version_major": 2,
       "version_minor": 0,
       "model_id": "c22b1131ffbc4b8b961a7d92329268cd"
      }
     },
     "metadata": {},
     "output_type": "display_data"
    },
    {
     "data": {
      "text/plain": "  0%|          | 0/15 [00:00<?, ?it/s]",
      "application/vnd.jupyter.widget-view+json": {
       "version_major": 2,
       "version_minor": 0,
       "model_id": "d782f9a173f9486694311340eb49b0fc"
      }
     },
     "metadata": {},
     "output_type": "display_data"
    },
    {
     "data": {
      "text/plain": "  0%|          | 0/4 [00:00<?, ?it/s]",
      "application/vnd.jupyter.widget-view+json": {
       "version_major": 2,
       "version_minor": 0,
       "model_id": "74b31cfcc4f64dcbb90254624594165a"
      }
     },
     "metadata": {},
     "output_type": "display_data"
    },
    {
     "data": {
      "text/plain": "  0%|          | 0/10 [00:00<?, ?it/s]",
      "application/vnd.jupyter.widget-view+json": {
       "version_major": 2,
       "version_minor": 0,
       "model_id": "3d8b0baf62404d469a9015d8f29343dc"
      }
     },
     "metadata": {},
     "output_type": "display_data"
    },
    {
     "data": {
      "text/plain": "  0%|          | 0/9 [00:00<?, ?it/s]",
      "application/vnd.jupyter.widget-view+json": {
       "version_major": 2,
       "version_minor": 0,
       "model_id": "67823b03d3a14633ba40a0aac3a42d84"
      }
     },
     "metadata": {},
     "output_type": "display_data"
    },
    {
     "data": {
      "text/plain": "  0%|          | 0/15 [00:00<?, ?it/s]",
      "application/vnd.jupyter.widget-view+json": {
       "version_major": 2,
       "version_minor": 0,
       "model_id": "d140001ef2ab49e7865ab49f0ad772e4"
      }
     },
     "metadata": {},
     "output_type": "display_data"
    },
    {
     "data": {
      "text/plain": "  0%|          | 0/15 [00:00<?, ?it/s]",
      "application/vnd.jupyter.widget-view+json": {
       "version_major": 2,
       "version_minor": 0,
       "model_id": "faa313687fd2449c98731273b5d869ea"
      }
     },
     "metadata": {},
     "output_type": "display_data"
    }
   ],
   "source": [
    "filenames = {key: [] for key in groups}\n",
    "data = {key: [] for key in groups}\n",
    "for group in notebook.tqdm(groups):\n",
    "    filenames[group] = {key: [] for key in conditions}\n",
    "    data[group] = {key: [] for key in conditions}\n",
    "    for condition in notebook.tqdm(conditions):\n",
    "        \n",
    "        filenames[group][condition] = glob.glob(str.join('/', \n",
    "                                                              (data_root_dir,\n",
    "                                                               f'{group}', \n",
    "                                                               f'{condition}', \n",
    "                                                               '*.csv')))\n",
    "        data[group][condition] = {key: [] for key in [f'file{i}' \n",
    "                                                           for i in range(len(filenames[group][condition]))]}\n",
    "        for i, csv in enumerate(notebook.tqdm(filenames[group][condition])):\n",
    "            temp_df = pd.read_csv(csv, header=[0, 1, 2, 3], sep=\",\", index_col=0)\n",
    "            selected_pose_idx = np.arange(temp_df.shape[1])\n",
    "            idx_llh = selected_pose_idx[2::3]\n",
    "            # the loaded sleap file has them too, so exclude for both\n",
    "            idx_selected = [i for i in selected_pose_idx if i not in idx_llh]\n",
    "            currdf_filt, _ = filter_pose_noise(temp_df, idx_selected=idx_selected, idx_llh=idx_llh, \n",
    "                                               llh_value=0.1)\n",
    "            data[group][condition][f'file{i}'] = currdf_filt"
   ]
  },
  {
   "cell_type": "code",
   "execution_count": 4,
   "id": "95d2673da5545baf",
   "metadata": {
    "collapsed": false,
    "ExecuteTime": {
     "end_time": "2024-03-02T04:44:55.822686Z",
     "start_time": "2024-03-02T04:44:49.205583Z"
    }
   },
   "outputs": [],
   "source": [
    "with open('../processed_dataset/raw_data_SNI_mMORp-DREADD_sex.pkl', 'wb') as f:\n",
    "    pickle.dump(data, f)"
   ]
  },
  {
   "cell_type": "code",
   "outputs": [
    {
     "ename": "IndexError",
     "evalue": "list index out of range",
     "output_type": "error",
     "traceback": [
      "\u001B[0;31m---------------------------------------------------------------------------\u001B[0m",
      "\u001B[0;31mIndexError\u001B[0m                                Traceback (most recent call last)",
      "Cell \u001B[0;32mIn[5], line 2\u001B[0m\n\u001B[1;32m      1\u001B[0m file_chosen \u001B[38;5;241m=\u001B[39m \u001B[38;5;241m0\u001B[39m\n\u001B[0;32m----> 2\u001B[0m \u001B[43mfilenames\u001B[49m\u001B[43m[\u001B[49m\u001B[38;5;124;43m'\u001B[39;49m\u001B[38;5;124;43mC_3ISNI_DCZ\u001B[39;49m\u001B[38;5;124;43m'\u001B[39;49m\u001B[43m]\u001B[49m\u001B[43m[\u001B[49m\u001B[38;5;124;43m'\u001B[39;49m\u001B[38;5;124;43mexp_mMORP-hm4di_MALE\u001B[39;49m\u001B[38;5;124;43m'\u001B[39;49m\u001B[43m]\u001B[49m\u001B[43m[\u001B[49m\u001B[43mfile_chosen\u001B[49m\u001B[43m]\u001B[49m\n",
      "\u001B[0;31mIndexError\u001B[0m: list index out of range"
     ]
    }
   ],
   "source": [
    "file_chosen = 0\n",
    "filenames['C_3ISNI_DCZ']['exp_mMORP-hm4di_MALE'][file_chosen]"
   ],
   "metadata": {
    "collapsed": false,
    "ExecuteTime": {
     "end_time": "2024-03-02T04:22:58.200259Z",
     "start_time": "2024-03-02T04:22:58.069407Z"
    }
   },
   "id": "29555bd594bb3b17",
   "execution_count": 5
  },
  {
   "cell_type": "code",
   "outputs": [
    {
     "data": {
      "text/plain": "array([[156.17636275, 521.52246714,  94.44821787, ..., 494.65396881,\n        200.22158366, 490.49358678],\n       [156.17636275, 521.52246714,  94.44821787, ..., 494.01412225,\n        198.35359621, 489.15119059],\n       [156.17636275, 521.52246714,  94.44821787, ..., 495.22218132,\n        194.26959229, 489.00788069],\n       ...,\n       [433.30853319, 245.75137162, 437.721138  , ..., 307.57791615,\n        605.45778227, 337.45874715],\n       [430.14010239, 244.76920199, 432.83701754, ..., 307.4127717 ,\n        606.37551928, 334.33098209],\n       [425.53320551, 239.36015451, 429.50419664, ..., 308.0109663 ,\n        606.94063187, 332.64268947]])"
     },
     "execution_count": 13,
     "metadata": {},
     "output_type": "execute_result"
    }
   ],
   "source": [
    "data['Male']['Experimental'][f'file{file_chosen}']"
   ],
   "metadata": {
    "collapsed": false,
    "ExecuteTime": {
     "end_time": "2024-03-01T18:25:01.471529Z",
     "start_time": "2024-03-01T18:25:01.466728Z"
    }
   },
   "id": "6048f08d86980d1c",
   "execution_count": 13
  },
  {
   "cell_type": "code",
   "outputs": [],
   "source": [],
   "metadata": {
    "collapsed": false
   },
   "id": "7463219445f6e2e0"
  }
 ],
 "metadata": {
  "kernelspec": {
   "display_name": "Python 3 (ipykernel)",
   "language": "python",
   "name": "python3"
  },
  "language_info": {
   "codemirror_mode": {
    "name": "ipython",
    "version": 3
   },
   "file_extension": ".py",
   "mimetype": "text/x-python",
   "name": "python",
   "nbconvert_exporter": "python",
   "pygments_lexer": "ipython3",
   "version": "3.11.0"
  }
 },
 "nbformat": 4,
 "nbformat_minor": 5
}
