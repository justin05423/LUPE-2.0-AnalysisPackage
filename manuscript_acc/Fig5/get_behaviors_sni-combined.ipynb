{
 "cells": [
  {
   "cell_type": "code",
   "execution_count": 1,
   "id": "initial_id",
   "metadata": {
    "collapsed": false,
    "ExecuteTime": {
     "end_time": "2024-03-02T06:16:07.806466Z",
     "start_time": "2024-03-02T06:16:07.653148Z"
    }
   },
   "outputs": [],
   "source": [
    "import matplotlib.pyplot as plt\n",
    "import numpy as np\n",
    "import seaborn as sns\n",
    "from matplotlib.colors import ListedColormap\n",
    "import os\n",
    "import sys\n",
    "\n",
    "if not os.path.join(os.path.abspath(''), '../') in sys.path:\n",
    "    sys.path.append(os.path.join(os.path.abspath(''), '../'))\n",
    "    \n",
    "from utils.classification import load_model, load_features, load_data, weighted_smoothing\n",
    "from utils.meta import *\n",
    "from tqdm import notebook\n",
    "import pickle\n",
    "import os\n",
    "import pandas as pd"
   ]
  },
  {
   "cell_type": "markdown",
   "id": "a44009166e865e08",
   "metadata": {
    "collapsed": false
   },
   "source": [
    "### load model, preprocessed pose (filter out low likelihood), and binned features (smoothed distances, speed, angle etc)"
   ]
  },
  {
   "cell_type": "code",
   "execution_count": 4,
   "id": "c1ca9fb2a33975a1",
   "metadata": {
    "collapsed": false,
    "ExecuteTime": {
     "end_time": "2024-03-02T06:16:54.558126Z",
     "start_time": "2024-03-02T06:16:45.351533Z"
    }
   },
   "outputs": [],
   "source": [
    "model_path = '../model/model.pkl'\n",
    "model = load_model(model_path)\n",
    "data_path = '../processed_dataset/raw_data_groups_sni_combined.pkl'\n",
    "poses = load_data(data_path)\n",
    "features_path = '../processed_dataset/binned_features_SNI_mMORp-DREADD_combined.pkl'\n",
    "features = load_features(features_path)"
   ]
  },
  {
   "cell_type": "markdown",
   "id": "e618599488c49c2b",
   "metadata": {
    "collapsed": false
   },
   "source": [
    "### predict behaviors based on features"
   ]
  },
  {
   "cell_type": "code",
   "execution_count": 5,
   "id": "e8b81a268d7b22ef",
   "metadata": {
    "collapsed": false,
    "ExecuteTime": {
     "end_time": "2024-03-02T06:17:18.351626Z",
     "start_time": "2024-03-02T06:16:58.621136Z"
    }
   },
   "outputs": [
    {
     "data": {
      "text/plain": "  0%|          | 0/4 [00:00<?, ?it/s]",
      "application/vnd.jupyter.widget-view+json": {
       "version_major": 2,
       "version_minor": 0,
       "model_id": "a7c313ecf0e843eaa3b64c831e54f580"
      }
     },
     "metadata": {},
     "output_type": "display_data"
    },
    {
     "data": {
      "text/plain": "  0%|          | 0/2 [00:00<?, ?it/s]",
      "application/vnd.jupyter.widget-view+json": {
       "version_major": 2,
       "version_minor": 0,
       "model_id": "4acd4e81c97c414f83e4920434fd1e48"
      }
     },
     "metadata": {},
     "output_type": "display_data"
    },
    {
     "data": {
      "text/plain": "  0%|          | 0/2 [00:00<?, ?it/s]",
      "application/vnd.jupyter.widget-view+json": {
       "version_major": 2,
       "version_minor": 0,
       "model_id": "1da835af5d774f21ba6a2b9d6e132ed8"
      }
     },
     "metadata": {},
     "output_type": "display_data"
    },
    {
     "data": {
      "text/plain": "  0%|          | 0/2 [00:00<?, ?it/s]",
      "application/vnd.jupyter.widget-view+json": {
       "version_major": 2,
       "version_minor": 0,
       "model_id": "02afe293dcb84833af69123082473d49"
      }
     },
     "metadata": {},
     "output_type": "display_data"
    },
    {
     "data": {
      "text/plain": "  0%|          | 0/2 [00:00<?, ?it/s]",
      "application/vnd.jupyter.widget-view+json": {
       "version_major": 2,
       "version_minor": 0,
       "model_id": "ba60feff664b46e3957e84ad9b5855c5"
      }
     },
     "metadata": {},
     "output_type": "display_data"
    }
   ],
   "source": [
    "repeat_n = 6\n",
    "if 'behaviors_sni_combined.pkl' not in os.listdir('../processed_dataset/'): \n",
    "    behaviors = {key: [] for key in groups_sni_combined}\n",
    "    for group in notebook.tqdm(groups_sni_combined):\n",
    "        behaviors[group] = {key: [] for key in conditions_sni_combined}\n",
    "        for condition in notebook.tqdm(conditions_sni_combined):\n",
    "            behaviors[group][condition] = {key: [] for key in [f'file{i}' \n",
    "                                               for i in range(len(poses[group][condition]))]}\n",
    "\n",
    "            for i in range(len(poses[group][condition])):\n",
    "                total_n_frames = poses[group][condition][f'file{i}'].shape[0]\n",
    "                # predict downsampled features\n",
    "                predict_ds = model.predict(features[group][condition][f'file{i}'][0])\n",
    "                # upsample by duplicating\n",
    "                predictions = np.pad(predict_ds.repeat(repeat_n), (repeat_n, 0), 'edge')[:total_n_frames]\n",
    "                # smooth with minimum 12 frames (200ms)\n",
    "                behaviors[group][condition][f'file{i}'] = weighted_smoothing(predictions, size=12)\n",
    "else:\n",
    "    features = load_features('../processed_dataset/behaviors_sni_combined.pkl')"
   ]
  },
  {
   "cell_type": "code",
   "execution_count": 6,
   "id": "d29398ed449e8fd3",
   "metadata": {
    "collapsed": false,
    "ExecuteTime": {
     "end_time": "2024-03-02T06:18:01.841183Z",
     "start_time": "2024-03-02T06:18:01.751507Z"
    }
   },
   "outputs": [],
   "source": [
    "if 'behaviors_sni_combined.pkl' not in os.listdir('../processed_dataset/'):\n",
    "    with open('../processed_dataset/behaviors_sni_combined.pkl', 'wb') as f:\n",
    "        pickle.dump(behaviors, f)\n",
    "else:\n",
    "    print('Predicted behaviors exists!')"
   ]
  },
  {
   "cell_type": "code",
   "execution_count": 21,
   "id": "3801ef481f8f9a44",
   "metadata": {
    "collapsed": false,
    "ExecuteTime": {
     "end_time": "2024-03-01T18:47:53.483886Z",
     "start_time": "2024-03-01T18:47:53.478131Z"
    }
   },
   "outputs": [
    {
     "data": {
      "text/plain": "array([1, 1, 1, ..., 2, 2, 2])"
     },
     "execution_count": 21,
     "metadata": {},
     "output_type": "execute_result"
    }
   ],
   "source": [
    "behaviors['Male']['Control']['file1'][:3600] # 3600frames = 1 minute (60*60)"
   ]
  },
  {
   "cell_type": "markdown",
   "id": "54736495c6c17aa",
   "metadata": {
    "collapsed": false
   },
   "source": [
    "### quick view of example behavior distribution"
   ]
  },
  {
   "cell_type": "code",
   "outputs": [
    {
     "data": {
      "text/plain": "   values             labels         colors\n0  135828            walking       darkcyan\n1  256566              still        crimson\n2   83526            rearing      goldenrod\n3   75204           grooming      royalblue\n4    1698  licking hindpaw_R   mediumorchid\n5    9678  licking hindpaw L  rebeccapurple",
      "text/html": "<div>\n<style scoped>\n    .dataframe tbody tr th:only-of-type {\n        vertical-align: middle;\n    }\n\n    .dataframe tbody tr th {\n        vertical-align: top;\n    }\n\n    .dataframe thead th {\n        text-align: right;\n    }\n</style>\n<table border=\"1\" class=\"dataframe\">\n  <thead>\n    <tr style=\"text-align: right;\">\n      <th></th>\n      <th>values</th>\n      <th>labels</th>\n      <th>colors</th>\n    </tr>\n  </thead>\n  <tbody>\n    <tr>\n      <th>0</th>\n      <td>135828</td>\n      <td>walking</td>\n      <td>darkcyan</td>\n    </tr>\n    <tr>\n      <th>1</th>\n      <td>256566</td>\n      <td>still</td>\n      <td>crimson</td>\n    </tr>\n    <tr>\n      <th>2</th>\n      <td>83526</td>\n      <td>rearing</td>\n      <td>goldenrod</td>\n    </tr>\n    <tr>\n      <th>3</th>\n      <td>75204</td>\n      <td>grooming</td>\n      <td>royalblue</td>\n    </tr>\n    <tr>\n      <th>4</th>\n      <td>1698</td>\n      <td>licking hindpaw_R</td>\n      <td>mediumorchid</td>\n    </tr>\n    <tr>\n      <th>5</th>\n      <td>9678</td>\n      <td>licking hindpaw L</td>\n      <td>rebeccapurple</td>\n    </tr>\n  </tbody>\n</table>\n</div>"
     },
     "execution_count": 6,
     "metadata": {},
     "output_type": "execute_result"
    }
   ],
   "source": [
    "selected_group = groups_study5[0]\n",
    "selected_condition = 'Control'\n",
    "\n",
    "predict_dict = {'condition': np.repeat(selected_condition, \n",
    "                                       len(np.hstack([behaviors[selected_group][selected_condition][f'file{i}'] \n",
    "                                                      for i in range(len(behaviors[selected_group][selected_condition]))]))),\n",
    "                'behavior': np.hstack([behaviors[selected_group][selected_condition][f'file{i}'] \n",
    "                                       for i in range(len(behaviors[selected_group][selected_condition]))])}\n",
    "df_raw = pd.DataFrame(data=predict_dict)\n",
    "labels = df_raw['behavior'].value_counts(sort=False).index\n",
    "values = df_raw['behavior'].value_counts(sort=False).values\n",
    "# summary dataframe\n",
    "df = pd.DataFrame()\n",
    "behavior_labels = []\n",
    "for l in labels:\n",
    "    behavior_labels.append(behavior_names[int(l)])\n",
    "df[\"values\"] = values\n",
    "df['labels'] = behavior_labels\n",
    "df[\"colors\"] = df[\"labels\"].apply(lambda x:\n",
    "                                  behavior_colors[behavior_names.index(x)])  # to connect Column value to Color in Dict\n",
    "df"
   ],
   "metadata": {
    "collapsed": false,
    "ExecuteTime": {
     "end_time": "2024-03-02T03:01:38.864772Z",
     "start_time": "2024-03-02T03:01:38.807344Z"
    }
   },
   "id": "8fd59f2d62652bd2",
   "execution_count": 6
  },
  {
   "cell_type": "code",
   "execution_count": 20,
   "id": "38ab6d096e4379b2",
   "metadata": {
    "collapsed": false,
    "ExecuteTime": {
     "end_time": "2024-03-01T18:47:16.727606Z",
     "start_time": "2024-03-01T18:47:16.677017Z"
    }
   },
   "outputs": [
    {
     "data": {
      "text/plain": "<Figure size 400x300 with 1 Axes>",
      "image/png": "[encoded data removed]"
     },
     "metadata": {},
     "output_type": "display_data"
    }
   ],
   "source": [
    "fig, ax = plt.subplots(1, 1, figsize=(4, 3))\n",
    "# Pie Chart\n",
    "ax.pie(df['values'], \n",
    "       colors=df['colors'], \n",
    "       labels=df['labels'],\n",
    "       autopct='%1.1f%%', pctdistance=0.85)\n",
    "# draw circle\n",
    "centre_circle = plt.Circle((0, 0), 0.50, fc='white')\n",
    "# Adding Circle in Pie chart\n",
    "fig.gca().add_artist(centre_circle)\n",
    "ax.set_title('Behavior distribution')\n",
    "# Displaying Chart\n",
    "plt.show()"
   ]
  },
  {
   "cell_type": "markdown",
   "id": "50d251c99413a880",
   "metadata": {
    "collapsed": false
   },
   "source": [
    "### file save, change the extension to change the file format"
   ]
  },
  {
   "cell_type": "code",
   "execution_count": 18,
   "id": "94ff64e33cc2523",
   "metadata": {
    "collapsed": false,
    "ExecuteTime": {
     "end_time": "2024-02-18T23:42:39.229819Z",
     "start_time": "2024-02-18T23:42:39.185802Z"
    }
   },
   "outputs": [],
   "source": [
    "fig.savefig(f'../figures/Study5_example_distribution_'\n",
    "            f'{selected_drug}_{selected_group}_{selected_condition}.svg', \n",
    "            dpi=600, bbox_inches='tight')"
   ]
  }
 ],
 "metadata": {
  "kernelspec": {
   "display_name": "Python 3 (ipykernel)",
   "language": "python",
   "name": "python3"
  },
  "language_info": {
   "codemirror_mode": {
    "name": "ipython",
    "version": 3
   },
   "file_extension": ".py",
   "mimetype": "text/x-python",
   "name": "python",
   "nbconvert_exporter": "python",
   "pygments_lexer": "ipython3",
   "version": "3.11.0"
  }
 },
 "nbformat": 4,
 "nbformat_minor": 5
}
