{
 "cells": [
  {
   "cell_type": "code",
   "execution_count": 6,
   "id": "initial_id",
   "metadata": {
    "collapsed": true,
    "jupyter": {
     "outputs_hidden": true
    },
    "ExecuteTime": {
     "end_time": "2024-03-02T04:24:08.776982Z",
     "start_time": "2024-03-02T04:24:08.773971Z"
    }
   },
   "outputs": [],
   "source": [
    "import glob\n",
    "import pickle\n",
    "import os\n",
    "import sys\n",
    "\n",
    "if not os.path.join(os.path.abspath(''), '../') in sys.path:\n",
    "    sys.path.append(os.path.join(os.path.abspath(''), '../'))\n",
    "    \n",
    "import numpy as np\n",
    "import pandas as pd\n",
    "from tqdm import notebook\n",
    "\n",
    "from utils.feature_utils import filter_pose_noise"
   ]
  },
  {
   "cell_type": "markdown",
   "id": "d17b457d04d8a615",
   "metadata": {
    "collapsed": false
   },
   "source": [
    "### specific to where I stored the csvs. you can change the data_root_dir"
   ]
  },
  {
   "cell_type": "code",
   "execution_count": 7,
   "id": "3df1e808aabc2617",
   "metadata": {
    "collapsed": false,
    "ExecuteTime": {
     "end_time": "2024-03-02T04:24:10.337472Z",
     "start_time": "2024-03-02T04:24:10.335304Z"
    }
   },
   "outputs": [],
   "source": [
    "# data_root_dir = '/Users/alexanderhsu/Documents/ACC_Study5_Fig4'\n",
    "data_root_dir = '/Users/justinjames/LUPE_Corder-Lab/data_ACC_SNI_mMORp-DREADD_combined'\n",
    "groups = ['A_Baseline_NoSNI', 'B_Baseline_SNI', 'C_3WSNI_DCZ', 'D_4WSNI_DCZ']\n",
    "conditions = ['control_mMORP-eYFP', 'exp_mMORP-hm4di']"
   ]
  },
  {
   "cell_type": "markdown",
   "id": "8eb506351adbbce2",
   "metadata": {
    "collapsed": false
   },
   "source": [
    "### store all data in dictionary"
   ]
  },
  {
   "cell_type": "code",
   "execution_count": 8,
   "id": "b14a6fb460c88ae9",
   "metadata": {
    "collapsed": false,
    "ExecuteTime": {
     "end_time": "2024-03-02T04:43:59.918608Z",
     "start_time": "2024-03-02T04:24:12.097947Z"
    }
   },
   "outputs": [
    {
     "data": {
      "text/plain": "  0%|          | 0/4 [00:00<?, ?it/s]",
      "application/vnd.jupyter.widget-view+json": {
       "version_major": 2,
       "version_minor": 0,
       "model_id": "f53c82af4e3a432eb48111770bdbea5b"
      }
     },
     "metadata": {},
     "output_type": "display_data"
    },
    {
     "data": {
      "text/plain": "  0%|          | 0/2 [00:00<?, ?it/s]",
      "application/vnd.jupyter.widget-view+json": {
       "version_major": 2,
       "version_minor": 0,
       "model_id": "8ec52c64ac524fa28262a5541a40c656"
      }
     },
     "metadata": {},
     "output_type": "display_data"
    },
    {
     "data": {
      "text/plain": "  0%|          | 0/19 [00:00<?, ?it/s]",
      "application/vnd.jupyter.widget-view+json": {
       "version_major": 2,
       "version_minor": 0,
       "model_id": "1c004c8488d743c49fa76f1f83e13f62"
      }
     },
     "metadata": {},
     "output_type": "display_data"
    },
    {
     "data": {
      "text/plain": "  0%|          | 0/30 [00:00<?, ?it/s]",
      "application/vnd.jupyter.widget-view+json": {
       "version_major": 2,
       "version_minor": 0,
       "model_id": "502da459a0d5465ba76ab9fa112e3469"
      }
     },
     "metadata": {},
     "output_type": "display_data"
    },
    {
     "data": {
      "text/plain": "  0%|          | 0/2 [00:00<?, ?it/s]",
      "application/vnd.jupyter.widget-view+json": {
       "version_major": 2,
       "version_minor": 0,
       "model_id": "57b3ea3c075e4f3185cd606aafcafdf1"
      }
     },
     "metadata": {},
     "output_type": "display_data"
    },
    {
     "data": {
      "text/plain": "  0%|          | 0/19 [00:00<?, ?it/s]",
      "application/vnd.jupyter.widget-view+json": {
       "version_major": 2,
       "version_minor": 0,
       "model_id": "519f87e89dd144b4b9c612cbf0d70208"
      }
     },
     "metadata": {},
     "output_type": "display_data"
    },
    {
     "data": {
      "text/plain": "  0%|          | 0/30 [00:00<?, ?it/s]",
      "application/vnd.jupyter.widget-view+json": {
       "version_major": 2,
       "version_minor": 0,
       "model_id": "14e0c80a06484f139b3e2fa7a9939112"
      }
     },
     "metadata": {},
     "output_type": "display_data"
    },
    {
     "data": {
      "text/plain": "  0%|          | 0/2 [00:00<?, ?it/s]",
      "application/vnd.jupyter.widget-view+json": {
       "version_major": 2,
       "version_minor": 0,
       "model_id": "113f3182aec84f5bb2501f76b8374876"
      }
     },
     "metadata": {},
     "output_type": "display_data"
    },
    {
     "data": {
      "text/plain": "  0%|          | 0/19 [00:00<?, ?it/s]",
      "application/vnd.jupyter.widget-view+json": {
       "version_major": 2,
       "version_minor": 0,
       "model_id": "38cf979cc3d94b85bc0bcfabf1b883be"
      }
     },
     "metadata": {},
     "output_type": "display_data"
    },
    {
     "data": {
      "text/plain": "  0%|          | 0/30 [00:00<?, ?it/s]",
      "application/vnd.jupyter.widget-view+json": {
       "version_major": 2,
       "version_minor": 0,
       "model_id": "27c41c9c7544458aa36e0208eea0b12c"
      }
     },
     "metadata": {},
     "output_type": "display_data"
    },
    {
     "data": {
      "text/plain": "  0%|          | 0/2 [00:00<?, ?it/s]",
      "application/vnd.jupyter.widget-view+json": {
       "version_major": 2,
       "version_minor": 0,
       "model_id": "1e304200566b40b5a092cc97322aa1e2"
      }
     },
     "metadata": {},
     "output_type": "display_data"
    },
    {
     "data": {
      "text/plain": "  0%|          | 0/19 [00:00<?, ?it/s]",
      "application/vnd.jupyter.widget-view+json": {
       "version_major": 2,
       "version_minor": 0,
       "model_id": "07cf3ab0d97747cdbf81e765ad939c1a"
      }
     },
     "metadata": {},
     "output_type": "display_data"
    },
    {
     "data": {
      "text/plain": "  0%|          | 0/30 [00:00<?, ?it/s]",
      "application/vnd.jupyter.widget-view+json": {
       "version_major": 2,
       "version_minor": 0,
       "model_id": "b51c2d18523a43f7bda86b69b568f5c8"
      }
     },
     "metadata": {},
     "output_type": "display_data"
    }
   ],
   "source": [
    "filenames = {key: [] for key in groups}\n",
    "data = {key: [] for key in groups}\n",
    "for group in notebook.tqdm(groups):\n",
    "    filenames[group] = {key: [] for key in conditions}\n",
    "    data[group] = {key: [] for key in conditions}\n",
    "    for condition in notebook.tqdm(conditions):\n",
    "        \n",
    "        filenames[group][condition] = glob.glob(str.join('/', \n",
    "                                                              (data_root_dir,\n",
    "                                                               f'{group}', \n",
    "                                                               f'{condition}', \n",
    "                                                               '*.csv')))\n",
    "        data[group][condition] = {key: [] for key in [f'file{i}' \n",
    "                                                           for i in range(len(filenames[group][condition]))]}\n",
    "        for i, csv in enumerate(notebook.tqdm(filenames[group][condition])):\n",
    "            temp_df = pd.read_csv(csv, header=[0, 1, 2, 3], sep=\",\", index_col=0)\n",
    "            selected_pose_idx = np.arange(temp_df.shape[1])\n",
    "            idx_llh = selected_pose_idx[2::3]\n",
    "            # the loaded sleap file has them too, so exclude for both\n",
    "            idx_selected = [i for i in selected_pose_idx if i not in idx_llh]\n",
    "            currdf_filt, _ = filter_pose_noise(temp_df, idx_selected=idx_selected, idx_llh=idx_llh, \n",
    "                                               llh_value=0.1)\n",
    "            data[group][condition][f'file{i}'] = currdf_filt"
   ]
  },
  {
   "cell_type": "code",
   "execution_count": 9,
   "id": "95d2673da5545baf",
   "metadata": {
    "collapsed": false,
    "ExecuteTime": {
     "end_time": "2024-03-02T04:45:02.283187Z",
     "start_time": "2024-03-02T04:44:55.222976Z"
    }
   },
   "outputs": [],
   "source": [
    "with open('../processed_dataset/raw_data_groups_sni_combined.pkl', 'wb') as f:\n",
    "    pickle.dump(data, f)"
   ]
  },
  {
   "cell_type": "code",
   "outputs": [
    {
     "data": {
      "text/plain": "'/Users/justinjames/LUPE_Corder-Lab/data_ACC_SNI_mMORp-DREADD_combined/C_3WSNI_DCZ/control_mMORP-eYFP/3W-DCZ_3.1M5_acA2040-120um__23670846__20230418_115702299DLC_resnet50_LUPE_MALEDec5shuffle1_350000.csv'"
     },
     "execution_count": 11,
     "metadata": {},
     "output_type": "execute_result"
    }
   ],
   "source": [
    "file_chosen = 0\n",
    "filenames['C_3WSNI_DCZ']['control_mMORP-eYFP'][file_chosen]"
   ],
   "metadata": {
    "collapsed": false,
    "ExecuteTime": {
     "end_time": "2024-03-02T04:47:50.638278Z",
     "start_time": "2024-03-02T04:47:50.633542Z"
    }
   },
   "id": "29555bd594bb3b17",
   "execution_count": 11
  },
  {
   "cell_type": "code",
   "outputs": [
    {
     "data": {
      "text/plain": "array([[156.17636275, 521.52246714,  94.44821787, ..., 494.65396881,\n        200.22158366, 490.49358678],\n       [156.17636275, 521.52246714,  94.44821787, ..., 494.01412225,\n        198.35359621, 489.15119059],\n       [156.17636275, 521.52246714,  94.44821787, ..., 495.22218132,\n        194.26959229, 489.00788069],\n       ...,\n       [433.30853319, 245.75137162, 437.721138  , ..., 307.57791615,\n        605.45778227, 337.45874715],\n       [430.14010239, 244.76920199, 432.83701754, ..., 307.4127717 ,\n        606.37551928, 334.33098209],\n       [425.53320551, 239.36015451, 429.50419664, ..., 308.0109663 ,\n        606.94063187, 332.64268947]])"
     },
     "execution_count": 13,
     "metadata": {},
     "output_type": "execute_result"
    }
   ],
   "source": [
    "data['Male']['Experimental'][f'file{file_chosen}']"
   ],
   "metadata": {
    "collapsed": false,
    "ExecuteTime": {
     "end_time": "2024-03-01T18:25:01.471529Z",
     "start_time": "2024-03-01T18:25:01.466728Z"
    }
   },
   "id": "6048f08d86980d1c",
   "execution_count": 13
  },
  {
   "cell_type": "code",
   "outputs": [],
   "source": [],
   "metadata": {
    "collapsed": false
   },
   "id": "7463219445f6e2e0"
  }
 ],
 "metadata": {
  "kernelspec": {
   "display_name": "Python 3 (ipykernel)",
   "language": "python",
   "name": "python3"
  },
  "language_info": {
   "codemirror_mode": {
    "name": "ipython",
    "version": 3
   },
   "file_extension": ".py",
   "mimetype": "text/x-python",
   "name": "python",
   "nbconvert_exporter": "python",
   "pygments_lexer": "ipython3",
   "version": "3.11.0"
  }
 },
 "nbformat": 4,
 "nbformat_minor": 5
}
