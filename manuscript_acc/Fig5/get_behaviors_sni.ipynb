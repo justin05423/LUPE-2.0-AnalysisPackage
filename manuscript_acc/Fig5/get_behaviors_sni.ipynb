{
 "cells": [
  {
   "cell_type": "code",
   "execution_count": 1,
   "id": "initial_id",
   "metadata": {
    "collapsed": false,
    "ExecuteTime": {
     "end_time": "2024-01-27T22:04:33.399935Z",
     "start_time": "2024-01-27T22:04:33.162354Z"
    }
   },
   "outputs": [],
   "source": [
    "import matplotlib.pyplot as plt\n",
    "import numpy as np\n",
    "import seaborn as sns\n",
    "from matplotlib.colors import ListedColormap\n",
    "import os\n",
    "import sys\n",
    "\n",
    "if not os.path.join(os.path.abspath(''), '../') in sys.path:\n",
    "    sys.path.append(os.path.join(os.path.abspath(''), '../'))\n",
    "    \n",
    "from utils.classification import load_model, load_features, load_data, weighted_smoothing, load_behaviors\n",
    "from utils.meta import *\n",
    "from tqdm import notebook\n",
    "import pickle\n",
    "import os\n",
    "import pandas as pd"
   ]
  },
  {
   "cell_type": "markdown",
   "id": "a44009166e865e08",
   "metadata": {
    "collapsed": false
   },
   "source": [
    "### load model, preprocessed pose (filter out low likelihood), and binned features (smoothed distances, speed, angle etc)"
   ]
  },
  {
   "cell_type": "code",
   "execution_count": 2,
   "id": "c1ca9fb2a33975a1",
   "metadata": {
    "collapsed": false,
    "ExecuteTime": {
     "end_time": "2024-01-27T22:04:47.208860Z",
     "start_time": "2024-01-27T22:04:35.485809Z"
    }
   },
   "outputs": [],
   "source": [
    "model_path = '../model/model.pkl'\n",
    "model = load_model(model_path)\n",
    "data_path = '../processed_dataset/raw_data_sni.pkl'\n",
    "poses = load_data(data_path)\n",
    "features_path = '../processed_dataset/binned_features_sni.pkl'\n",
    "features = load_features(features_path)"
   ]
  },
  {
   "cell_type": "markdown",
   "id": "e618599488c49c2b",
   "metadata": {
    "collapsed": false
   },
   "source": [
    "### predict behaviors based on features"
   ]
  },
  {
   "cell_type": "code",
   "execution_count": 3,
   "id": "e8b81a268d7b22ef",
   "metadata": {
    "collapsed": false,
    "ExecuteTime": {
     "end_time": "2024-01-27T22:07:27.986130Z",
     "start_time": "2024-01-27T22:07:03.554409Z"
    }
   },
   "outputs": [
    {
     "data": {
      "text/plain": "  0%|          | 0/4 [00:00<?, ?it/s]",
      "application/vnd.jupyter.widget-view+json": {
       "version_major": 2,
       "version_minor": 0,
       "model_id": "72495d1ce99c431e8514c7de098af720"
      }
     },
     "metadata": {},
     "output_type": "display_data"
    },
    {
     "data": {
      "text/plain": "  0%|          | 0/3 [00:00<?, ?it/s]",
      "application/vnd.jupyter.widget-view+json": {
       "version_major": 2,
       "version_minor": 0,
       "model_id": "a735e3879bc24dd98bc19cd6570a6214"
      }
     },
     "metadata": {},
     "output_type": "display_data"
    },
    {
     "data": {
      "text/plain": "  0%|          | 0/3 [00:00<?, ?it/s]",
      "application/vnd.jupyter.widget-view+json": {
       "version_major": 2,
       "version_minor": 0,
       "model_id": "9d0b1ecf4ee540cca1deae2c99fd15e7"
      }
     },
     "metadata": {},
     "output_type": "display_data"
    },
    {
     "data": {
      "text/plain": "  0%|          | 0/3 [00:00<?, ?it/s]",
      "application/vnd.jupyter.widget-view+json": {
       "version_major": 2,
       "version_minor": 0,
       "model_id": "f25f18592c81461ab56428c709d43112"
      }
     },
     "metadata": {},
     "output_type": "display_data"
    },
    {
     "data": {
      "text/plain": "  0%|          | 0/3 [00:00<?, ?it/s]",
      "application/vnd.jupyter.widget-view+json": {
       "version_major": 2,
       "version_minor": 0,
       "model_id": "5d9e112ceabf4bf09839d7b07199f657"
      }
     },
     "metadata": {},
     "output_type": "display_data"
    }
   ],
   "source": [
    "repeat_n = 6\n",
    "if 'behaviors_sni.pkl' not in os.listdir('../processed_dataset/'):\n",
    "    behaviors = {key: [] for key in groups_sni}\n",
    "    for group in notebook.tqdm(groups_sni):\n",
    "        behaviors[group] = {key: [] for key in conditions}\n",
    "        for condition in notebook.tqdm(conditions):\n",
    "            behaviors[group][condition] = {key: [] for key in [f'file{i}' \n",
    "                                               for i in range(len(poses[group][condition]))]}\n",
    "    \n",
    "            for i in range(len(poses[group][condition])):\n",
    "                total_n_frames = poses[group][condition][f'file{i}'].shape[0]\n",
    "                # predict downsampled features\n",
    "                predict_ds = model.predict(features[group][condition][f'file{i}'][0])\n",
    "                # upsample by duplicating\n",
    "                predictions = np.pad(predict_ds.repeat(repeat_n), (repeat_n, 0), 'edge')[:total_n_frames]\n",
    "                # smooth with minimum 12 frames (200ms)\n",
    "                behaviors[group][condition][f'file{i}'] = weighted_smoothing(predictions, size=12)\n",
    "else:\n",
    "    behaviors = load_behaviors('../processed_dataset/behaviors_sni.pkl')"
   ]
  },
  {
   "cell_type": "code",
   "execution_count": 4,
   "id": "d29398ed449e8fd3",
   "metadata": {
    "collapsed": false,
    "ExecuteTime": {
     "end_time": "2024-01-27T22:07:28.109466Z",
     "start_time": "2024-01-27T22:07:27.992510Z"
    }
   },
   "outputs": [],
   "source": [
    "if 'behaviors_sni.pkl' not in os.listdir('../processed_dataset/'):\n",
    "    with open('../processed_dataset/behaviors_sni.pkl', 'wb') as f:\n",
    "        pickle.dump(behaviors, f)\n",
    "else:\n",
    "    print('Predicted behaviors exists!')"
   ]
  },
  {
   "cell_type": "code",
   "execution_count": 5,
   "id": "3801ef481f8f9a44",
   "metadata": {
    "collapsed": false,
    "ExecuteTime": {
     "end_time": "2024-01-27T22:07:39.703150Z",
     "start_time": "2024-01-27T22:07:39.699895Z"
    }
   },
   "outputs": [
    {
     "data": {
      "text/plain": "array([1, 1, 1, ..., 1, 1, 1])"
     },
     "execution_count": 5,
     "metadata": {},
     "output_type": "execute_result"
    }
   ],
   "source": [
    "behaviors['A_Baseline_NoSNI']['Condition3']['file5'][:3600] # 3600frames = 1 minute (60*60)"
   ]
  },
  {
   "cell_type": "markdown",
   "id": "54736495c6c17aa",
   "metadata": {
    "collapsed": false
   },
   "source": [
    "### quick view of example behavior distribution"
   ]
  },
  {
   "cell_type": "code",
   "execution_count": 25,
   "id": "fa49a35cbc41a1e0",
   "metadata": {
    "collapsed": false,
    "ExecuteTime": {
     "end_time": "2024-01-27T22:10:03.232661Z",
     "start_time": "2024-01-27T22:10:03.020931Z"
    }
   },
   "outputs": [
    {
     "data": {
      "text/plain": "   values             labels         colors\n0  979927              still        crimson\n1  803855            walking       darkcyan\n2   82835            rearing      goldenrod\n3  230436           grooming      royalblue\n4   40344  licking hindpaw L  rebeccapurple\n5      30  licking hindpaw_R   mediumorchid",
      "text/html": "<div>\n<style scoped>\n    .dataframe tbody tr th:only-of-type {\n        vertical-align: middle;\n    }\n\n    .dataframe tbody tr th {\n        vertical-align: top;\n    }\n\n    .dataframe thead th {\n        text-align: right;\n    }\n</style>\n<table border=\"1\" class=\"dataframe\">\n  <thead>\n    <tr style=\"text-align: right;\">\n      <th></th>\n      <th>values</th>\n      <th>labels</th>\n      <th>colors</th>\n    </tr>\n  </thead>\n  <tbody>\n    <tr>\n      <th>0</th>\n      <td>979927</td>\n      <td>still</td>\n      <td>crimson</td>\n    </tr>\n    <tr>\n      <th>1</th>\n      <td>803855</td>\n      <td>walking</td>\n      <td>darkcyan</td>\n    </tr>\n    <tr>\n      <th>2</th>\n      <td>82835</td>\n      <td>rearing</td>\n      <td>goldenrod</td>\n    </tr>\n    <tr>\n      <th>3</th>\n      <td>230436</td>\n      <td>grooming</td>\n      <td>royalblue</td>\n    </tr>\n    <tr>\n      <th>4</th>\n      <td>40344</td>\n      <td>licking hindpaw L</td>\n      <td>rebeccapurple</td>\n    </tr>\n    <tr>\n      <th>5</th>\n      <td>30</td>\n      <td>licking hindpaw_R</td>\n      <td>mediumorchid</td>\n    </tr>\n  </tbody>\n</table>\n</div>"
     },
     "execution_count": 25,
     "metadata": {},
     "output_type": "execute_result"
    }
   ],
   "source": [
    "\n",
    "selected_group = groups_sni[2]\n",
    "selected_condition = 'Condition3'\n",
    "\n",
    "predict_dict = {'condition': np.repeat(selected_condition, \n",
    "                                       len(np.hstack([behaviors[selected_group][selected_condition][f'file{i}'] \n",
    "                                                      for i in range(len(behaviors[selected_group][selected_condition]))]))),\n",
    "                'behavior': np.hstack([behaviors[selected_group][selected_condition][f'file{i}'] \n",
    "                                       for i in range(len(behaviors[selected_group][selected_condition]))])}\n",
    "df_raw = pd.DataFrame(data=predict_dict)\n",
    "labels = df_raw['behavior'].value_counts(sort=False).index\n",
    "values = df_raw['behavior'].value_counts(sort=False).values\n",
    "# summary dataframe\n",
    "df = pd.DataFrame()\n",
    "behavior_labels = []\n",
    "for l in labels:\n",
    "    behavior_labels.append(behavior_names[int(l)])\n",
    "df[\"values\"] = values\n",
    "df['labels'] = behavior_labels\n",
    "df[\"colors\"] = df[\"labels\"].apply(lambda x:\n",
    "                                  behavior_colors[behavior_names.index(x)])  # to connect Column value to Color in Dict\n",
    "df"
   ]
  },
  {
   "cell_type": "code",
   "execution_count": 26,
   "id": "38ab6d096e4379b2",
   "metadata": {
    "collapsed": false,
    "ExecuteTime": {
     "end_time": "2024-01-27T22:10:03.687571Z",
     "start_time": "2024-01-27T22:10:03.631762Z"
    }
   },
   "outputs": [
    {
     "data": {
      "text/plain": "<Figure size 400x300 with 1 Axes>",
      "image/png": "[encoded data removed]"
     },
     "metadata": {},
     "output_type": "display_data"
    }
   ],
   "source": [
    "fig, ax = plt.subplots(1, 1, figsize=(4, 3))\n",
    "# Pie Chart\n",
    "ax.pie(df['values'], \n",
    "       colors=df['colors'], \n",
    "       labels=df['labels'],\n",
    "       autopct='%1.1f%%', pctdistance=0.85)\n",
    "# draw circle\n",
    "centre_circle = plt.Circle((0, 0), 0.50, fc='white')\n",
    "# Adding Circle in Pie chart\n",
    "fig.gca().add_artist(centre_circle)\n",
    "ax.set_title('Behavior distribution')\n",
    "# Displaying Chart\n",
    "plt.show()"
   ]
  },
  {
   "cell_type": "markdown",
   "id": "50d251c99413a880",
   "metadata": {
    "collapsed": false
   },
   "source": [
    "### file save, change the extension to change the file format"
   ]
  },
  {
   "cell_type": "code",
   "execution_count": 27,
   "id": "94ff64e33cc2523",
   "metadata": {
    "collapsed": false,
    "ExecuteTime": {
     "end_time": "2024-01-27T22:10:05.466097Z",
     "start_time": "2024-01-27T22:10:05.417530Z"
    }
   },
   "outputs": [],
   "source": [
    "fig.savefig(f'../figures/sni_example_distribution_'\n",
    "            f'{selected_group}_{selected_condition}.svg', \n",
    "            dpi=600, bbox_inches='tight')"
   ]
  }
 ],
 "metadata": {
  "kernelspec": {
   "display_name": "Python 3 (ipykernel)",
   "language": "python",
   "name": "python3"
  },
  "language_info": {
   "codemirror_mode": {
    "name": "ipython",
    "version": 3
   },
   "file_extension": ".py",
   "mimetype": "text/x-python",
   "name": "python",
   "nbconvert_exporter": "python",
   "pygments_lexer": "ipython3",
   "version": "3.11.0"
  }
 },
 "nbformat": 4,
 "nbformat_minor": 5
}
