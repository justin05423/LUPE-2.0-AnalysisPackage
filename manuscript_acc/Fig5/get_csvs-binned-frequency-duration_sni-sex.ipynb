{
 "cells": [
  {
   "cell_type": "code",
   "execution_count": 1,
   "id": "initial_id",
   "metadata": {
    "collapsed": false,
    "ExecuteTime": {
     "end_time": "2024-03-02T23:23:05.223365Z",
     "start_time": "2024-03-02T23:23:05.075596Z"
    }
   },
   "outputs": [],
   "source": [
    "import matplotlib.pyplot as plt\n",
    "import numpy as np\n",
    "import seaborn as sns\n",
    "from matplotlib.colors import ListedColormap\n",
    "import os\n",
    "import sys\n",
    "\n",
    "if not os.path.join(os.path.abspath(''), '../') in sys.path:\n",
    "    sys.path.append(os.path.join(os.path.abspath(''), '../'))\n",
    "    \n",
    "from utils.classification import load_model, load_features, load_data, weighted_smoothing\n",
    "from utils.classification import load_behaviors\n",
    "from utils.meta import *\n",
    "from tqdm import notebook\n",
    "from tqdm import tqdm\n",
    "import pickle\n",
    "import os\n",
    "import pandas as pd"
   ]
  },
  {
   "cell_type": "markdown",
   "source": [
    "## Individual CSV  "
   ],
   "metadata": {
    "collapsed": false
   },
   "id": "3dffe21c9c8591a9"
  },
  {
   "cell_type": "code",
   "outputs": [],
   "source": [
    "behaviors = load_behaviors('../processed_dataset/behaviors_sni_sex.pkl')\n",
    "\n",
    "figure_num = 'sni'\n",
    "selected_group = 'A_Baseline_NoSNI'\n",
    "selected_condition = 'control_mMORP-eYFP_MALE'\n",
    "selected_file = 'file0'\n",
    "\n",
    "df_sni = pd.DataFrame(behaviors['A_Baseline_NoSNI']['control_mMORP-eYFP_MALE'][selected_file])\n",
    "df_sni.to_csv(f'../csvs/{figure_num}/{selected_group}-{selected_condition}-{selected_file}.csv', index=True)"
   ],
   "metadata": {
    "collapsed": false,
    "ExecuteTime": {
     "end_time": "2024-03-02T23:23:06.350771Z",
     "start_time": "2024-03-02T23:23:06.270732Z"
    }
   },
   "id": "376393133c6f6ad7",
   "execution_count": 2
  },
  {
   "cell_type": "markdown",
   "source": [
    "## Closest to Time bins"
   ],
   "metadata": {
    "collapsed": false
   },
   "id": "edacef137a164af1"
  },
  {
   "cell_type": "code",
   "outputs": [],
   "source": [
    "## FRAME FREQUENCY TIME BINS\n",
    "\n",
    "import pandas as pd\n",
    "\n",
    "# Assuming behaviors is a dictionary containing the behavioral data\n",
    "\n",
    "# Load behaviors from the pickle file\n",
    "behaviors = load_behaviors('../processed_dataset/behaviors_sni_sex.pkl')\n",
    "\n",
    "# Extract relevant data\n",
    "figure_num = 'sni'\n",
    "selected_group = 'A_Baseline_NoSNI'\n",
    "selected_condition = 'control_mMORP-eYFP_MALE'\n",
    "selected_file = 'file0'\n",
    "\n",
    "# Define time bin parameters\n",
    "num_min = 1\n",
    "time_bin_size = 60 * 60 * num_min\n",
    "\n",
    "# Convert behavioral data to DataFrame\n",
    "df_behavior = pd.DataFrame(behaviors[selected_group][selected_condition][selected_file])\n",
    "\n",
    "# Reshape the DataFrame to have one column per behavior\n",
    "df_behavior = df_behavior.stack().reset_index(level=1, drop=True).reset_index(name='behavior')\n",
    "\n",
    "# Calculate time bins\n",
    "time_bins = df_behavior.index // time_bin_size\n",
    "\n",
    "# Group by time bins and behavior, and calculate the frequency\n",
    "frequency_df = df_behavior.groupby([time_bins, 'behavior']).size().unstack(fill_value=0)\n",
    "\n",
    "# Save to CSV\n",
    "frequency_df.to_csv(f'../csvs/{figure_num}/{selected_group}-{selected_condition}-{selected_file}-frequency.csv', index=True)\n"
   ],
   "metadata": {
    "collapsed": false,
    "ExecuteTime": {
     "end_time": "2024-03-02T23:23:08.151384Z",
     "start_time": "2024-03-02T23:23:08.104645Z"
    }
   },
   "id": "279645210dd370bf",
   "execution_count": 3
  },
  {
   "cell_type": "code",
   "outputs": [
    {
     "ename": "KeyError",
     "evalue": "'file30'",
     "output_type": "error",
     "traceback": [
      "\u001B[0;31m---------------------------------------------------------------------------\u001B[0m",
      "\u001B[0;31mKeyError\u001B[0m                                  Traceback (most recent call last)",
      "Cell \u001B[0;32mIn[33], line 33\u001B[0m\n\u001B[1;32m     30\u001B[0m selected_file \u001B[38;5;241m=\u001B[39m \u001B[38;5;124mf\u001B[39m\u001B[38;5;124m'\u001B[39m\u001B[38;5;124mfile\u001B[39m\u001B[38;5;132;01m{\u001B[39;00mi\u001B[38;5;132;01m}\u001B[39;00m\u001B[38;5;124m'\u001B[39m  \u001B[38;5;66;03m# Format file number with leading zeros if necessary\u001B[39;00m\n\u001B[1;32m     32\u001B[0m \u001B[38;5;66;03m# Convert behavioral data to DataFrame\u001B[39;00m\n\u001B[0;32m---> 33\u001B[0m df_behavior \u001B[38;5;241m=\u001B[39m pd\u001B[38;5;241m.\u001B[39mDataFrame(\u001B[43mbehaviors\u001B[49m\u001B[43m[\u001B[49m\u001B[43mselected_group\u001B[49m\u001B[43m]\u001B[49m\u001B[43m[\u001B[49m\u001B[43mselected_condition\u001B[49m\u001B[43m]\u001B[49m\u001B[43m[\u001B[49m\u001B[43mselected_file\u001B[49m\u001B[43m]\u001B[49m)\n\u001B[1;32m     35\u001B[0m \u001B[38;5;66;03m# Reshape the DataFrame to have one column per behavior\u001B[39;00m\n\u001B[1;32m     36\u001B[0m df_behavior \u001B[38;5;241m=\u001B[39m df_behavior\u001B[38;5;241m.\u001B[39mstack()\u001B[38;5;241m.\u001B[39mreset_index(level\u001B[38;5;241m=\u001B[39m\u001B[38;5;241m1\u001B[39m, drop\u001B[38;5;241m=\u001B[39m\u001B[38;5;28;01mTrue\u001B[39;00m)\u001B[38;5;241m.\u001B[39mreset_index(name\u001B[38;5;241m=\u001B[39m\u001B[38;5;124m'\u001B[39m\u001B[38;5;124mbehavior\u001B[39m\u001B[38;5;124m'\u001B[39m)\n",
      "\u001B[0;31mKeyError\u001B[0m: 'file30'"
     ]
    }
   ],
   "source": [
    "import pandas as pd\n",
    "import os\n",
    "\n",
    "# Assuming behaviors is a dictionary containing the behavioral data\n",
    "\n",
    "# Load behaviors from the pickle file\n",
    "behaviors = load_behaviors('../processed_dataset/behaviors_sni_combined.pkl')\n",
    "\n",
    "# Extract relevant data\n",
    "figure_num = 'sni'\n",
    "#selected_group = 'A_Baseline_NoSNI'\n",
    "#selected_group = 'B_Baseline_SNI'\n",
    "#selected_group = 'C_3WSNI_DCZ'\n",
    "selected_group = 'D_4WSNI_DCZ'\n",
    "\n",
    "#selected_condition = 'control_mMORP-eYFP_MALE'\n",
    "#selected_condition = 'control_mMORP-eYFP_FEMALE'\n",
    "#selected_condition = 'exp_mMORP-hm4di_MALE'\n",
    "#selected_condition = 'exp_mMORP-hm4di_FEMALE'\n",
    "\n",
    "#selected_condition = 'control_mMORP-eYFP'\n",
    "selected_condition = 'exp_mMORP-hm4di'\n",
    "\n",
    "# Define time bin parameters\n",
    "num_min = 1\n",
    "time_bin_size = 60 * 60 * num_min\n",
    "\n",
    "# Iterate over files 1-15\n",
    "for i in range(0, 40):\n",
    "    selected_file = f'file{i}'  # Format file number with leading zeros if necessary\n",
    "    \n",
    "    # Convert behavioral data to DataFrame\n",
    "    df_behavior = pd.DataFrame(behaviors[selected_group][selected_condition][selected_file])\n",
    "\n",
    "    # Reshape the DataFrame to have one column per behavior\n",
    "    df_behavior = df_behavior.stack().reset_index(level=1, drop=True).reset_index(name='behavior')\n",
    "\n",
    "    # Calculate time bins\n",
    "    time_bins = df_behavior.index // time_bin_size\n",
    "\n",
    "    # Group by time bins and behavior, and calculate the frequency\n",
    "    frequency_df = df_behavior.groupby([time_bins, 'behavior']).size().unstack(fill_value=0)\n",
    "\n",
    "    # Save to CSV\n",
    "    output_path = f'../csvs/{figure_num}/{selected_group}-{selected_condition}-{selected_file}-frequency.csv'\n",
    "    os.makedirs(os.path.dirname(output_path), exist_ok=True)\n",
    "    frequency_df.to_csv(output_path, index=True)\n"
   ],
   "metadata": {
    "collapsed": false,
    "ExecuteTime": {
     "end_time": "2024-03-02T23:42:31.241397Z",
     "start_time": "2024-03-02T23:42:31.081038Z"
    }
   },
   "id": "bb3045f6bced15a",
   "execution_count": 33
  },
  {
   "cell_type": "code",
   "outputs": [],
   "source": [
    "## SECONDS TIME BINS\n",
    "\n",
    "import pandas as pd\n",
    "\n",
    "# Assuming behaviors is a dictionary containing the behavioral data\n",
    "\n",
    "# Load behaviors from the pickle file\n",
    "behaviors = load_behaviors('../processed_dataset/behaviors_sni_sex.pkl')\n",
    "\n",
    "# Extract relevant data\n",
    "figure_num = 'sni'\n",
    "selected_group = 'A_Baseline_NoSNI'\n",
    "selected_condition = 'control_mMORP-eYFP_MALE'\n",
    "selected_file = 'file0'\n",
    "\n",
    "# Convert behavioral data to DataFrame\n",
    "df_behavior = pd.DataFrame(behaviors[selected_group][selected_condition][selected_file])\n",
    "\n",
    "# Calculate frequency of each behavior for every 3600 frames\n",
    "frequency_df = df_behavior.groupby(df_behavior.index // 3600).apply(lambda x: x.value_counts(normalize=True)).unstack(fill_value=0)\n",
    "\n",
    "# Save to CSV\n",
    "frequency_df.to_csv(f'../csvs/{figure_num}/{selected_group}-{selected_condition}-{selected_file}-seconds.csv', index=True)\n"
   ],
   "metadata": {
    "collapsed": false,
    "ExecuteTime": {
     "end_time": "2024-03-02T22:57:25.914646Z",
     "start_time": "2024-03-02T22:57:25.857812Z"
    }
   },
   "id": "c118336007d2203c",
   "execution_count": 3
  },
  {
   "cell_type": "markdown",
   "source": [
    "## Individual CSV for Entire Group => Condition (Frames)"
   ],
   "metadata": {
    "collapsed": false
   },
   "id": "20d0ff17c0c72d82"
  },
  {
   "cell_type": "code",
   "outputs": [
    {
     "ename": "TypeError",
     "evalue": "'NoneType' object is not subscriptable",
     "output_type": "error",
     "traceback": [
      "\u001B[0;31m---------------------------------------------------------------------------\u001B[0m",
      "\u001B[0;31mTypeError\u001B[0m                                 Traceback (most recent call last)",
      "Cell \u001B[0;32mIn[9], line 16\u001B[0m\n\u001B[1;32m     13\u001B[0m all_behaviors \u001B[38;5;241m=\u001B[39m []\n\u001B[1;32m     15\u001B[0m \u001B[38;5;66;03m# Iterate over each file\u001B[39;00m\n\u001B[0;32m---> 16\u001B[0m \u001B[38;5;28;01mfor\u001B[39;00m selected_file, data \u001B[38;5;129;01min\u001B[39;00m \u001B[43mbehaviors\u001B[49m\u001B[43m[\u001B[49m\u001B[43mselected_group\u001B[49m\u001B[43m]\u001B[49m[selected_condition]\u001B[38;5;241m.\u001B[39mitems():\n\u001B[1;32m     17\u001B[0m     \u001B[38;5;66;03m# Convert data to DataFrame\u001B[39;00m\n\u001B[1;32m     18\u001B[0m     df_sni \u001B[38;5;241m=\u001B[39m pd\u001B[38;5;241m.\u001B[39mDataFrame(data)\n\u001B[1;32m     20\u001B[0m     \u001B[38;5;66;03m# Find the column containing behavior data\u001B[39;00m\n",
      "\u001B[0;31mTypeError\u001B[0m: 'NoneType' object is not subscriptable"
     ]
    }
   ],
   "source": [
    "import os\n",
    "import pandas as pd\n",
    "\n",
    "# Define frame rate (replace 30 with the actual frame rate)\n",
    "frame_rate = 60\n",
    "\n",
    "behaviors = load_behaviors('../processed_dataset/behaviors_sni_sex.pkl')\n",
    "figure_num = 'sni_seconds'\n",
    "selected_group = 'A_Baseline_NoSNI'\n",
    "selected_condition = 'control_mMORP-eYFP_MALE'\n",
    "\n",
    "# Initialize an empty list to store all behaviors\n",
    "all_behaviors = []\n",
    "\n",
    "# Iterate over each file\n",
    "for selected_file, data in behaviors[selected_group][selected_condition].items():\n",
    "    # Convert data to DataFrame\n",
    "    df_sni = pd.DataFrame(data)\n",
    "    \n",
    "    # Find the column containing behavior data\n",
    "    behavior_column = df_sni.columns[df_sni.isna().all()].tolist()\n",
    "    \n",
    "    # Extract behaviors if column is found\n",
    "    if behavior_column:\n",
    "        behaviors = df_sni[behavior_column[0]].tolist()\n",
    "        all_behaviors.extend(behaviors)\n",
    "\n",
    "# Calculate frequency of behaviors\n",
    "behavior_frequency = pd.Series(all_behaviors).value_counts()\n",
    "\n",
    "print(\"Behavior Frequency:\")\n",
    "print(behavior_frequency)\n"
   ],
   "metadata": {
    "collapsed": false,
    "ExecuteTime": {
     "end_time": "2024-03-02T23:21:24.367566Z",
     "start_time": "2024-03-02T23:21:24.360151Z"
    }
   },
   "id": "3a7d588f1cf4a385",
   "execution_count": 9
  },
  {
   "cell_type": "markdown",
   "source": [
    "## Individual CSV for Entire Group -> Condition (Seconds)"
   ],
   "metadata": {
    "collapsed": false
   },
   "id": "e356ed94e5359104"
  },
  {
   "cell_type": "code",
   "outputs": [
    {
     "name": "stdout",
     "output_type": "stream",
     "text": [
      "CSV file '../csvs/sni_seconds/A_Baseline_NoSNI-control_mMORP-eYFP_MALE-file0.csv' created.\n",
      "CSV file '../csvs/sni_seconds/A_Baseline_NoSNI-control_mMORP-eYFP_MALE-file1.csv' created.\n",
      "CSV file '../csvs/sni_seconds/A_Baseline_NoSNI-control_mMORP-eYFP_MALE-file2.csv' created.\n",
      "CSV file '../csvs/sni_seconds/A_Baseline_NoSNI-control_mMORP-eYFP_MALE-file3.csv' created.\n",
      "CSV file '../csvs/sni_seconds/A_Baseline_NoSNI-control_mMORP-eYFP_MALE-file4.csv' created.\n",
      "CSV file '../csvs/sni_seconds/A_Baseline_NoSNI-control_mMORP-eYFP_MALE-file5.csv' created.\n",
      "CSV file '../csvs/sni_seconds/A_Baseline_NoSNI-control_mMORP-eYFP_MALE-file6.csv' created.\n",
      "CSV file '../csvs/sni_seconds/A_Baseline_NoSNI-control_mMORP-eYFP_MALE-file7.csv' created.\n",
      "CSV file '../csvs/sni_seconds/A_Baseline_NoSNI-control_mMORP-eYFP_MALE-file8.csv' created.\n",
      "CSV file '../csvs/sni_seconds/A_Baseline_NoSNI-control_mMORP-eYFP_MALE-file9.csv' created.\n"
     ]
    }
   ],
   "source": [
    "import os\n",
    "import pandas as pd\n",
    "\n",
    "# Define frame rate (replace 30 with the actual frame rate)\n",
    "frame_rate = 60\n",
    "\n",
    "behaviors = load_behaviors('../processed_dataset/behaviors_sni_sex.pkl')\n",
    "figure_num = 'sni_seconds'\n",
    "selected_group = 'A_Baseline_NoSNI'\n",
    "selected_condition = 'control_mMORP-eYFP_MALE'\n",
    "\n",
    "# Iterate over each file\n",
    "for selected_file, data in behaviors[selected_group][selected_condition].items():\n",
    "    # Convert data to DataFrame\n",
    "    df_sni = pd.DataFrame(data)\n",
    "    \n",
    "    # Rename columns\n",
    "    df_sni = df_sni.rename(columns={0: 'FrameIndex', 1: 'Behavior'})\n",
    "    \n",
    "    # Convert frame index to time in seconds\n",
    "    df_sni['TimeInSeconds'] = df_sni['FrameIndex'] / frame_rate\n",
    "    \n",
    "    # Create CSV file\n",
    "    csv_filename = f'../csvs/{figure_num}/{selected_group}-{selected_condition}-{selected_file}.csv'\n",
    "    df_sni.to_csv(csv_filename, index=False)  # Setting index=False to avoid saving the index\n",
    "\n",
    "    print(f\"CSV file '{csv_filename}' created.\")\n"
   ],
   "metadata": {
    "collapsed": false,
    "ExecuteTime": {
     "end_time": "2024-03-02T22:58:32.187433Z",
     "start_time": "2024-03-02T22:58:31.496983Z"
    }
   },
   "id": "e1fa9cf9e921f166",
   "execution_count": 4
  },
  {
   "cell_type": "code",
   "outputs": [
    {
     "ename": "TypeError",
     "evalue": "'NoneType' object is not subscriptable",
     "output_type": "error",
     "traceback": [
      "\u001B[0;31m---------------------------------------------------------------------------\u001B[0m",
      "\u001B[0;31mTypeError\u001B[0m                                 Traceback (most recent call last)",
      "Cell \u001B[0;32mIn[7], line 6\u001B[0m\n\u001B[1;32m      3\u001B[0m selected_group \u001B[38;5;241m=\u001B[39m \u001B[38;5;124m'\u001B[39m\u001B[38;5;124mA_Baseline_NoSNI\u001B[39m\u001B[38;5;124m'\u001B[39m\n\u001B[1;32m      4\u001B[0m selected_condition \u001B[38;5;241m=\u001B[39m \u001B[38;5;124m'\u001B[39m\u001B[38;5;124mcontrol_mMORP-eYFP_MALE\u001B[39m\u001B[38;5;124m'\u001B[39m\n\u001B[0;32m----> 6\u001B[0m arrays \u001B[38;5;241m=\u001B[39m \u001B[43mbehaviors\u001B[49m\u001B[43m[\u001B[49m\u001B[43mselected_group\u001B[49m\u001B[43m]\u001B[49m[selected_condition]\n\u001B[1;32m      7\u001B[0m min_length \u001B[38;5;241m=\u001B[39m \u001B[38;5;28mmin\u001B[39m(\u001B[38;5;28mlen\u001B[39m(arr) \u001B[38;5;28;01mfor\u001B[39;00m arr \u001B[38;5;129;01min\u001B[39;00m arrays)\n\u001B[1;32m      8\u001B[0m arrays_truncated \u001B[38;5;241m=\u001B[39m [arr[:min_length] \u001B[38;5;28;01mfor\u001B[39;00m arr \u001B[38;5;129;01min\u001B[39;00m arrays]\n",
      "\u001B[0;31mTypeError\u001B[0m: 'NoneType' object is not subscriptable"
     ]
    }
   ],
   "source": [
    "behaviors = load_behaviors('../processed_dataset/behaviors_sni_sex.pkl')\n",
    "\n",
    "selected_group = 'A_Baseline_NoSNI'\n",
    "selected_condition = 'control_mMORP-eYFP_MALE'\n",
    "\n",
    "arrays = behaviors[selected_group][selected_condition]\n",
    "min_length = min(len(arr) for arr in arrays)\n",
    "arrays_truncated = [arr[:min_length] for arr in arrays]\n",
    "\n",
    "# Print lengths of all arrays in arrays_truncated\n",
    "# for arr in arrays_truncated:\n",
    "#    print(len(arr))\n",
    "\n",
    "df_sni = pd.DataFrame(arrays_truncated, columns=[f'Column_{i+1}' for i in range(len(arrays_truncated[0]))])\n",
    "\n",
    "figure_num = 'sni'\n",
    "\n",
    "df_sni.to_csv(f'../csvs/{figure_num}/{selected_group}-{selected_condition}.csv', index=False)"
   ],
   "metadata": {
    "collapsed": false,
    "ExecuteTime": {
     "end_time": "2024-03-02T23:19:58.231720Z",
     "start_time": "2024-03-02T23:19:58.216363Z"
    }
   },
   "id": "62e8937decfabaad",
   "execution_count": 7
  },
  {
   "cell_type": "code",
   "outputs": [
    {
     "ename": "TypeError",
     "evalue": "'NoneType' object is not subscriptable",
     "output_type": "error",
     "traceback": [
      "\u001B[0;31m---------------------------------------------------------------------------\u001B[0m",
      "\u001B[0;31mTypeError\u001B[0m                                 Traceback (most recent call last)",
      "Cell \u001B[0;32mIn[8], line 2\u001B[0m\n\u001B[1;32m      1\u001B[0m behaviors \u001B[38;5;241m=\u001B[39m load_behaviors(\u001B[38;5;124m'\u001B[39m\u001B[38;5;124m../processed_dataset/behaviors_sni_sex.pkl\u001B[39m\u001B[38;5;124m'\u001B[39m)\n\u001B[0;32m----> 2\u001B[0m np\u001B[38;5;241m.\u001B[39munique(\u001B[43mbehaviors\u001B[49m\u001B[43m[\u001B[49m\u001B[38;5;124;43m'\u001B[39;49m\u001B[38;5;124;43mA_Baseline_NoSNI\u001B[39;49m\u001B[38;5;124;43m'\u001B[39;49m\u001B[43m]\u001B[49m[\u001B[38;5;124m'\u001B[39m\u001B[38;5;124mcontrol_mMORP-eYFP_MALE\u001B[39m\u001B[38;5;124m'\u001B[39m], return_counts\u001B[38;5;241m=\u001B[39m\u001B[38;5;28;01mTrue\u001B[39;00m) \n\u001B[1;32m      4\u001B[0m \u001B[38;5;66;03m# Get unique values and their counts\u001B[39;00m\n\u001B[1;32m      5\u001B[0m unique_values, counts \u001B[38;5;241m=\u001B[39m np\u001B[38;5;241m.\u001B[39munique(behaviors[\u001B[38;5;124m'\u001B[39m\u001B[38;5;124mA_Baseline_NoSNI\u001B[39m\u001B[38;5;124m'\u001B[39m][\u001B[38;5;124m'\u001B[39m\u001B[38;5;124mcontrol_mMORP-eYFP_MALE\u001B[39m\u001B[38;5;124m'\u001B[39m], return_counts\u001B[38;5;241m=\u001B[39m\u001B[38;5;28;01mTrue\u001B[39;00m)\n",
      "\u001B[0;31mTypeError\u001B[0m: 'NoneType' object is not subscriptable"
     ]
    }
   ],
   "source": [
    "behaviors = load_behaviors('../processed_dataset/behaviors_sni_sex.pkl')\n",
    "np.unique(behaviors['A_Baseline_NoSNI']['control_mMORP-eYFP_MALE'], return_counts=True) \n",
    "\n",
    "# Get unique values and their counts\n",
    "unique_values, counts = np.unique(behaviors['A_Baseline_NoSNI']['control_mMORP-eYFP_MALE'], return_counts=True)\n",
    "\n",
    "# Assuming you have the individual file names in a list named file_names\n",
    "file_names = [f'file{f}' for f in range(len(unique_values))]\n",
    "\n",
    "# Convert counts to strings\n",
    "counts = counts.astype(str)\n",
    "\n",
    "# Save data to a CSV file\n",
    "data = np.column_stack((file_names, counts))\n",
    "np.savetxt('frames_count_per_file.csv', data, delimiter=',', header='Frames,Count', fmt='%s')"
   ],
   "metadata": {
    "collapsed": false,
    "ExecuteTime": {
     "end_time": "2024-03-02T23:20:06.286829Z",
     "start_time": "2024-03-02T23:20:06.270514Z"
    }
   },
   "id": "8808c6f9a83f1855",
   "execution_count": 8
  },
  {
   "cell_type": "code",
   "outputs": [],
   "source": [],
   "metadata": {
    "collapsed": false
   },
   "id": "833b415b28815f8d"
  }
 ],
 "metadata": {
  "kernelspec": {
   "display_name": "Python 3 (ipykernel)",
   "language": "python",
   "name": "python3"
  },
  "language_info": {
   "codemirror_mode": {
    "name": "ipython",
    "version": 3
   },
   "file_extension": ".py",
   "mimetype": "text/x-python",
   "name": "python",
   "nbconvert_exporter": "python",
   "pygments_lexer": "ipython3",
   "version": "3.11.0"
  }
 },
 "nbformat": 4,
 "nbformat_minor": 5
}
