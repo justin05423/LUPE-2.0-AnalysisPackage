{
 "cells": [
  {
   "cell_type": "markdown",
   "source": [
    "# Behavior Analysis: Duration Per Behavior Bout"
   ],
   "metadata": {
    "collapsed": false
   },
   "id": "cab27281fa2a0381"
  },
  {
   "cell_type": "markdown",
   "source": [
    "Press SHIFT + ENTER to run code"
   ],
   "metadata": {
    "collapsed": false
   },
   "id": "2c636049beb82f5d"
  },
  {
   "cell_type": "markdown",
   "source": [
    "### USER INPUT!"
   ],
   "metadata": {
    "collapsed": false
   },
   "id": "1ce127d611c8b1a9"
  },
  {
   "cell_type": "code",
   "outputs": [],
   "source": [
    "## Define project\n",
    "project_name = 'project_acc_MiniscopeCap'\n",
    "\n",
    "# Select group and condition, see meta.py to see how you previously defined it for your project\n",
    "selected_groups = ['Combined']\n",
    "selected_conditions = ['A_baseline','B_exp_cap','C_baseline_morphine','D_exp_morphine-cap']\n"
   ],
   "metadata": {
    "collapsed": false,
    "ExecuteTime": {
     "end_time": "2024-08-09T15:32:31.937986Z",
     "start_time": "2024-08-09T15:32:31.934937Z"
    }
   },
   "id": "initial_id",
   "execution_count": 1
  },
  {
   "cell_type": "markdown",
   "source": [
    "### Main Code: Create Bar Graph of Duration Per Behavior Bout"
   ],
   "metadata": {
    "collapsed": false
   },
   "id": "f9fcaee8a86dd456"
  },
  {
   "cell_type": "code",
   "outputs": [
    {
     "name": "stderr",
     "output_type": "stream",
     "text": [
      "/Users/justinjames/GitHub/LUPE-2.0/venv/lib/python3.9/site-packages/seaborn/_base.py:948: FutureWarning: When grouping with a length-1 list-like, you will need to pass a length-1 tuple to get_group in a future version of pandas. Pass `(name,)` instead of `name` to silence this warning.\n",
      "  data_subset = grouped_data.get_group(pd_key)\n",
      "/Users/justinjames/GitHub/LUPE-2.0/venv/lib/python3.9/site-packages/seaborn/categorical.py:632: FutureWarning: SeriesGroupBy.grouper is deprecated and will be removed in a future version of pandas.\n",
      "  positions = grouped.grouper.result_index.to_numpy(dtype=float)\n",
      "/Users/justinjames/GitHub/LUPE-2.0/venv/lib/python3.9/site-packages/seaborn/_base.py:948: FutureWarning: When grouping with a length-1 list-like, you will need to pass a length-1 tuple to get_group in a future version of pandas. Pass `(name,)` instead of `name` to silence this warning.\n",
      "  data_subset = grouped_data.get_group(pd_key)\n",
      "/Users/justinjames/GitHub/LUPE-2.0/venv/lib/python3.9/site-packages/seaborn/categorical.py:632: FutureWarning: SeriesGroupBy.grouper is deprecated and will be removed in a future version of pandas.\n",
      "  positions = grouped.grouper.result_index.to_numpy(dtype=float)\n",
      "/Users/justinjames/GitHub/LUPE-2.0/venv/lib/python3.9/site-packages/seaborn/_base.py:948: FutureWarning: When grouping with a length-1 list-like, you will need to pass a length-1 tuple to get_group in a future version of pandas. Pass `(name,)` instead of `name` to silence this warning.\n",
      "  data_subset = grouped_data.get_group(pd_key)\n",
      "/Users/justinjames/GitHub/LUPE-2.0/venv/lib/python3.9/site-packages/seaborn/categorical.py:632: FutureWarning: SeriesGroupBy.grouper is deprecated and will be removed in a future version of pandas.\n",
      "  positions = grouped.grouper.result_index.to_numpy(dtype=float)\n",
      "/Users/justinjames/GitHub/LUPE-2.0/venv/lib/python3.9/site-packages/seaborn/_base.py:948: FutureWarning: When grouping with a length-1 list-like, you will need to pass a length-1 tuple to get_group in a future version of pandas. Pass `(name,)` instead of `name` to silence this warning.\n",
      "  data_subset = grouped_data.get_group(pd_key)\n",
      "/Users/justinjames/GitHub/LUPE-2.0/venv/lib/python3.9/site-packages/seaborn/categorical.py:632: FutureWarning: SeriesGroupBy.grouper is deprecated and will be removed in a future version of pandas.\n",
      "  positions = grouped.grouper.result_index.to_numpy(dtype=float)\n",
      "/Users/justinjames/GitHub/LUPE-2.0/venv/lib/python3.9/site-packages/seaborn/_base.py:948: FutureWarning: When grouping with a length-1 list-like, you will need to pass a length-1 tuple to get_group in a future version of pandas. Pass `(name,)` instead of `name` to silence this warning.\n",
      "  data_subset = grouped_data.get_group(pd_key)\n",
      "/Users/justinjames/GitHub/LUPE-2.0/venv/lib/python3.9/site-packages/seaborn/categorical.py:632: FutureWarning: SeriesGroupBy.grouper is deprecated and will be removed in a future version of pandas.\n",
      "  positions = grouped.grouper.result_index.to_numpy(dtype=float)\n",
      "/Users/justinjames/GitHub/LUPE-2.0/venv/lib/python3.9/site-packages/seaborn/_base.py:948: FutureWarning: When grouping with a length-1 list-like, you will need to pass a length-1 tuple to get_group in a future version of pandas. Pass `(name,)` instead of `name` to silence this warning.\n",
      "  data_subset = grouped_data.get_group(pd_key)\n",
      "/Users/justinjames/GitHub/LUPE-2.0/venv/lib/python3.9/site-packages/seaborn/categorical.py:632: FutureWarning: SeriesGroupBy.grouper is deprecated and will be removed in a future version of pandas.\n",
      "  positions = grouped.grouper.result_index.to_numpy(dtype=float)\n",
      "/Users/justinjames/GitHub/LUPE-2.0/venv/lib/python3.9/site-packages/seaborn/_base.py:948: FutureWarning: When grouping with a length-1 list-like, you will need to pass a length-1 tuple to get_group in a future version of pandas. Pass `(name,)` instead of `name` to silence this warning.\n",
      "  data_subset = grouped_data.get_group(pd_key)\n",
      "/Users/justinjames/GitHub/LUPE-2.0/venv/lib/python3.9/site-packages/seaborn/categorical.py:632: FutureWarning: SeriesGroupBy.grouper is deprecated and will be removed in a future version of pandas.\n",
      "  positions = grouped.grouper.result_index.to_numpy(dtype=float)\n",
      "/Users/justinjames/GitHub/LUPE-2.0/venv/lib/python3.9/site-packages/seaborn/_base.py:948: FutureWarning: When grouping with a length-1 list-like, you will need to pass a length-1 tuple to get_group in a future version of pandas. Pass `(name,)` instead of `name` to silence this warning.\n",
      "  data_subset = grouped_data.get_group(pd_key)\n",
      "/Users/justinjames/GitHub/LUPE-2.0/venv/lib/python3.9/site-packages/seaborn/categorical.py:632: FutureWarning: SeriesGroupBy.grouper is deprecated and will be removed in a future version of pandas.\n",
      "  positions = grouped.grouper.result_index.to_numpy(dtype=float)\n",
      "/Users/justinjames/GitHub/LUPE-2.0/venv/lib/python3.9/site-packages/seaborn/_base.py:948: FutureWarning: When grouping with a length-1 list-like, you will need to pass a length-1 tuple to get_group in a future version of pandas. Pass `(name,)` instead of `name` to silence this warning.\n",
      "  data_subset = grouped_data.get_group(pd_key)\n",
      "/Users/justinjames/GitHub/LUPE-2.0/venv/lib/python3.9/site-packages/seaborn/categorical.py:632: FutureWarning: SeriesGroupBy.grouper is deprecated and will be removed in a future version of pandas.\n",
      "  positions = grouped.grouper.result_index.to_numpy(dtype=float)\n",
      "/Users/justinjames/GitHub/LUPE-2.0/venv/lib/python3.9/site-packages/seaborn/_base.py:948: FutureWarning: When grouping with a length-1 list-like, you will need to pass a length-1 tuple to get_group in a future version of pandas. Pass `(name,)` instead of `name` to silence this warning.\n",
      "  data_subset = grouped_data.get_group(pd_key)\n",
      "/Users/justinjames/GitHub/LUPE-2.0/venv/lib/python3.9/site-packages/seaborn/categorical.py:632: FutureWarning: SeriesGroupBy.grouper is deprecated and will be removed in a future version of pandas.\n",
      "  positions = grouped.grouper.result_index.to_numpy(dtype=float)\n",
      "/Users/justinjames/GitHub/LUPE-2.0/venv/lib/python3.9/site-packages/seaborn/_base.py:948: FutureWarning: When grouping with a length-1 list-like, you will need to pass a length-1 tuple to get_group in a future version of pandas. Pass `(name,)` instead of `name` to silence this warning.\n",
      "  data_subset = grouped_data.get_group(pd_key)\n",
      "/Users/justinjames/GitHub/LUPE-2.0/venv/lib/python3.9/site-packages/seaborn/categorical.py:632: FutureWarning: SeriesGroupBy.grouper is deprecated and will be removed in a future version of pandas.\n",
      "  positions = grouped.grouper.result_index.to_numpy(dtype=float)\n",
      "/Users/justinjames/GitHub/LUPE-2.0/venv/lib/python3.9/site-packages/seaborn/_base.py:948: FutureWarning: When grouping with a length-1 list-like, you will need to pass a length-1 tuple to get_group in a future version of pandas. Pass `(name,)` instead of `name` to silence this warning.\n",
      "  data_subset = grouped_data.get_group(pd_key)\n",
      "/Users/justinjames/GitHub/LUPE-2.0/venv/lib/python3.9/site-packages/seaborn/_base.py:948: FutureWarning: When grouping with a length-1 list-like, you will need to pass a length-1 tuple to get_group in a future version of pandas. Pass `(name,)` instead of `name` to silence this warning.\n",
      "  data_subset = grouped_data.get_group(pd_key)\n",
      "/Users/justinjames/GitHub/LUPE-2.0/venv/lib/python3.9/site-packages/seaborn/categorical.py:632: FutureWarning: SeriesGroupBy.grouper is deprecated and will be removed in a future version of pandas.\n",
      "  positions = grouped.grouper.result_index.to_numpy(dtype=float)\n",
      "/Users/justinjames/GitHub/LUPE-2.0/venv/lib/python3.9/site-packages/seaborn/_base.py:948: FutureWarning: When grouping with a length-1 list-like, you will need to pass a length-1 tuple to get_group in a future version of pandas. Pass `(name,)` instead of `name` to silence this warning.\n",
      "  data_subset = grouped_data.get_group(pd_key)\n",
      "/Users/justinjames/GitHub/LUPE-2.0/venv/lib/python3.9/site-packages/seaborn/categorical.py:632: FutureWarning: SeriesGroupBy.grouper is deprecated and will be removed in a future version of pandas.\n",
      "  positions = grouped.grouper.result_index.to_numpy(dtype=float)\n",
      "/Users/justinjames/GitHub/LUPE-2.0/venv/lib/python3.9/site-packages/seaborn/_base.py:948: FutureWarning: When grouping with a length-1 list-like, you will need to pass a length-1 tuple to get_group in a future version of pandas. Pass `(name,)` instead of `name` to silence this warning.\n",
      "  data_subset = grouped_data.get_group(pd_key)\n",
      "/Users/justinjames/GitHub/LUPE-2.0/venv/lib/python3.9/site-packages/seaborn/categorical.py:632: FutureWarning: SeriesGroupBy.grouper is deprecated and will be removed in a future version of pandas.\n",
      "  positions = grouped.grouper.result_index.to_numpy(dtype=float)\n",
      "/Users/justinjames/GitHub/LUPE-2.0/venv/lib/python3.9/site-packages/seaborn/_base.py:948: FutureWarning: When grouping with a length-1 list-like, you will need to pass a length-1 tuple to get_group in a future version of pandas. Pass `(name,)` instead of `name` to silence this warning.\n",
      "  data_subset = grouped_data.get_group(pd_key)\n",
      "/Users/justinjames/GitHub/LUPE-2.0/venv/lib/python3.9/site-packages/seaborn/categorical.py:632: FutureWarning: SeriesGroupBy.grouper is deprecated and will be removed in a future version of pandas.\n",
      "  positions = grouped.grouper.result_index.to_numpy(dtype=float)\n",
      "/Users/justinjames/GitHub/LUPE-2.0/venv/lib/python3.9/site-packages/seaborn/_base.py:948: FutureWarning: When grouping with a length-1 list-like, you will need to pass a length-1 tuple to get_group in a future version of pandas. Pass `(name,)` instead of `name` to silence this warning.\n",
      "  data_subset = grouped_data.get_group(pd_key)\n",
      "/Users/justinjames/GitHub/LUPE-2.0/venv/lib/python3.9/site-packages/seaborn/categorical.py:632: FutureWarning: SeriesGroupBy.grouper is deprecated and will be removed in a future version of pandas.\n",
      "  positions = grouped.grouper.result_index.to_numpy(dtype=float)\n",
      "/Users/justinjames/GitHub/LUPE-2.0/venv/lib/python3.9/site-packages/seaborn/_base.py:948: FutureWarning: When grouping with a length-1 list-like, you will need to pass a length-1 tuple to get_group in a future version of pandas. Pass `(name,)` instead of `name` to silence this warning.\n",
      "  data_subset = grouped_data.get_group(pd_key)\n",
      "/Users/justinjames/GitHub/LUPE-2.0/venv/lib/python3.9/site-packages/seaborn/categorical.py:632: FutureWarning: SeriesGroupBy.grouper is deprecated and will be removed in a future version of pandas.\n",
      "  positions = grouped.grouper.result_index.to_numpy(dtype=float)\n",
      "/Users/justinjames/GitHub/LUPE-2.0/venv/lib/python3.9/site-packages/seaborn/_base.py:948: FutureWarning: When grouping with a length-1 list-like, you will need to pass a length-1 tuple to get_group in a future version of pandas. Pass `(name,)` instead of `name` to silence this warning.\n",
      "  data_subset = grouped_data.get_group(pd_key)\n",
      "/Users/justinjames/GitHub/LUPE-2.0/venv/lib/python3.9/site-packages/seaborn/categorical.py:632: FutureWarning: SeriesGroupBy.grouper is deprecated and will be removed in a future version of pandas.\n",
      "  positions = grouped.grouper.result_index.to_numpy(dtype=float)\n",
      "/Users/justinjames/GitHub/LUPE-2.0/venv/lib/python3.9/site-packages/seaborn/_base.py:948: FutureWarning: When grouping with a length-1 list-like, you will need to pass a length-1 tuple to get_group in a future version of pandas. Pass `(name,)` instead of `name` to silence this warning.\n",
      "  data_subset = grouped_data.get_group(pd_key)\n",
      "/Users/justinjames/GitHub/LUPE-2.0/venv/lib/python3.9/site-packages/seaborn/categorical.py:632: FutureWarning: SeriesGroupBy.grouper is deprecated and will be removed in a future version of pandas.\n",
      "  positions = grouped.grouper.result_index.to_numpy(dtype=float)\n",
      "/Users/justinjames/GitHub/LUPE-2.0/venv/lib/python3.9/site-packages/seaborn/_base.py:948: FutureWarning: When grouping with a length-1 list-like, you will need to pass a length-1 tuple to get_group in a future version of pandas. Pass `(name,)` instead of `name` to silence this warning.\n",
      "  data_subset = grouped_data.get_group(pd_key)\n",
      "/Users/justinjames/GitHub/LUPE-2.0/venv/lib/python3.9/site-packages/seaborn/categorical.py:632: FutureWarning: SeriesGroupBy.grouper is deprecated and will be removed in a future version of pandas.\n",
      "  positions = grouped.grouper.result_index.to_numpy(dtype=float)\n",
      "/Users/justinjames/GitHub/LUPE-2.0/venv/lib/python3.9/site-packages/seaborn/_base.py:948: FutureWarning: When grouping with a length-1 list-like, you will need to pass a length-1 tuple to get_group in a future version of pandas. Pass `(name,)` instead of `name` to silence this warning.\n",
      "  data_subset = grouped_data.get_group(pd_key)\n",
      "/Users/justinjames/GitHub/LUPE-2.0/venv/lib/python3.9/site-packages/seaborn/categorical.py:632: FutureWarning: SeriesGroupBy.grouper is deprecated and will be removed in a future version of pandas.\n",
      "  positions = grouped.grouper.result_index.to_numpy(dtype=float)\n",
      "/Users/justinjames/GitHub/LUPE-2.0/venv/lib/python3.9/site-packages/seaborn/_base.py:948: FutureWarning: When grouping with a length-1 list-like, you will need to pass a length-1 tuple to get_group in a future version of pandas. Pass `(name,)` instead of `name` to silence this warning.\n",
      "  data_subset = grouped_data.get_group(pd_key)\n",
      "/Users/justinjames/GitHub/LUPE-2.0/venv/lib/python3.9/site-packages/seaborn/categorical.py:632: FutureWarning: SeriesGroupBy.grouper is deprecated and will be removed in a future version of pandas.\n",
      "  positions = grouped.grouper.result_index.to_numpy(dtype=float)\n",
      "/Users/justinjames/GitHub/LUPE-2.0/venv/lib/python3.9/site-packages/seaborn/_base.py:948: FutureWarning: When grouping with a length-1 list-like, you will need to pass a length-1 tuple to get_group in a future version of pandas. Pass `(name,)` instead of `name` to silence this warning.\n",
      "  data_subset = grouped_data.get_group(pd_key)\n",
      "/Users/justinjames/GitHub/LUPE-2.0/venv/lib/python3.9/site-packages/seaborn/categorical.py:632: FutureWarning: SeriesGroupBy.grouper is deprecated and will be removed in a future version of pandas.\n",
      "  positions = grouped.grouper.result_index.to_numpy(dtype=float)\n"
     ]
    },
    {
     "data": {
      "text/plain": "<Figure size 1000x1100 with 4 Axes>",
      "image/png": "[encoded data removed]"
     },
     "metadata": {},
     "output_type": "display_data"
    }
   ],
   "source": [
    "###### RUN DEPENDENCIES ######\n",
    "import matplotlib.pyplot as plt\n",
    "import numpy as np\n",
    "import pandas as pd\n",
    "import os\n",
    "import sys\n",
    "\n",
    "if not os.path.join(os.path.abspath(''), '../') in sys.path:\n",
    "    sys.path.append(os.path.join(os.path.abspath(''), '../'))\n",
    "\n",
    "from utils.classification import load_behaviors\n",
    "from utils.meta import *\n",
    "import matplotlib\n",
    "import warnings\n",
    "import seaborn as sns\n",
    "\n",
    "###### Load Behaviors ######\n",
    "behaviors = load_behaviors(f\"../processed_dataset/{project_name}/behaviors_{project_name}.pkl\")\n",
    "\n",
    "# Define the directory path\n",
    "directory_path = f\"../processed_dataset/{project_name}/figures/behavior_instance-durations\"\n",
    "if not os.path.exists(directory_path):\n",
    "    os.makedirs(directory_path)\n",
    "\n",
    "def get_duration_bouts(predict, behavior_classes, framerate=60):\n",
    "    behav_durations = []\n",
    "    bout_start_idx = np.where(np.diff(np.hstack([-1, predict])) != 0)[0]\n",
    "    bout_durations = np.hstack([np.diff(bout_start_idx), len(predict) - np.max(bout_start_idx)])\n",
    "    bout_start_label = predict[bout_start_idx]\n",
    "    for b, behavior_name in enumerate(behavior_classes):\n",
    "        idx_b = np.where(bout_start_label == int(b))[0]\n",
    "        if len(idx_b) > 0:\n",
    "            behav_durations.append(bout_durations[idx_b]/framerate)\n",
    "        else:\n",
    "            a = np.empty((1,))\n",
    "            a[:] = np.nan\n",
    "            behav_durations.append(a)\n",
    "    return behav_durations\n",
    "\n",
    "rows = len(selected_groups)\n",
    "cols = len(selected_conditions)\n",
    "\n",
    "# Adjust the figure size as needed\n",
    "fig, ax = plt.subplots(rows, cols, figsize=(10, 11), sharex=False, sharey=True)\n",
    "\n",
    "# Flatten ax if either rows or cols is 1\n",
    "if rows == 1 or cols == 1:\n",
    "    ax = np.atleast_1d(ax).flatten()\n",
    "\n",
    "for row in range(rows):\n",
    "    if row > 4:\n",
    "        cols = 1\n",
    "        if cols > 1:\n",
    "            fig.delaxes(ax[row * cols + 1])\n",
    "            fig.delaxes(ax[row * cols + 2])\n",
    "    else:\n",
    "        cols = len(selected_conditions)\n",
    "        \n",
    "    for col in range(cols):\n",
    "        \n",
    "        selected_group = selected_groups[row]\n",
    "        selected_condition = selected_conditions[col]\n",
    "        \n",
    "        durations_ = []\n",
    "        for f in range(len(behaviors[selected_group][selected_condition])):\n",
    "            durations_.append(get_duration_bouts(behaviors[selected_group][selected_condition][f'file{f}'], behavior_names))\n",
    "        durations_dict = {'behavior': np.hstack([np.hstack([np.repeat(behavior_names[i],\n",
    "                                                           len(durations_[f][i])) \n",
    "                                                 for i in range(len(durations_[f]))]) for f in range(len(durations_))]),\n",
    "                          'duration': np.hstack([np.hstack(durations_[f]) for f in range(len(durations_))]),\n",
    "                          }\n",
    "        durations_df = pd.DataFrame(durations_dict)\n",
    "        durations_df.to_csv(f\"../processed_dataset/{project_name}/figures/behavior_instance-durations/behavior_durations_{selected_group}_{selected_condition}.csv\")\n",
    "\n",
    "        # Plot using the correct ax indexing\n",
    "        ax_index = row * cols + col\n",
    "        sns.boxplot(data=durations_df, x='duration', y='behavior', hue='behavior', \n",
    "                    orient='h', width=0.8,\n",
    "                    palette=behavior_colors, showfliers=False, ax=ax[ax_index])\n",
    "        ax[ax_index].set_ylabel('')\n",
    "        ax[ax_index].set_xlabel('')\n",
    "        \n",
    "        if col == 1 or col == 2:\n",
    "            if row == rows-1:\n",
    "                ax[ax_index].set_xlabel('Behavior duration (s)')\n",
    "        \n",
    "                \n",
    "        if row == rows-1:\n",
    "            ax[ax_index].set_xlabel('Behavior duration (s)')\n",
    "        ax[ax_index].set_title(f'{selected_group} - {selected_condition}')\n",
    "        \n",
    "        ax[ax_index].set_aspect('equal', adjustable='box')\n",
    "        \n",
    "        ax[ax_index].set_xlim(0, 6)\n",
    "        \n",
    "        legend = ax[ax_index].get_legend()\n",
    "        if legend is not None:\n",
    "            legend.remove()\n",
    "            \n",
    "fig.savefig(f\"../processed_dataset/{project_name}/figures/behavior_instance-durations/behavior_durations_{project_name}.svg\", \n",
    "            dpi=600, bbox_inches='tight')\n",
    "        \n",
    "plt.tight_layout()\n",
    "plt.show()"
   ],
   "metadata": {
    "collapsed": false,
    "ExecuteTime": {
     "end_time": "2024-08-09T15:35:03.589671Z",
     "start_time": "2024-08-09T15:35:03.044862Z"
    }
   },
   "id": "484e1a4ad8983014",
   "execution_count": 3
  },
  {
   "cell_type": "markdown",
   "source": [
    "# ANALYSIS COMPLETE!"
   ],
   "metadata": {
    "collapsed": false
   },
   "id": "ae809e386fb3bb92"
  },
  {
   "cell_type": "code",
   "outputs": [],
   "source": [],
   "metadata": {
    "collapsed": false
   },
   "id": "7bb6abd5cdadf195"
  }
 ],
 "metadata": {
  "kernelspec": {
   "display_name": "Python 3 (ipykernel)",
   "language": "python",
   "name": "python3"
  },
  "language_info": {
   "codemirror_mode": {
    "name": "ipython",
    "version": 3
   },
   "file_extension": ".py",
   "mimetype": "text/x-python",
   "name": "python",
   "nbconvert_exporter": "python",
   "pygments_lexer": "ipython3",
   "version": "3.11.0"
  }
 },
 "nbformat": 4,
 "nbformat_minor": 5
}
