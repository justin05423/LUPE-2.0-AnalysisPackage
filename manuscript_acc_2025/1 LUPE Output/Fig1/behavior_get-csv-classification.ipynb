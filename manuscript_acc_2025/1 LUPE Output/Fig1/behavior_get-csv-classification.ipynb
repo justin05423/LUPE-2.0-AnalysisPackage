{
 "cells": [
  {
   "cell_type": "markdown",
   "source": [
    "# Behavior Analysis: Get CSVs with Behavior Classification Across Files"
   ],
   "metadata": {
    "collapsed": false
   },
   "id": "1e03de428c1b3db0"
  },
  {
   "cell_type": "markdown",
   "source": [
    "Press SHIFT + ENTER to run code"
   ],
   "metadata": {
    "collapsed": false
   },
   "id": "cfd6a360bf17b7d9"
  },
  {
   "cell_type": "markdown",
   "source": [
    "### USER INPUT!"
   ],
   "metadata": {
    "collapsed": false
   },
   "id": "ffb7624fdfd93586"
  },
  {
   "cell_type": "code",
   "execution_count": 1,
   "id": "c1ca9fb2a33975a1",
   "metadata": {
    "collapsed": false,
    "ExecuteTime": {
     "end_time": "2025-01-19T17:20:51.637143Z",
     "start_time": "2025-01-19T17:20:51.634599Z"
    }
   },
   "outputs": [],
   "source": [
    "## Define project\n",
    "project_name = 'project_ACC_Study4_NociFormalinResponse'\n"
   ]
  },
  {
   "cell_type": "markdown",
   "source": [
    "### Main Code: Create CSVs for Behavior Classification (per frame)"
   ],
   "metadata": {
    "collapsed": false
   },
   "id": "6ab92dbcfe823ad4"
  },
  {
   "cell_type": "code",
   "outputs": [
    {
     "name": "stdout",
     "output_type": "stream",
     "text": [
      "Saved Male_Group6_1PerFormalin_2107.4M_L1_acA2040-120um__23670847__20230707_135124289DLC_resnet50_LUPE_MALEDec5shuffle1_350000.csv\n",
      "Saved Male_Group6_1PerFormalin_2107.2M_L3_acA2040-120um__23701299__20230707_130157080DLC_resnet50_LUPE_MALEDec5shuffle1_350000.csv\n",
      "Saved Male_Group6_1PerFormalin_2107.0M_L1_acA2040-120um__23670847__20230707_131221586DLC_resnet50_LUPE_MALEDec5shuffle1_350000.csv\n",
      "Saved Male_Group6_1PerFormalin_2107.3M_L4_acA2040-120um__23670846__20230707_130523712DLC_resnet50_LUPE_MALEDec5shuffle1_350000.csv\n",
      "Saved Male_Group6_1PerFormalin_2107.1M_L2_acA2040-120um__23701274__20230707_131339359DLC_resnet50_LUPE_MALEDec5shuffle1_350000.csv\n",
      "Saved Male_Group7_5PerFormalin_2109.2M_L1_acA2040-120um__23670847__20230707_150543646DLC_resnet50_LUPE_MALEDec5shuffle1_350000.csv\n",
      "Saved Male_Group7_5PerFormalin_2109.4M_L3_acA2040-120um__23701299__20230707_145343367DLC_resnet50_LUPE_MALEDec5shuffle1_350000.csv\n",
      "Saved Male_Group7_5PerFormalin_2109.3M_L2_acA2040-120um__23701274__20230707_151536525DLC_resnet50_LUPE_MALEDec5shuffle1_350000.csv\n",
      "Saved Male_Group7_5PerFormalin_2109.1M_L4_acA2040-120um__23670846__20230707_142024103DLC_resnet50_LUPE_MALEDec5shuffle1_350000.csv\n",
      "Saved Male_Group7_5PerFormalin_2109.0M_L3_acA2040-120um__23701299__20230707_141704742DLC_resnet50_LUPE_MALEDec5shuffle1_350000.csv\n",
      "Saved Female_Group6_1PerFormalin_2108.1F_L3_acA2040-120um__23701299__20230707_134035525DLC_resnet50_LUPE_MALEDec5shuffle1_350000.csv\n",
      "Saved Female_Group6_1PerFormalin_2108.3F_L1_acA2040-120um__23670847__20230707_142905078DLC_resnet50_LUPE_MALEDec5shuffle1_350000.csv\n",
      "Saved Female_Group6_1PerFormalin_2108.2F_L4_acA2040-120um__23670846__20230707_134352759DLC_resnet50_LUPE_MALEDec5shuffle1_350000.csv\n",
      "Saved Female_Group6_1PerFormalin_2108.0F_L2__acA2040-120um__23701274__20230707_135900313DLC_resnet50_LUPE_MALEDec5shuffle1_350000.csv\n",
      "Saved Female_Group6_1PerFormalin_2108.4F_L2_acA2040-120um__23701274__20230707_143648805DLC_resnet50_LUPE_MALEDec5shuffle1_350000.csv\n",
      "Saved Female_Group7_5PerFormalin_2110.2F_L2_acA2040-120um__23701274__20230707_155051618DLC_resnet50_LUPE_MALEDec5shuffle1_350000.csv\n",
      "Saved Female_Group7_5PerFormalin_2110.3F_L3_acA2040-120um__23701299__20230707_153027052DLC_resnet50_LUPE_MALEDec5shuffle1_350000.csv\n",
      "Saved Female_Group7_5PerFormalin_2110.4F_L4_acA2040-120um__23670846__20230707_153354739DLC_resnet50_LUPE_MALEDec5shuffle1_350000.csv\n",
      "Saved Female_Group7_5PerFormalin_2110.2F_L2_acA2040-120um__23670847__20230707_154525784DLC_resnet50_LUPE_MALEDec5shuffle1_350000.csv\n",
      "Saved Female_Group7_5PerFormalin_2110.0F_L4_acA2040-120um__23670846__20230707_145711766DLC_resnet50_LUPE_MALEDec5shuffle1_350000.csv\n",
      "Saved Male_Group6_1PerFormalin_2107.4M_L1_acA2040-120um__23670847__20230707_135124289DLC_resnet50_LUPE_MALEDec5shuffle1_350000.csv\n",
      "Saved Male_Group6_1PerFormalin_2107.2M_L3_acA2040-120um__23701299__20230707_130157080DLC_resnet50_LUPE_MALEDec5shuffle1_350000.csv\n",
      "Saved Male_Group6_1PerFormalin_2107.0M_L1_acA2040-120um__23670847__20230707_131221586DLC_resnet50_LUPE_MALEDec5shuffle1_350000.csv\n",
      "Saved Male_Group6_1PerFormalin_2107.3M_L4_acA2040-120um__23670846__20230707_130523712DLC_resnet50_LUPE_MALEDec5shuffle1_350000.csv\n",
      "Saved Male_Group6_1PerFormalin_2107.1M_L2_acA2040-120um__23701274__20230707_131339359DLC_resnet50_LUPE_MALEDec5shuffle1_350000.csv\n",
      "Saved Male_Group7_5PerFormalin_2109.2M_L1_acA2040-120um__23670847__20230707_150543646DLC_resnet50_LUPE_MALEDec5shuffle1_350000.csv\n",
      "Saved Male_Group7_5PerFormalin_2109.4M_L3_acA2040-120um__23701299__20230707_145343367DLC_resnet50_LUPE_MALEDec5shuffle1_350000.csv\n",
      "Saved Male_Group7_5PerFormalin_2109.3M_L2_acA2040-120um__23701274__20230707_151536525DLC_resnet50_LUPE_MALEDec5shuffle1_350000.csv\n",
      "Saved Male_Group7_5PerFormalin_2109.1M_L4_acA2040-120um__23670846__20230707_142024103DLC_resnet50_LUPE_MALEDec5shuffle1_350000.csv\n",
      "Saved Male_Group7_5PerFormalin_2109.0M_L3_acA2040-120um__23701299__20230707_141704742DLC_resnet50_LUPE_MALEDec5shuffle1_350000.csv\n",
      "Saved Female_Group6_1PerFormalin_2108.1F_L3_acA2040-120um__23701299__20230707_134035525DLC_resnet50_LUPE_MALEDec5shuffle1_350000.csv\n",
      "Saved Female_Group6_1PerFormalin_2108.3F_L1_acA2040-120um__23670847__20230707_142905078DLC_resnet50_LUPE_MALEDec5shuffle1_350000.csv\n",
      "Saved Female_Group6_1PerFormalin_2108.2F_L4_acA2040-120um__23670846__20230707_134352759DLC_resnet50_LUPE_MALEDec5shuffle1_350000.csv\n",
      "Saved Female_Group6_1PerFormalin_2108.0F_L2__acA2040-120um__23701274__20230707_135900313DLC_resnet50_LUPE_MALEDec5shuffle1_350000.csv\n",
      "Saved Female_Group6_1PerFormalin_2108.4F_L2_acA2040-120um__23701274__20230707_143648805DLC_resnet50_LUPE_MALEDec5shuffle1_350000.csv\n",
      "Saved Female_Group7_5PerFormalin_2110.2F_L2_acA2040-120um__23701274__20230707_155051618DLC_resnet50_LUPE_MALEDec5shuffle1_350000.csv\n",
      "Saved Female_Group7_5PerFormalin_2110.3F_L3_acA2040-120um__23701299__20230707_153027052DLC_resnet50_LUPE_MALEDec5shuffle1_350000.csv\n",
      "Saved Female_Group7_5PerFormalin_2110.4F_L4_acA2040-120um__23670846__20230707_153354739DLC_resnet50_LUPE_MALEDec5shuffle1_350000.csv\n",
      "Saved Female_Group7_5PerFormalin_2110.2F_L2_acA2040-120um__23670847__20230707_154525784DLC_resnet50_LUPE_MALEDec5shuffle1_350000.csv\n",
      "Saved Female_Group7_5PerFormalin_2110.0F_L4_acA2040-120um__23670846__20230707_145711766DLC_resnet50_LUPE_MALEDec5shuffle1_350000.csv\n",
      "All files saved.\n"
     ]
    }
   ],
   "source": [
    "import os\n",
    "import pandas as pd\n",
    "from utils.classification import load_model, load_features, load_data, weighted_smoothing, load_behaviors\n",
    "\n",
    "behaviors = load_behaviors(f\"../processed_dataset/{project_name}/behaviors_{project_name}.pkl\")\n",
    "\n",
    "# Directory to save the CSV files\n",
    "output_dir = f'../processed_dataset/{project_name}/figures/behaviors_csv_raw-classification/frames'\n",
    "os.makedirs(output_dir, exist_ok=True)\n",
    "\n",
    "# Behaviors per frame\n",
    "for group, conditions in behaviors.items():\n",
    "    for condition, files in conditions.items():\n",
    "        for file_key, data in files.items():\n",
    "            # Create a DataFrame from the data\n",
    "            df = pd.DataFrame({'frame': range(1, len(data) + 1), 'behavior': data})\n",
    "            \n",
    "            # Construct the filename\n",
    "            csv_filename = f'{group}_{condition}_{file_key}.csv'\n",
    "            \n",
    "            # Save the DataFrame to a CSV file\n",
    "            df.to_csv(os.path.join(output_dir, csv_filename), index=False)\n",
    "            print(f'Saved {csv_filename}')\n",
    "\n",
    "# Directory to save the CSV files\n",
    "output_dir = f'../processed_dataset/{project_name}/figures/behaviors_csv_raw-classification/seconds'\n",
    "os.makedirs(output_dir, exist_ok=True)\n",
    "\n",
    "# Behaviors per second\n",
    "frame_rate = 60\n",
    "for group, conditions in behaviors.items():\n",
    "    for condition, files in conditions.items():\n",
    "        for file_key, data in files.items():\n",
    "            # Create a DataFrame from the data\n",
    "            df = pd.DataFrame({'time_seconds': [i / frame_rate for i in range(len(data))], 'behavior': data})\n",
    "            \n",
    "            # Construct the filename\n",
    "            csv_filename = f'{group}_{condition}_{file_key}.csv'\n",
    "            \n",
    "            # Save the DataFrame to a CSV file\n",
    "            df.to_csv(os.path.join(output_dir, csv_filename), index=False)\n",
    "            print(f'Saved {csv_filename}')\n",
    "            \n",
    "print('All files saved.')"
   ],
   "metadata": {
    "collapsed": false,
    "ExecuteTime": {
     "end_time": "2025-01-19T17:20:54.467472Z",
     "start_time": "2025-01-19T17:20:52.116431Z"
    }
   },
   "id": "c5bf492ea7a289e8",
   "execution_count": 2
  },
  {
   "cell_type": "markdown",
   "source": [
    "# COMPLETE"
   ],
   "metadata": {
    "collapsed": false
   },
   "id": "be7991e8261f981b"
  },
  {
   "cell_type": "code",
   "outputs": [],
   "source": [],
   "metadata": {
    "collapsed": false
   },
   "id": "952428c9a297bea5"
  }
 ],
 "metadata": {
  "kernelspec": {
   "display_name": "Python 3 (ipykernel)",
   "language": "python",
   "name": "python3"
  },
  "language_info": {
   "codemirror_mode": {
    "name": "ipython",
    "version": 3
   },
   "file_extension": ".py",
   "mimetype": "text/x-python",
   "name": "python",
   "nbconvert_exporter": "python",
   "pygments_lexer": "ipython3",
   "version": "3.11.0"
  }
 },
 "nbformat": 4,
 "nbformat_minor": 5
}
