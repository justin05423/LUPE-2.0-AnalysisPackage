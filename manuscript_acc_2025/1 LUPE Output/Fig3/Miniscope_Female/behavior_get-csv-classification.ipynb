{
 "cells": [
  {
   "cell_type": "markdown",
   "source": [
    "# Behavior Analysis: Get CSVs with Behavior Classification Across Files"
   ],
   "metadata": {
    "collapsed": false
   },
   "id": "1e03de428c1b3db0"
  },
  {
   "cell_type": "markdown",
   "source": [
    "Press SHIFT + ENTER to run code"
   ],
   "metadata": {
    "collapsed": false
   },
   "id": "cfd6a360bf17b7d9"
  },
  {
   "cell_type": "markdown",
   "source": [
    "### USER INPUT!"
   ],
   "metadata": {
    "collapsed": false
   },
   "id": "ffb7624fdfd93586"
  },
  {
   "cell_type": "code",
   "execution_count": 1,
   "id": "c1ca9fb2a33975a1",
   "metadata": {
    "collapsed": false,
    "ExecuteTime": {
     "end_time": "2025-04-03T15:27:05.097928Z",
     "start_time": "2025-04-03T15:27:05.095550Z"
    }
   },
   "outputs": [],
   "source": [
    "## Define project\n",
    "project_name = 'project_ACC_MiniscopeSNI_Female'\n"
   ]
  },
  {
   "cell_type": "markdown",
   "source": [
    "### Main Code: Create CSVs for Behavior Classification (per frame)"
   ],
   "metadata": {
    "collapsed": false
   },
   "id": "6ab92dbcfe823ad4"
  },
  {
   "cell_type": "code",
   "outputs": [
    {
     "name": "stdout",
     "output_type": "stream",
     "text": [
      "Saved Baseline_NoInjury_MM112_Baseline_Basler_acA2040-120um__23670846__20250107_112755246DLC_resnet50_LUPE_MALEDec5shuffle1_350000.csv\n",
      "Saved Baseline_NoInjury_CSO20_Baseline_Basler_acA2040-120um__23701274__20250107_115355049DLC_resnet50_LUPE_MALEDec5shuffle1_350000.csv\n",
      "Saved Baseline_NoInjury_MM109_Baseline_Basler_acA2040-120um__23701274__20250107_111527114DLC_resnet50_LUPE_MALEDec5shuffle1_350000.csv\n",
      "Saved Baseline_NoInjury_CSO21_Baseline_Basler_acA2040-120um__23670846__20250107_124912281DLC_resnet50_LUPE_MALEDec5shuffle1_350000.csv\n",
      "Saved Baseline_NoInjury_CSO22_Baseline_Basler_acA2040-120um__23670846__20250107_140618213DLC_resnet50_LUPE_MALEDec5shuffle1_350000.csv\n",
      "Saved Baseline_SNI_CSO25_Baseline_Basler_acA2040-120um__23670846__20250107_132615288DLC_resnet50_LUPE_MALEDec5shuffle1_350000.csv\n",
      "Saved Baseline_SNI_CSO23_Baseline_Basler_acA2040-120um__23701274__20250107_123204151DLC_resnet50_LUPE_MALEDec5shuffle1_350000.csv\n",
      "Saved Baseline_SNI_CSO24_Baseline_Basler_acA2040-120um__23670846__20250107_121030902DLC_resnet50_LUPE_MALEDec5shuffle1_350000.csv\n",
      "Saved Baseline_SNI_MM110_Baseline_Basler_acA2040-120um__23701274__20250107_135201007DLC_resnet50_LUPE_MALEDec5shuffle1_350000.csv\n",
      "Saved Baseline_SNI_MM108_Baseline_Basler_acA2040-120um__23701274__20250107_131532873DLC_resnet50_LUPE_MALEDec5shuffle1_350000.csv\n",
      "Saved SNI_1Hr_NoInjury_CSO20_1hr_Basler_acA2040-120um__23701274__20250108_122612509DLC_resnet50_LUPE_MALEDec5shuffle1_350000.csv\n",
      "Saved SNI_1Hr_NoInjury_MM109_1hr_Basler_acA2040-120um__23701274__20250108_114346480DLC_resnet50_LUPE_MALEDec5shuffle1_350000.csv\n",
      "Saved SNI_1Hr_NoInjury_CSO21_1hr_Basler_acA2040-120um__23670846__20250108_132138790DLC_resnet50_LUPE_MALEDec5shuffle1_350000.csv\n",
      "Saved SNI_1Hr_NoInjury_MM112_1hr_Basler_acA2040-120um__23670846__20250108_115612060DLC_resnet50_LUPE_MALEDec5shuffle1_350000.csv\n",
      "Saved SNI_1Hr_NoInjury_CSO22_1hr_Basler_acA2040-120um__23670846__20250108_144736925DLC_resnet50_LUPE_MALEDec5shuffle1_350000.csv\n",
      "Saved SNI_1Hr_SNI_CSO25_1hr_Basler_acA2040-120um__23670846__20250108_140527763DLC_resnet50_LUPE_MALEDec5shuffle1_350000.csv\n",
      "Saved SNI_1Hr_SNI_CSO23_1hr_Basler_acA2040-120um__23701274__20250108_131117343DLC_resnet50_LUPE_MALEDec5shuffle1_350000.csv\n",
      "Saved SNI_1Hr_SNI_CSO24_1hr_Basler_acA2040-120um__23670846__20250108_123548818DLC_resnet50_LUPE_MALEDec5shuffle1_350000.csv\n",
      "Saved SNI_1Hr_SNI_MM108_1hr_Basler_acA2040-120um__23701274__20250108_135533264DLC_resnet50_LUPE_MALEDec5shuffle1_350000.csv\n",
      "Saved SNI_1Hr_SNI_MM110_1hr_Basler_acA2040-120um__23701274__20250108_144044300DLC_resnet50_LUPE_MALEDec5shuffle1_350000.csv\n",
      "Saved SNI_1Week_NoInjury_CSO21_1week_Basler_acA2040-120um__23670846__20250115_122746652DLC_resnet50_LUPE_MALEDec5shuffle1_350000.csv\n",
      "Saved SNI_1Week_NoInjury_MM109_1week_Basler_acA2040-120um__23701274__20250115_110045569DLC_resnet50_LUPE_MALEDec5shuffle1_350000.csv\n",
      "Saved SNI_1Week_NoInjury_MM112_1week_Basler_acA2040-120um__23670846__20250115_111418867DLC_resnet50_LUPE_MALEDec5shuffle1_350000.csv\n",
      "Saved SNI_1Week_NoInjury_CSO20_1week_Basler_acA2040-120um__23701274__20250115_113815587DLC_resnet50_LUPE_MALEDec5shuffle1_350000.csv\n",
      "Saved SNI_1Week_NoInjury_CSO22_1week_Basler_acA2040-120um__23670846__20250115_134235279DLC_resnet50_LUPE_MALEDec5shuffle1_350000.csv\n",
      "Saved SNI_1Week_SNI_CSO25_1week_Basler_acA2040-120um__23670846__20250115_130520767DLC_resnet50_LUPE_MALEDec5shuffle1_350000.csv\n",
      "Saved SNI_1Week_SNI_MM110_1week_Basler_acA2040-120um__23701274__20250115_133016411DLC_resnet50_LUPE_MALEDec5shuffle1_350000.csv\n",
      "Saved SNI_1Week_SNI_CSO24_1week_Basler_acA2040-120um__23670846__20250115_115144880DLC_resnet50_LUPE_MALEDec5shuffle1_350000.csv\n",
      "Saved SNI_1Week_SNI_CSO23_1week_Basler_acA2040-120um__23701274__20250115_121649327DLC_resnet50_LUPE_MALEDec5shuffle1_350000.csv\n",
      "Saved SNI_1Week_SNI_MM108_1week_Basler_acA2040-120um__23701274__20250115_125257332DLC_resnet50_LUPE_MALEDec5shuffle1_350000.csv\n",
      "Saved SNI_2Week_NoInjury_CSO22_2weeks_Basler_acA2040-120um__23670846__20250122_134825730DLC_resnet50_LUPE_MALEDec5shuffle1_350000.csv\n",
      "Saved SNI_2Week_NoInjury_CSO20_2weeks_Basler_acA2040-120um__23701274__20250122_114325204DLC_resnet50_LUPE_MALEDec5shuffle1_350000.csv\n",
      "Saved SNI_2Week_NoInjury_MM109_2weeks_Basler_acA2040-120um__23701274__20250122_110641291DLC_resnet50_LUPE_MALEDec5shuffle1_350000.csv\n",
      "Saved SNI_2Week_NoInjury_CSO21_2weeks_Basler_acA2040-120um__23670846__20250122_123444489DLC_resnet50_LUPE_MALEDec5shuffle1_350000.csv\n",
      "Saved SNI_2Week_NoInjury_MM112_2weeks_Basler_acA2040-120um__23670846__20250122_112003968DLC_resnet50_LUPE_MALEDec5shuffle1_350000.csv\n",
      "Saved SNI_2Week_SNI_CSO23_2weeks_Basler_acA2040-120um__23701274__20250122_121941197DLC_resnet50_LUPE_MALEDec5shuffle1_350000.csv\n",
      "Saved SNI_2Week_SNI_MM108_2weeks_Basler_acA2040-120um__23701274__20250122_125642943DLC_resnet50_LUPE_MALEDec5shuffle1_350000.csv\n",
      "Saved SNI_2Week_SNI_CSO24_2weeks_Basler_acA2040-120um__23670846__20250122_115809809DLC_resnet50_LUPE_MALEDec5shuffle1_350000.csv\n",
      "Saved SNI_2Week_SNI_CSO25_2weeks_Basler_acA2040-120um__23670846__20250122_131223750DLC_resnet50_LUPE_MALEDec5shuffle1_350000.csv\n",
      "Saved SNI_2Week_SNI_MM110_2weeks_Basler_acA2040-120um__23701274__20250122_133432359DLC_resnet50_LUPE_MALEDec5shuffle1_350000.csv\n",
      "Saved SNI_3Week_NoInjury_CSO18_3weeksDLC_resnet50_LUPE_MALEDec5shuffle1_350000.csv\n",
      "Saved SNI_3Week_NoInjury_MM104_3weeksDLC_resnet50_LUPE_MALEDec5shuffle1_350000.csv\n",
      "Saved SNI_3Week_NoInjury_MM103_3weeksDLC_resnet50_LUPE_MALEDec5shuffle1_350000.csv\n",
      "Saved SNI_3Week_NoInjury_MM105_3weeksDLC_resnet50_LUPE_MALEDec5shuffle1_350000.csv\n",
      "Saved SNI_3Week_SNI_CSO17_3weeksDLC_resnet50_LUPE_MALEDec5shuffle1_350000.csv\n",
      "Saved SNI_3Week_SNI_MM98_3weeksDLC_resnet50_LUPE_MALEDec5shuffle1_350000.csv\n",
      "Saved SNI_3Week_SNI_CSO15_3weeksDLC_resnet50_LUPE_MALEDec5shuffle1_350000.csv\n",
      "Saved SNI_3Week_SNI_CSO19_3weeksDLC_resnet50_LUPE_MALEDec5shuffle1_350000.csv\n",
      "Saved SNI_3WeekMorphine_NoInjury_MM105_Morphine_Basler_acA2040-120um__23670847__20241218_113306366DLC_resnet50_LUPE_MALEDec5shuffle1_350000.csv\n",
      "Saved SNI_3WeekMorphine_NoInjury_MM103_Morphine_Basler_acA2040-120um__23670847__20241218_101558370DLC_resnet50_LUPE_MALEDec5shuffle1_350000.csv\n",
      "Saved SNI_3WeekMorphine_NoInjury_MM104_Morphine_Basler_acA2040-120um__23670847__20241218_105309133DLC_resnet50_LUPE_MALEDec5shuffle1_350000.csv\n",
      "Saved SNI_3WeekMorphine_NoInjury_CSO18_Morphine_Basler_acA2040-120um__23670847__20241218_120945118DLC_resnet50_LUPE_MALEDec5shuffle1_350000.csv\n",
      "Saved SNI_3WeekMorphine_SNI_CSO19_Morphine_Basler_acA2040-120um__23670847__20241218_150718086DLC_resnet50_LUPE_MALEDec5shuffle1_350000.csv\n",
      "Saved SNI_3WeekMorphine_SNI_CSO17_Morphine_Basler_acA2040-120um__23670847__20241218_143157914DLC_resnet50_LUPE_MALEDec5shuffle1_350000.csv\n",
      "Saved SNI_3WeekMorphine_SNI_MM98_Morphine_Basler_acA2040-120um__23670847__20241218_131416101DLC_resnet50_LUPE_MALEDec5shuffle1_350000.csv\n",
      "Saved SNI_3WeekMorphine_SNI_CSO15_Morphine_Basler_acA2040-120um__23670847__20241218_135241113DLC_resnet50_LUPE_MALEDec5shuffle1_350000.csv\n",
      "Saved Baseline_NoInjury_MM112_Baseline_Basler_acA2040-120um__23670846__20250107_112755246DLC_resnet50_LUPE_MALEDec5shuffle1_350000.csv\n",
      "Saved Baseline_NoInjury_CSO20_Baseline_Basler_acA2040-120um__23701274__20250107_115355049DLC_resnet50_LUPE_MALEDec5shuffle1_350000.csv\n",
      "Saved Baseline_NoInjury_MM109_Baseline_Basler_acA2040-120um__23701274__20250107_111527114DLC_resnet50_LUPE_MALEDec5shuffle1_350000.csv\n",
      "Saved Baseline_NoInjury_CSO21_Baseline_Basler_acA2040-120um__23670846__20250107_124912281DLC_resnet50_LUPE_MALEDec5shuffle1_350000.csv\n",
      "Saved Baseline_NoInjury_CSO22_Baseline_Basler_acA2040-120um__23670846__20250107_140618213DLC_resnet50_LUPE_MALEDec5shuffle1_350000.csv\n",
      "Saved Baseline_SNI_CSO25_Baseline_Basler_acA2040-120um__23670846__20250107_132615288DLC_resnet50_LUPE_MALEDec5shuffle1_350000.csv\n",
      "Saved Baseline_SNI_CSO23_Baseline_Basler_acA2040-120um__23701274__20250107_123204151DLC_resnet50_LUPE_MALEDec5shuffle1_350000.csv\n",
      "Saved Baseline_SNI_CSO24_Baseline_Basler_acA2040-120um__23670846__20250107_121030902DLC_resnet50_LUPE_MALEDec5shuffle1_350000.csv\n",
      "Saved Baseline_SNI_MM110_Baseline_Basler_acA2040-120um__23701274__20250107_135201007DLC_resnet50_LUPE_MALEDec5shuffle1_350000.csv\n",
      "Saved Baseline_SNI_MM108_Baseline_Basler_acA2040-120um__23701274__20250107_131532873DLC_resnet50_LUPE_MALEDec5shuffle1_350000.csv\n",
      "Saved SNI_1Hr_NoInjury_CSO20_1hr_Basler_acA2040-120um__23701274__20250108_122612509DLC_resnet50_LUPE_MALEDec5shuffle1_350000.csv\n",
      "Saved SNI_1Hr_NoInjury_MM109_1hr_Basler_acA2040-120um__23701274__20250108_114346480DLC_resnet50_LUPE_MALEDec5shuffle1_350000.csv\n",
      "Saved SNI_1Hr_NoInjury_CSO21_1hr_Basler_acA2040-120um__23670846__20250108_132138790DLC_resnet50_LUPE_MALEDec5shuffle1_350000.csv\n",
      "Saved SNI_1Hr_NoInjury_MM112_1hr_Basler_acA2040-120um__23670846__20250108_115612060DLC_resnet50_LUPE_MALEDec5shuffle1_350000.csv\n",
      "Saved SNI_1Hr_NoInjury_CSO22_1hr_Basler_acA2040-120um__23670846__20250108_144736925DLC_resnet50_LUPE_MALEDec5shuffle1_350000.csv\n",
      "Saved SNI_1Hr_SNI_CSO25_1hr_Basler_acA2040-120um__23670846__20250108_140527763DLC_resnet50_LUPE_MALEDec5shuffle1_350000.csv\n",
      "Saved SNI_1Hr_SNI_CSO23_1hr_Basler_acA2040-120um__23701274__20250108_131117343DLC_resnet50_LUPE_MALEDec5shuffle1_350000.csv\n",
      "Saved SNI_1Hr_SNI_CSO24_1hr_Basler_acA2040-120um__23670846__20250108_123548818DLC_resnet50_LUPE_MALEDec5shuffle1_350000.csv\n",
      "Saved SNI_1Hr_SNI_MM108_1hr_Basler_acA2040-120um__23701274__20250108_135533264DLC_resnet50_LUPE_MALEDec5shuffle1_350000.csv\n",
      "Saved SNI_1Hr_SNI_MM110_1hr_Basler_acA2040-120um__23701274__20250108_144044300DLC_resnet50_LUPE_MALEDec5shuffle1_350000.csv\n",
      "Saved SNI_1Week_NoInjury_CSO21_1week_Basler_acA2040-120um__23670846__20250115_122746652DLC_resnet50_LUPE_MALEDec5shuffle1_350000.csv\n",
      "Saved SNI_1Week_NoInjury_MM109_1week_Basler_acA2040-120um__23701274__20250115_110045569DLC_resnet50_LUPE_MALEDec5shuffle1_350000.csv\n",
      "Saved SNI_1Week_NoInjury_MM112_1week_Basler_acA2040-120um__23670846__20250115_111418867DLC_resnet50_LUPE_MALEDec5shuffle1_350000.csv\n",
      "Saved SNI_1Week_NoInjury_CSO20_1week_Basler_acA2040-120um__23701274__20250115_113815587DLC_resnet50_LUPE_MALEDec5shuffle1_350000.csv\n",
      "Saved SNI_1Week_NoInjury_CSO22_1week_Basler_acA2040-120um__23670846__20250115_134235279DLC_resnet50_LUPE_MALEDec5shuffle1_350000.csv\n",
      "Saved SNI_1Week_SNI_CSO25_1week_Basler_acA2040-120um__23670846__20250115_130520767DLC_resnet50_LUPE_MALEDec5shuffle1_350000.csv\n",
      "Saved SNI_1Week_SNI_MM110_1week_Basler_acA2040-120um__23701274__20250115_133016411DLC_resnet50_LUPE_MALEDec5shuffle1_350000.csv\n",
      "Saved SNI_1Week_SNI_CSO24_1week_Basler_acA2040-120um__23670846__20250115_115144880DLC_resnet50_LUPE_MALEDec5shuffle1_350000.csv\n",
      "Saved SNI_1Week_SNI_CSO23_1week_Basler_acA2040-120um__23701274__20250115_121649327DLC_resnet50_LUPE_MALEDec5shuffle1_350000.csv\n",
      "Saved SNI_1Week_SNI_MM108_1week_Basler_acA2040-120um__23701274__20250115_125257332DLC_resnet50_LUPE_MALEDec5shuffle1_350000.csv\n",
      "Saved SNI_2Week_NoInjury_CSO22_2weeks_Basler_acA2040-120um__23670846__20250122_134825730DLC_resnet50_LUPE_MALEDec5shuffle1_350000.csv\n",
      "Saved SNI_2Week_NoInjury_CSO20_2weeks_Basler_acA2040-120um__23701274__20250122_114325204DLC_resnet50_LUPE_MALEDec5shuffle1_350000.csv\n",
      "Saved SNI_2Week_NoInjury_MM109_2weeks_Basler_acA2040-120um__23701274__20250122_110641291DLC_resnet50_LUPE_MALEDec5shuffle1_350000.csv\n",
      "Saved SNI_2Week_NoInjury_CSO21_2weeks_Basler_acA2040-120um__23670846__20250122_123444489DLC_resnet50_LUPE_MALEDec5shuffle1_350000.csv\n",
      "Saved SNI_2Week_NoInjury_MM112_2weeks_Basler_acA2040-120um__23670846__20250122_112003968DLC_resnet50_LUPE_MALEDec5shuffle1_350000.csv\n",
      "Saved SNI_2Week_SNI_CSO23_2weeks_Basler_acA2040-120um__23701274__20250122_121941197DLC_resnet50_LUPE_MALEDec5shuffle1_350000.csv\n",
      "Saved SNI_2Week_SNI_MM108_2weeks_Basler_acA2040-120um__23701274__20250122_125642943DLC_resnet50_LUPE_MALEDec5shuffle1_350000.csv\n",
      "Saved SNI_2Week_SNI_CSO24_2weeks_Basler_acA2040-120um__23670846__20250122_115809809DLC_resnet50_LUPE_MALEDec5shuffle1_350000.csv\n",
      "Saved SNI_2Week_SNI_CSO25_2weeks_Basler_acA2040-120um__23670846__20250122_131223750DLC_resnet50_LUPE_MALEDec5shuffle1_350000.csv\n",
      "Saved SNI_2Week_SNI_MM110_2weeks_Basler_acA2040-120um__23701274__20250122_133432359DLC_resnet50_LUPE_MALEDec5shuffle1_350000.csv\n",
      "Saved SNI_3Week_NoInjury_CSO18_3weeksDLC_resnet50_LUPE_MALEDec5shuffle1_350000.csv\n",
      "Saved SNI_3Week_NoInjury_MM104_3weeksDLC_resnet50_LUPE_MALEDec5shuffle1_350000.csv\n",
      "Saved SNI_3Week_NoInjury_MM103_3weeksDLC_resnet50_LUPE_MALEDec5shuffle1_350000.csv\n",
      "Saved SNI_3Week_NoInjury_MM105_3weeksDLC_resnet50_LUPE_MALEDec5shuffle1_350000.csv\n",
      "Saved SNI_3Week_SNI_CSO17_3weeksDLC_resnet50_LUPE_MALEDec5shuffle1_350000.csv\n",
      "Saved SNI_3Week_SNI_MM98_3weeksDLC_resnet50_LUPE_MALEDec5shuffle1_350000.csv\n",
      "Saved SNI_3Week_SNI_CSO15_3weeksDLC_resnet50_LUPE_MALEDec5shuffle1_350000.csv\n",
      "Saved SNI_3Week_SNI_CSO19_3weeksDLC_resnet50_LUPE_MALEDec5shuffle1_350000.csv\n",
      "Saved SNI_3WeekMorphine_NoInjury_MM105_Morphine_Basler_acA2040-120um__23670847__20241218_113306366DLC_resnet50_LUPE_MALEDec5shuffle1_350000.csv\n",
      "Saved SNI_3WeekMorphine_NoInjury_MM103_Morphine_Basler_acA2040-120um__23670847__20241218_101558370DLC_resnet50_LUPE_MALEDec5shuffle1_350000.csv\n",
      "Saved SNI_3WeekMorphine_NoInjury_MM104_Morphine_Basler_acA2040-120um__23670847__20241218_105309133DLC_resnet50_LUPE_MALEDec5shuffle1_350000.csv\n",
      "Saved SNI_3WeekMorphine_NoInjury_CSO18_Morphine_Basler_acA2040-120um__23670847__20241218_120945118DLC_resnet50_LUPE_MALEDec5shuffle1_350000.csv\n",
      "Saved SNI_3WeekMorphine_SNI_CSO19_Morphine_Basler_acA2040-120um__23670847__20241218_150718086DLC_resnet50_LUPE_MALEDec5shuffle1_350000.csv\n",
      "Saved SNI_3WeekMorphine_SNI_CSO17_Morphine_Basler_acA2040-120um__23670847__20241218_143157914DLC_resnet50_LUPE_MALEDec5shuffle1_350000.csv\n",
      "Saved SNI_3WeekMorphine_SNI_MM98_Morphine_Basler_acA2040-120um__23670847__20241218_131416101DLC_resnet50_LUPE_MALEDec5shuffle1_350000.csv\n",
      "Saved SNI_3WeekMorphine_SNI_CSO15_Morphine_Basler_acA2040-120um__23670847__20241218_135241113DLC_resnet50_LUPE_MALEDec5shuffle1_350000.csv\n",
      "All files saved.\n"
     ]
    }
   ],
   "source": [
    "import os\n",
    "import pandas as pd\n",
    "from utils.classification import load_model, load_features, load_data, weighted_smoothing, load_behaviors\n",
    "\n",
    "behaviors = load_behaviors(f\"../processed_dataset/{project_name}/behaviors_{project_name}.pkl\")\n",
    "\n",
    "# Directory to save the CSV files\n",
    "output_dir = f'../processed_dataset/{project_name}/figures/behaviors_csv_raw-classification/frames'\n",
    "os.makedirs(output_dir, exist_ok=True)\n",
    "\n",
    "# Behaviors per frame\n",
    "for group, conditions in behaviors.items():\n",
    "    for condition, files in conditions.items():\n",
    "        for file_key, data in files.items():\n",
    "            # Create a DataFrame from the data\n",
    "            df = pd.DataFrame({'frame': range(1, len(data) + 1), 'behavior': data})\n",
    "            \n",
    "            # Construct the filename\n",
    "            csv_filename = f'{group}_{condition}_{file_key}.csv'\n",
    "            \n",
    "            # Save the DataFrame to a CSV file\n",
    "            df.to_csv(os.path.join(output_dir, csv_filename), index=False)\n",
    "            print(f'Saved {csv_filename}')\n",
    "\n",
    "# Directory to save the CSV files\n",
    "output_dir = f'../processed_dataset/{project_name}/figures/behaviors_csv_raw-classification/seconds'\n",
    "os.makedirs(output_dir, exist_ok=True)\n",
    "\n",
    "# Behaviors per second\n",
    "frame_rate = 60\n",
    "for group, conditions in behaviors.items():\n",
    "    for condition, files in conditions.items():\n",
    "        for file_key, data in files.items():\n",
    "            # Create a DataFrame from the data\n",
    "            df = pd.DataFrame({'time_seconds': [i / frame_rate for i in range(len(data))], 'behavior': data})\n",
    "            \n",
    "            # Construct the filename\n",
    "            csv_filename = f'{group}_{condition}_{file_key}.csv'\n",
    "            \n",
    "            # Save the DataFrame to a CSV file\n",
    "            df.to_csv(os.path.join(output_dir, csv_filename), index=False)\n",
    "            print(f'Saved {csv_filename}')\n",
    "            \n",
    "print('All files saved.')"
   ],
   "metadata": {
    "collapsed": false,
    "ExecuteTime": {
     "end_time": "2025-04-03T15:27:12.551959Z",
     "start_time": "2025-04-03T15:27:05.842089Z"
    }
   },
   "id": "c5bf492ea7a289e8",
   "execution_count": 2
  },
  {
   "cell_type": "markdown",
   "source": [
    "# COMPLETE"
   ],
   "metadata": {
    "collapsed": false
   },
   "id": "be7991e8261f981b"
  },
  {
   "cell_type": "code",
   "outputs": [],
   "source": [],
   "metadata": {
    "collapsed": false
   },
   "id": "952428c9a297bea5"
  }
 ],
 "metadata": {
  "kernelspec": {
   "display_name": "Python 3 (ipykernel)",
   "language": "python",
   "name": "python3"
  },
  "language_info": {
   "codemirror_mode": {
    "name": "ipython",
    "version": 3
   },
   "file_extension": ".py",
   "mimetype": "text/x-python",
   "name": "python",
   "nbconvert_exporter": "python",
   "pygments_lexer": "ipython3",
   "version": "3.11.0"
  }
 },
 "nbformat": 4,
 "nbformat_minor": 5
}
