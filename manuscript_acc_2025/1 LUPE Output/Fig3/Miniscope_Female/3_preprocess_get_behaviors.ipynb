{
 "cells": [
  {
   "cell_type": "markdown",
   "source": [
    "# STEP 3: preprocess_get_behaviors"
   ],
   "metadata": {
    "collapsed": false
   },
   "id": "1e03de428c1b3db0"
  },
  {
   "cell_type": "markdown",
   "source": [
    "Press SHIFT + ENTER to run code"
   ],
   "metadata": {
    "collapsed": false
   },
   "id": "cfd6a360bf17b7d9"
  },
  {
   "cell_type": "markdown",
   "source": [
    "### USER INPUT!"
   ],
   "metadata": {
    "collapsed": false
   },
   "id": "ffb7624fdfd93586"
  },
  {
   "cell_type": "code",
   "execution_count": 1,
   "id": "c1ca9fb2a33975a1",
   "metadata": {
    "collapsed": false,
    "ExecuteTime": {
     "end_time": "2025-04-03T15:25:35.508076Z",
     "start_time": "2025-04-03T15:25:35.505839Z"
    }
   },
   "outputs": [],
   "source": [
    "## Define project\n",
    "project_name = 'project_ACC_MiniscopeSNI_Female'"
   ]
  },
  {
   "cell_type": "markdown",
   "id": "e618599488c49c2b",
   "metadata": {
    "collapsed": false
   },
   "source": [
    "### MAIN CODE: predict behaviors based on features\n",
    "USER INPUT NEEDED BELOW!!! \n",
    "WAIT UNTIL CODE FINISHES PROCESSING DATA"
   ]
  },
  {
   "cell_type": "code",
   "outputs": [
    {
     "data": {
      "text/plain": "  0%|          | 0/6 [00:00<?, ?it/s]",
      "application/vnd.jupyter.widget-view+json": {
       "version_major": 2,
       "version_minor": 0,
       "model_id": "0d0bb80375a44987976dddb0443b8d18"
      }
     },
     "metadata": {},
     "output_type": "display_data"
    },
    {
     "data": {
      "text/plain": "  0%|          | 0/2 [00:00<?, ?it/s]",
      "application/vnd.jupyter.widget-view+json": {
       "version_major": 2,
       "version_minor": 0,
       "model_id": "7aa3d5d59f324d96b3ecec937efa51d3"
      }
     },
     "metadata": {},
     "output_type": "display_data"
    },
    {
     "data": {
      "text/plain": "  0%|          | 0/2 [00:00<?, ?it/s]",
      "application/vnd.jupyter.widget-view+json": {
       "version_major": 2,
       "version_minor": 0,
       "model_id": "53d97e0e961d4dafaa27bf7adba47140"
      }
     },
     "metadata": {},
     "output_type": "display_data"
    },
    {
     "data": {
      "text/plain": "  0%|          | 0/2 [00:00<?, ?it/s]",
      "application/vnd.jupyter.widget-view+json": {
       "version_major": 2,
       "version_minor": 0,
       "model_id": "e96be90483e041ca97b6791e9384b027"
      }
     },
     "metadata": {},
     "output_type": "display_data"
    },
    {
     "data": {
      "text/plain": "  0%|          | 0/2 [00:00<?, ?it/s]",
      "application/vnd.jupyter.widget-view+json": {
       "version_major": 2,
       "version_minor": 0,
       "model_id": "dd02239b23034323af1ef5d8116d4a13"
      }
     },
     "metadata": {},
     "output_type": "display_data"
    },
    {
     "data": {
      "text/plain": "  0%|          | 0/2 [00:00<?, ?it/s]",
      "application/vnd.jupyter.widget-view+json": {
       "version_major": 2,
       "version_minor": 0,
       "model_id": "409c5f0618654dedac9f04071c1d26e0"
      }
     },
     "metadata": {},
     "output_type": "display_data"
    },
    {
     "data": {
      "text/plain": "  0%|          | 0/2 [00:00<?, ?it/s]",
      "application/vnd.jupyter.widget-view+json": {
       "version_major": 2,
       "version_minor": 0,
       "model_id": "2534fd7d5b1c4ee5a0821bb2c29d303f"
      }
     },
     "metadata": {},
     "output_type": "display_data"
    }
   ],
   "source": [
    "###### RUN DEPENDENCIES ######\n",
    "import matplotlib.pyplot as plt\n",
    "import numpy as np\n",
    "import seaborn as sns\n",
    "from matplotlib.colors import ListedColormap\n",
    "import os\n",
    "import sys\n",
    "if not os.path.join(os.path.abspath(''), '../') in sys.path:\n",
    "    sys.path.append(os.path.join(os.path.abspath(''), '../'))\n",
    "from utils.classification import load_model, load_features, load_data, weighted_smoothing, load_behaviors\n",
    "from utils.meta import *\n",
    "from tqdm import notebook\n",
    "import pickle\n",
    "import pandas as pd\n",
    "\n",
    "###### LOAD: model, preprocessed pose, and binned features ######\n",
    "model_path = '../model/model.pkl'\n",
    "model = load_model(model_path)\n",
    "data_path = f\"../processed_dataset/{project_name}/raw_data_{project_name}.pkl\"\n",
    "poses = load_data(data_path)\n",
    "features_path = f\"../processed_dataset/{project_name}/binned_features_{project_name}.pkl\"\n",
    "features = load_features(features_path)\n",
    "\n",
    "repeat_n = 6\n",
    "if f\"behaviors_{project_name}.pkl\" not in os.listdir(f\"../processed_dataset/{project_name}\"):\n",
    "    behaviors = {key: [] for key in groups_project_ACC_MiniscopeSNI_Female} # *** CHANGE to groups_{project_name} manually *** #\n",
    "    for group in notebook.tqdm(groups_project_ACC_MiniscopeSNI_Female): # *** CHANGE to groups_{project_name} manually *** #\n",
    "        behaviors[group] = {key: [] for key in conditions_project_ACC_MiniscopeSNI_Female} # *** CHANGE to conditions_{project_name} manually *** #\n",
    "        for condition in notebook.tqdm(conditions_project_ACC_MiniscopeSNI_Female): # *** CHANGE to conditions_{project_name} manually *** #\n",
    "            behaviors[group][condition] = {file_name: [] for file_name in poses[group][condition].keys()}\n",
    "    \n",
    "            for file_name in poses[group][condition]:\n",
    "                total_n_frames = poses[group][condition][file_name].shape[0]\n",
    "                # predict downsampled features\n",
    "                predict_ds = model.predict(features[group][condition][file_name][0])\n",
    "                # upsample by duplicating\n",
    "                predictions = np.pad(predict_ds.repeat(repeat_n), (repeat_n, 0), 'edge')[:total_n_frames]\n",
    "                # smooth with minimum 12 frames (200ms)\n",
    "                behaviors[group][condition][file_name] = weighted_smoothing(predictions, size=12)\n",
    "else:\n",
    "    behaviors = load_behaviors(f\"../processed_dataset/{project_name}/behaviors_{project_name}.pkl\")\n",
    "\n",
    "###### WAIT UNTIL CODE FINISHES PROCESSING DATA ######"
   ],
   "metadata": {
    "collapsed": false,
    "ExecuteTime": {
     "end_time": "2025-04-03T15:25:52.445141Z",
     "start_time": "2025-04-03T15:25:47.347645Z"
    }
   },
   "id": "3bc0d5eba349797f",
   "execution_count": 3
  },
  {
   "cell_type": "code",
   "execution_count": 4,
   "id": "d29398ed449e8fd3",
   "metadata": {
    "collapsed": false,
    "ExecuteTime": {
     "end_time": "2025-04-03T15:25:53.847747Z",
     "start_time": "2025-04-03T15:25:53.823288Z"
    }
   },
   "outputs": [],
   "source": [
    "###### STORE ALL BEHAVIORS IN DICTIONARY ######  \n",
    "if f\"behaviors_{project_name}.pkl\" not in os.listdir(f\"../processed_dataset/{project_name}\"):\n",
    "    with open(f\"../processed_dataset/{project_name}/behaviors_{project_name}.pkl\", 'wb') as f:\n",
    "        pickle.dump(behaviors, f)\n",
    "else:\n",
    "    print('Predicted behaviors exists!')"
   ]
  },
  {
   "cell_type": "markdown",
   "source": [
    "# PREPROCESS COMPLETE! Move on to behavior analysis + figure generation!"
   ],
   "metadata": {
    "collapsed": false
   },
   "id": "61f24b0cb2779fd0"
  },
  {
   "cell_type": "code",
   "outputs": [],
   "source": [],
   "metadata": {
    "collapsed": false
   },
   "id": "af09c6f645058eb6"
  }
 ],
 "metadata": {
  "kernelspec": {
   "display_name": "Python 3 (ipykernel)",
   "language": "python",
   "name": "python3"
  },
  "language_info": {
   "codemirror_mode": {
    "name": "ipython",
    "version": 3
   },
   "file_extension": ".py",
   "mimetype": "text/x-python",
   "name": "python",
   "nbconvert_exporter": "python",
   "pygments_lexer": "ipython3",
   "version": "3.11.0"
  }
 },
 "nbformat": 4,
 "nbformat_minor": 5
}
