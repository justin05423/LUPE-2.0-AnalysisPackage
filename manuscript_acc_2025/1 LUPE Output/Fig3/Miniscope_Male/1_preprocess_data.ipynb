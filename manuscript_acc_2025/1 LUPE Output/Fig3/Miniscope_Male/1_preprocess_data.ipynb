{
 "cells": [
  {
   "cell_type": "markdown",
   "source": [
    "# STEP 1: 1_preprocess_data.ipynb"
   ],
   "metadata": {
    "collapsed": false
   },
   "id": "da01517664bee851"
  },
  {
   "cell_type": "markdown",
   "source": [
    "Press SHIFT + ENTER to run code"
   ],
   "metadata": {
    "collapsed": false
   },
   "id": "f0ad12dc7aefa95c"
  },
  {
   "cell_type": "markdown",
   "source": [
    "### USER INPUT!\n",
    "Specify where to store the csvs. change the data_root_dir"
   ],
   "metadata": {
    "collapsed": false
   },
   "id": "d17b457d04d8a615"
  },
  {
   "cell_type": "code",
   "outputs": [],
   "source": [
    "## Define project\n",
    "project_name = 'project_ACC_MiniscopeSNI_3WeekMorphine'\n",
    "\n",
    "## Say where your data holding your DLC-analyzed CSVs is stored\n",
    "    # i.e. Apple: '/Users/justinjames/LUPE_Corder-Lab/'+project_XXX+'/dlc_csvs'\n",
    "data_root_dir = '/Users/justinjames/LUPE_Corder-Lab/project_ACC_MiniscopeSNI_3WeekMorphine/dlc_csvs'\n",
    "\n",
    "## Breakdown how your data is organized in the folders-- name of folders that are groups? within groups, name condition folders\n",
    "    # i.e. groups = ['Group1', 'Group2','Group3']\n",
    "    # i.e. conditions = ['control','experiment']\n",
    "groups = ['NoInjury','SNI']\n",
    "conditions = ['Combined']"
   ],
   "metadata": {
    "collapsed": false,
    "ExecuteTime": {
     "end_time": "2024-12-19T17:02:49.232101Z",
     "start_time": "2024-12-19T17:02:49.228260Z"
    }
   },
   "id": "3df1e808aabc2617",
   "execution_count": 2
  },
  {
   "cell_type": "markdown",
   "source": [
    "### Updating meta.py for project"
   ],
   "metadata": {
    "collapsed": false
   },
   "id": "47384fac4667a165"
  },
  {
   "cell_type": "code",
   "outputs": [
    {
     "name": "stdout",
     "output_type": "stream",
     "text": [
      "Updated ../utils/meta.py with project-specific groups and conditions.\n"
     ]
    }
   ],
   "source": [
    "import os\n",
    "\n",
    "def update_meta_file(project_name):\n",
    "    meta_file_path = '../utils/meta.py'\n",
    "    \n",
    "    groups_var = f\"groups_{project_name} = {groups}\"\n",
    "    conditions_var = f\"conditions_{project_name} = {conditions}\"\n",
    "    \n",
    "    # Read the current contents of the meta file\n",
    "    if os.path.exists(meta_file_path):\n",
    "        with open(meta_file_path, 'r') as file:\n",
    "            lines = file.readlines()\n",
    "    else:\n",
    "        lines = []\n",
    "\n",
    "    # Check if the variables are already defined and update them if necessary\n",
    "    groups_defined = False\n",
    "    conditions_defined = False\n",
    "    for i, line in enumerate(lines):\n",
    "        if line.startswith(f\"groups_{project_name} =\"):\n",
    "            lines[i] = groups_var + '\\n'\n",
    "            groups_defined = True\n",
    "        elif line.startswith(f\"conditions_{project_name} =\"):\n",
    "            lines[i] = conditions_var + '\\n'\n",
    "            conditions_defined = True\n",
    "\n",
    "    # If the variables are not defined, add them to the end of the file\n",
    "    if not groups_defined:\n",
    "        lines.append(groups_var + '\\n')\n",
    "    if not conditions_defined:\n",
    "        lines.append(conditions_var + '\\n')\n",
    "\n",
    "    # Write the updated contents back to the meta file\n",
    "    with open(meta_file_path, 'w') as file:\n",
    "        file.writelines(lines)\n",
    "    \n",
    "    print(f'Updated {meta_file_path} with project-specific groups and conditions.')\n",
    "\n",
    "# Example usage\n",
    "update_meta_file(project_name)"
   ],
   "metadata": {
    "collapsed": false,
    "ExecuteTime": {
     "end_time": "2024-12-19T17:00:52.905434Z",
     "start_time": "2024-12-19T17:00:52.902331Z"
    }
   },
   "id": "a43cf8ae78d02922",
   "execution_count": 2
  },
  {
   "cell_type": "markdown",
   "source": [
    "### Main Code: store all data in dictionary\n",
    "WAIT UNTIL PROCESSING DATA FINISHES"
   ],
   "metadata": {
    "collapsed": false
   },
   "id": "13d28c3423eac2a9"
  },
  {
   "cell_type": "code",
   "outputs": [
    {
     "data": {
      "text/plain": "  0%|          | 0/2 [00:00<?, ?it/s]",
      "application/vnd.jupyter.widget-view+json": {
       "version_major": 2,
       "version_minor": 0,
       "model_id": "1f7b7775674946cdac5c2190b8fc84af"
      }
     },
     "metadata": {},
     "output_type": "display_data"
    },
    {
     "data": {
      "text/plain": "  0%|          | 0/1 [00:00<?, ?it/s]",
      "application/vnd.jupyter.widget-view+json": {
       "version_major": 2,
       "version_minor": 0,
       "model_id": "e9467c2ab91441a4823224b5dd09f686"
      }
     },
     "metadata": {},
     "output_type": "display_data"
    },
    {
     "data": {
      "text/plain": "  0%|          | 0/4 [00:00<?, ?it/s]",
      "application/vnd.jupyter.widget-view+json": {
       "version_major": 2,
       "version_minor": 0,
       "model_id": "b049769fa98e49ed9ab00e57bb448621"
      }
     },
     "metadata": {},
     "output_type": "display_data"
    },
    {
     "data": {
      "text/plain": "  0%|          | 0/1 [00:00<?, ?it/s]",
      "application/vnd.jupyter.widget-view+json": {
       "version_major": 2,
       "version_minor": 0,
       "model_id": "0e7365db966345609446cf2226910ec6"
      }
     },
     "metadata": {},
     "output_type": "display_data"
    },
    {
     "data": {
      "text/plain": "  0%|          | 0/4 [00:00<?, ?it/s]",
      "application/vnd.jupyter.widget-view+json": {
       "version_major": 2,
       "version_minor": 0,
       "model_id": "a0dcd5fa4cef4133beab9853cd188f4d"
      }
     },
     "metadata": {},
     "output_type": "display_data"
    }
   ],
   "source": [
    "###### RUN DEPENDENCIES ######\n",
    "import glob\n",
    "import pickle\n",
    "import os\n",
    "import sys\n",
    "if not os.path.join(os.path.abspath(''), '../') in sys.path:\n",
    "    sys.path.append(os.path.join(os.path.abspath(''), '../'))\n",
    "import numpy as np\n",
    "import pandas as pd\n",
    "from tqdm import notebook\n",
    "from utils.feature_utils import filter_pose_noise\n",
    "\n",
    "###### MAIN CODE ######\n",
    "filenames = {key: [] for key in groups}\n",
    "data = {key: [] for key in groups}\n",
    "for group in notebook.tqdm(groups):\n",
    "    filenames[group] = {key: [] for key in conditions}\n",
    "    data[group] = {key: [] for key in conditions}\n",
    "    for condition in notebook.tqdm(conditions):\n",
    "        \n",
    "        filenames[group][condition] = glob.glob(str.join('/', \n",
    "                                                              (data_root_dir,\n",
    "                                                               f'{group}', \n",
    "                                                               f'{condition}', \n",
    "                                                               '*.csv')))\n",
    "        data[group][condition] = {os.path.splitext(os.path.basename(csv))[0]: [] \n",
    "                                  for csv in filenames[group][condition]}\n",
    "        \n",
    "        for csv in notebook.tqdm(filenames[group][condition]):\n",
    "            temp_df = pd.read_csv(csv, header=[0, 1, 2, 3], sep=\",\", index_col=0)\n",
    "            selected_pose_idx = np.arange(temp_df.shape[1])\n",
    "            idx_llh = selected_pose_idx[2::3]\n",
    "            # the loaded sleap file has them too, so exclude for both\n",
    "            idx_selected = [i for i in selected_pose_idx if i not in idx_llh]\n",
    "            currdf_filt, _ = filter_pose_noise(temp_df, idx_selected=idx_selected, idx_llh=idx_llh, \n",
    "                                               llh_value=0.1)\n",
    "            file_name = os.path.splitext(os.path.basename(csv))[0]\n",
    "            data[group][condition][file_name] = currdf_filt\n",
    "\n",
    "###### WAIT UNTIL PROCESSING DATA FINISHES ######"
   ],
   "metadata": {
    "collapsed": false,
    "ExecuteTime": {
     "end_time": "2024-12-19T17:01:43.019023Z",
     "start_time": "2024-12-19T17:00:54.148362Z"
    }
   },
   "id": "initial_id",
   "execution_count": 3
  },
  {
   "cell_type": "code",
   "outputs": [
    {
     "name": "stdout",
     "output_type": "stream",
     "text": [
      "../processed_dataset/project_ACC_MiniscopeSNI_3WeekMorphine/raw_data_project_ACC_MiniscopeSNI_3WeekMorphine.pkl is created and saved!\n"
     ]
    }
   ],
   "source": [
    "###### STORE ALL DATA IN DICTIONARY ######  \n",
    "directory = f\"../processed_dataset/{project_name}/\"\n",
    "os.makedirs(directory, exist_ok=True)\n",
    "\n",
    "raw_data_pkl_filename = f\"../processed_dataset/{project_name}/raw_data_{project_name}.pkl\"\n",
    "with open(raw_data_pkl_filename, 'wb') as f:\n",
    "    pickle.dump(data, f)\n",
    "\n",
    "print(f'{raw_data_pkl_filename} is created and saved!')"
   ],
   "metadata": {
    "collapsed": false,
    "ExecuteTime": {
     "end_time": "2024-12-19T17:01:45.601025Z",
     "start_time": "2024-12-19T17:01:45.535351Z"
    }
   },
   "id": "69243d42168067d6",
   "execution_count": 4
  },
  {
   "cell_type": "code",
   "outputs": [
    {
     "data": {
      "text/plain": "{'NoInjury': {'Combined': {'MM105_Morphine_Basler_acA2040-120um__23670847__20241218_113306366DLC_resnet50_LUPE_MALEDec5shuffle1_350000': array([[184.80142021, 497.38641334, 187.97276437, ..., 628.30914342,\n           298.12312961, 654.56782484],\n          [184.84799552, 498.49660438, 187.28578293, ..., 626.08816373,\n           295.40284586, 653.36587071],\n          [184.26515245, 497.50362778, 187.33456075, ..., 628.50035614,\n           298.8609525 , 654.72610331],\n          ...,\n          [333.96572546, 145.86093712, 341.28974462, ...,  99.38473845,\n           542.40511364, 108.85613585],\n          [333.5993017 , 147.70040703, 340.33030939, ...,  98.28577018,\n           543.57034099, 107.09849763],\n          [334.16852427, 152.22038001, 341.35654068, ...,  96.16453373,\n           542.29028153, 106.44597602]]),\n   'MM103_Morphine_Basler_acA2040-120um__23670847__20241218_101558370DLC_resnet50_LUPE_MALEDec5shuffle1_350000': array([[510.61209893, 367.27414048, 518.06395102, ..., 400.49400079,\n           706.60261047, 376.209355  ],\n          [511.80573368, 367.71520758, 514.86421585, ..., 397.12938952,\n           706.67435098, 377.26112303],\n          [510.74055266, 368.87578535, 514.43145061, ..., 397.13925982,\n           706.97593367, 376.84748495],\n          ...,\n          [332.1899724 , 258.56438994, 336.94482899, ..., 404.41993546,\n           511.33078718, 434.42197299],\n          [326.03103509, 252.39362174, 328.28128767, ..., 396.16384669,\n           505.36407471, 426.0957514 ],\n          [326.03103509, 252.39362174, 330.59761143, ..., 390.27862626,\n           503.58213985, 422.60052395]]),\n   'MM104_Morphine_Basler_acA2040-120um__23670847__20241218_105309133DLC_resnet50_LUPE_MALEDec5shuffle1_350000': array([[178.57210183, 333.32091236, 181.24199009, ..., 212.35550082,\n           284.20121622, 184.83978295],\n          [181.3633728 , 336.17789543, 186.03352451, ..., 212.80123377,\n           281.8805635 , 185.9123005 ],\n          [181.01725888, 337.21387625, 184.85065091, ..., 212.01558042,\n           279.56078368, 181.47321796],\n          ...,\n          [ 97.92429876, 558.59346247,  98.59148264, ..., 452.41400743,\n            70.09103513, 384.19194067],\n          [ 95.18613386, 559.84376359,  98.03516388, ..., 452.25287271,\n            70.18347335, 384.60766387],\n          [ 91.36490631, 560.00293577,  92.81132674, ..., 452.96859741,\n            69.08207345, 386.66386223]]),\n   'CSO18_Morphine_Basler_acA2040-120um__23670847__20241218_120945118DLC_resnet50_LUPE_MALEDec5shuffle1_350000': array([[379.13378978, 300.00651067, 366.83252716, ..., 322.71867251,\n           175.13522899, 329.77808332],\n          [379.38518763, 295.65211463, 368.89435422, ..., 323.49962813,\n           179.96656179, 331.13708919],\n          [380.28623831, 294.56390762, 374.44226122, ..., 324.97893453,\n           186.24139881, 334.50867605],\n          ...,\n          [507.2399087 , 185.70201325, 498.7727685 , ..., 100.95297694,\n           397.51630878,  61.06045294],\n          [516.01461697, 183.57909262, 501.4905231 , ..., 101.769642  ,\n           397.79737806,  60.56448722],\n          [519.84592128, 177.96184731, 505.92533177, ..., 100.81953621,\n           397.78113294,  60.00217092]])}},\n 'SNI': {'Combined': {'CSO19_Morphine_Basler_acA2040-120um__23670847__20241218_150718086DLC_resnet50_LUPE_MALEDec5shuffle1_350000': array([[488.64938736, 169.61444664, 475.62320742, ..., 201.25223041,\n           315.7092309 , 233.89296651],\n          [490.81882024, 170.17558575, 477.78447068, ..., 202.06946599,\n           317.94869256, 232.27942055],\n          [491.98444366, 170.23786521, 478.05841613, ..., 202.6398567 ,\n           317.10028315, 232.8816971 ],\n          ...,\n          [282.90936124, 571.15154529, 290.68754995, ..., 490.11896086,\n           432.04113126, 456.80036974],\n          [280.70975208, 570.55479562, 287.47861481, ..., 489.93673798,\n           433.84913278, 457.89914151],\n          [282.56151319, 571.70247763, 291.20560098, ..., 494.1599741 ,\n           429.82867241, 461.9175539 ]]),\n   'CSO17_Morphine_Basler_acA2040-120um__23670847__20241218_143157914DLC_resnet50_LUPE_MALEDec5shuffle1_350000': array([[161.82035208, 411.31047106, 162.32001185, ..., 591.4385457 ,\n           244.84001262, 622.43571234],\n          [164.19348764, 410.24951982, 164.36100471, ..., 590.33222437,\n           244.04101813, 620.10060966],\n          [165.49885386, 408.8461175 , 165.11271513, ..., 587.89917851,\n           240.85211468, 620.79888731],\n          ...,\n          [530.49288321, 477.65871346, 539.09318125, ..., 646.72708297,\n           567.68852353, 679.66017628],\n          [640.25693989, 581.47094917, 537.92900181, ..., 645.50473189,\n           570.36977375, 677.75386667],\n          [530.83660354, 475.89310478, 535.03044438, ..., 642.23733282,\n           572.07499504, 676.00311006]]),\n   'MM98_Morphine_Basler_acA2040-120um__23670847__20241218_131416101DLC_resnet50_LUPE_MALEDec5shuffle1_350000': array([[257.6568532 , 265.24044356, 249.02798271, ..., 255.4487462 ,\n           253.29282662, 268.290627  ],\n          [228.90605569, 217.15734959, 249.02798271, ..., 255.80144906,\n           255.58063054, 268.12945962],\n          [221.91324806, 215.37871492, 249.02798271, ..., 256.53547025,\n           257.32453275, 270.7350291 ],\n          ...,\n          [394.18416715, 217.79621649, 392.15195787, ..., 104.38265193,\n           235.41871643,  94.3731178 ],\n          [396.45448065, 217.15927649, 394.01637745, ..., 105.17946291,\n           237.61005944,  95.75328994],\n          [394.42522931, 216.35617447, 391.6219067 , ..., 104.94602525,\n           235.33976555,  94.99766575]]),\n   'CSO15_Morphine_Basler_acA2040-120um__23670847__20241218_135241113DLC_resnet50_LUPE_MALEDec5shuffle1_350000': array([[246.60679317, 103.58221102, 243.38973904, ..., 237.56469765,\n           126.58619046, 282.46260262],\n          [248.60403717, 104.04866469, 243.46022534, ..., 234.84961343,\n           123.84774923, 280.76178223],\n          [254.06527948, 100.33159399, 247.26875854, ..., 233.00039041,\n           128.82954977, 278.44852686],\n          ...,\n          [176.40538549, 577.0153335 , 204.80993927, ..., 556.55477524,\n           196.47141647, 496.22882235],\n          [171.68326879, 577.07395554, 204.80993927, ..., 553.45044476,\n           197.68502045, 494.55941319],\n          [177.43865299, 579.40258098, 204.80993927, ..., 557.16868305,\n           197.95457524, 496.06769592]])}}}"
     },
     "execution_count": 3,
     "metadata": {},
     "output_type": "execute_result"
    }
   ],
   "source": [
    "###### CHECK DATA STORED CORRECTLY IN DICTIONARY ######\n",
    "from utils.classification import load_behaviors, load_data\n",
    "data = load_data(f\"../processed_dataset/{project_name}/raw_data_{project_name}.pkl\")\n",
    "data"
   ],
   "metadata": {
    "collapsed": false,
    "ExecuteTime": {
     "end_time": "2024-12-19T17:02:51.817340Z",
     "start_time": "2024-12-19T17:02:51.746175Z"
    }
   },
   "id": "53b7a3dae0f81ad1",
   "execution_count": 3
  },
  {
   "cell_type": "markdown",
   "source": [
    "# MOVE TO STEP 2!\n",
    "2_preprocess_get_features.ipynb "
   ],
   "metadata": {
    "collapsed": false
   },
   "id": "603baad4504639bc"
  },
  {
   "cell_type": "code",
   "outputs": [],
   "source": [],
   "metadata": {
    "collapsed": false
   },
   "id": "2421ba858831b919"
  }
 ],
 "metadata": {
  "kernelspec": {
   "display_name": "Python 3 (ipykernel)",
   "language": "python",
   "name": "python3"
  },
  "language_info": {
   "codemirror_mode": {
    "name": "ipython",
    "version": 3
   },
   "file_extension": ".py",
   "mimetype": "text/x-python",
   "name": "python",
   "nbconvert_exporter": "python",
   "pygments_lexer": "ipython3",
   "version": "3.11.0"
  }
 },
 "nbformat": 4,
 "nbformat_minor": 5
}
