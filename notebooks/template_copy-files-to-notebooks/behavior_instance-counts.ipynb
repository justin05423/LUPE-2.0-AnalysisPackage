{
 "cells": [
  {
   "cell_type": "markdown",
   "id": "a44009166e865e08",
   "metadata": {
    "collapsed": false
   },
   "source": [
    "# Behavior Analysis: Total Instances of Behavior"
   ]
  },
  {
   "cell_type": "markdown",
   "source": [
    "Press SHIFT + ENTER to run code"
   ],
   "metadata": {
    "collapsed": false
   },
   "id": "72c7f73231fdb39b"
  },
  {
   "cell_type": "markdown",
   "source": [
    "### USER INPUT!"
   ],
   "metadata": {
    "collapsed": false
   },
   "id": "ede4f564b352712d"
  },
  {
   "cell_type": "code",
   "outputs": [],
   "source": [
    "## Define project\n",
    "project_name = ''\n",
    "\n",
    "# Select group and condition, see meta.py to see how you previously defined it for your project\n",
    "selected_groups = ['', '']\n",
    "selected_conditions = ['', '']"
   ],
   "metadata": {
    "collapsed": false,
    "ExecuteTime": {
     "end_time": "2025-06-10T22:05:56.811548Z",
     "start_time": "2025-06-10T22:05:56.809253Z"
    }
   },
   "id": "initial_id",
   "execution_count": 1
  },
  {
   "cell_type": "markdown",
   "source": [
    "### Main Code: Create Bar Graph of Total Instances for Behavior"
   ],
   "metadata": {
    "collapsed": false
   },
   "id": "e8aeead45a0469a8"
  },
  {
   "cell_type": "code",
   "execution_count": 2,
   "id": "b42043a28b04f42c",
   "metadata": {
    "collapsed": false,
    "ExecuteTime": {
     "end_time": "2025-06-10T22:05:58.032223Z",
     "start_time": "2025-06-10T22:05:57.461229Z"
    }
   },
   "outputs": [
    {
     "ename": "FileNotFoundError",
     "evalue": "[Errno 2] No such file or directory: '../processed_dataset/project_BK_06092025_OptoCapLeftHindpaw/behaviors_project_BK_06092025_OptoCapLeftHindpaw.pkl'",
     "output_type": "error",
     "traceback": [
      "\u001B[0;31m---------------------------------------------------------------------------\u001B[0m",
      "\u001B[0;31mFileNotFoundError\u001B[0m                         Traceback (most recent call last)",
      "Cell \u001B[0;32mIn[2], line 16\u001B[0m\n\u001B[1;32m     13\u001B[0m \u001B[38;5;28;01mimport\u001B[39;00m \u001B[38;5;21;01mwarnings\u001B[39;00m\n\u001B[1;32m     15\u001B[0m \u001B[38;5;66;03m###### Load Behaviors ######\u001B[39;00m\n\u001B[0;32m---> 16\u001B[0m behaviors \u001B[38;5;241m=\u001B[39m \u001B[43mload_behaviors\u001B[49m\u001B[43m(\u001B[49m\u001B[38;5;124;43mf\u001B[39;49m\u001B[38;5;124;43m\"\u001B[39;49m\u001B[38;5;124;43m../processed_dataset/\u001B[39;49m\u001B[38;5;132;43;01m{\u001B[39;49;00m\u001B[43mproject_name\u001B[49m\u001B[38;5;132;43;01m}\u001B[39;49;00m\u001B[38;5;124;43m/behaviors_\u001B[39;49m\u001B[38;5;132;43;01m{\u001B[39;49;00m\u001B[43mproject_name\u001B[49m\u001B[38;5;132;43;01m}\u001B[39;49;00m\u001B[38;5;124;43m.pkl\u001B[39;49m\u001B[38;5;124;43m\"\u001B[39;49m\u001B[43m)\u001B[49m\n\u001B[1;32m     18\u001B[0m \u001B[38;5;66;03m# Define the directory path\u001B[39;00m\n\u001B[1;32m     19\u001B[0m directory_path \u001B[38;5;241m=\u001B[39m \u001B[38;5;124mf\u001B[39m\u001B[38;5;124m\"\u001B[39m\u001B[38;5;124m../processed_dataset/\u001B[39m\u001B[38;5;132;01m{\u001B[39;00mproject_name\u001B[38;5;132;01m}\u001B[39;00m\u001B[38;5;124m/figures/behavior_instance-counts\u001B[39m\u001B[38;5;124m\"\u001B[39m\n",
      "File \u001B[0;32m~/GitHub/LUPE-2.0/utils/classification.py:43\u001B[0m, in \u001B[0;36mload_behaviors\u001B[0;34m(path)\u001B[0m\n\u001B[1;32m     42\u001B[0m \u001B[38;5;28;01mdef\u001B[39;00m \u001B[38;5;21mload_behaviors\u001B[39m(path):\n\u001B[0;32m---> 43\u001B[0m     \u001B[38;5;28;01mwith\u001B[39;00m \u001B[38;5;28;43mopen\u001B[39;49m\u001B[43m(\u001B[49m\u001B[43mpath\u001B[49m\u001B[43m,\u001B[49m\u001B[43m \u001B[49m\u001B[38;5;124;43m'\u001B[39;49m\u001B[38;5;124;43mrb\u001B[39;49m\u001B[38;5;124;43m'\u001B[39;49m\u001B[43m)\u001B[49m \u001B[38;5;28;01mas\u001B[39;00m fr:\n\u001B[1;32m     44\u001B[0m         behaviors \u001B[38;5;241m=\u001B[39m pickle\u001B[38;5;241m.\u001B[39mload(fr)\n\u001B[1;32m     45\u001B[0m     \u001B[38;5;28;01mreturn\u001B[39;00m behaviors\n",
      "\u001B[0;31mFileNotFoundError\u001B[0m: [Errno 2] No such file or directory: '../processed_dataset/project_BK_06092025_OptoCapLeftHindpaw/behaviors_project_BK_06092025_OptoCapLeftHindpaw.pkl'"
     ]
    }
   ],
   "source": [
    "###### RUN DEPENDENCIES ######\n",
    "import matplotlib.pyplot as plt\n",
    "import numpy as np\n",
    "import pandas as pd\n",
    "import os\n",
    "import sys\n",
    "\n",
    "if not os.path.join(os.path.abspath(''), '../') in sys.path:\n",
    "    sys.path.append(os.path.join(os.path.abspath(''), '../'))\n",
    "    \n",
    "from utils.classification import load_behaviors\n",
    "from utils.meta import *\n",
    "import warnings\n",
    "\n",
    "###### Load Behaviors ######\n",
    "behaviors = load_behaviors(f\"../processed_dataset/{project_name}/behaviors_{project_name}.pkl\")\n",
    "\n",
    "# Define the directory path\n",
    "directory_path = f\"../processed_dataset/{project_name}/figures/behavior_instance-counts\"\n",
    "if not os.path.exists(directory_path):\n",
    "    os.makedirs(directory_path)\n",
    "\n",
    "def get_num_bouts(predict, behavior_classes):\n",
    "    bout_counts = []\n",
    "    bout_start_idx = np.where(np.diff(np.hstack([-1, predict])) != 0)[0]\n",
    "    bout_start_label = predict[bout_start_idx]\n",
    "    for b, behavior_name in enumerate(behavior_classes):\n",
    "        idx_b = np.where(bout_start_label == int(b))[0]\n",
    "        if len(idx_b) > 0:\n",
    "            bout_counts.append(len(idx_b))\n",
    "        else:\n",
    "            bout_counts.append(np.NAN)\n",
    "    return bout_counts\n",
    "\n",
    "rows = len(selected_groups)\n",
    "cols = len(selected_conditions)\n",
    "fig, ax = plt.subplots(rows, cols, figsize=(11, 20), sharex=False, sharey=True)\n",
    "\n",
    "# Reshape the axes array to 2D for consistent indexing\n",
    "if rows == 1 and cols == 1:\n",
    "    ax = np.array([[ax]])\n",
    "elif rows == 1:\n",
    "    ax = np.expand_dims(ax, axis=0)  # shape becomes (1, cols)\n",
    "elif cols == 1:\n",
    "    ax = ax.reshape(-1, 1)  # shape becomes (rows, 1)\n",
    "\n",
    "for row in range(rows):\n",
    "    # Note: the adjustment of cols within the loop (if row > 4) is not needed unless you have specific conditions.\n",
    "    for col in range(cols):\n",
    "        \n",
    "        selected_group = selected_groups[row]\n",
    "        selected_condition = selected_conditions[col]\n",
    "        \n",
    "        bout_counts = []\n",
    "        if selected_group in behaviors and selected_condition in behaviors[selected_group]:\n",
    "            file_keys = list(behaviors[selected_group][selected_condition].keys())\n",
    "            \n",
    "            for file_name in file_keys:\n",
    "                bout_counts.append(get_num_bouts(behaviors[selected_group][selected_condition][file_name], behavior_names))\n",
    "        \n",
    "            with warnings.catch_warnings():\n",
    "                warnings.simplefilter(\"ignore\", category=RuntimeWarning)\n",
    "                bout_mean = np.nanmean(bout_counts, axis=0)\n",
    "                bout_std = np.nanstd(bout_counts, axis=0)\n",
    "            \n",
    "            behavior_instance_dict = {'mean_counts': bout_mean,\n",
    "                                      'std_counts': bout_std,\n",
    "                                      'labels': behavior_names,\n",
    "                                      'colors': behavior_colors,\n",
    "                                     }\n",
    "            behavior_instance_df = pd.DataFrame(behavior_instance_dict)\n",
    "            \n",
    "            csv_filename = f\"../processed_dataset/{project_name}/figures/behavior_instance-counts/behavior_instance_counts_{project_name}_{selected_group}-{selected_condition}.csv\"\n",
    "            behavior_instance_df.to_csv(csv_filename)\n",
    "\n",
    "            # Plot using the properly reshaped axes array.\n",
    "            behavior_instance_df.plot.barh(y='mean_counts', \n",
    "                                           x='labels', \n",
    "                                           xerr='std_counts', \n",
    "                                           color=behavior_colors, \n",
    "                                           legend=False, \n",
    "                                           ax=ax[row, col], \n",
    "                                           zorder=3)\n",
    "            \n",
    "            ax[row, col].set_title(f'{selected_group} - {selected_condition}')\n",
    "            ax[row, col].grid(True, zorder=0)\n",
    "            ax[row, col].spines['top'].set_color('#D3D3D3')\n",
    "            ax[row, col].spines['right'].set_color('#D3D3D3')\n",
    "            ax[row, col].spines['bottom'].set_color('#D3D3D3')\n",
    "            ax[row, col].spines['left'].set_color('#D3D3D3')\n",
    "            \n",
    "            if row == rows-1:\n",
    "                ax[row, col].set_xlabel('Instance counts / 30min')\n",
    "    \n",
    "fig.savefig(f\"../processed_dataset/{project_name}/figures/behavior_instance-counts/behavior_counts_{project_name}.svg\", \n",
    "            dpi=600, bbox_inches='tight')\n",
    "            \n",
    "plt.show()"
   ]
  },
  {
   "cell_type": "markdown",
   "source": [
    "# ANALYSIS COMPLETE!"
   ],
   "metadata": {
    "collapsed": false
   },
   "id": "bc0fbafdb7fe1256"
  },
  {
   "cell_type": "markdown",
   "source": [
    "## Additional Analysis: Raw Frequency of Behavioral Bouts"
   ],
   "metadata": {
    "collapsed": false
   },
   "id": "b70a9c498915e346"
  },
  {
   "cell_type": "code",
   "outputs": [],
   "source": [
    "import warnings\n",
    "import pandas as pd\n",
    "import numpy as np\n",
    "import os\n",
    "import matplotlib.pyplot as plt\n",
    "import seaborn as sns\n",
    "\n",
    "\n",
    "raw_directory_path = f\"../processed_dataset/{project_name}/figures/behavior_instance-counts/behavior_instance-counts_raw\"\n",
    "if not os.path.exists(raw_directory_path):\n",
    "    os.makedirs(raw_directory_path)\n",
    "\n",
    "all_data = []\n",
    "\n",
    "for selected_group in selected_groups:\n",
    "    for selected_condition in selected_conditions:\n",
    "        if selected_group in behaviors and selected_condition in behaviors[selected_group]:\n",
    "            file_keys = list(behaviors[selected_group][selected_condition].keys())\n",
    "            \n",
    "            bout_counts = []\n",
    "            for file_name in file_keys:\n",
    "                per_file_bout_counts = get_num_bouts(behaviors[selected_group][selected_condition][file_name], behavior_names)\n",
    "                bout_counts.append(per_file_bout_counts)\n",
    "                \n",
    "                for behavior, count in zip(behavior_names, per_file_bout_counts):\n",
    "                    all_data.append({\n",
    "                        'Group': selected_group,\n",
    "                        'Condition': selected_condition,\n",
    "                        'File': file_name,\n",
    "                        'Behavior': behavior,\n",
    "                        'Count': count\n",
    "                    })\n",
    "            \n",
    "            raw_bout_counts_df = pd.DataFrame(bout_counts, columns=behavior_names, index=file_keys)\n",
    "\n",
    "            raw_csv_filename = f\"{raw_directory_path}/behavior_instance_counts_raw_{project_name}_{selected_group}-{selected_condition}.csv\"\n",
    "            raw_bout_counts_df.to_csv(raw_csv_filename)\n",
    "\n",
    "            # Compute mean and std for quick check\n",
    "            with warnings.catch_warnings():\n",
    "                warnings.simplefilter(\"ignore\", category=RuntimeWarning)\n",
    "                bout_mean = np.nanmean(bout_counts, axis=0)\n",
    "                bout_std = np.nanstd(bout_counts, axis=0)\n",
    "\n",
    "all_data_df = pd.DataFrame(all_data)\n",
    "\n",
    "# Summary plot\n",
    "sns.set(style=\"whitegrid\")\n",
    "g = sns.catplot(\n",
    "    data=all_data_df,\n",
    "    x='Behavior',\n",
    "    y='Count',\n",
    "    hue='Behavior',\n",
    "    col='Condition',\n",
    "    row='Group',\n",
    "    kind='box',\n",
    "    height=4,\n",
    "    aspect=1.2,\n",
    "    palette=behavior_colors if 'behavior_colors' in globals() else 'Set2'\n",
    ")\n",
    "\n",
    "g.set_titles(\"{row_name} - {col_name}\")\n",
    "g.set_axis_labels(\"Behavior\", \"Instance counts / 30min\")\n",
    "\n",
    "# Rotate x-axis behavior labels vertically\n",
    "for ax in g.axes.flat:\n",
    "    ax.set_xticklabels(ax.get_xticklabels(), rotation=90)\n",
    "\n",
    "# Save the figure\n",
    "summary_figure_path = f\"../processed_dataset/{project_name}/figures/behavior_instance-counts/behavior_instance-counts_raw/behavior_instance_counts_raw_summary_{project_name}.svg\"\n",
    "plt.savefig(summary_figure_path, dpi=300, format='svg', bbox_inches='tight')\n",
    "plt.show()"
   ],
   "metadata": {
    "collapsed": false
   },
   "id": "17c5beda870b65b5"
  }
 ],
 "metadata": {
  "kernelspec": {
   "display_name": "Python 3 (ipykernel)",
   "language": "python",
   "name": "python3"
  },
  "language_info": {
   "codemirror_mode": {
    "name": "ipython",
    "version": 3
   },
   "file_extension": ".py",
   "mimetype": "text/x-python",
   "name": "python",
   "nbconvert_exporter": "python",
   "pygments_lexer": "ipython3",
   "version": "3.11.0"
  }
 },
 "nbformat": 4,
 "nbformat_minor": 5
}
