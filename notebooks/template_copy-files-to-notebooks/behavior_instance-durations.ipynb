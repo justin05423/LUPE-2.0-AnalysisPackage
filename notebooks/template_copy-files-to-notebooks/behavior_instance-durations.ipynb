{
 "cells": [
  {
   "cell_type": "markdown",
   "source": [
    "# Behavior Analysis: Duration Per Behavior Bout"
   ],
   "metadata": {
    "collapsed": false
   },
   "id": "cab27281fa2a0381"
  },
  {
   "cell_type": "markdown",
   "source": [
    "Press SHIFT + ENTER to run code"
   ],
   "metadata": {
    "collapsed": false
   },
   "id": "2c636049beb82f5d"
  },
  {
   "cell_type": "markdown",
   "source": [
    "### USER INPUT!"
   ],
   "metadata": {
    "collapsed": false
   },
   "id": "1ce127d611c8b1a9"
  },
  {
   "cell_type": "code",
   "outputs": [],
   "source": [
    "## Define project\n",
    "project_name = ''\n",
    "\n",
    "# Select group and condition, see meta.py to see how you previously defined it for your project\n",
    "selected_groups = ['', '']\n",
    "selected_conditions = ['', '']"
   ],
   "metadata": {
    "collapsed": false,
    "ExecuteTime": {
     "end_time": "2024-06-26T21:20:50.151086Z",
     "start_time": "2024-06-26T21:20:50.147826Z"
    }
   },
   "id": "initial_id",
   "execution_count": 1
  },
  {
   "cell_type": "markdown",
   "source": [
    "### Main Code: Create Bar Graph of Duration Per Behavior Bout"
   ],
   "metadata": {
    "collapsed": false
   },
   "id": "f9fcaee8a86dd456"
  },
  {
   "cell_type": "code",
   "outputs": [],
   "source": [
    "###### RUN DEPENDENCIES ######\n",
    "import matplotlib.pyplot as plt\n",
    "import numpy as np\n",
    "import pandas as pd\n",
    "import os\n",
    "import sys\n",
    "\n",
    "if not os.path.join(os.path.abspath(''), '../') in sys.path:\n",
    "    sys.path.append(os.path.join(os.path.abspath(''), '../'))\n",
    "\n",
    "from utils.classification import load_behaviors\n",
    "from utils.meta import *\n",
    "import matplotlib\n",
    "import warnings\n",
    "import seaborn as sns\n",
    "\n",
    "###### Load Behaviors ######\n",
    "behaviors = load_behaviors(f\"../processed_dataset/{project_name}/behaviors_{project_name}.pkl\")\n",
    "\n",
    "# Define the directory path\n",
    "directory_path = f\"../processed_dataset/{project_name}/figures/behavior_instance-durations\"\n",
    "if not os.path.exists(directory_path):\n",
    "    os.makedirs(directory_path)\n",
    "\n",
    "def get_duration_bouts(predict, behavior_classes, framerate=60):\n",
    "    behav_durations = []\n",
    "    bout_start_idx = np.where(np.diff(np.hstack([-1, predict])) != 0)[0]\n",
    "    bout_durations = np.hstack([np.diff(bout_start_idx), len(predict) - np.max(bout_start_idx)])\n",
    "    bout_start_label = predict[bout_start_idx]\n",
    "    for b, behavior_name in enumerate(behavior_classes):\n",
    "        idx_b = np.where(bout_start_label == int(b))[0]\n",
    "        if len(idx_b) > 0:\n",
    "            behav_durations.append(bout_durations[idx_b]/framerate)\n",
    "        else:\n",
    "            a = np.empty((1,))\n",
    "            a[:] = np.nan\n",
    "            behav_durations.append(a)\n",
    "    return behav_durations\n",
    "\n",
    "rows = len(selected_groups)\n",
    "cols = len(selected_conditions)\n",
    "count = 0\n",
    "fig, ax = plt.subplots(rows, cols, figsize=(10, 11), sharex=False, sharey=True)\n",
    "\n",
    "for row in range(rows):\n",
    "    if row > 4:\n",
    "        cols = 1\n",
    "        fig.delaxes(ax[row, 1])\n",
    "        fig.delaxes(ax[row, 2])\n",
    "    else:\n",
    "        cols = len(selected_conditions)\n",
    "        \n",
    "    for col in range(cols):\n",
    "        \n",
    "        selected_group = selected_groups[row]\n",
    "        selected_condition = selected_conditions[col]\n",
    "        \n",
    "        durations_ = []\n",
    "        for f in range(len(behaviors[selected_group][selected_condition])):\n",
    "            durations_.append(get_duration_bouts(behaviors[selected_group][selected_condition][f'file{f}'], behavior_names))\n",
    "        durations_dict = {'behavior': np.hstack([np.hstack([np.repeat(behavior_names[i],\n",
    "                                                           len(durations_[f][i])) \n",
    "                                                 for i in range(len(durations_[f]))]) for f in range(len(durations_))]),\n",
    "                          'duration': np.hstack([np.hstack(durations_[f]) for f in range(len(durations_))]),\n",
    "                          }\n",
    "        durations_df = pd.DataFrame(durations_dict)\n",
    "        durations_df.to_csv(f\"../processed_dataset/{project_name}/figures/behavior_instance-durations/behavior_durations_{groups[row]}_{conditions[col]}.csv\")\n",
    "\n",
    "        sns.boxplot(data=durations_df, x='duration', y='behavior', hue='behavior', \n",
    "                    orient='h', width=0.8,\n",
    "                    palette=behavior_colors, showfliers=False, ax=ax[row, col])\n",
    "        ax[row, col].set_ylabel('')\n",
    "        ax[row, col].set_xlabel('')\n",
    "        \n",
    "        if col == 1 or col == 2:\n",
    "            if row == rows-1:\n",
    "                ax[row, col].set_xlabel('Behavior duration (s)')\n",
    "        \n",
    "                \n",
    "        if row == rows-1:\n",
    "            ax[row, col].set_xlabel('Behavior duration (s)')\n",
    "        ax[row, col].set_title(f'{selected_group} - {selected_condition}')\n",
    "        \n",
    "        ax[row, col].set_aspect('equal', adjustable='box')\n",
    "        \n",
    "        ax[row, col].set_xlim(0, 6)\n",
    "        \n",
    "        legend = ax[row, col].get_legend()\n",
    "        if legend is not None:\n",
    "            legend.remove()\n",
    "            \n",
    "fig.savefig(f\"../processed_dataset/{project_name}/figures/behavior_instance-durations/behavior_durations_{project_name}.svg\", \n",
    "            dpi=600, bbox_inches='tight')\n",
    "        \n",
    "plt.tight_layout()\n",
    "plt.show()"
   ],
   "metadata": {
    "collapsed": false,
    "ExecuteTime": {
     "end_time": "2024-06-26T21:28:21.413911Z",
     "start_time": "2024-06-26T21:28:21.406550Z"
    }
   },
   "id": "484e1a4ad8983014",
   "execution_count": 6
  },
  {
   "cell_type": "markdown",
   "source": [
    "# ANALYSIS COMPLETE!"
   ],
   "metadata": {
    "collapsed": false
   },
   "id": "ae809e386fb3bb92"
  },
  {
   "cell_type": "code",
   "outputs": [],
   "source": [],
   "metadata": {
    "collapsed": false
   },
   "id": "7bb6abd5cdadf195"
  }
 ],
 "metadata": {
  "kernelspec": {
   "display_name": "Python 3 (ipykernel)",
   "language": "python",
   "name": "python3"
  },
  "language_info": {
   "codemirror_mode": {
    "name": "ipython",
    "version": 3
   },
   "file_extension": ".py",
   "mimetype": "text/x-python",
   "name": "python",
   "nbconvert_exporter": "python",
   "pygments_lexer": "ipython3",
   "version": "3.11.0"
  }
 },
 "nbformat": 4,
 "nbformat_minor": 5
}
