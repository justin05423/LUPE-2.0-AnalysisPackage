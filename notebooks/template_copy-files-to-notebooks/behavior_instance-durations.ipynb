{
 "cells": [
  {
   "cell_type": "markdown",
   "source": [
    "# Behavior Analysis: Duration Per Behavior Bout"
   ],
   "metadata": {
    "collapsed": false
   },
   "id": "cab27281fa2a0381"
  },
  {
   "cell_type": "markdown",
   "source": [
    "Press SHIFT + ENTER to run code"
   ],
   "metadata": {
    "collapsed": false
   },
   "id": "2c636049beb82f5d"
  },
  {
   "cell_type": "markdown",
   "source": [
    "### USER INPUT!"
   ],
   "metadata": {
    "collapsed": false
   },
   "id": "1ce127d611c8b1a9"
  },
  {
   "cell_type": "code",
   "outputs": [],
   "source": [
    "## Define project\n",
    "project_name = ''\n",
    "\n",
    "# Select group and condition, see meta.py to see how you previously defined it for your project\n",
    "selected_groups = ['', '']\n",
    "selected_conditions = ['', '']"
   ],
   "metadata": {
    "collapsed": false,
    "ExecuteTime": {
     "end_time": "2025-04-10T15:48:16.435311Z",
     "start_time": "2025-04-10T15:48:16.428733Z"
    }
   },
   "id": "initial_id",
   "execution_count": 3
  },
  {
   "cell_type": "markdown",
   "source": [
    "### Main Code: Create Bar Graph of Duration Per Behavior Bout"
   ],
   "metadata": {
    "collapsed": false
   },
   "id": "f9fcaee8a86dd456"
  },
  {
   "cell_type": "code",
   "outputs": [
    {
     "ename": "FileNotFoundError",
     "evalue": "[Errno 2] No such file or directory: '../processed_dataset/project_ACC_MiniscopeSNI_Female_3Month/behaviors_project_ACC_MiniscopeSNI_Female_3Month.pkl'",
     "output_type": "error",
     "traceback": [
      "\u001B[0;31m---------------------------------------------------------------------------\u001B[0m",
      "\u001B[0;31mFileNotFoundError\u001B[0m                         Traceback (most recent call last)",
      "Cell \u001B[0;32mIn[4], line 18\u001B[0m\n\u001B[1;32m     15\u001B[0m \u001B[38;5;28;01mimport\u001B[39;00m \u001B[38;5;21;01mseaborn\u001B[39;00m \u001B[38;5;28;01mas\u001B[39;00m \u001B[38;5;21;01msns\u001B[39;00m\n\u001B[1;32m     17\u001B[0m \u001B[38;5;66;03m###### Load Behaviors ######\u001B[39;00m\n\u001B[0;32m---> 18\u001B[0m behaviors \u001B[38;5;241m=\u001B[39m \u001B[43mload_behaviors\u001B[49m\u001B[43m(\u001B[49m\u001B[38;5;124;43mf\u001B[39;49m\u001B[38;5;124;43m\"\u001B[39;49m\u001B[38;5;124;43m../processed_dataset/\u001B[39;49m\u001B[38;5;132;43;01m{\u001B[39;49;00m\u001B[43mproject_name\u001B[49m\u001B[38;5;132;43;01m}\u001B[39;49;00m\u001B[38;5;124;43m/behaviors_\u001B[39;49m\u001B[38;5;132;43;01m{\u001B[39;49;00m\u001B[43mproject_name\u001B[49m\u001B[38;5;132;43;01m}\u001B[39;49;00m\u001B[38;5;124;43m.pkl\u001B[39;49m\u001B[38;5;124;43m\"\u001B[39;49m\u001B[43m)\u001B[49m\n\u001B[1;32m     20\u001B[0m \u001B[38;5;66;03m# Define the directory path\u001B[39;00m\n\u001B[1;32m     21\u001B[0m directory_path \u001B[38;5;241m=\u001B[39m \u001B[38;5;124mf\u001B[39m\u001B[38;5;124m\"\u001B[39m\u001B[38;5;124m../processed_dataset/\u001B[39m\u001B[38;5;132;01m{\u001B[39;00mproject_name\u001B[38;5;132;01m}\u001B[39;00m\u001B[38;5;124m/figures/behavior_instance-durations\u001B[39m\u001B[38;5;124m\"\u001B[39m\n",
      "File \u001B[0;32m~/GitHub/LUPE-2.0/utils/classification.py:43\u001B[0m, in \u001B[0;36mload_behaviors\u001B[0;34m(path)\u001B[0m\n\u001B[1;32m     42\u001B[0m \u001B[38;5;28;01mdef\u001B[39;00m \u001B[38;5;21mload_behaviors\u001B[39m(path):\n\u001B[0;32m---> 43\u001B[0m     \u001B[38;5;28;01mwith\u001B[39;00m \u001B[38;5;28;43mopen\u001B[39;49m\u001B[43m(\u001B[49m\u001B[43mpath\u001B[49m\u001B[43m,\u001B[49m\u001B[43m \u001B[49m\u001B[38;5;124;43m'\u001B[39;49m\u001B[38;5;124;43mrb\u001B[39;49m\u001B[38;5;124;43m'\u001B[39;49m\u001B[43m)\u001B[49m \u001B[38;5;28;01mas\u001B[39;00m fr:\n\u001B[1;32m     44\u001B[0m         behaviors \u001B[38;5;241m=\u001B[39m pickle\u001B[38;5;241m.\u001B[39mload(fr)\n\u001B[1;32m     45\u001B[0m     \u001B[38;5;28;01mreturn\u001B[39;00m behaviors\n",
      "\u001B[0;31mFileNotFoundError\u001B[0m: [Errno 2] No such file or directory: '../processed_dataset/project_ACC_MiniscopeSNI_Female_3Month/behaviors_project_ACC_MiniscopeSNI_Female_3Month.pkl'"
     ]
    }
   ],
   "source": [
    "###### RUN DEPENDENCIES ######\n",
    "import matplotlib.pyplot as plt\n",
    "import numpy as np\n",
    "import pandas as pd\n",
    "import os\n",
    "import sys\n",
    "import warnings\n",
    "import seaborn as sns\n",
    "import matplotlib\n",
    "\n",
    "# Add parent directory to path if needed\n",
    "if not os.path.join(os.path.abspath(''), '../') in sys.path:\n",
    "    sys.path.append(os.path.join(os.path.abspath(''), '../'))\n",
    "\n",
    "from utils.classification import load_behaviors\n",
    "from utils.meta import *\n",
    "\n",
    "###### Load Behaviors ######\n",
    "behaviors = load_behaviors(f\"../processed_dataset/{project_name}/behaviors_{project_name}.pkl\")\n",
    "\n",
    "# Define the directory path for saving figures\n",
    "directory_path = f\"../processed_dataset/{project_name}/figures/behavior_instance-durations\"\n",
    "if not os.path.exists(directory_path):\n",
    "    os.makedirs(directory_path)\n",
    "\n",
    "def get_duration_bouts(predict, behavior_classes, framerate=60):\n",
    "    behav_durations = []\n",
    "    bout_start_idx = np.where(np.diff(np.hstack([-1, predict])) != 0)[0]\n",
    "    bout_durations = np.hstack([np.diff(bout_start_idx), len(predict) - np.max(bout_start_idx)])\n",
    "    bout_start_label = predict[bout_start_idx]\n",
    "    for b, behavior_name in enumerate(behavior_classes):\n",
    "        idx_b = np.where(bout_start_label == int(b))[0]\n",
    "        if len(idx_b) > 0:\n",
    "            behav_durations.append(bout_durations[idx_b] / framerate)\n",
    "        else:\n",
    "            a = np.empty((1,))\n",
    "            a[:] = np.nan\n",
    "            behav_durations.append(a)\n",
    "    return behav_durations\n",
    "\n",
    "# Set up the grid dimensions.\n",
    "# total_rows: one row per selected group, total_cols: maximum number of columns\n",
    "total_rows = len(selected_groups)\n",
    "total_cols = len(selected_conditions)\n",
    "\n",
    "fig, ax = plt.subplots(total_rows, total_cols, figsize=(10, 11), sharex=False, sharey=True)\n",
    "\n",
    "# Reshape the axes array to 2D if needed so we can always index with [row, col]\n",
    "if total_rows == 1 and total_cols == 1:\n",
    "    ax = np.array([[ax]])\n",
    "elif total_rows == 1:\n",
    "    ax = np.expand_dims(ax, axis=0)\n",
    "elif total_cols == 1:\n",
    "    ax = ax.reshape(-1, 1)\n",
    "\n",
    "# Loop through each row corresponding to each selected group\n",
    "for row in range(total_rows):\n",
    "    # Use a local variable to control number of columns to plot in this row.\n",
    "    # For example, if row > 4 then only plot one column.\n",
    "    n_plot_cols = total_cols if row <= 4 else 1\n",
    "\n",
    "    # Remove extra axes from this row if n_plot_cols is less than the total number of columns\n",
    "    if n_plot_cols < total_cols:\n",
    "        for extra_col in range(n_plot_cols, total_cols):\n",
    "            fig.delaxes(ax[row, extra_col])\n",
    "    \n",
    "    # Loop through each column to plot data for this row\n",
    "    for col in range(n_plot_cols):\n",
    "        # If only one column is displayed on the row, we always take the first condition.\n",
    "        selected_group = selected_groups[row]\n",
    "        selected_condition = selected_conditions[col] if n_plot_cols > 1 else selected_conditions[0]\n",
    "        \n",
    "        durations_ = []\n",
    "        if selected_group in behaviors and selected_condition in behaviors[selected_group]:\n",
    "            file_keys = list(behaviors[selected_group][selected_condition].keys())\n",
    "            for file_name in file_keys:\n",
    "                durations_.append(get_duration_bouts(behaviors[selected_group][selected_condition][file_name], behavior_names))\n",
    "        \n",
    "        # Prepare a DataFrame to plot\n",
    "        durations_dict = {\n",
    "            'behavior': np.hstack([np.hstack([np.repeat(behavior_names[i], len(durations_[f][i])) \n",
    "                                              for i in range(len(durations_[f]))]) \n",
    "                                   for f in range(len(durations_))]),\n",
    "            'duration': np.hstack([np.hstack(durations_[f]) for f in range(len(durations_))]),\n",
    "        }\n",
    "        durations_df = pd.DataFrame(durations_dict)\n",
    "        durations_df.to_csv(f\"../processed_dataset/{project_name}/figures/behavior_instance-durations/behavior_durations_{selected_group}_{selected_condition}.csv\", index=False)\n",
    "\n",
    "        # Create a boxplot using seaborn\n",
    "        sns.boxplot(\n",
    "            data=durations_df, \n",
    "            x='duration', \n",
    "            y='behavior', \n",
    "            hue='behavior', \n",
    "            orient='h', \n",
    "            width=0.8,\n",
    "            palette=behavior_colors, \n",
    "            showfliers=False, \n",
    "            ax=ax[row, col]\n",
    "        )\n",
    "        ax[row, col].set_ylabel('')\n",
    "        ax[row, col].set_xlabel('')\n",
    "        \n",
    "        if row == total_rows - 1:\n",
    "            ax[row, col].set_xlabel('Behavior duration (s)')\n",
    "        ax[row, col].set_title(f'{selected_group} - {selected_condition}')\n",
    "        \n",
    "        # Set aspect and axis limits\n",
    "        ax[row, col].set_aspect('equal', adjustable='box')\n",
    "        ax[row, col].set_xlim(0, 6)\n",
    "        \n",
    "        # Remove the legend if present\n",
    "        legend = ax[row, col].get_legend()\n",
    "        if legend is not None:\n",
    "            legend.remove()\n",
    "\n",
    "# Adjust layout and save the figure\n",
    "plt.tight_layout()\n",
    "fig.savefig(f\"../processed_dataset/{project_name}/figures/behavior_instance-durations/behavior_durations_{project_name}.svg\", \n",
    "            dpi=600, bbox_inches='tight')\n",
    "plt.show()"
   ],
   "metadata": {
    "collapsed": false,
    "ExecuteTime": {
     "end_time": "2025-04-10T15:48:17.150327Z",
     "start_time": "2025-04-10T15:48:17.128909Z"
    }
   },
   "id": "484e1a4ad8983014",
   "execution_count": 4
  },
  {
   "cell_type": "markdown",
   "source": [
    "# ANALYSIS COMPLETE!"
   ],
   "metadata": {
    "collapsed": false
   },
   "id": "ae809e386fb3bb92"
  },
  {
   "cell_type": "markdown",
   "source": [
    "## Additional Analysis: Average Duration (seconds) of Behavioral Bouts Per File"
   ],
   "metadata": {
    "collapsed": false
   },
   "id": "9fb0da11d36c6f58"
  },
  {
   "cell_type": "code",
   "outputs": [],
   "source": [
    "import numpy as np\n",
    "import pandas as pd\n",
    "\n",
    "# This list will hold the durations for all files\n",
    "all_file_durations = []\n",
    "\n",
    "for row in range(len(selected_groups)):\n",
    "    for col in range(len(selected_conditions)):\n",
    "        selected_group = selected_groups[row]\n",
    "        selected_condition = selected_conditions[col]\n",
    "\n",
    "        # Check if the selected group and condition are available\n",
    "        if selected_group in behaviors and selected_condition in behaviors[selected_group]:\n",
    "            file_keys = list(behaviors[selected_group][selected_condition].keys())\n",
    "            \n",
    "            for file_name in file_keys:\n",
    "                # Get the duration bouts for the current file\n",
    "                file_durations = get_duration_bouts(behaviors[selected_group][selected_condition][file_name], behavior_names)\n",
    "                \n",
    "                # Sum up all durations per behavior\n",
    "                total_durations = [np.nansum(d) for d in file_durations]\n",
    "                # Compute mean durations per behavior\n",
    "                mean_durations = [np.nanmean(d) if not np.isnan(np.nanmean(d)) else 0 for d in file_durations]\n",
    "                # Compute std durations per behavior\n",
    "                std_durations = [np.nanstd(d) if not np.isnan(np.nanstd(d)) else 0 for d in file_durations]\n",
    "                \n",
    "                # Create a record with group, condition, filename, total/mean/std durations\n",
    "                record = {\n",
    "                    'group': selected_group,\n",
    "                    'condition': selected_condition,\n",
    "                    'file_name': file_name\n",
    "                }\n",
    "                \n",
    "                # Add each behavior's total, average, and std duration to the record\n",
    "                for i, behavior_name in enumerate(behavior_names):\n",
    "                    record[f'{behavior_name}_total_duration_s'] = total_durations[i]\n",
    "                    record[f'{behavior_name}_average_duration_s'] = mean_durations[i]\n",
    "                    record[f'{behavior_name}_std_duration_s'] = std_durations[i]\n",
    "                \n",
    "                # Append the record to the list\n",
    "                all_file_durations.append(record)\n",
    "\n",
    "# Convert the list of records to a DataFrame\n",
    "all_file_durations_df = pd.DataFrame(all_file_durations)\n",
    "\n",
    "# Define the CSV file path and save the DataFrame\n",
    "output_csv_path = f\"../processed_dataset/{project_name}/figures/behavior_instance-durations/total_average_std_durations_per_file_{project_name}.csv\"\n",
    "all_file_durations_df.to_csv(output_csv_path, index=False)\n",
    "\n",
    "print(f\"Total, average, and std durations per file have been saved to {output_csv_path}\")"
   ],
   "metadata": {
    "collapsed": false
   },
   "id": "7bb6abd5cdadf195"
  }
 ],
 "metadata": {
  "kernelspec": {
   "display_name": "Python 3 (ipykernel)",
   "language": "python",
   "name": "python3"
  },
  "language_info": {
   "codemirror_mode": {
    "name": "ipython",
    "version": 3
   },
   "file_extension": ".py",
   "mimetype": "text/x-python",
   "name": "python",
   "nbconvert_exporter": "python",
   "pygments_lexer": "ipython3",
   "version": "3.11.0"
  }
 },
 "nbformat": 4,
 "nbformat_minor": 5
}
