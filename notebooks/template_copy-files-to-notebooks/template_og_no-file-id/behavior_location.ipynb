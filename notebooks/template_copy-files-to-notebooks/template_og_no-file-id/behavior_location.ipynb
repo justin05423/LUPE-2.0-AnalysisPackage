{
 "cells": [
  {
   "cell_type": "markdown",
   "source": [
    "# Behavior Analysis: Location of Behavior Performed"
   ],
   "metadata": {
    "collapsed": false
   },
   "id": "e60b684c1d65693b"
  },
  {
   "cell_type": "markdown",
   "source": [
    "Press SHIFT + ENTER to run code"
   ],
   "metadata": {
    "collapsed": false
   },
   "id": "7f55feef06ac25c5"
  },
  {
   "cell_type": "markdown",
   "source": [
    "### USER INPUT!"
   ],
   "metadata": {
    "collapsed": false
   },
   "id": "83d09c2900bbe753"
  },
  {
   "cell_type": "code",
   "outputs": [],
   "source": [
    "## Define project\n",
    "project_name = ''\n",
    "\n",
    "# Select group and condition, see meta.py to see how you previously defined it for your project\n",
    "selected_groups = ['', '']\n",
    "selected_conditions = ['', '']"
   ],
   "metadata": {
    "collapsed": false,
    "ExecuteTime": {
     "end_time": "2024-06-26T21:48:02.906451Z",
     "start_time": "2024-06-26T21:48:02.901227Z"
    }
   },
   "id": "b32932b79193cd6f",
   "execution_count": 2
  },
  {
   "cell_type": "markdown",
   "source": [
    "### Main Code: Create Figure of Arena Location of Behavior Performed"
   ],
   "metadata": {
    "collapsed": false
   },
   "id": "1bacbf1f002d0d3c"
  },
  {
   "cell_type": "code",
   "outputs": [
    {
     "ename": "NameError",
     "evalue": "name 'project_name' is not defined",
     "output_type": "error",
     "traceback": [
      "\u001B[0;31m---------------------------------------------------------------------------\u001B[0m",
      "\u001B[0;31mNameError\u001B[0m                                 Traceback (most recent call last)",
      "Cell \u001B[0;32mIn[1], line 21\u001B[0m\n\u001B[1;32m     18\u001B[0m \u001B[38;5;28;01mimport\u001B[39;00m \u001B[38;5;21;01mmatplotlib\u001B[39;00m\u001B[38;5;21;01m.\u001B[39;00m\u001B[38;5;21;01mpatches\u001B[39;00m \u001B[38;5;28;01mas\u001B[39;00m \u001B[38;5;21;01mmpatches\u001B[39;00m\n\u001B[1;32m     20\u001B[0m \u001B[38;5;66;03m###### Load Pose + Load Behaviors ######\u001B[39;00m\n\u001B[0;32m---> 21\u001B[0m behaviors \u001B[38;5;241m=\u001B[39m load_behaviors(\u001B[38;5;124mf\u001B[39m\u001B[38;5;124m\"\u001B[39m\u001B[38;5;124m../processed_dataset/\u001B[39m\u001B[38;5;132;01m{\u001B[39;00mproject_name\u001B[38;5;132;01m}\u001B[39;00m\u001B[38;5;124m/behaviors_\u001B[39m\u001B[38;5;132;01m{\u001B[39;00mproject_name\u001B[38;5;132;01m}\u001B[39;00m\u001B[38;5;124m.pkl\u001B[39m\u001B[38;5;124m\"\u001B[39m)\n\u001B[1;32m     22\u001B[0m poses \u001B[38;5;241m=\u001B[39m load_data(\u001B[38;5;124mf\u001B[39m\u001B[38;5;124m\"\u001B[39m\u001B[38;5;124m../processed_dataset/\u001B[39m\u001B[38;5;132;01m{\u001B[39;00mproject_name\u001B[38;5;132;01m}\u001B[39;00m\u001B[38;5;124m/raw_data_\u001B[39m\u001B[38;5;132;01m{\u001B[39;00mproject_name\u001B[38;5;132;01m}\u001B[39;00m\u001B[38;5;124m.pkl\u001B[39m\u001B[38;5;124m\"\u001B[39m)\n\u001B[1;32m     24\u001B[0m \u001B[38;5;66;03m# Define the directory path\u001B[39;00m\n",
      "\u001B[0;31mNameError\u001B[0m: name 'project_name' is not defined"
     ]
    }
   ],
   "source": [
    "###### RUN DEPENDENCIES ######\n",
    "import matplotlib.pyplot as plt\n",
    "import numpy as np\n",
    "import pandas as pd\n",
    "import os\n",
    "import sys\n",
    "\n",
    "if not os.path.join(os.path.abspath(''), '../') in sys.path:\n",
    "    sys.path.append(os.path.join(os.path.abspath(''), '../'))\n",
    "    \n",
    "from utils.classification import load_behaviors, load_data\n",
    "from utils.meta import *\n",
    "import matplotlib\n",
    "import warnings\n",
    "import seaborn as sns\n",
    "from matplotlib.patches import Circle\n",
    "from matplotlib.colors import LinearSegmentedColormap\n",
    "import matplotlib.patches as mpatches\n",
    "\n",
    "###### Load Pose + Load Behaviors ######\n",
    "behaviors = load_behaviors(f\"../processed_dataset/{project_name}/behaviors_{project_name}.pkl\")\n",
    "poses = load_data(f\"../processed_dataset/{project_name}/raw_data_{project_name}.pkl\")\n",
    "\n",
    "# Define the directory path\n",
    "directory_path = f\"../processed_dataset/{project_name}/figures/behavior_location\"\n",
    "if not os.path.exists(directory_path):\n",
    "    os.makedirs(directory_path)\n",
    "    \n",
    "# tail-base as position indicator\n",
    "bodypart_idx = 38\n",
    "center = (768 / 2, 770 / 2)\n",
    "radius = 768 / 2 + 20\n",
    "h = '00FEFF'  # cyan like the logo\n",
    "\n",
    "rows = len(selected_groups)\n",
    "cols = len(selected_conditions)\n",
    "\n",
    "for b, behav_name in enumerate(behavior_names):\n",
    "    count = 0\n",
    "    fig = plt.figure(facecolor='#000000', figsize=(10, 11))\n",
    "    for row in range(rows):\n",
    "        for col in range(cols):\n",
    "            ax = fig.add_subplot(rows, cols, int(count+1))\n",
    "            ax.set_facecolor(None)\n",
    "            selected_group = selected_groups[row]\n",
    "            selected_condition = selected_conditions[col]\n",
    "    \n",
    "            rgb_val = tuple(int(h[i:i + 2], 16) / 255 for i in (0, 2, 4))\n",
    "            circle = Circle(center, radius, color=rgb_val, linewidth=3, fill=False)\n",
    "            hist2d_all = []\n",
    "            colors = ['#000000', behavior_colors[b]]\n",
    "            cm = LinearSegmentedColormap.from_list(\"Custom\", colors, N=20)\n",
    "            heatmaps = np.empty((38, 38))\n",
    "            for f in range(len(behaviors[selected_group][selected_condition])):\n",
    "                idx_b = np.where(behaviors[selected_group][selected_condition][f'file{f}'] == b)[0]\n",
    "                \n",
    "                with warnings.catch_warnings():\n",
    "                    warnings.simplefilter(\"ignore\", category=RuntimeWarning)\n",
    "                    heatmap, xedges, yedges = np.histogram2d(\n",
    "                        poses[selected_group][selected_condition][f'file{f}'][idx_b, bodypart_idx], poses[selected_group][selected_condition][f'file{f}'][idx_b, bodypart_idx + 1],\n",
    "                        bins=[np.arange(0, 768, 20), np.arange(0, 770, 20)],\n",
    "                        density=True)\n",
    "                heatmap[heatmap == 0] = np.nan\n",
    "                hist2d_all.append(heatmap)\n",
    "            extent = [xedges[0], xedges[-1], yedges[0], yedges[-1]]\n",
    "            with warnings.catch_warnings():\n",
    "                warnings.simplefilter(\"ignore\", category=RuntimeWarning)\n",
    "                ax.imshow(np.nanmean(hist2d_all, axis=0).T,\n",
    "                                    extent=extent, origin='lower', cmap=cm)\n",
    "            # draw legend and circle\n",
    "            patches = [mpatches.Patch(color=behavior_colors[b], label=behav_name)]\n",
    "            lgd = ax.legend(handles=patches, facecolor=\"#000000\", frameon=False, prop={\"size\": 11},\n",
    "                            ncol=1, bbox_to_anchor=(0.9, 0.9), loc='lower center', edgecolor='w')\n",
    "            for text in lgd.get_texts():\n",
    "                text.set_color(\"#FFFFFF\")\n",
    "            ax.add_patch(circle)\n",
    "            ax.set_aspect('equal')\n",
    "            ax.invert_yaxis()\n",
    "            plt.axis('off')\n",
    "            plt.axis('equal')\n",
    "            ax.set_title(f'{selected_group} - {selected_condition}', color='white', fontsize=10)\n",
    "            count += 1\n",
    "            if (row, col) == (5, 1) or (row, col) == (5, 2) or (row, col) == (6, 1) or (row, col) == (6, 2):\n",
    "                fig.delaxes(ax)\n",
    "            \n",
    "    \n",
    "    plt.show()\n",
    "    \n",
    "    fig.savefig(f\"../processed_dataset/{project_name}/figures/behavior_location/behavior_location_{behav_name}_{project_name}.svg\", dpi=600, bbox_inches='tight')\n",
    "    "
   ],
   "metadata": {
    "collapsed": false,
    "ExecuteTime": {
     "end_time": "2024-06-26T21:59:14.698123Z",
     "start_time": "2024-06-26T21:59:14.329706Z"
    }
   },
   "id": "initial_id",
   "execution_count": 1
  },
  {
   "cell_type": "markdown",
   "source": [
    "# ANALYSIS COMPLETE!"
   ],
   "metadata": {
    "collapsed": false
   },
   "id": "6f9e5c1c43a5dd9"
  },
  {
   "cell_type": "code",
   "outputs": [],
   "source": [],
   "metadata": {
    "collapsed": false
   },
   "id": "c1b948d1fcd2cb4"
  }
 ],
 "metadata": {
  "kernelspec": {
   "display_name": "Python 3 (ipykernel)",
   "language": "python",
   "name": "python3"
  },
  "language_info": {
   "codemirror_mode": {
    "name": "ipython",
    "version": 3
   },
   "file_extension": ".py",
   "mimetype": "text/x-python",
   "name": "python",
   "nbconvert_exporter": "python",
   "pygments_lexer": "ipython3",
   "version": "3.11.0"
  }
 },
 "nbformat": 4,
 "nbformat_minor": 5
}
