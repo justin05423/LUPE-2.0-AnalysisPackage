{
 "cells": [
  {
   "cell_type": "markdown",
   "source": [
    "# STEP 2: 2_preprocess_get_features"
   ],
   "metadata": {
    "collapsed": false
   },
   "id": "cc457d6bb9db1b58"
  },
  {
   "cell_type": "markdown",
   "source": [
    "Press SHIFT + ENTER to run code"
   ],
   "metadata": {
    "collapsed": false
   },
   "id": "299d9932e75305fd"
  },
  {
   "cell_type": "markdown",
   "source": [
    "### USER INPUT!"
   ],
   "metadata": {
    "collapsed": false
   },
   "id": "20d398de42b91961"
  },
  {
   "cell_type": "code",
   "outputs": [],
   "source": [
    "## Define project\n",
    "project_name = ''"
   ],
   "metadata": {
    "collapsed": false,
    "ExecuteTime": {
     "end_time": "2024-06-22T06:53:17.335492Z",
     "start_time": "2024-06-22T06:53:17.331659Z"
    }
   },
   "id": "4abd661b6f06424e",
   "execution_count": 1
  },
  {
   "cell_type": "markdown",
   "source": [
    "### Main Code: get features from pose\n",
    "USER INPUT NEEDED BELOW!!! \n",
    "WAIT UNTIL CODE FINISHES PROCESSING DATA"
   ],
   "metadata": {
    "collapsed": false
   },
   "id": "2f004f538b7c92a6"
  },
  {
   "cell_type": "code",
   "outputs": [],
   "source": [
    "## Say where your raw_data pkl file is\n",
    "data_path = f\"../processed_dataset/{project_name}/raw_data_{project_name}.pkl\"\n",
    "\n",
    "###### RUN DEPENDENCIES ######\n",
    "import pickle\n",
    "from tqdm import notebook\n",
    "import os\n",
    "import sys\n",
    "if not os.path.join(os.path.abspath(''), '../') in sys.path:\n",
    "    sys.path.append(os.path.join(os.path.abspath(''), '../'))\n",
    "from utils.classification import load_data, load_features\n",
    "from utils.feature_utils import feature_extraction\n",
    "from utils.meta import *\n",
    "import os\n",
    "\n",
    "###### MAIN CODE ######\n",
    "data = load_data(data_path)\n",
    "if f\"binned_features_{project_name}.pkl\" not in os.listdir(f\"../processed_dataset/{project_name}\"):\n",
    "    features = {key: [] for key in groups_projectname} # *** CHANGE to groups_{project_name} manually *** #\n",
    "    for group in notebook.tqdm(groups_projectname): # *** CHANGE to groups_{project_name} manually *** #\n",
    "        features[group] = {key: [] for key in conditions_projectname} # *** CHANGE to conditions_{project_name} manually *** #\n",
    "        for condition in notebook.tqdm(conditions_projectname): # *** CHANGE to conditions_{project_name} manually *** #\n",
    "            features[group][condition] = {key: [] for key in [f'file{i}' \n",
    "                                               for i in range(len(data[group][condition]))]}\n",
    "\n",
    "            for i in range(len(data[group][condition])):\n",
    "                features[group][condition][f'file{i}'] = (\n",
    "                    feature_extraction([data[group][condition][f'file{i}']], 1, framerate=60))\n",
    "else:\n",
    "    features = load_features(f\"../processed_dataset/{project_name}/binned_features_{project_name}.pkl\")\n",
    "\n",
    "###### WAIT UNTIL CODE FINISHES PROCESSING DATA ######"
   ],
   "metadata": {
    "collapsed": true,
    "jupyter": {
     "outputs_hidden": true
    }
   },
   "id": "initial_id",
   "execution_count": null
  },
  {
   "cell_type": "code",
   "execution_count": 3,
   "id": "28740015145c9f91",
   "metadata": {
    "collapsed": false,
    "ExecuteTime": {
     "end_time": "2024-06-22T06:53:04.945076Z",
     "start_time": "2024-06-22T06:53:04.941296Z"
    }
   },
   "outputs": [
    {
     "name": "stdout",
     "output_type": "stream",
     "text": [
      "Binned features exists!\n"
     ]
    }
   ],
   "source": [
    "###### STORE ALL FEATURES IN DICTIONARY ######  \n",
    "if f\"binned_features_{project_name}.pkl\" not in os.listdir(f\"../processed_dataset/{project_name}\"):\n",
    "    with open(f\"../processed_dataset/{project_name}/binned_features_{project_name}.pkl\", 'wb') as f:\n",
    "        pickle.dump(features, f)\n",
    "else:\n",
    "    print('Binned features exists!')"
   ]
  },
  {
   "cell_type": "markdown",
   "source": [
    "# MOVE TO STEP 3: 3_preprocess_get_behaviors.ipynb"
   ],
   "metadata": {
    "collapsed": false
   },
   "id": "577939f5ede2f77a"
  },
  {
   "cell_type": "code",
   "outputs": [],
   "source": [],
   "metadata": {
    "collapsed": false
   },
   "id": "345f0128efe3f1b0"
  }
 ],
 "metadata": {
  "kernelspec": {
   "display_name": "Python 3 (ipykernel)",
   "language": "python",
   "name": "python3"
  },
  "language_info": {
   "codemirror_mode": {
    "name": "ipython",
    "version": 3
   },
   "file_extension": ".py",
   "mimetype": "text/x-python",
   "name": "python",
   "nbconvert_exporter": "python",
   "pygments_lexer": "ipython3",
   "version": "3.11.0"
  }
 },
 "nbformat": 4,
 "nbformat_minor": 5
}
