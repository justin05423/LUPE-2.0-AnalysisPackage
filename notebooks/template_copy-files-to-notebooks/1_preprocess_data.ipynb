{
 "cells": [
  {
   "cell_type": "markdown",
   "source": [
    "# STEP 1: 1_preprocess_data.ipynb"
   ],
   "metadata": {
    "collapsed": false
   },
   "id": "da01517664bee851"
  },
  {
   "cell_type": "markdown",
   "source": [
    "Press SHIFT + ENTER to run code"
   ],
   "metadata": {
    "collapsed": false
   },
   "id": "f0ad12dc7aefa95c"
  },
  {
   "cell_type": "markdown",
   "source": [
    "### USER INPUT!\n",
    "Specify where to store the csvs. change the data_root_dir"
   ],
   "metadata": {
    "collapsed": false
   },
   "id": "d17b457d04d8a615"
  },
  {
   "cell_type": "code",
   "outputs": [],
   "source": [
    "## Define project\n",
    "project_name = ''\n",
    "\n",
    "## Say where your data holding your DLC-analyzed CSVs is stored\n",
    "    # i.e. Apple: '/Users/justinjames/LUPE_Corder-Lab/'+project_XXX+'/dlc_csvs'\n",
    "data_root_dir = ''\n",
    "\n",
    "## Breakdown how your data is organized in the folders-- name of folders that are groups? within groups, name condition folders\n",
    "    # i.e. groups = ['Group1', 'Group2','Group3']\n",
    "    # i.e. conditions = ['control','experiment']\n",
    "groups = ['']\n",
    "conditions = ['']"
   ],
   "metadata": {
    "collapsed": false,
    "ExecuteTime": {
     "end_time": "2024-06-22T05:52:46.816606Z",
     "start_time": "2024-06-22T05:52:46.813004Z"
    }
   },
   "id": "3df1e808aabc2617",
   "execution_count": 1
  },
  {
   "cell_type": "markdown",
   "source": [
    "### Updating meta.py for project"
   ],
   "metadata": {
    "collapsed": false
   },
   "id": "47384fac4667a165"
  },
  {
   "cell_type": "code",
   "outputs": [
    {
     "name": "stdout",
     "output_type": "stream",
     "text": [
      "Updated ../utils/meta.py with project-specific groups and conditions.\n"
     ]
    }
   ],
   "source": [
    "import os\n",
    "\n",
    "def update_meta_file(project_name):\n",
    "    meta_file_path = '../utils/meta.py'\n",
    "    \n",
    "    groups_var = f\"groups_{project_name} = {groups}\"\n",
    "    conditions_var = f\"conditions_{project_name} = {conditions}\"\n",
    "    \n",
    "    # Read the current contents of the meta file\n",
    "    if os.path.exists(meta_file_path):\n",
    "        with open(meta_file_path, 'r') as file:\n",
    "            lines = file.readlines()\n",
    "    else:\n",
    "        lines = []\n",
    "\n",
    "    # Check if the variables are already defined and update them if necessary\n",
    "    groups_defined = False\n",
    "    conditions_defined = False\n",
    "    for i, line in enumerate(lines):\n",
    "        if line.startswith(f\"groups_{project_name} =\"):\n",
    "            lines[i] = groups_var + '\\n'\n",
    "            groups_defined = True\n",
    "        elif line.startswith(f\"conditions_{project_name} =\"):\n",
    "            lines[i] = conditions_var + '\\n'\n",
    "            conditions_defined = True\n",
    "\n",
    "    # If the variables are not defined, add them to the end of the file\n",
    "    if not groups_defined:\n",
    "        lines.append(groups_var + '\\n')\n",
    "    if not conditions_defined:\n",
    "        lines.append(conditions_var + '\\n')\n",
    "\n",
    "    # Write the updated contents back to the meta file\n",
    "    with open(meta_file_path, 'w') as file:\n",
    "        file.writelines(lines)\n",
    "    \n",
    "    print(f'Updated {meta_file_path} with project-specific groups and conditions.')\n",
    "\n",
    "# Example usage\n",
    "update_meta_file(project_name)"
   ],
   "metadata": {
    "collapsed": false,
    "ExecuteTime": {
     "end_time": "2024-06-22T05:52:48.163899Z",
     "start_time": "2024-06-22T05:52:48.161527Z"
    }
   },
   "id": "a43cf8ae78d02922",
   "execution_count": 2
  },
  {
   "cell_type": "markdown",
   "source": [
    "### Main Code: store all data in dictionary\n",
    "WAIT UNTIL PROCESSING DATA FINISHES"
   ],
   "metadata": {
    "collapsed": false
   },
   "id": "13d28c3423eac2a9"
  },
  {
   "cell_type": "code",
   "outputs": [
    {
     "data": {
      "text/plain": "  0%|          | 0/1 [00:00<?, ?it/s]",
      "application/vnd.jupyter.widget-view+json": {
       "version_major": 2,
       "version_minor": 0,
       "model_id": "03a4dcc5ffed4a92bfad32dfadf92312"
      }
     },
     "metadata": {},
     "output_type": "display_data"
    },
    {
     "data": {
      "text/plain": "  0%|          | 0/1 [00:00<?, ?it/s]",
      "application/vnd.jupyter.widget-view+json": {
       "version_major": 2,
       "version_minor": 0,
       "model_id": "d8c7ba9c5acc40cd882aacaf3bed8aba"
      }
     },
     "metadata": {},
     "output_type": "display_data"
    },
    {
     "data": {
      "text/plain": "0it [00:00, ?it/s]",
      "application/vnd.jupyter.widget-view+json": {
       "version_major": 2,
       "version_minor": 0,
       "model_id": "3909ca2377a24871b162b0a482c5b43f"
      }
     },
     "metadata": {},
     "output_type": "display_data"
    }
   ],
   "source": [
    "###### RUN DEPENDENCIES ######\n",
    "import glob\n",
    "import pickle\n",
    "import os\n",
    "import sys\n",
    "if not os.path.join(os.path.abspath(''), '../') in sys.path:\n",
    "    sys.path.append(os.path.join(os.path.abspath(''), '../'))\n",
    "import numpy as np\n",
    "import pandas as pd\n",
    "from tqdm import notebook\n",
    "from utils.feature_utils import filter_pose_noise\n",
    "\n",
    "###### MAIN CODE ######\n",
    "filenames = {key: [] for key in groups}\n",
    "data = {key: [] for key in groups}\n",
    "for group in notebook.tqdm(groups):\n",
    "    filenames[group] = {key: [] for key in conditions}\n",
    "    data[group] = {key: [] for key in conditions}\n",
    "    for condition in notebook.tqdm(conditions):\n",
    "        \n",
    "        filenames[group][condition] = glob.glob(str.join('/', \n",
    "                                                              (data_root_dir,\n",
    "                                                               f'{group}', \n",
    "                                                               f'{condition}', \n",
    "                                                               '*.csv')))\n",
    "        data[group][condition] = {key: [] for key in [f'file{i}' \n",
    "                                                           for i in range(len(filenames[group][condition]))]}\n",
    "        for i, csv in enumerate(notebook.tqdm(filenames[group][condition])):\n",
    "            temp_df = pd.read_csv(csv, header=[0, 1, 2, 3], sep=\",\", index_col=0)\n",
    "            selected_pose_idx = np.arange(temp_df.shape[1])\n",
    "            idx_llh = selected_pose_idx[2::3]\n",
    "            # the loaded sleap file has them too, so exclude for both\n",
    "            idx_selected = [i for i in selected_pose_idx if i not in idx_llh]\n",
    "            currdf_filt, _ = filter_pose_noise(temp_df, idx_selected=idx_selected, idx_llh=idx_llh, \n",
    "                                               llh_value=0.1)\n",
    "            data[group][condition][f'file{i}'] = currdf_filt\n",
    "\n",
    "###### WAIT UNTIL PROCESSING DATA FINISHES ######"
   ],
   "metadata": {
    "collapsed": false,
    "ExecuteTime": {
     "end_time": "2024-06-22T05:51:42.829826Z",
     "start_time": "2024-06-22T05:51:41.717862Z"
    }
   },
   "id": "initial_id",
   "execution_count": 5
  },
  {
   "cell_type": "code",
   "outputs": [
    {
     "name": "stdout",
     "output_type": "stream",
     "text": [
      "../processed_dataset/ex/raw_data_ex.pkl is created and saved!\n"
     ]
    }
   ],
   "source": [
    "###### STORE ALL DATA IN DICTIONARY ######  \n",
    "directory = f\"../processed_dataset/{project_name}/\"\n",
    "os.makedirs(directory, exist_ok=True)\n",
    "\n",
    "raw_data_pkl_filename = f\"../processed_dataset/{project_name}/raw_data_{project_name}.pkl\"\n",
    "with open(raw_data_pkl_filename, 'wb') as f:\n",
    "    pickle.dump(data, f)\n",
    "\n",
    "print(f'{raw_data_pkl_filename} is created and saved!')"
   ],
   "metadata": {
    "collapsed": false,
    "ExecuteTime": {
     "start_time": "2024-06-22T05:51:42.847125Z"
    }
   },
   "id": "69243d42168067d6",
   "execution_count": 6
  },
  {
   "cell_type": "code",
   "outputs": [],
   "source": [
    "###### CHECK DATA STORED CORRECTLY IN DICTIONARY ######\n",
    "from utils.classification import load_behaviors, load_data\n",
    "data = load_data(f\"../processed_dataset/{project_name}/raw_data_{project_name}.pkl\")\n",
    "data"
   ],
   "metadata": {
    "collapsed": false
   },
   "id": "53b7a3dae0f81ad1",
   "execution_count": null
  },
  {
   "cell_type": "markdown",
   "source": [
    "# MOVE TO STEP 2!\n",
    "2_preprocess_get_features.ipynb "
   ],
   "metadata": {
    "collapsed": false
   },
   "id": "603baad4504639bc"
  },
  {
   "cell_type": "code",
   "outputs": [],
   "source": [],
   "metadata": {
    "collapsed": false
   },
   "id": "2421ba858831b919"
  }
 ],
 "metadata": {
  "kernelspec": {
   "display_name": "Python 3 (ipykernel)",
   "language": "python",
   "name": "python3"
  },
  "language_info": {
   "codemirror_mode": {
    "name": "ipython",
    "version": 3
   },
   "file_extension": ".py",
   "mimetype": "text/x-python",
   "name": "python",
   "nbconvert_exporter": "python",
   "pygments_lexer": "ipython3",
   "version": "3.11.0"
  }
 },
 "nbformat": 4,
 "nbformat_minor": 5
}
