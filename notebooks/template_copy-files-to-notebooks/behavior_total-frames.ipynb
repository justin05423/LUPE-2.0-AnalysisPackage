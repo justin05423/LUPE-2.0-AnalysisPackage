{
 "cells": [
  {
   "cell_type": "markdown",
   "source": [
    "# Behavior Analysis: % Total Frames Per Behavior"
   ],
   "metadata": {
    "collapsed": false
   },
   "id": "6708272be07e74c"
  },
  {
   "cell_type": "markdown",
   "source": [
    "Press SHIFT + ENTER to run code"
   ],
   "metadata": {
    "collapsed": false
   },
   "id": "2e42c376c36aabe"
  },
  {
   "cell_type": "markdown",
   "source": [
    "### USER INPUT!"
   ],
   "metadata": {
    "collapsed": false
   },
   "id": "b00de9fccbd18e59"
  },
  {
   "cell_type": "code",
   "outputs": [],
   "source": [
    "## Define project\n",
    "project_name = ''\n",
    "\n",
    "# Select group and condition, see meta.py to see how you previously defined it for your project\n",
    "selected_groups = ['', '']\n",
    "selected_conditions = ['', '']"
   ],
   "metadata": {
    "collapsed": false,
    "ExecuteTime": {
     "end_time": "2025-06-10T22:35:02.308007Z",
     "start_time": "2025-06-10T22:35:02.305804Z"
    }
   },
   "id": "21b8977b0f44f8d2",
   "execution_count": 1
  },
  {
   "cell_type": "markdown",
   "source": [
    "### Main Code: Create Pie Graph of Total Frames Per Behavior"
   ],
   "metadata": {
    "collapsed": false
   },
   "id": "2b4326604db110f2"
  },
  {
   "cell_type": "code",
   "outputs": [
    {
     "ename": "FileNotFoundError",
     "evalue": "[Errno 2] No such file or directory: '../processed_dataset/project_BK_06092025_OptoCapLeftHindpaw/behaviors_project_BK_06092025_OptoCapLeftHindpaw.pkl'",
     "output_type": "error",
     "traceback": [
      "\u001B[0;31m---------------------------------------------------------------------------\u001B[0m",
      "\u001B[0;31mFileNotFoundError\u001B[0m                         Traceback (most recent call last)",
      "Cell \u001B[0;32mIn[2], line 15\u001B[0m\n\u001B[1;32m     12\u001B[0m \u001B[38;5;28;01mfrom\u001B[39;00m \u001B[38;5;21;01mutils\u001B[39;00m\u001B[38;5;21;01m.\u001B[39;00m\u001B[38;5;21;01mmeta\u001B[39;00m \u001B[38;5;28;01mimport\u001B[39;00m \u001B[38;5;241m*\u001B[39m\n\u001B[1;32m     14\u001B[0m \u001B[38;5;66;03m###### Load Behaviors ######\u001B[39;00m\n\u001B[0;32m---> 15\u001B[0m behaviors \u001B[38;5;241m=\u001B[39m \u001B[43mload_behaviors\u001B[49m\u001B[43m(\u001B[49m\u001B[38;5;124;43mf\u001B[39;49m\u001B[38;5;124;43m\"\u001B[39;49m\u001B[38;5;124;43m../processed_dataset/\u001B[39;49m\u001B[38;5;132;43;01m{\u001B[39;49;00m\u001B[43mproject_name\u001B[49m\u001B[38;5;132;43;01m}\u001B[39;49;00m\u001B[38;5;124;43m/behaviors_\u001B[39;49m\u001B[38;5;132;43;01m{\u001B[39;49;00m\u001B[43mproject_name\u001B[49m\u001B[38;5;132;43;01m}\u001B[39;49;00m\u001B[38;5;124;43m.pkl\u001B[39;49m\u001B[38;5;124;43m\"\u001B[39;49m\u001B[43m)\u001B[49m\n\u001B[1;32m     17\u001B[0m \u001B[38;5;66;03m# Define the directory path for saving figures\u001B[39;00m\n\u001B[1;32m     18\u001B[0m directory_path \u001B[38;5;241m=\u001B[39m \u001B[38;5;124mf\u001B[39m\u001B[38;5;124m\"\u001B[39m\u001B[38;5;124m../processed_dataset/\u001B[39m\u001B[38;5;132;01m{\u001B[39;00mproject_name\u001B[38;5;132;01m}\u001B[39;00m\u001B[38;5;124m/figures/behavior_total-frames\u001B[39m\u001B[38;5;124m\"\u001B[39m\n",
      "File \u001B[0;32m~/GitHub/LUPE-2.0/utils/classification.py:43\u001B[0m, in \u001B[0;36mload_behaviors\u001B[0;34m(path)\u001B[0m\n\u001B[1;32m     42\u001B[0m \u001B[38;5;28;01mdef\u001B[39;00m \u001B[38;5;21mload_behaviors\u001B[39m(path):\n\u001B[0;32m---> 43\u001B[0m     \u001B[38;5;28;01mwith\u001B[39;00m \u001B[38;5;28;43mopen\u001B[39;49m\u001B[43m(\u001B[49m\u001B[43mpath\u001B[49m\u001B[43m,\u001B[49m\u001B[43m \u001B[49m\u001B[38;5;124;43m'\u001B[39;49m\u001B[38;5;124;43mrb\u001B[39;49m\u001B[38;5;124;43m'\u001B[39;49m\u001B[43m)\u001B[49m \u001B[38;5;28;01mas\u001B[39;00m fr:\n\u001B[1;32m     44\u001B[0m         behaviors \u001B[38;5;241m=\u001B[39m pickle\u001B[38;5;241m.\u001B[39mload(fr)\n\u001B[1;32m     45\u001B[0m     \u001B[38;5;28;01mreturn\u001B[39;00m behaviors\n",
      "\u001B[0;31mFileNotFoundError\u001B[0m: [Errno 2] No such file or directory: '../processed_dataset/project_BK_06092025_OptoCapLeftHindpaw/behaviors_project_BK_06092025_OptoCapLeftHindpaw.pkl'"
     ]
    }
   ],
   "source": [
    "###### RUN DEPENDENCIES ######\n",
    "import matplotlib.pyplot as plt\n",
    "import numpy as np\n",
    "import pandas as pd\n",
    "import os\n",
    "import sys\n",
    "\n",
    "if not os.path.join(os.path.abspath(''), '../') in sys.path:\n",
    "    sys.path.append(os.path.join(os.path.abspath(''), '../'))\n",
    "\n",
    "from utils.classification import load_behaviors\n",
    "from utils.meta import *\n",
    "\n",
    "###### Load Behaviors ######\n",
    "behaviors = load_behaviors(f\"../processed_dataset/{project_name}/behaviors_{project_name}.pkl\")\n",
    "\n",
    "# Define the directory path for saving figures\n",
    "directory_path = f\"../processed_dataset/{project_name}/figures/behavior_total-frames\"\n",
    "if not os.path.exists(directory_path):\n",
    "    os.makedirs(directory_path)\n",
    "    \n",
    "# Define grid dimensions based on selected_groups and selected_conditions\n",
    "total_rows = len(selected_groups)\n",
    "total_cols = len(selected_conditions)\n",
    "count = 0\n",
    "\n",
    "# Create subplots\n",
    "fig, ax = plt.subplots(total_rows, total_cols, figsize=(10, 11))\n",
    "\n",
    "# Reshape the axes array to 2D for consistent indexing\n",
    "if total_rows == 1 and total_cols == 1:\n",
    "    ax = np.array([[ax]])\n",
    "elif total_rows == 1:\n",
    "    ax = np.expand_dims(ax, axis=0)\n",
    "elif total_cols == 1:\n",
    "    ax = ax.reshape(-1, 1)\n",
    "\n",
    "# Loop over each row (group)\n",
    "for row in range(total_rows):\n",
    "    # Determine how many columns to display for this row:\n",
    "    # For rows > 4, use only one column. Otherwise, use all defined conditions.\n",
    "    n_plot_cols = total_cols if row <= 4 else 1\n",
    "    \n",
    "    # Delete extra axes in the current row if n_plot_cols is less than total_cols\n",
    "    if n_plot_cols < total_cols:\n",
    "        for extra_col in range(n_plot_cols, total_cols):\n",
    "            fig.delaxes(ax[row, extra_col])\n",
    "    \n",
    "    # Loop over each column for the current row\n",
    "    for col in range(n_plot_cols):\n",
    "        selected_group = selected_groups[row]\n",
    "        # If only one column is available, use the first condition; otherwise, use the condition based on the current col.\n",
    "        selected_condition = selected_conditions[col] if n_plot_cols > 1 else selected_conditions[0]\n",
    "\n",
    "        if selected_group in behaviors and selected_condition in behaviors[selected_group]:\n",
    "            file_keys = list(behaviors[selected_group][selected_condition].keys())\n",
    "            \n",
    "            predict_dict = {\n",
    "                'condition': np.repeat(\n",
    "                    selected_condition,\n",
    "                    len(np.hstack([\n",
    "                        behaviors[selected_group][selected_condition][file_name]\n",
    "                        for file_name in file_keys\n",
    "                    ]))\n",
    "                ),\n",
    "                'behavior': np.hstack([\n",
    "                    behaviors[selected_group][selected_condition][file_name]\n",
    "                    for file_name in file_keys\n",
    "                ])\n",
    "            }\n",
    "            df_raw = pd.DataFrame(data=predict_dict)\n",
    "            labels = df_raw['behavior'].value_counts(sort=False).index\n",
    "            values = df_raw['behavior'].value_counts(sort=False).values\n",
    "            \n",
    "            # Create a summary DataFrame\n",
    "            df = pd.DataFrame()\n",
    "            behavior_labels = []\n",
    "            for l in labels:\n",
    "                behavior_labels.append(behavior_names[int(l)])\n",
    "            df[\"values\"] = values\n",
    "            df['labels'] = behavior_labels\n",
    "            df[\"colors\"] = df[\"labels\"].apply(\n",
    "                lambda x: behavior_colors[behavior_names.index(x)]\n",
    "            )\n",
    "            df.to_csv(\n",
    "                f\"../processed_dataset/{project_name}/figures/behavior_total-frames/behavior_total_frames_{project_name}_{selected_group}-{selected_condition}.csv\", \n",
    "                index=False\n",
    "            )\n",
    "\n",
    "            # Create the pie chart\n",
    "            ax[row, col].pie(\n",
    "                df['values'],\n",
    "                colors=df['colors'], \n",
    "                labels=df['labels'],\n",
    "                autopct='%1.1f%%', \n",
    "                pctdistance=0.85\n",
    "            )\n",
    "            # Draw the center circle\n",
    "            centre_circle = plt.Circle((0, 0), 0.50, fc='white')\n",
    "            ax[row, col].add_artist(centre_circle)\n",
    "            ax[row, col].set_title(f'{selected_group} - {selected_condition}')\n",
    "            count += 1\n",
    "\n",
    "fig.savefig(\n",
    "    f\"../processed_dataset/{project_name}/figures/behavior_total-frames/behavior_total-frames_{project_name}.svg\", \n",
    "    dpi=600, bbox_inches='tight'\n",
    ")\n",
    "        \n",
    "plt.show()"
   ],
   "metadata": {
    "collapsed": false,
    "ExecuteTime": {
     "end_time": "2025-06-10T22:35:03.498043Z",
     "start_time": "2025-06-10T22:35:02.939624Z"
    }
   },
   "id": "2448a7ba63bf1db5",
   "execution_count": 2
  },
  {
   "cell_type": "markdown",
   "source": [
    "# ANALYSIS COMPLETE!"
   ],
   "metadata": {
    "collapsed": false
   },
   "id": "4b38f9c6579bb296"
  },
  {
   "cell_type": "code",
   "outputs": [],
   "source": [],
   "metadata": {
    "collapsed": false
   },
   "id": "c496c6faf8f3c808"
  }
 ],
 "metadata": {
  "kernelspec": {
   "display_name": "Python 3 (ipykernel)",
   "language": "python",
   "name": "python3"
  },
  "language_info": {
   "codemirror_mode": {
    "name": "ipython",
    "version": 3
   },
   "file_extension": ".py",
   "mimetype": "text/x-python",
   "name": "python",
   "nbconvert_exporter": "python",
   "pygments_lexer": "ipython3",
   "version": "3.11.0"
  }
 },
 "nbformat": 4,
 "nbformat_minor": 5
}
