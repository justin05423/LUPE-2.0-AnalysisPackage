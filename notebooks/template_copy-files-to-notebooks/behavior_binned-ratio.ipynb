{
 "cells": [
  {
   "cell_type": "markdown",
   "source": [
    "# Behavior Analysis: Binned-Ratio Timeline "
   ],
   "metadata": {
    "collapsed": false
   },
   "id": "3d9dc904d8621eae"
  },
  {
   "cell_type": "markdown",
   "source": [
    "Press SHIFT + ENTER to run code"
   ],
   "metadata": {
    "collapsed": false
   },
   "id": "6042dddc6f82bc2"
  },
  {
   "cell_type": "markdown",
   "source": [
    "### USER INPUT!"
   ],
   "metadata": {
    "collapsed": false
   },
   "id": "a2640e9c62cb9594"
  },
  {
   "cell_type": "code",
   "outputs": [],
   "source": [
    "## Define project\n",
    "project_name = 'project_Sandra_Form1perc_Proglumide_CohortCombined'\n",
    "\n",
    "# Select group and condition, see meta.py to see how you previously defined it for your project\n",
    "selected_groups = ['Combined']\n",
    "selected_conditions = ['Saline','Proglumide']\n",
    "\n",
    "# KEEP SAME TO LOOK AT BEHAVIOR IN 1-MIN BINS!\n",
    "num_min = 1"
   ],
   "metadata": {
    "collapsed": false,
    "ExecuteTime": {
     "end_time": "2025-09-08T16:44:34.573415Z",
     "start_time": "2025-09-08T16:44:34.568535Z"
    }
   },
   "id": "41ca0deafdea9a2e",
   "execution_count": 1
  },
  {
   "cell_type": "markdown",
   "source": [
    "### Main Code: Created Binned-Ratio Timeline + CSVs"
   ],
   "metadata": {
    "collapsed": false
   },
   "id": "9c38ac0cda82d2d8"
  },
  {
   "cell_type": "code",
   "outputs": [
    {
     "ename": "FileNotFoundError",
     "evalue": "[Errno 2] No such file or directory: '../processed_dataset/project_Sandra_Form1perc_Proglumide_CohortCombined/behaviors_project_Sandra_Form1perc_Proglumide_CohortCombined.pkl'",
     "output_type": "error",
     "traceback": [
      "\u001B[0;31m---------------------------------------------------------------------------\u001B[0m",
      "\u001B[0;31mFileNotFoundError\u001B[0m                         Traceback (most recent call last)",
      "Cell \u001B[0;32mIn[2], line 15\u001B[0m\n\u001B[1;32m     12\u001B[0m \u001B[38;5;28;01mfrom\u001B[39;00m \u001B[38;5;21;01mutils\u001B[39;00m\u001B[38;5;21;01m.\u001B[39;00m\u001B[38;5;21;01mmeta\u001B[39;00m \u001B[38;5;28;01mimport\u001B[39;00m \u001B[38;5;241m*\u001B[39m\n\u001B[1;32m     14\u001B[0m \u001B[38;5;66;03m###### Load Behaviors ######\u001B[39;00m\n\u001B[0;32m---> 15\u001B[0m behaviors \u001B[38;5;241m=\u001B[39m \u001B[43mload_behaviors\u001B[49m\u001B[43m(\u001B[49m\u001B[38;5;124;43mf\u001B[39;49m\u001B[38;5;124;43m\"\u001B[39;49m\u001B[38;5;124;43m../processed_dataset/\u001B[39;49m\u001B[38;5;132;43;01m{\u001B[39;49;00m\u001B[43mproject_name\u001B[49m\u001B[38;5;132;43;01m}\u001B[39;49;00m\u001B[38;5;124;43m/behaviors_\u001B[39;49m\u001B[38;5;132;43;01m{\u001B[39;49;00m\u001B[43mproject_name\u001B[49m\u001B[38;5;132;43;01m}\u001B[39;49;00m\u001B[38;5;124;43m.pkl\u001B[39;49m\u001B[38;5;124;43m\"\u001B[39;49m\u001B[43m)\u001B[49m\n\u001B[1;32m     17\u001B[0m \u001B[38;5;66;03m# Parameters\u001B[39;00m\n\u001B[1;32m     18\u001B[0m time_bin_size \u001B[38;5;241m=\u001B[39m \u001B[38;5;241m60\u001B[39m \u001B[38;5;241m*\u001B[39m \u001B[38;5;241m60\u001B[39m \u001B[38;5;241m*\u001B[39m num_min\n",
      "File \u001B[0;32m~/GitHub/LUPE-2.0/utils/classification.py:43\u001B[0m, in \u001B[0;36mload_behaviors\u001B[0;34m(path)\u001B[0m\n\u001B[1;32m     42\u001B[0m \u001B[38;5;28;01mdef\u001B[39;00m \u001B[38;5;21mload_behaviors\u001B[39m(path):\n\u001B[0;32m---> 43\u001B[0m     \u001B[38;5;28;01mwith\u001B[39;00m \u001B[38;5;28;43mopen\u001B[39;49m\u001B[43m(\u001B[49m\u001B[43mpath\u001B[49m\u001B[43m,\u001B[49m\u001B[43m \u001B[49m\u001B[38;5;124;43m'\u001B[39;49m\u001B[38;5;124;43mrb\u001B[39;49m\u001B[38;5;124;43m'\u001B[39;49m\u001B[43m)\u001B[49m \u001B[38;5;28;01mas\u001B[39;00m fr:\n\u001B[1;32m     44\u001B[0m         behaviors \u001B[38;5;241m=\u001B[39m pickle\u001B[38;5;241m.\u001B[39mload(fr)\n\u001B[1;32m     45\u001B[0m     \u001B[38;5;28;01mreturn\u001B[39;00m behaviors\n",
      "\u001B[0;31mFileNotFoundError\u001B[0m: [Errno 2] No such file or directory: '../processed_dataset/project_Sandra_Form1perc_Proglumide_CohortCombined/behaviors_project_Sandra_Form1perc_Proglumide_CohortCombined.pkl'"
     ]
    }
   ],
   "source": [
    "###### RUN DEPENDENCIES ######\n",
    "import matplotlib.pyplot as plt\n",
    "import numpy as np\n",
    "import pandas as pd\n",
    "import os\n",
    "import sys\n",
    "\n",
    "if not os.path.join(os.path.abspath(''), '../') in sys.path:\n",
    "    sys.path.append(os.path.join(os.path.abspath(''), '../'))\n",
    "\n",
    "from utils.classification import load_behaviors\n",
    "from utils.meta import *\n",
    "\n",
    "###### Load Behaviors ######\n",
    "behaviors = load_behaviors(f\"../processed_dataset/{project_name}/behaviors_{project_name}.pkl\")\n",
    "\n",
    "# Parameters\n",
    "time_bin_size = 60 * 60 * num_min\n",
    "\n",
    "# Define the directory path\n",
    "directory_path = f\"../processed_dataset/{project_name}/figures/behavior_binned-ratio-timeline\"\n",
    "if not os.path.exists(directory_path):\n",
    "    os.makedirs(directory_path)\n",
    "\n",
    "# Check if behaviors is None or empty\n",
    "if behaviors is None or not behaviors:\n",
    "    print(\"Error: Failed to load behaviors or empty dataset.\")\n",
    "else:\n",
    "    behavior_names = ['still', 'walking', 'rearing', 'grooming', 'licking hindpaw L', 'licking hindpaw_R']\n",
    "    behavior_colors = ['crimson', 'darkcyan', 'goldenrod', 'royalblue', 'rebeccapurple', 'mediumorchid']\n",
    "\n",
    "    for selected_group in selected_groups:\n",
    "        fig, axes = plt.subplots(nrows=len(selected_conditions), figsize=(8, 2.5 * len(selected_conditions) + 1))\n",
    "        fig.suptitle(f'Group: {selected_group}', fontsize=16)\n",
    "\n",
    "        for idx, selected_condition in enumerate(selected_conditions):\n",
    "            ax = axes[idx] if len(selected_conditions) > 1 else axes  # Handle single subplot case\n",
    "\n",
    "            if selected_group in behaviors and selected_condition in behaviors[selected_group]:\n",
    "                # Use the keys of the dictionary instead of 'file0', 'file1', etc.\n",
    "                file_keys = list(behaviors[selected_group][selected_condition].keys())\n",
    "                n_bins = len(behaviors[selected_group][selected_condition][file_keys[0]]) // time_bin_size\n",
    "\n",
    "                behavior_ratios_files = {key: np.nan for key in file_keys}\n",
    "\n",
    "                for file_name in file_keys:\n",
    "                    binned_behaviors = []\n",
    "                    for bin_n in range(int(n_bins)):\n",
    "                        behavior_ratios = {key: 0 for key in range(len(behavior_names))}\n",
    "                        values, counts = np.unique(behaviors[selected_group][selected_condition][file_name][time_bin_size * bin_n:time_bin_size * (bin_n + 1)], return_counts=True)\n",
    "                        for i, value in enumerate(values):\n",
    "                            behavior_ratios[value] = counts[i] / sum(counts)\n",
    "                        binned_behaviors.append(behavior_ratios)\n",
    "                    behavior_ratios_files[file_name] = binned_behaviors\n",
    "\n",
    "                data_to_save = {'Time_bin': np.arange(int(n_bins))}\n",
    "\n",
    "                for b in range(len(behavior_names)):\n",
    "                    y_files = []\n",
    "                    for file_name in file_keys:\n",
    "                        y_files.append(np.hstack([behavior_ratios_files[file_name][bin][b] for bin in range(len(behavior_ratios_files[file_name]))]))\n",
    "                    y = np.mean(y_files, axis=0)\n",
    "                    x = np.arange(int(n_bins))\n",
    "                    y_sem = np.std(y_files, axis=0) / np.sqrt(len(behavior_ratios_files))\n",
    "\n",
    "                    ax.plot(x, y, color=behavior_colors[b], label=behavior_names[b])\n",
    "                    ax.fill_between(x, y - y_sem, y + y_sem, color=behavior_colors[b], alpha=0.2)\n",
    "\n",
    "                    data_to_save[behavior_names[b]] = y\n",
    "                    data_to_save[f'{behavior_names[b]}_SEM'] = y_sem\n",
    "\n",
    "                ax.set_title(f'{selected_condition}')\n",
    "                ax.set_xlabel(f'Time bin = {num_min} min')\n",
    "                ax.set_ylabel('Percent')\n",
    "                ax.spines[['top', 'right']].set_visible(False)\n",
    "                df = pd.DataFrame(data_to_save)\n",
    "                \n",
    "                ## Define the output filename\n",
    "                output_filename = f\"../processed_dataset/{project_name}/figures/behavior_binned-ratio-timeline/behavior_binned-ratio-timeline__{project_name}_{selected_group}-{selected_condition}.csv\"\n",
    "                ## Save DataFrame to CSV\n",
    "                df.to_csv(output_filename, index=False)\n",
    "                print(f\"Data saved to {output_filename}.\")\n",
    "\n",
    "            else:\n",
    "                print(f\"Error: Selected group '{selected_group}' or condition '{selected_condition}' not found in the dataset.\")\n",
    "\n",
    "        plt.tight_layout(rect=[0, 0, 1, 0.96])  # Adjust layout to make room for the main title\n",
    "\n",
    "        # Create a single legend below all subplots\n",
    "        handles, labels = [], []\n",
    "        for color, name in zip(behavior_colors, behavior_names):\n",
    "            handles.append(plt.Line2D([0], [0], color=color, lw=4))\n",
    "            labels.append(name)\n",
    "        \n",
    "        fig.legend(handles, labels, loc='lower center', ncol=len(behavior_names), bbox_to_anchor=(0.5, -0.05))\n",
    "        \n",
    "        ## Save the figure\n",
    "        save_path = f\"../processed_dataset/{project_name}/figures/behavior_binned-ratio-timeline/behavior_binned-ratio-timeline_{project_name}_{selected_group}.svg\"\n",
    "        plt.savefig(save_path, format='svg', bbox_inches='tight')\n",
    "\n",
    "        plt.show()\n",
    "        "
   ],
   "metadata": {
    "collapsed": false,
    "ExecuteTime": {
     "end_time": "2025-09-08T16:44:49.177407Z",
     "start_time": "2025-09-08T16:44:47.475532Z"
    }
   },
   "id": "initial_id",
   "execution_count": 2
  },
  {
   "cell_type": "markdown",
   "source": [
    "# ANALYSIS COMPLETE!"
   ],
   "metadata": {
    "collapsed": false
   },
   "id": "d05442e3fe7805d7"
  },
  {
   "cell_type": "code",
   "outputs": [],
   "source": [],
   "metadata": {
    "collapsed": false
   },
   "id": "f11ad1a7ed99b58b"
  }
 ],
 "metadata": {
  "kernelspec": {
   "display_name": "Python 3 (ipykernel)",
   "language": "python",
   "name": "python3"
  },
  "language_info": {
   "codemirror_mode": {
    "name": "ipython",
    "version": 3
   },
   "file_extension": ".py",
   "mimetype": "text/x-python",
   "name": "python",
   "nbconvert_exporter": "python",
   "pygments_lexer": "ipython3",
   "version": "3.11.0"
  }
 },
 "nbformat": 4,
 "nbformat_minor": 5
}
