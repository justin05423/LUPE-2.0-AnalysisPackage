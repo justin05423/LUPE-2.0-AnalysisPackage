{
 "cells": [
  {
   "cell_type": "markdown",
   "source": [
    "# Behavior Analysis: Miniscope-Behavior Analysis"
   ],
   "metadata": {
    "collapsed": false
   },
   "id": "cde8380b43a3c50b"
  },
  {
   "cell_type": "markdown",
   "source": [
    "Press SHIFT + ENTER to run code"
   ],
   "metadata": {
    "collapsed": false
   },
   "id": "37bf2bd34fbb2208"
  },
  {
   "cell_type": "markdown",
   "source": [
    "### USER INPUT!"
   ],
   "metadata": {
    "collapsed": false
   },
   "id": "ab5f7d13c4fa2a97"
  },
  {
   "cell_type": "code",
   "outputs": [],
   "source": [
    "## Define project\n",
    "project_name = 'lupe_capsaicin_morphine'\n",
    "\n",
    "# Select group and condition, see meta.py to see how you previously defined it for your project\n",
    "selected_groups = ['', '']\n",
    "selected_conditions = ['', '']"
   ],
   "metadata": {
    "collapsed": false,
    "ExecuteTime": {
     "end_time": "2024-06-28T03:26:38.347031Z",
     "start_time": "2024-06-28T03:26:38.344046Z"
    }
   },
   "id": "cf7f0148fa3a4e72",
   "execution_count": 1
  },
  {
   "cell_type": "markdown",
   "source": [
    "### Main Code"
   ],
   "metadata": {
    "collapsed": false
   },
   "id": "820a379cbba77241"
  },
  {
   "cell_type": "code",
   "outputs": [
    {
     "name": "stdout",
     "output_type": "stream",
     "text": [
      "All files saved.\n"
     ]
    }
   ],
   "source": [
    "###### RUN DEPENDENCIES ######\n",
    "import pandas as pd\n",
    "import numpy as np\n",
    "import matplotlib.pyplot as plt\n",
    "from sklearn.decomposition import PCA\n",
    "from sklearn.preprocessing import StandardScaler\n",
    "import statsmodels.api as sm\n",
    "import os\n",
    "if not os.path.join(os.path.abspath(''), '../') in sys.path:\n",
    "    sys.path.append(os.path.join(os.path.abspath(''), '../'))\n",
    "from utils.classification import load_model, load_features, load_data, weighted_smoothing, load_behaviors\n",
    "\n",
    "###### LOAD DATA ######\n",
    "def load_data(filename):\n",
    "    return pd.read_csv(filename).to_numpy()\n",
    "behaviors = load_behaviors(f\"../processed_dataset/{project_name}/behaviors_{project_name}.pkl\")\n",
    "\n",
    "# Define directory path\n",
    "directory_path = f\"../processed_dataset/{project_name}/figures/behavior_miniscope-analysis/data_csv_classification-seconds\"\n",
    "if not os.path.exists(directory_path):\n",
    "    os.makedirs(directory_path)\n",
    "    \n",
    "directory_path = f\"../processed_dataset/{project_name}/figures/behavior_miniscope-analysis/data_miniscope\"\n",
    "if not os.path.exists(directory_path):\n",
    "    os.makedirs(directory_path)\n",
    "\n",
    "###### Save CSVs with behaviors per second ######\n",
    "frame_rate = 60\n",
    "output_dir = f'../processed_dataset/{project_name}/figures/behavior_miniscope-analysis/data_csv_classification-seconds'\n",
    "for group, conditions in behaviors.items():\n",
    "    for condition, files in conditions.items():\n",
    "        for file_key, data in files.items():\n",
    "            # Create a DataFrame\n",
    "            df = pd.DataFrame({'time_seconds': [i / frame_rate for i in range(len(data))], 'behavior': data})\n",
    "            csv_filename = f'{group}_{condition}_{file_key}.csv'\n",
    "            # Save the DataFrame\n",
    "            df.to_csv(os.path.join(output_dir, csv_filename), index=False)\n",
    "print('All files saved.')\n",
    "\n",
    "def load_all_csvs(project_name, base_path='../processed_dataset'):\n",
    "    folder_path = os.path.join(base_path, project_name, 'figures/behavior_miniscope-analysis/data_csv_classification-seconds')\n",
    "    csv_files = [f for f in os.listdir(folder_path) if f.endswith('.csv')]\n",
    "    \n",
    "    data = {}\n",
    "    for csv_file in csv_files:\n",
    "        file_path = os.path.join(folder_path, csv_file)\n",
    "        data[csv_file] = pd.read_csv(file_path).to_numpy()\n",
    "    \n",
    "    return data\n",
    "\n",
    "data_csv_classification_seconds = load_all_csvs(project_name)"
   ],
   "metadata": {
    "collapsed": true,
    "ExecuteTime": {
     "end_time": "2024-06-28T03:59:02.251125Z",
     "start_time": "2024-06-28T03:59:01.508966Z"
    }
   },
   "id": "initial_id",
   "execution_count": 16
  },
  {
   "cell_type": "markdown",
   "source": [
    "## User Input!\n",
    "Transfer miniscope data in the folder \"data_miniscope\" \n",
    "\n",
    "(Location = \"../processed_dataset/{project_name}/figures/behavior_miniscope-analysis/data_miniscope\")"
   ],
   "metadata": {
    "collapsed": false
   },
   "id": "7383d739dbe2f0a"
  },
  {
   "cell_type": "code",
   "outputs": [],
   "source": [],
   "metadata": {
    "collapsed": false,
    "ExecuteTime": {
     "end_time": "2024-06-28T03:55:18.107404Z",
     "start_time": "2024-06-28T03:55:18.104312Z"
    }
   },
   "id": "6fc6b2853dafbb9c",
   "execution_count": 14
  },
  {
   "cell_type": "code",
   "outputs": [],
   "source": [],
   "metadata": {
    "collapsed": false
   },
   "id": "a6b485ea02e40c4f"
  }
 ],
 "metadata": {
  "kernelspec": {
   "display_name": "Python 3",
   "language": "python",
   "name": "python3"
  },
  "language_info": {
   "codemirror_mode": {
    "name": "ipython",
    "version": 2
   },
   "file_extension": ".py",
   "mimetype": "text/x-python",
   "name": "python",
   "nbconvert_exporter": "python",
   "pygments_lexer": "ipython2",
   "version": "2.7.6"
  }
 },
 "nbformat": 4,
 "nbformat_minor": 5
}
